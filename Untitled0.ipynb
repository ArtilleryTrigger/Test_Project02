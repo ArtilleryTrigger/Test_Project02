{
  "nbformat": 4,
  "nbformat_minor": 0,
  "metadata": {
    "colab": {
      "name": "Untitled0.ipynb",
      "provenance": [],
      "collapsed_sections": []
    },
    "kernelspec": {
      "name": "python3",
      "display_name": "Python 3"
    }
  },
  "cells": [
    {
      "cell_type": "code",
      "metadata": {
        "colab": {
          "base_uri": "https://localhost:8080/"
        },
        "id": "WDHFxZdB1SH4",
        "outputId": "afb5e6ee-5c41-4988-9865-ce58896babcd"
      },
      "source": [
        "print('hello world')  #bu benim"
      ],
      "execution_count": null,
      "outputs": [
        {
          "output_type": "stream",
          "text": [
            "hello world\n"
          ],
          "name": "stdout"
        }
      ]
    },
    {
      "cell_type": "code",
      "metadata": {
        "colab": {
          "base_uri": "https://localhost:8080/"
        },
        "id": "hfM5eT5L3ZZN",
        "outputId": "c3b9df74-c217-41e3-aed9-3ebffa5210d1"
      },
      "source": [
        "print(\"hello\")\n",
        "print(\"clarusway\")\n"
      ],
      "execution_count": null,
      "outputs": [
        {
          "output_type": "stream",
          "text": [
            "hello\n",
            "clarusway\n"
          ],
          "name": "stdout"
        }
      ]
    },
    {
      "cell_type": "code",
      "metadata": {
        "colab": {
          "base_uri": "https://localhost:8080/",
          "height": 164
        },
        "id": "YAfcywmS_-KM",
        "outputId": "a7b5585e-a3c8-46ba-bd9f-da00f9b881e3"
      },
      "source": [
        ""
      ],
      "execution_count": null,
      "outputs": [
        {
          "output_type": "error",
          "ename": "NameError",
          "evalue": "ignored",
          "traceback": [
            "\u001b[0;31m---------------------------------------------------------------------------\u001b[0m",
            "\u001b[0;31mNameError\u001b[0m                                 Traceback (most recent call last)",
            "\u001b[0;32m<ipython-input-3-685878b2b7b3>\u001b[0m in \u001b[0;36m<module>\u001b[0;34m()\u001b[0m\n\u001b[0;32m----> 1\u001b[0;31m \u001b[0mprint\u001b[0m\u001b[0;34m(\u001b[0m\u001b[0mfunction_name\u001b[0m\u001b[0;34m.\u001b[0m\u001b[0m__doc__\u001b[0m\u001b[0;34m)\u001b[0m\u001b[0;34m\u001b[0m\u001b[0;34m\u001b[0m\u001b[0m\n\u001b[0m",
            "\u001b[0;31mNameError\u001b[0m: name 'function_name' is not defined"
          ]
        }
      ]
    },
    {
      "cell_type": "code",
      "metadata": {
        "colab": {
          "base_uri": "https://localhost:8080/"
        },
        "id": "f9O_qfeBAJ4z",
        "outputId": "b775fd6d-f71e-4780-dca4-611c9f2a3885"
      },
      "source": [
        "print(print.__doc__)"
      ],
      "execution_count": null,
      "outputs": [
        {
          "output_type": "stream",
          "text": [
            "print(value, ..., sep=' ', end='\\n', file=sys.stdout, flush=False)\n",
            "\n",
            "Prints the values to a stream, or to sys.stdout by default.\n",
            "Optional keyword arguments:\n",
            "file:  a file-like object (stream); defaults to the current sys.stdout.\n",
            "sep:   string inserted between values, default a space.\n",
            "end:   string appended after the last value, default a newline.\n",
            "flush: whether to forcibly flush the stream.\n"
          ],
          "name": "stdout"
        }
      ]
    },
    {
      "cell_type": "code",
      "metadata": {
        "colab": {
          "base_uri": "https://localhost:8080/"
        },
        "id": "vi3Oc_eoAfZF",
        "outputId": "7c48eaaf-3a7f-4b63-b2d8-426be52edf9d"
      },
      "source": [
        "print(map.__doc__)"
      ],
      "execution_count": null,
      "outputs": [
        {
          "output_type": "stream",
          "text": [
            "map(func, *iterables) --> map object\n",
            "\n",
            "Make an iterator that computes the function using arguments from\n",
            "each of the iterables.  Stops when the shortest iterable is exhausted.\n"
          ],
          "name": "stdout"
        }
      ]
    },
    {
      "cell_type": "code",
      "metadata": {
        "colab": {
          "base_uri": "https://localhost:8080/"
        },
        "id": "tLWbHsqXA6uc",
        "outputId": "410b0946-3245-4e50-9535-bc20dbfdc1f8"
      },
      "source": [
        "print(sum.__doc__)"
      ],
      "execution_count": null,
      "outputs": [
        {
          "output_type": "stream",
          "text": [
            "Return the sum of a 'start' value (default: 0) plus an iterable of numbers\n",
            "\n",
            "When the iterable is empty, return the start value.\n",
            "This function is intended specifically for use with numeric values and may\n",
            "reject non-numeric types.\n"
          ],
          "name": "stdout"
        }
      ]
    },
    {
      "cell_type": "code",
      "metadata": {
        "colab": {
          "base_uri": "https://localhost:8080/"
        },
        "id": "akWlzhOABeYi",
        "outputId": "f173aefb-0412-423c-f2b8-94a537e03576"
      },
      "source": [
        "print(input.__doc__)"
      ],
      "execution_count": null,
      "outputs": [
        {
          "output_type": "stream",
          "text": [
            "Forward raw_input to frontends\n",
            "\n",
            "        Raises\n",
            "        ------\n",
            "        StdinNotImplentedError if active frontend doesn't support stdin.\n",
            "        \n"
          ],
          "name": "stdout"
        }
      ]
    },
    {
      "cell_type": "code",
      "metadata": {
        "colab": {
          "base_uri": "https://localhost:8080/"
        },
        "id": "qUAZ0bzqB0Wh",
        "outputId": "5fc46b3d-e674-4576-df75-eea15708b0bb"
      },
      "source": [
        "x = 3\n",
        "y = 4.1\n",
        "z = 7\n",
        "print(x+y+z)"
      ],
      "execution_count": null,
      "outputs": [
        {
          "output_type": "stream",
          "text": [
            "14.1\n"
          ],
          "name": "stdout"
        }
      ]
    },
    {
      "cell_type": "code",
      "metadata": {
        "colab": {
          "base_uri": "https://localhost:8080/"
        },
        "id": "hIaRcDegGrRj",
        "outputId": "dbb414ba-2a8c-4417-91b4-b24bf8e42f14"
      },
      "source": [
        "x = 33\n",
        "y = 30\n",
        "x = y\n",
        "print(x)"
      ],
      "execution_count": null,
      "outputs": [
        {
          "output_type": "stream",
          "text": [
            "30\n"
          ],
          "name": "stdout"
        }
      ]
    },
    {
      "cell_type": "code",
      "metadata": {
        "colab": {
          "base_uri": "https://localhost:8080/"
        },
        "id": "KV3auPDMHqlB",
        "outputId": "4ccf374a-848d-49bf-f7f7-103bac96be5c"
      },
      "source": [
        "%50 = 3"
      ],
      "execution_count": null,
      "outputs": [
        {
          "output_type": "stream",
          "text": [
            "UsageError: Line magic function `%50` not found.\n"
          ],
          "name": "stderr"
        }
      ]
    },
    {
      "cell_type": "code",
      "metadata": {
        "colab": {
          "base_uri": "https://localhost:8080/",
          "height": 164
        },
        "id": "9AKdxll5UbRh",
        "outputId": "a7451e07-43cb-4e77-9c99-2a28b11a0bcd"
      },
      "source": [
        "name = t"
      ],
      "execution_count": null,
      "outputs": [
        {
          "output_type": "error",
          "ename": "NameError",
          "evalue": "ignored",
          "traceback": [
            "\u001b[0;31m---------------------------------------------------------------------------\u001b[0m",
            "\u001b[0;31mNameError\u001b[0m                                 Traceback (most recent call last)",
            "\u001b[0;32m<ipython-input-12-ef8206d257d2>\u001b[0m in \u001b[0;36m<module>\u001b[0;34m()\u001b[0m\n\u001b[0;32m----> 1\u001b[0;31m \u001b[0mname\u001b[0m \u001b[0;34m=\u001b[0m \u001b[0mt\u001b[0m\u001b[0;34m\u001b[0m\u001b[0;34m\u001b[0m\u001b[0m\n\u001b[0m",
            "\u001b[0;31mNameError\u001b[0m: name 't' is not defined"
          ]
        }
      ]
    },
    {
      "cell_type": "code",
      "metadata": {
        "colab": {
          "base_uri": "https://localhost:8080/",
          "height": 164
        },
        "id": "HOCXs0hTUzCT",
        "outputId": "a4470a55-943f-4274-92b3-0d80a9a861c9"
      },
      "source": [
        "gol = ev"
      ],
      "execution_count": null,
      "outputs": [
        {
          "output_type": "error",
          "ename": "NameError",
          "evalue": "ignored",
          "traceback": [
            "\u001b[0;31m---------------------------------------------------------------------------\u001b[0m",
            "\u001b[0;31mNameError\u001b[0m                                 Traceback (most recent call last)",
            "\u001b[0;32m<ipython-input-13-aa17b6e11303>\u001b[0m in \u001b[0;36m<module>\u001b[0;34m()\u001b[0m\n\u001b[0;32m----> 1\u001b[0;31m \u001b[0mgol\u001b[0m \u001b[0;34m=\u001b[0m \u001b[0mev\u001b[0m\u001b[0;34m\u001b[0m\u001b[0;34m\u001b[0m\u001b[0m\n\u001b[0m",
            "\u001b[0;31mNameError\u001b[0m: name 'ev' is not defined"
          ]
        }
      ]
    },
    {
      "cell_type": "code",
      "metadata": {
        "id": "Vxx5dkPZVs5h"
      },
      "source": [
        "gıl = 1"
      ],
      "execution_count": null,
      "outputs": []
    },
    {
      "cell_type": "code",
      "metadata": {
        "colab": {
          "base_uri": "https://localhost:8080/",
          "height": 164
        },
        "id": "ZRR2ZXp0VwYM",
        "outputId": "5c1a1173-383a-4f73-ba95-4629a4b438bb"
      },
      "source": [
        "isim = ahmet"
      ],
      "execution_count": null,
      "outputs": [
        {
          "output_type": "error",
          "ename": "NameError",
          "evalue": "ignored",
          "traceback": [
            "\u001b[0;31m---------------------------------------------------------------------------\u001b[0m",
            "\u001b[0;31mNameError\u001b[0m                                 Traceback (most recent call last)",
            "\u001b[0;32m<ipython-input-15-b75ece36615b>\u001b[0m in \u001b[0;36m<module>\u001b[0;34m()\u001b[0m\n\u001b[0;32m----> 1\u001b[0;31m \u001b[0misim\u001b[0m \u001b[0;34m=\u001b[0m \u001b[0mahmet\u001b[0m\u001b[0;34m\u001b[0m\u001b[0;34m\u001b[0m\u001b[0m\n\u001b[0m",
            "\u001b[0;31mNameError\u001b[0m: name 'ahmet' is not defined"
          ]
        }
      ]
    },
    {
      "cell_type": "code",
      "metadata": {
        "id": "GV0lyEzPV0rf"
      },
      "source": [
        "isim = \"ahmet\""
      ],
      "execution_count": null,
      "outputs": []
    },
    {
      "cell_type": "code",
      "metadata": {
        "id": "_AnFL1XkV5HO",
        "colab": {
          "base_uri": "https://localhost:8080/"
        },
        "outputId": "bdf30a5c-4271-473e-d68b-ccbb6e02675a"
      },
      "source": [
        "sorted([\"ahmet\", \"mehmet\", \"ceylan\", \"seyhan\"])"
      ],
      "execution_count": null,
      "outputs": [
        {
          "output_type": "execute_result",
          "data": {
            "text/plain": [
              "['ahmet', 'ceylan', 'mehmet', 'seyhan']"
            ]
          },
          "metadata": {
            "tags": []
          },
          "execution_count": 1
        }
      ]
    },
    {
      "cell_type": "code",
      "metadata": {
        "id": "_ApwUP0JbBGb"
      },
      "source": [
        "isimler = [\"ahmet\", \"mehmet\", \"ceylan\", \"seyhan\"]"
      ],
      "execution_count": null,
      "outputs": []
    },
    {
      "cell_type": "code",
      "metadata": {
        "colab": {
          "base_uri": "https://localhost:8080/"
        },
        "id": "BS6Q3CCgbMGL",
        "outputId": "3fa0b196-a8e8-4762-ccd8-415f21d1cbfb"
      },
      "source": [
        "isimler"
      ],
      "execution_count": null,
      "outputs": [
        {
          "output_type": "execute_result",
          "data": {
            "text/plain": [
              "['ahmet', 'mehmet', 'ceylan', 'seyhan']"
            ]
          },
          "metadata": {
            "tags": []
          },
          "execution_count": 3
        }
      ]
    },
    {
      "cell_type": "code",
      "metadata": {
        "colab": {
          "base_uri": "https://localhost:8080/"
        },
        "id": "TZ0mIHQ8bO2L",
        "outputId": "0bc4607f-600b-49ff-e58b-f5c502da3027"
      },
      "source": [
        "sorted(isimler)"
      ],
      "execution_count": null,
      "outputs": [
        {
          "output_type": "execute_result",
          "data": {
            "text/plain": [
              "['ahmet', 'ceylan', 'mehmet', 'seyhan']"
            ]
          },
          "metadata": {
            "tags": []
          },
          "execution_count": 4
        }
      ]
    },
    {
      "cell_type": "code",
      "metadata": {
        "id": "McFz7jHxbQ-a"
      },
      "source": [
        "sehirler = [\"tokyo\", \"addis ababa\", \"rome\", \"istanbul\", \"rio\"]"
      ],
      "execution_count": null,
      "outputs": []
    },
    {
      "cell_type": "code",
      "metadata": {
        "colab": {
          "base_uri": "https://localhost:8080/"
        },
        "id": "Omlg0QC5besl",
        "outputId": "84a87a91-f4c4-441a-9d4e-cf62d750462c"
      },
      "source": [
        "sehirler"
      ],
      "execution_count": null,
      "outputs": [
        {
          "output_type": "execute_result",
          "data": {
            "text/plain": [
              "['tokyo', 'addis ababa', 'rome', 'istanbul', 'rio']"
            ]
          },
          "metadata": {
            "tags": []
          },
          "execution_count": 6
        }
      ]
    },
    {
      "cell_type": "code",
      "metadata": {
        "colab": {
          "base_uri": "https://localhost:8080/"
        },
        "id": "G7s9NOcUbf65",
        "outputId": "b5e58f3e-0f4a-4f82-eba4-52bbae271016"
      },
      "source": [
        "sorted(sehirler)"
      ],
      "execution_count": null,
      "outputs": [
        {
          "output_type": "execute_result",
          "data": {
            "text/plain": [
              "['addis ababa', 'istanbul', 'rio', 'rome', 'tokyo']"
            ]
          },
          "metadata": {
            "tags": []
          },
          "execution_count": 7
        }
      ]
    },
    {
      "cell_type": "code",
      "metadata": {
        "colab": {
          "base_uri": "https://localhost:8080/"
        },
        "id": "pIDXjXkAblUf",
        "outputId": "01ef8505-663d-4240-f262-c69e95d27177"
      },
      "source": [
        "print(sorted(sehirler, key=len, reverse=True))"
      ],
      "execution_count": null,
      "outputs": [
        {
          "output_type": "stream",
          "text": [
            "['addis ababa', 'istanbul', 'tokyo', 'rome', 'rio']\n"
          ],
          "name": "stdout"
        }
      ]
    },
    {
      "cell_type": "code",
      "metadata": {
        "id": "JI-h65b4cTb1"
      },
      "source": [
        "sehirler.sort(key = len, reverse = True)"
      ],
      "execution_count": null,
      "outputs": []
    },
    {
      "cell_type": "code",
      "metadata": {
        "colab": {
          "base_uri": "https://localhost:8080/"
        },
        "id": "rf8AAS1FiGWn",
        "outputId": "95986b61-71a4-4eca-f942-c6bbb6c5d0da"
      },
      "source": [
        "sehirler"
      ],
      "execution_count": null,
      "outputs": [
        {
          "output_type": "execute_result",
          "data": {
            "text/plain": [
              "['addis ababa', 'istanbul', 'tokyo', 'rome', 'rio']"
            ]
          },
          "metadata": {
            "tags": []
          },
          "execution_count": 17
        }
      ]
    },
    {
      "cell_type": "code",
      "metadata": {
        "id": "-40Gd7CyiJ-l"
      },
      "source": [
        "import sys"
      ],
      "execution_count": null,
      "outputs": []
    },
    {
      "cell_type": "code",
      "metadata": {
        "id": "13DhMsZgk_8M"
      },
      "source": [
        "x = [1,2,3]\n",
        "y = (1,2,3)"
      ],
      "execution_count": null,
      "outputs": []
    },
    {
      "cell_type": "code",
      "metadata": {
        "colab": {
          "base_uri": "https://localhost:8080/"
        },
        "id": "qj8be1gGlJmm",
        "outputId": "e7c42d46-c64b-446a-f75c-dae3cdaf6bd8"
      },
      "source": [
        "print(sys.getsizeof(x))\n",
        "print(sys.getsizeof(y))"
      ],
      "execution_count": null,
      "outputs": [
        {
          "output_type": "stream",
          "text": [
            "96\n",
            "80\n"
          ],
          "name": "stdout"
        }
      ]
    },
    {
      "cell_type": "code",
      "metadata": {
        "id": "JREqA9zZlUGX"
      },
      "source": [
        "benim = [\"a\", \"b\", \"c\"]"
      ],
      "execution_count": null,
      "outputs": []
    },
    {
      "cell_type": "code",
      "metadata": {
        "colab": {
          "base_uri": "https://localhost:8080/"
        },
        "id": "iLiN_oT_mbBq",
        "outputId": "05436730-8569-4712-82b8-a57a5690fcd2"
      },
      "source": [
        "ben_tuple = tuple(benim)\n",
        "ben_tuple"
      ],
      "execution_count": null,
      "outputs": [
        {
          "output_type": "execute_result",
          "data": {
            "text/plain": [
              "('a', 'b', 'c')"
            ]
          },
          "metadata": {
            "tags": []
          },
          "execution_count": 22
        }
      ]
    },
    {
      "cell_type": "code",
      "metadata": {
        "colab": {
          "base_uri": "https://localhost:8080/"
        },
        "id": "ttBArzdQmwwP",
        "outputId": "ffbfb4e6-1f84-450c-f191-34cf1b2919e3"
      },
      "source": [
        "my_tuple = (\"Solar\")\n",
        "print(my_tuple, type(my_tuple), sep=\"\\n\")"
      ],
      "execution_count": null,
      "outputs": [
        {
          "output_type": "stream",
          "text": [
            "Solar\n",
            "<class 'str'>\n"
          ],
          "name": "stdout"
        }
      ]
    },
    {
      "cell_type": "code",
      "metadata": {
        "id": "dAP950QuoTq1"
      },
      "source": [
        "x = 1, 2, 3"
      ],
      "execution_count": null,
      "outputs": []
    },
    {
      "cell_type": "code",
      "metadata": {
        "colab": {
          "base_uri": "https://localhost:8080/"
        },
        "id": "Jqmn1lmoojli",
        "outputId": "232308f2-c2fb-4fdb-be57-30929861fcdd"
      },
      "source": [
        "type(x)"
      ],
      "execution_count": null,
      "outputs": [
        {
          "output_type": "execute_result",
          "data": {
            "text/plain": [
              "tuple"
            ]
          },
          "metadata": {
            "tags": []
          },
          "execution_count": 25
        }
      ]
    },
    {
      "cell_type": "code",
      "metadata": {
        "id": "JZ5YaDQLomt3"
      },
      "source": [
        "y = 1"
      ],
      "execution_count": null,
      "outputs": []
    },
    {
      "cell_type": "code",
      "metadata": {
        "id": "TC8C6WDMou_N"
      },
      "source": [
        "y2 = 1"
      ],
      "execution_count": null,
      "outputs": []
    },
    {
      "cell_type": "code",
      "metadata": {
        "colab": {
          "base_uri": "https://localhost:8080/"
        },
        "id": "OMCk1EFAoyZ3",
        "outputId": "fdf0bf5c-9710-44e7-ef94-0ef3001ff080"
      },
      "source": [
        "type(y)"
      ],
      "execution_count": null,
      "outputs": [
        {
          "output_type": "execute_result",
          "data": {
            "text/plain": [
              "int"
            ]
          },
          "metadata": {
            "tags": []
          },
          "execution_count": 28
        }
      ]
    },
    {
      "cell_type": "code",
      "metadata": {
        "colab": {
          "base_uri": "https://localhost:8080/"
        },
        "id": "Cu-opskSo0W0",
        "outputId": "e8e4f3ef-b2de-4326-ef98-422c54b6a0f2"
      },
      "source": [
        "type(y2)"
      ],
      "execution_count": null,
      "outputs": [
        {
          "output_type": "execute_result",
          "data": {
            "text/plain": [
              "int"
            ]
          },
          "metadata": {
            "tags": []
          },
          "execution_count": 29
        }
      ]
    },
    {
      "cell_type": "code",
      "metadata": {
        "id": "0JaUv8Mvo2Iq"
      },
      "source": [
        "aa = \"a,\", \"b\", \"c\""
      ],
      "execution_count": null,
      "outputs": []
    },
    {
      "cell_type": "code",
      "metadata": {
        "colab": {
          "base_uri": "https://localhost:8080/"
        },
        "id": "W-c9cOR9o87J",
        "outputId": "fc29fb34-a7ff-493c-c78a-7fc6a7a60b77"
      },
      "source": [
        "aa"
      ],
      "execution_count": null,
      "outputs": [
        {
          "output_type": "execute_result",
          "data": {
            "text/plain": [
              "('a,', 'b', 'c')"
            ]
          },
          "metadata": {
            "tags": []
          },
          "execution_count": 31
        }
      ]
    },
    {
      "cell_type": "code",
      "metadata": {
        "id": "GeqBVkBYo9qr"
      },
      "source": [
        "bb = \"aa\""
      ],
      "execution_count": null,
      "outputs": []
    },
    {
      "cell_type": "code",
      "metadata": {
        "colab": {
          "base_uri": "https://localhost:8080/"
        },
        "id": "fo5JbhoepRAo",
        "outputId": "9fcbd583-e059-496d-9894-8a2606a0e46b"
      },
      "source": [
        "type(bb)"
      ],
      "execution_count": null,
      "outputs": [
        {
          "output_type": "execute_result",
          "data": {
            "text/plain": [
              "str"
            ]
          },
          "metadata": {
            "tags": []
          },
          "execution_count": 33
        }
      ]
    },
    {
      "cell_type": "code",
      "metadata": {
        "colab": {
          "base_uri": "https://localhost:8080/"
        },
        "id": "LmDHN4RRpStG",
        "outputId": "9f940935-58a5-4d0c-dc65-80b74f355ebd"
      },
      "source": [
        "cc = \"aa\",\n",
        "cc"
      ],
      "execution_count": null,
      "outputs": [
        {
          "output_type": "execute_result",
          "data": {
            "text/plain": [
              "('aa',)"
            ]
          },
          "metadata": {
            "tags": []
          },
          "execution_count": 34
        }
      ]
    },
    {
      "cell_type": "code",
      "metadata": {
        "colab": {
          "base_uri": "https://localhost:8080/"
        },
        "id": "tsIX3FsopaX_",
        "outputId": "af21f448-5f36-4021-8b8e-1295878b3335"
      },
      "source": [
        "range(1,11)"
      ],
      "execution_count": null,
      "outputs": [
        {
          "output_type": "execute_result",
          "data": {
            "text/plain": [
              "range(1, 11)"
            ]
          },
          "metadata": {
            "tags": []
          },
          "execution_count": 35
        }
      ]
    },
    {
      "cell_type": "code",
      "metadata": {
        "colab": {
          "base_uri": "https://localhost:8080/"
        },
        "id": "X-PxAe0FxLx1",
        "outputId": "bdc55b1f-d44a-44d6-ad92-6b4b96b71f5b"
      },
      "source": [
        "range"
      ],
      "execution_count": null,
      "outputs": [
        {
          "output_type": "execute_result",
          "data": {
            "text/plain": [
              "range"
            ]
          },
          "metadata": {
            "tags": []
          },
          "execution_count": 36
        }
      ]
    },
    {
      "cell_type": "code",
      "metadata": {
        "colab": {
          "base_uri": "https://localhost:8080/"
        },
        "id": "6LEXOYT5xM9G",
        "outputId": "d110e298-f9f8-4bbd-8b74-c0ae812b2d24"
      },
      "source": [
        "print(range)"
      ],
      "execution_count": null,
      "outputs": [
        {
          "output_type": "stream",
          "text": [
            "<class 'range'>\n"
          ],
          "name": "stdout"
        }
      ]
    },
    {
      "cell_type": "code",
      "metadata": {
        "colab": {
          "base_uri": "https://localhost:8080/"
        },
        "id": "vSeXHHmYxPgD",
        "outputId": "78f10d57-1bd2-4ebb-ffe1-bd1e2d308275"
      },
      "source": [
        "tuple(range(1,11))"
      ],
      "execution_count": null,
      "outputs": [
        {
          "output_type": "execute_result",
          "data": {
            "text/plain": [
              "(1, 2, 3, 4, 5, 6, 7, 8, 9, 10)"
            ]
          },
          "metadata": {
            "tags": []
          },
          "execution_count": 38
        }
      ]
    },
    {
      "cell_type": "code",
      "metadata": {
        "id": "Rv-lp71FxTM5"
      },
      "source": [
        "number = tuple(range(1,11))"
      ],
      "execution_count": null,
      "outputs": []
    },
    {
      "cell_type": "code",
      "metadata": {
        "id": "kX5vt-mmxZ2K",
        "colab": {
          "base_uri": "https://localhost:8080/"
        },
        "outputId": "ce6a28d5-52bb-48b8-a825-83d6fe887092"
      },
      "source": [
        "number"
      ],
      "execution_count": null,
      "outputs": [
        {
          "output_type": "execute_result",
          "data": {
            "text/plain": [
              "(1, 2, 3, 4, 5, 6, 7, 8, 9, 10)"
            ]
          },
          "metadata": {
            "tags": []
          },
          "execution_count": 40
        }
      ]
    },
    {
      "cell_type": "code",
      "metadata": {
        "id": "QhR4Z3KlxbFT",
        "colab": {
          "base_uri": "https://localhost:8080/"
        },
        "outputId": "dc2ab5c3-8348-4c2d-eca7-dff2014d8ba6"
      },
      "source": [
        "first_dic = {1 : \"one\", \"two\" : 2, False : [1, 2, 3], 1.5 : (\"one\", \"two\"), (1,2) : \"clrswy\"}\n",
        "first_dic"
      ],
      "execution_count": null,
      "outputs": [
        {
          "output_type": "execute_result",
          "data": {
            "text/plain": [
              "{(1, 2): 'clrswy', 1: 'one', 1.5: ('one', 'two'), False: [1, 2, 3], 'two': 2}"
            ]
          },
          "metadata": {
            "tags": []
          },
          "execution_count": 3
        }
      ]
    },
    {
      "cell_type": "code",
      "metadata": {
        "id": "jA7W6ZuJ3Uh4"
      },
      "source": [
        "xx = dict(bir = \"one\", iki = \"two\")"
      ],
      "execution_count": null,
      "outputs": []
    },
    {
      "cell_type": "code",
      "metadata": {
        "colab": {
          "base_uri": "https://localhost:8080/"
        },
        "id": "qeUl457n4vfW",
        "outputId": "a9bb5265-9dcc-4b61-ede3-01dd6e4f133f"
      },
      "source": [
        "xx"
      ],
      "execution_count": null,
      "outputs": [
        {
          "output_type": "execute_result",
          "data": {
            "text/plain": [
              "{'bir': 'one', 'iki': 'two'}"
            ]
          },
          "metadata": {
            "tags": []
          },
          "execution_count": 5
        }
      ]
    },
    {
      "cell_type": "code",
      "metadata": {
        "id": "ERBhGSOq4w2S"
      },
      "source": [
        "sehir = \"istanbul\"\n",
        "sehir1 = \"ankara\"\n",
        "nüfus = 1000"
      ],
      "execution_count": null,
      "outputs": []
    },
    {
      "cell_type": "code",
      "metadata": {
        "colab": {
          "base_uri": "https://localhost:8080/"
        },
        "id": "0uVhHp3n51zD",
        "outputId": "b39ef6d1-a353-4a2b-a5c8-d718f4009b49"
      },
      "source": [
        "sehirler = {1 : sehir, 2 : sehir1, 'nüfusum' : 1000}\n",
        "sehirler"
      ],
      "execution_count": null,
      "outputs": [
        {
          "output_type": "execute_result",
          "data": {
            "text/plain": [
              "{1: 'istanbul', 2: 'ankara', 'nüfusum': 1000}"
            ]
          },
          "metadata": {
            "tags": []
          },
          "execution_count": 10
        }
      ]
    },
    {
      "cell_type": "code",
      "metadata": {
        "colab": {
          "base_uri": "https://localhost:8080/",
          "height": 35
        },
        "id": "Aj-2jFSq6IhA",
        "outputId": "15778c47-3e32-49ae-f8bf-c53a09afc745"
      },
      "source": [
        "sehirler[2]"
      ],
      "execution_count": null,
      "outputs": [
        {
          "output_type": "execute_result",
          "data": {
            "application/vnd.google.colaboratory.intrinsic+json": {
              "type": "string"
            },
            "text/plain": [
              "'ankara'"
            ]
          },
          "metadata": {
            "tags": []
          },
          "execution_count": 9
        }
      ]
    },
    {
      "cell_type": "code",
      "metadata": {
        "colab": {
          "base_uri": "https://localhost:8080/"
        },
        "id": "HnlZ2uKc6Rr1",
        "outputId": "99c74509-390f-478b-ac9a-a81f7ddf8f33"
      },
      "source": [
        "sehirler['nüfusum']"
      ],
      "execution_count": null,
      "outputs": [
        {
          "output_type": "execute_result",
          "data": {
            "text/plain": [
              "1000"
            ]
          },
          "metadata": {
            "tags": []
          },
          "execution_count": 11
        }
      ]
    },
    {
      "cell_type": "code",
      "metadata": {
        "id": "A0EzahBo6jxY"
      },
      "source": [
        "family = dict(name1 = \"Yavuz\", name2 = \"Büşra\", name3 = \"Vera\", name4 = \"Portakal\")"
      ],
      "execution_count": null,
      "outputs": []
    },
    {
      "cell_type": "code",
      "metadata": {
        "colab": {
          "base_uri": "https://localhost:8080/"
        },
        "id": "l-OAK_RQBw7Q",
        "outputId": "97f64d9f-4631-4cb6-dea8-de0dc0918dee"
      },
      "source": [
        "family"
      ],
      "execution_count": null,
      "outputs": [
        {
          "output_type": "execute_result",
          "data": {
            "text/plain": [
              "{'name1': 'Yavuz', 'name2': 'Büşra', 'name3': 'Vera', 'name4': 'Portakal'}"
            ]
          },
          "metadata": {
            "tags": []
          },
          "execution_count": 13
        }
      ]
    },
    {
      "cell_type": "code",
      "metadata": {
        "colab": {
          "base_uri": "https://localhost:8080/"
        },
        "id": "mpH69ORXByqv",
        "outputId": "6bfb79e6-b445-43e4-a1c9-8fe6bd2decd7"
      },
      "source": [
        "print(list(family.items()), \"\\n\")\n",
        "print(list(family.keys()), \"\\n\")\n",
        "print(list(family.values()))"
      ],
      "execution_count": null,
      "outputs": [
        {
          "output_type": "stream",
          "text": [
            "[('name1', 'Yavuz'), ('name2', 'Büşra'), ('name3', 'Vera'), ('name4', 'Portakal')] \n",
            "\n",
            "['name1', 'name2', 'name3', 'name4'] \n",
            "\n",
            "['Yavuz', 'Büşra', 'Vera', 'Portakal']\n"
          ],
          "name": "stdout"
        }
      ]
    },
    {
      "cell_type": "code",
      "metadata": {
        "id": "AMrjpHOKDqqF"
      },
      "source": [
        "family.update({\"a\" : 1, \"b\" : 2})"
      ],
      "execution_count": null,
      "outputs": []
    },
    {
      "cell_type": "code",
      "metadata": {
        "colab": {
          "base_uri": "https://localhost:8080/"
        },
        "id": "ziOPKNXBFlrN",
        "outputId": "cab35afc-21be-4ea3-9370-e03448c43d3a"
      },
      "source": [
        "family"
      ],
      "execution_count": null,
      "outputs": [
        {
          "output_type": "execute_result",
          "data": {
            "text/plain": [
              "{'a': 1,\n",
              " 'b': 2,\n",
              " 'name1': 'Yavuz',\n",
              " 'name2': 'Büşra',\n",
              " 'name3': 'Vera',\n",
              " 'name4': 'Portakal'}"
            ]
          },
          "metadata": {
            "tags": []
          },
          "execution_count": 20
        }
      ]
    },
    {
      "cell_type": "code",
      "metadata": {
        "id": "yn_dJz91Fni3"
      },
      "source": [
        "del family['a']"
      ],
      "execution_count": null,
      "outputs": []
    },
    {
      "cell_type": "code",
      "metadata": {
        "colab": {
          "base_uri": "https://localhost:8080/"
        },
        "id": "qDv3ed9AGXi2",
        "outputId": "418c097a-488d-4018-8523-d48688e4b445"
      },
      "source": [
        "family"
      ],
      "execution_count": null,
      "outputs": [
        {
          "output_type": "execute_result",
          "data": {
            "text/plain": [
              "{'b': 2,\n",
              " 'name1': 'Yavuz',\n",
              " 'name2': 'Büşra',\n",
              " 'name3': 'Vera',\n",
              " 'name4': 'Portakal'}"
            ]
          },
          "metadata": {
            "tags": []
          },
          "execution_count": 22
        }
      ]
    },
    {
      "cell_type": "code",
      "metadata": {
        "id": "a4NJRfCGGYkU"
      },
      "source": [
        "del family['name1'], family['name2']"
      ],
      "execution_count": null,
      "outputs": []
    },
    {
      "cell_type": "code",
      "metadata": {
        "colab": {
          "base_uri": "https://localhost:8080/"
        },
        "id": "VK5iB6LzGx3G",
        "outputId": "d18cef69-98d3-4d41-c8e1-c5f66cf70121"
      },
      "source": [
        "family"
      ],
      "execution_count": null,
      "outputs": [
        {
          "output_type": "execute_result",
          "data": {
            "text/plain": [
              "{'b': 2, 'name3': 'Vera', 'name4': 'Portakal'}"
            ]
          },
          "metadata": {
            "tags": []
          },
          "execution_count": 29
        }
      ]
    },
    {
      "cell_type": "code",
      "metadata": {
        "colab": {
          "base_uri": "https://localhost:8080/"
        },
        "id": "Z_XkGZ-FICwe",
        "outputId": "ac9383b8-6180-4569-e4f8-b0d71682f519"
      },
      "source": [
        "\"name1\" in family"
      ],
      "execution_count": null,
      "outputs": [
        {
          "output_type": "execute_result",
          "data": {
            "text/plain": [
              "True"
            ]
          },
          "metadata": {
            "tags": []
          },
          "execution_count": 31
        }
      ]
    },
    {
      "cell_type": "code",
      "metadata": {
        "colab": {
          "base_uri": "https://localhost:8080/"
        },
        "id": "PbYlmvQOIrAM",
        "outputId": "7aadad5e-6986-4864-ab4a-3534216d8a6c"
      },
      "source": [
        "family"
      ],
      "execution_count": null,
      "outputs": [
        {
          "output_type": "execute_result",
          "data": {
            "text/plain": [
              "{'name1': 'Yavuz', 'name2': 'Büşra', 'name3': 'Vera', 'name4': 'Portakal'}"
            ]
          },
          "metadata": {
            "tags": []
          },
          "execution_count": 32
        }
      ]
    },
    {
      "cell_type": "code",
      "metadata": {
        "colab": {
          "base_uri": "https://localhost:8080/"
        },
        "id": "hKbRjasfIsUG",
        "outputId": "0984e0ab-7382-4c3f-f6e0-9cbe2edf7613"
      },
      "source": [
        "\"name5\" in family"
      ],
      "execution_count": null,
      "outputs": [
        {
          "output_type": "execute_result",
          "data": {
            "text/plain": [
              "False"
            ]
          },
          "metadata": {
            "tags": []
          },
          "execution_count": 33
        }
      ]
    },
    {
      "cell_type": "code",
      "metadata": {
        "colab": {
          "base_uri": "https://localhost:8080/"
        },
        "id": "lXP8vcKlIxqf",
        "outputId": "619127e1-a182-45e5-a09d-7bed359d5e61"
      },
      "source": [
        "\"name5\" not in family"
      ],
      "execution_count": null,
      "outputs": [
        {
          "output_type": "execute_result",
          "data": {
            "text/plain": [
              "True"
            ]
          },
          "metadata": {
            "tags": []
          },
          "execution_count": 34
        }
      ]
    },
    {
      "cell_type": "code",
      "metadata": {
        "id": "ta8ome7wI2kB"
      },
      "source": [
        "school_records={\n",
        "    \"personal_info\":\n",
        "        {\"kid\":{\"tom\": {\"class\": \"intermediate\", \"age\": 10},\n",
        "                \"sue\": {\"class\": \"elementary\", \"age\": 8}\n",
        "               },\n",
        "         \"teen\":{\"joseph\":{\"class\": \"college\", \"age\": 19},\n",
        "                 \"marry\":{\"class\": \"high school\", \"age\": 16}\n",
        "               },\n",
        "        },\n",
        "    \"grades_info\":\n",
        "        {\"kid\":{\"tom\": {\"math\": 88, \"speech\": 69},\n",
        "                \"sue\": {\"math\": 90, \"speech\": 81}\n",
        "               },\n",
        "         \"teen\":{\"joseph\":{\"coding\": 80, \"math\": 89},\n",
        "                 \"marry\":{\"coding\": 70, \"math\": 96}\n",
        "               },\n",
        "        },\n",
        "}"
      ],
      "execution_count": null,
      "outputs": []
    },
    {
      "cell_type": "code",
      "metadata": {
        "colab": {
          "base_uri": "https://localhost:8080/"
        },
        "id": "O896qiV5PnIP",
        "outputId": "d34eaf1e-385c-4b2a-f33e-b74fc422635c"
      },
      "source": [
        "school_records[\"personal_info\"][\"teen\"][\"marry\"][\"age\"]"
      ],
      "execution_count": null,
      "outputs": [
        {
          "output_type": "execute_result",
          "data": {
            "text/plain": [
              "16"
            ]
          },
          "metadata": {
            "tags": []
          },
          "execution_count": 38
        }
      ]
    },
    {
      "cell_type": "code",
      "metadata": {
        "colab": {
          "base_uri": "https://localhost:8080/"
        },
        "id": "t7zdhBfgPvFK",
        "outputId": "9ac11823-4b30-408e-ccdf-9bed36509e7b"
      },
      "source": [
        "school_records[\"grades_info\"][\"teen\"][\"joseph\"]"
      ],
      "execution_count": null,
      "outputs": [
        {
          "output_type": "execute_result",
          "data": {
            "text/plain": [
              "{'coding': 80, 'math': 89}"
            ]
          },
          "metadata": {
            "tags": []
          },
          "execution_count": 39
        }
      ]
    },
    {
      "cell_type": "code",
      "metadata": {
        "colab": {
          "base_uri": "https://localhost:8080/"
        },
        "id": "R5of44E_Qy1B",
        "outputId": "0cf6e067-eb08-4ce3-9f03-0488d7c3f385"
      },
      "source": [
        "list(school_records[\"grades_info\"][\"teen\"][\"joseph\"].items())"
      ],
      "execution_count": null,
      "outputs": [
        {
          "output_type": "execute_result",
          "data": {
            "text/plain": [
              "[('coding', 80), ('math', 89)]"
            ]
          },
          "metadata": {
            "tags": []
          },
          "execution_count": 43
        }
      ]
    },
    {
      "cell_type": "code",
      "metadata": {
        "id": "vUQPB5GpQ43g"
      },
      "source": [
        "friends = {\n",
        "          \"friend1\" : {\"first\" : \"Mahmut\", \"last\" : \"Bold\"},\n",
        "          \"friend2\" : {\"first\" : \"Berkay\", \"last\" : \"Donk\"}\n",
        "}"
      ],
      "execution_count": null,
      "outputs": []
    },
    {
      "cell_type": "code",
      "metadata": {
        "colab": {
          "base_uri": "https://localhost:8080/"
        },
        "id": "kTVNmX7hTGfW",
        "outputId": "f983602b-4cc3-422b-adf2-3f33488a2bf9"
      },
      "source": [
        "friends"
      ],
      "execution_count": null,
      "outputs": [
        {
          "output_type": "execute_result",
          "data": {
            "text/plain": [
              "{'friend1': {'first': 'Mahmut', 'last': 'Bold'},\n",
              " 'friend2': {'first': 'Berkay', 'last': 'Donk'}}"
            ]
          },
          "metadata": {
            "tags": []
          },
          "execution_count": 45
        }
      ]
    },
    {
      "cell_type": "code",
      "metadata": {
        "id": "GwTc58b-THnl"
      },
      "source": [
        "favourite ={ \n",
        "        \"friends\" : {\n",
        "          \"friend1\" : {\"first\" : \"Mahmut\", \"last\" : \"Bold\"},\n",
        "          \"friend2\" : {\"first\" : \"Berkay\", \"last\" : \"Donk\"}\n",
        "           },\n",
        "        \"family\" : {\n",
        "          \"family1\" : {\"first\" : \"Büşra\", \"last\" : \"Çilek\"},\n",
        "          \"family2\" : {\"first\" : \"Vera\", \"last\" : \"Çİlek\"}\n",
        "            }\n",
        "}\n",
        "\n"
      ],
      "execution_count": null,
      "outputs": []
    },
    {
      "cell_type": "code",
      "metadata": {
        "colab": {
          "base_uri": "https://localhost:8080/"
        },
        "id": "BAtydKqlU7Vk",
        "outputId": "76469030-5899-457b-ba27-56d96eec6c6a"
      },
      "source": [
        "favourite"
      ],
      "execution_count": null,
      "outputs": [
        {
          "output_type": "execute_result",
          "data": {
            "text/plain": [
              "{'family': {'family1': {'first': 'Büşra', 'last': 'Çilek'},\n",
              "  'family2': {'first': 'Vera', 'last': 'Çİlek'}},\n",
              " 'friends': {'friend1': {'first': 'Mahmut', 'last': 'Bold'},\n",
              "  'friend2': {'first': 'Berkay', 'last': 'Donk'}}}"
            ]
          },
          "metadata": {
            "tags": []
          },
          "execution_count": 47
        }
      ]
    },
    {
      "cell_type": "code",
      "metadata": {
        "id": "3Jojv3EfWPTr"
      },
      "source": [
        "print(a - b)  # same as '.difference()' method\n",
        "print(a.difference(b)) # a difference from b\n",
        "print(a | b)  # same as '.union()' method\n",
        "print(a.union(b)) # unification of a with b\n",
        "print(a & b)  # same as '.intersection()' method\n",
        "print(a.intersection(b)) # intersection of a and b"
      ],
      "execution_count": null,
      "outputs": []
    },
    {
      "cell_type": "code",
      "metadata": {
        "colab": {
          "base_uri": "https://localhost:8080/"
        },
        "id": "FHVbtWMnW2wN",
        "outputId": "1bc62f9a-d08a-4436-e106-eb06f21f68c5"
      },
      "source": [
        "set_1 = {'red', 'blue', 'pink', 'red'}\n",
        "colors = 'red', 'blue', 'pink', 'red'\n",
        "set_1"
      ],
      "execution_count": null,
      "outputs": [
        {
          "output_type": "execute_result",
          "data": {
            "text/plain": [
              "{'blue', 'pink', 'red'}"
            ]
          },
          "metadata": {
            "tags": []
          },
          "execution_count": 49
        }
      ]
    },
    {
      "cell_type": "code",
      "metadata": {
        "colab": {
          "base_uri": "https://localhost:8080/"
        },
        "id": "1_sVotj2XBXq",
        "outputId": "618184e7-5b54-4868-ab2d-a8cb251352b9"
      },
      "source": [
        "set(colors)"
      ],
      "execution_count": null,
      "outputs": [
        {
          "output_type": "execute_result",
          "data": {
            "text/plain": [
              "{'blue', 'pink', 'red'}"
            ]
          },
          "metadata": {
            "tags": []
          },
          "execution_count": 51
        }
      ]
    },
    {
      "cell_type": "code",
      "metadata": {
        "id": "YFIQomXzXrGB"
      },
      "source": [
        "letter = \"a b c d e f g h i j k l m n o p r s t u v y z\".split()"
      ],
      "execution_count": null,
      "outputs": []
    },
    {
      "cell_type": "code",
      "metadata": {
        "colab": {
          "base_uri": "https://localhost:8080/"
        },
        "id": "XU2EMKuuX9cC",
        "outputId": "51286f59-04df-4c0f-c56d-70376f6e53e3"
      },
      "source": [
        "print(letter)"
      ],
      "execution_count": null,
      "outputs": [
        {
          "output_type": "stream",
          "text": [
            "['a', 'b', 'c', 'd', 'e', 'f', 'g', 'h', 'i', 'j', 'k', 'l', 'm', 'n', 'o', 'p', 'r', 's', 't', 'u', 'v', 'y', 'z']\n"
          ],
          "name": "stdout"
        }
      ]
    },
    {
      "cell_type": "code",
      "metadata": {
        "colab": {
          "base_uri": "https://localhost:8080/"
        },
        "id": "q4ns7PzeX_5Q",
        "outputId": "79bf5412-d89f-47c4-b91b-47d20b399cb5"
      },
      "source": [
        "print(set(letter))"
      ],
      "execution_count": null,
      "outputs": [
        {
          "output_type": "stream",
          "text": [
            "{'v', 'i', 'u', 'r', 'z', 'n', 'd', 'l', 'h', 'j', 'a', 'o', 'b', 'c', 't', 'g', 'p', 'y', 'm', 'e', 'k', 's', 'f'}\n"
          ],
          "name": "stdout"
        }
      ]
    },
    {
      "cell_type": "code",
      "metadata": {
        "id": "j8NAY-GtYZV8"
      },
      "source": [
        "letter1 = \" g h i j k l m n o p r s t u v y z a b c d e f\".split()"
      ],
      "execution_count": null,
      "outputs": []
    },
    {
      "cell_type": "code",
      "metadata": {
        "colab": {
          "base_uri": "https://localhost:8080/"
        },
        "id": "eEc34fOOZYMp",
        "outputId": "a75bbfea-a103-4d7b-cab9-a34ed5947d5e"
      },
      "source": [
        "print(letter1)"
      ],
      "execution_count": null,
      "outputs": [
        {
          "output_type": "stream",
          "text": [
            "['g', 'h', 'i', 'j', 'k', 'l', 'm', 'n', 'o', 'p', 'r', 's', 't', 'u', 'v', 'y', 'z', 'a', 'b', 'c', 'd', 'e', 'f']\n"
          ],
          "name": "stdout"
        }
      ]
    },
    {
      "cell_type": "code",
      "metadata": {
        "colab": {
          "base_uri": "https://localhost:8080/"
        },
        "id": "JsTn0FQFZdsc",
        "outputId": "81b105ce-a921-4c0a-fd2e-2bc7859a8e2c"
      },
      "source": [
        "print(set(letter1))"
      ],
      "execution_count": null,
      "outputs": [
        {
          "output_type": "stream",
          "text": [
            "{'v', 'i', 'u', 'r', 'z', 'n', 'd', 'l', 'h', 'j', 'a', 'o', 'b', 'c', 't', 'g', 'p', 'y', 'm', 'e', 'k', 's', 'f'}\n"
          ],
          "name": "stdout"
        }
      ]
    },
    {
      "cell_type": "code",
      "metadata": {
        "colab": {
          "base_uri": "https://localhost:8080/"
        },
        "id": "ytFt4hV7ZnpA",
        "outputId": "fd90bb34-72d2-4040-cf56-3d4e631c438c"
      },
      "source": [
        "test = {1, \"bir\", 1.0}\n",
        "test"
      ],
      "execution_count": null,
      "outputs": [
        {
          "output_type": "execute_result",
          "data": {
            "text/plain": [
              "{1, 'bir'}"
            ]
          },
          "metadata": {
            "tags": []
          },
          "execution_count": 67
        }
      ]
    },
    {
      "cell_type": "code",
      "metadata": {
        "colab": {
          "base_uri": "https://localhost:8080/"
        },
        "id": "ggytp1yHZzSz",
        "outputId": "fb90a514-ef9f-4200-892c-5aa160f6130e"
      },
      "source": [
        "test = {1, \"bir\", 1.0}\n",
        "len(test)"
      ],
      "execution_count": null,
      "outputs": [
        {
          "output_type": "execute_result",
          "data": {
            "text/plain": [
              "2"
            ]
          },
          "metadata": {
            "tags": []
          },
          "execution_count": 68
        }
      ]
    },
    {
      "cell_type": "code",
      "metadata": {
        "colab": {
          "base_uri": "https://localhost:8080/"
        },
        "id": "mSgeArmeZ3Ct",
        "outputId": "b67e5ce4-2757-4604-cc8d-e85513d11106"
      },
      "source": [
        "1 == 1.0"
      ],
      "execution_count": null,
      "outputs": [
        {
          "output_type": "execute_result",
          "data": {
            "text/plain": [
              "True"
            ]
          },
          "metadata": {
            "tags": []
          },
          "execution_count": 69
        }
      ]
    },
    {
      "cell_type": "code",
      "metadata": {
        "id": "cU_K5hvWbuoo",
        "colab": {
          "base_uri": "https://localhost:8080/"
        },
        "outputId": "7fce8bc5-2c0a-4403-f0fe-c80c97d04eee"
      },
      "source": [
        "def most_frequent(List):\n",
        "    return max(set(List), key = List.count)\n",
        "List = [1, 3, 7, 4, 3, 0, 3, 6, 3]\n",
        "print(most_frequent(List))\n",
        "\n"
      ],
      "execution_count": null,
      "outputs": [
        {
          "output_type": "stream",
          "text": [
            "3\n"
          ],
          "name": "stdout"
        }
      ]
    },
    {
      "cell_type": "code",
      "metadata": {
        "colab": {
          "base_uri": "https://localhost:8080/",
          "height": 129
        },
        "id": "AtsE76HF2wSc",
        "outputId": "4fadd298-4929-43ac-c08e-1df638fc8222"
      },
      "source": [
        "def most_common(L):\n",
        "  # get an iterable of (item, iterable) pairs\n",
        "  SL = sorted((x, i) for i, x in enumerate(L))\n",
        "  # print 'SL:', SL\n",
        "  groups = itertools.groupby(SL, key=operator.itemgetter(0))\n",
        "  # auxiliary function to get \"quality\" for an item\n",
        "  def _auxfun(g):\n",
        "    item, iterable = g\n",
        "    count = 0\n",
        "    min_index = len(L)\n",
        "    for _, where in iterable:\n",
        "      count += 1\n",
        "      min_index = min(min_index, where)\n",
        "    # print 'item %r, count %r, minind %r' % (item, count, min_index)\n",
        "    return count, -min_index\n",
        "  # pick the highest-count/earliest item\n",
        "  return max(groups, key=_auxfun)[0]\n",
        "  print most_common(['goose', 'duck', 'duck', 'goose'])"
      ],
      "execution_count": null,
      "outputs": [
        {
          "output_type": "error",
          "ename": "SyntaxError",
          "evalue": "ignored",
          "traceback": [
            "\u001b[0;36m  File \u001b[0;32m\"<ipython-input-15-b9a8cd3a460f>\"\u001b[0;36m, line \u001b[0;32m18\u001b[0m\n\u001b[0;31m    print most_common(['goose', 'duck', 'duck', 'goose'])\u001b[0m\n\u001b[0m                    ^\u001b[0m\n\u001b[0;31mSyntaxError\u001b[0m\u001b[0;31m:\u001b[0m invalid syntax\n"
          ]
        }
      ]
    },
    {
      "cell_type": "code",
      "metadata": {
        "colab": {
          "base_uri": "https://localhost:8080/"
        },
        "id": "mkNWebjz3K7O",
        "outputId": "3316daf5-b8aa-4fd9-8c7d-1c9a4b6d9309"
      },
      "source": [
        "from collections import Counter\n",
        "numbers = [1, 3, 7, 4, 3, 0, 3, 6, 3] \n",
        "c = Counter(numbers)\n",
        "print(c.most_common(1)) "
      ],
      "execution_count": null,
      "outputs": [
        {
          "output_type": "stream",
          "text": [
            "[(3, 4)]\n"
          ],
          "name": "stdout"
        }
      ]
    },
    {
      "cell_type": "code",
      "metadata": {
        "colab": {
          "base_uri": "https://localhost:8080/"
        },
        "id": "wqehRoq35D42",
        "outputId": "db67f334-7d15-40c3-82f4-8bd4cbea5405"
      },
      "source": [
        "sales = {\n",
        "  \"cost_value\": 31.87,\n",
        "  \"sell_value\": 45.00,\n",
        "  \"inventory\": 1000\n",
        "}  \n",
        "profit = (sales['sell_value'] - sales['cost_value']) * sales['inventory']\n",
        "print(round(profit))\n",
        "# the profit will be : 13130"
      ],
      "execution_count": null,
      "outputs": [
        {
          "output_type": "stream",
          "text": [
            "13130\n"
          ],
          "name": "stdout"
        }
      ]
    },
    {
      "cell_type": "code",
      "metadata": {
        "colab": {
          "base_uri": "https://localhost:8080/"
        },
        "id": "LStUzFDmUCp7",
        "outputId": "c71a84e8-1890-43d9-cb52-55dd7f5af57e"
      },
      "source": [
        "payrolls = {\n",
        "  \"x\": 3,\n",
        "  \"y\": 29.99,\n",
        "  \"z\": 4.1\n",
        "}\n",
        "payrolls['x'] = '$3.00'\n",
        "payrolls['y'] = '$29.99'\n",
        "payrolls['z'] = '$4.10'\n",
        "payrolls"
      ],
      "execution_count": null,
      "outputs": [
        {
          "output_type": "execute_result",
          "data": {
            "text/plain": [
              "{'x': '$3.00', 'y': '$29.99', 'z': '$4.10'}"
            ]
          },
          "metadata": {
            "tags": []
          },
          "execution_count": 32
        }
      ]
    },
    {
      "cell_type": "code",
      "metadata": {
        "id": "gVrRxZdetoEC"
      },
      "source": [
        "def comfortable_word(word):\n",
        "\n",
        "    left = set(['q', 'w', 'e', 'r', 't', 'a', 's', 'd', 'f', 'g', 'z', 'x', 'c', 'v', 'b'])\n",
        "    right = set(['y', 'u', 'i', 'o', 'p', 'h', 'j', 'k', 'l','n', 'm'])\n",
        "    return ((set(word[::2]).issubset(right) and set(word[1::2]).issubset(left)) or set(word[::2]).issubset(left) and set(word[1::2]).issubset(right))\n"
      ],
      "execution_count": null,
      "outputs": []
    },
    {
      "cell_type": "code",
      "metadata": {
        "colab": {
          "base_uri": "https://localhost:8080/",
          "height": 129
        },
        "id": "lntdVqgyINWV",
        "outputId": "832496eb-b2b6-40c4-9abb-a8bb11be6033"
      },
      "source": [
        "Left: q, w, e, r, t, a, s, d, f, g, z, x, c, v, b\n",
        "Right: y, u, i, o, p, h, j, k, l, n, m\n",
        "*/\n",
        "const comfortable_word = word => {\n",
        "  let right=['y', 'u', 'i', 'o', 'p', 'h', 'j','k', 'l', 'n', 'm'];\n",
        "  let left=['q', 'w', 'e', 'r', 't', 'a', 's', 'd', 'f', 'g', 'z', 'x', 'c', 'v', 'b'];\n",
        "  let arr=[];\n",
        "  if (right.includes(word[0])){\n",
        "  word.split('').map((v,i,a)=>{\n",
        "  if (i%2===0){\n",
        "    if (right.includes(v)){arr.push(true)}\n",
        "    else{ arr.push(false)}}\n",
        "  if (i%2!==0){\n",
        "    if (left.includes(v)){arr.push(true)}\n",
        "    else{ arr.push(false)}\n",
        "  }})}\n",
        "  if (left.includes(word[0])){\n",
        "  word.split('').map((v,i,a)=>{\n",
        "  if (i%2!==0){\n",
        "    if (right.includes(v)){arr.push(true)}\n",
        "    else{arr.push(false)}\n",
        "  }\n",
        "  if (i%2===0){\n",
        "    if (left.includes(v)){arr.push(true)}\n",
        "    else{ arr.push(false)}\n",
        "  }})}\n",
        "  return arr.every(v=>v===true)\n",
        "};"
      ],
      "execution_count": null,
      "outputs": [
        {
          "output_type": "error",
          "ename": "SyntaxError",
          "evalue": "ignored",
          "traceback": [
            "\u001b[0;36m  File \u001b[0;32m\"<ipython-input-4-ff9a32886564>\"\u001b[0;36m, line \u001b[0;32m1\u001b[0m\n\u001b[0;31m    Left: q, w, e, r, t, a, s, d, f, g, z, x, c, v, b\u001b[0m\n\u001b[0m           ^\u001b[0m\n\u001b[0;31mSyntaxError\u001b[0m\u001b[0;31m:\u001b[0m invalid syntax\n"
          ]
        }
      ]
    },
    {
      "cell_type": "code",
      "metadata": {
        "colab": {
          "base_uri": "https://localhost:8080/"
        },
        "id": "mRVmQ53-gYQn",
        "outputId": "5323bc5d-121b-4b71-d245-1431dce5beab"
      },
      "source": [
        "# listelerde ve sözlüklerde de kullandığımız bir metod\n",
        "# bu metod yardımı ile kopya çekebiliriz :)\n",
        "# kümenin içini clear() ile temizlemiştik. şimdi yeniden öğe ekleyelim\n",
        "küme = set([\"bir\", \"iki\", \"üç\", 1, 2, 3])\n",
        "# Dikkat!!! Küme oluştururken add() metodunda yer alan immutable nesne sadece eklenebilir şartı yok.\n",
        "# var olan kümeye add() ile mutable öğe ekleyemeyiz!!!\n",
        "kopya_küme = küme.copy()\n",
        "print(kopya_küme)"
      ],
      "execution_count": null,
      "outputs": [
        {
          "output_type": "stream",
          "text": [
            "{'bir', 1, 2, 3, 'iki', 'üç'}\n"
          ],
          "name": "stdout"
        }
      ]
    },
    {
      "cell_type": "code",
      "metadata": {
        "colab": {
          "base_uri": "https://localhost:8080/"
        },
        "id": "xCr3uC9lmRvI",
        "outputId": "1a5c3341-7cb7-4f0a-a5b2-3ee62f083221"
      },
      "source": [
        "left_finger = set(\"asdfgqwertzxcvb\")\n",
        "print(left_finger)"
      ],
      "execution_count": null,
      "outputs": [
        {
          "output_type": "stream",
          "text": [
            "{'r', 'z', 's', 'g', 'c', 'x', 'b', 'v', 'q', 'f', 't', 'e', 'a', 'd', 'w'}\n"
          ],
          "name": "stdout"
        }
      ]
    },
    {
      "cell_type": "code",
      "metadata": {
        "colab": {
          "base_uri": "https://localhost:8080/",
          "height": 527
        },
        "id": "5f03n8qsmoQF",
        "outputId": "1793eb1e-b2fa-492c-d000-8ee311938529"
      },
      "source": [
        "sağ_el = set(\"jklşiuıopğühnymöç\")\n",
        "sol_el = set(\"qwertyasdfgzxcvb\")\n",
        "kelime = input(\"lütfen bir kelime giriniz\")\n",
        "kelime = set(kelime)  \n",
        "if kelime.isdisjoint(sağ_el): \n",
        "    print(\"False\")\n",
        "elif kelime.isdisjoint(sol_el):\n",
        "    print(\"False\")\n",
        "elif not kelime.isdisjoint(sağ_el) and not kelime.isdisjoint(sol_el):\n",
        "    print(\"True\")"
      ],
      "execution_count": null,
      "outputs": [
        {
          "output_type": "error",
          "ename": "KeyboardInterrupt",
          "evalue": "ignored",
          "traceback": [
            "\u001b[0;31m---------------------------------------------------------------------------\u001b[0m",
            "\u001b[0;31mKeyboardInterrupt\u001b[0m                         Traceback (most recent call last)",
            "\u001b[0;32m/usr/local/lib/python3.7/dist-packages/ipykernel/kernelbase.py\u001b[0m in \u001b[0;36m_input_request\u001b[0;34m(self, prompt, ident, parent, password)\u001b[0m\n\u001b[1;32m    728\u001b[0m             \u001b[0;32mtry\u001b[0m\u001b[0;34m:\u001b[0m\u001b[0;34m\u001b[0m\u001b[0;34m\u001b[0m\u001b[0m\n\u001b[0;32m--> 729\u001b[0;31m                 \u001b[0mident\u001b[0m\u001b[0;34m,\u001b[0m \u001b[0mreply\u001b[0m \u001b[0;34m=\u001b[0m \u001b[0mself\u001b[0m\u001b[0;34m.\u001b[0m\u001b[0msession\u001b[0m\u001b[0;34m.\u001b[0m\u001b[0mrecv\u001b[0m\u001b[0;34m(\u001b[0m\u001b[0mself\u001b[0m\u001b[0;34m.\u001b[0m\u001b[0mstdin_socket\u001b[0m\u001b[0;34m,\u001b[0m \u001b[0;36m0\u001b[0m\u001b[0;34m)\u001b[0m\u001b[0;34m\u001b[0m\u001b[0;34m\u001b[0m\u001b[0m\n\u001b[0m\u001b[1;32m    730\u001b[0m             \u001b[0;32mexcept\u001b[0m \u001b[0mException\u001b[0m\u001b[0;34m:\u001b[0m\u001b[0;34m\u001b[0m\u001b[0;34m\u001b[0m\u001b[0m\n",
            "\u001b[0;32m/usr/local/lib/python3.7/dist-packages/jupyter_client/session.py\u001b[0m in \u001b[0;36mrecv\u001b[0;34m(self, socket, mode, content, copy)\u001b[0m\n\u001b[1;32m    802\u001b[0m         \u001b[0;32mtry\u001b[0m\u001b[0;34m:\u001b[0m\u001b[0;34m\u001b[0m\u001b[0;34m\u001b[0m\u001b[0m\n\u001b[0;32m--> 803\u001b[0;31m             \u001b[0mmsg_list\u001b[0m \u001b[0;34m=\u001b[0m \u001b[0msocket\u001b[0m\u001b[0;34m.\u001b[0m\u001b[0mrecv_multipart\u001b[0m\u001b[0;34m(\u001b[0m\u001b[0mmode\u001b[0m\u001b[0;34m,\u001b[0m \u001b[0mcopy\u001b[0m\u001b[0;34m=\u001b[0m\u001b[0mcopy\u001b[0m\u001b[0;34m)\u001b[0m\u001b[0;34m\u001b[0m\u001b[0;34m\u001b[0m\u001b[0m\n\u001b[0m\u001b[1;32m    804\u001b[0m         \u001b[0;32mexcept\u001b[0m \u001b[0mzmq\u001b[0m\u001b[0;34m.\u001b[0m\u001b[0mZMQError\u001b[0m \u001b[0;32mas\u001b[0m \u001b[0me\u001b[0m\u001b[0;34m:\u001b[0m\u001b[0;34m\u001b[0m\u001b[0;34m\u001b[0m\u001b[0m\n",
            "\u001b[0;32m/usr/local/lib/python3.7/dist-packages/zmq/sugar/socket.py\u001b[0m in \u001b[0;36mrecv_multipart\u001b[0;34m(self, flags, copy, track)\u001b[0m\n\u001b[1;32m    582\u001b[0m         \"\"\"\n\u001b[0;32m--> 583\u001b[0;31m         \u001b[0mparts\u001b[0m \u001b[0;34m=\u001b[0m \u001b[0;34m[\u001b[0m\u001b[0mself\u001b[0m\u001b[0;34m.\u001b[0m\u001b[0mrecv\u001b[0m\u001b[0;34m(\u001b[0m\u001b[0mflags\u001b[0m\u001b[0;34m,\u001b[0m \u001b[0mcopy\u001b[0m\u001b[0;34m=\u001b[0m\u001b[0mcopy\u001b[0m\u001b[0;34m,\u001b[0m \u001b[0mtrack\u001b[0m\u001b[0;34m=\u001b[0m\u001b[0mtrack\u001b[0m\u001b[0;34m)\u001b[0m\u001b[0;34m]\u001b[0m\u001b[0;34m\u001b[0m\u001b[0;34m\u001b[0m\u001b[0m\n\u001b[0m\u001b[1;32m    584\u001b[0m         \u001b[0;31m# have first part already, only loop while more to receive\u001b[0m\u001b[0;34m\u001b[0m\u001b[0;34m\u001b[0m\u001b[0;34m\u001b[0m\u001b[0m\n",
            "\u001b[0;32mzmq/backend/cython/socket.pyx\u001b[0m in \u001b[0;36mzmq.backend.cython.socket.Socket.recv\u001b[0;34m()\u001b[0m\n",
            "\u001b[0;32mzmq/backend/cython/socket.pyx\u001b[0m in \u001b[0;36mzmq.backend.cython.socket.Socket.recv\u001b[0;34m()\u001b[0m\n",
            "\u001b[0;32mzmq/backend/cython/socket.pyx\u001b[0m in \u001b[0;36mzmq.backend.cython.socket._recv_copy\u001b[0;34m()\u001b[0m\n",
            "\u001b[0;32m/usr/local/lib/python3.7/dist-packages/zmq/backend/cython/checkrc.pxd\u001b[0m in \u001b[0;36mzmq.backend.cython.checkrc._check_rc\u001b[0;34m()\u001b[0m\n",
            "\u001b[0;31mKeyboardInterrupt\u001b[0m: ",
            "\nDuring handling of the above exception, another exception occurred:\n",
            "\u001b[0;31mKeyboardInterrupt\u001b[0m                         Traceback (most recent call last)",
            "\u001b[0;32m<ipython-input-12-7b1f1b570bd6>\u001b[0m in \u001b[0;36m<module>\u001b[0;34m()\u001b[0m\n\u001b[1;32m      1\u001b[0m \u001b[0msağ_el\u001b[0m \u001b[0;34m=\u001b[0m \u001b[0mset\u001b[0m\u001b[0;34m(\u001b[0m\u001b[0;34m\"jklşiuıopğühnymöç\"\u001b[0m\u001b[0;34m)\u001b[0m\u001b[0;34m\u001b[0m\u001b[0;34m\u001b[0m\u001b[0m\n\u001b[1;32m      2\u001b[0m \u001b[0msol_el\u001b[0m \u001b[0;34m=\u001b[0m \u001b[0mset\u001b[0m\u001b[0;34m(\u001b[0m\u001b[0;34m\"qwertyasdfgzxcvb\"\u001b[0m\u001b[0;34m)\u001b[0m\u001b[0;34m\u001b[0m\u001b[0;34m\u001b[0m\u001b[0m\n\u001b[0;32m----> 3\u001b[0;31m \u001b[0mkelime\u001b[0m \u001b[0;34m=\u001b[0m \u001b[0minput\u001b[0m\u001b[0;34m(\u001b[0m\u001b[0;34m\"lütfen bir kelime giriniz\"\u001b[0m\u001b[0;34m)\u001b[0m\u001b[0;34m\u001b[0m\u001b[0;34m\u001b[0m\u001b[0m\n\u001b[0m\u001b[1;32m      4\u001b[0m \u001b[0mkelime\u001b[0m \u001b[0;34m=\u001b[0m \u001b[0mset\u001b[0m\u001b[0;34m(\u001b[0m\u001b[0mkelime\u001b[0m\u001b[0;34m)\u001b[0m\u001b[0;34m\u001b[0m\u001b[0;34m\u001b[0m\u001b[0m\n\u001b[1;32m      5\u001b[0m \u001b[0;32mif\u001b[0m \u001b[0mkelime\u001b[0m\u001b[0;34m.\u001b[0m\u001b[0misdisjoint\u001b[0m\u001b[0;34m(\u001b[0m\u001b[0msağ_el\u001b[0m\u001b[0;34m)\u001b[0m\u001b[0;34m:\u001b[0m\u001b[0;34m\u001b[0m\u001b[0;34m\u001b[0m\u001b[0m\n",
            "\u001b[0;32m/usr/local/lib/python3.7/dist-packages/ipykernel/kernelbase.py\u001b[0m in \u001b[0;36mraw_input\u001b[0;34m(self, prompt)\u001b[0m\n\u001b[1;32m    702\u001b[0m             \u001b[0mself\u001b[0m\u001b[0;34m.\u001b[0m\u001b[0m_parent_ident\u001b[0m\u001b[0;34m,\u001b[0m\u001b[0;34m\u001b[0m\u001b[0;34m\u001b[0m\u001b[0m\n\u001b[1;32m    703\u001b[0m             \u001b[0mself\u001b[0m\u001b[0;34m.\u001b[0m\u001b[0m_parent_header\u001b[0m\u001b[0;34m,\u001b[0m\u001b[0;34m\u001b[0m\u001b[0;34m\u001b[0m\u001b[0m\n\u001b[0;32m--> 704\u001b[0;31m             \u001b[0mpassword\u001b[0m\u001b[0;34m=\u001b[0m\u001b[0;32mFalse\u001b[0m\u001b[0;34m,\u001b[0m\u001b[0;34m\u001b[0m\u001b[0;34m\u001b[0m\u001b[0m\n\u001b[0m\u001b[1;32m    705\u001b[0m         )\n\u001b[1;32m    706\u001b[0m \u001b[0;34m\u001b[0m\u001b[0m\n",
            "\u001b[0;32m/usr/local/lib/python3.7/dist-packages/ipykernel/kernelbase.py\u001b[0m in \u001b[0;36m_input_request\u001b[0;34m(self, prompt, ident, parent, password)\u001b[0m\n\u001b[1;32m    732\u001b[0m             \u001b[0;32mexcept\u001b[0m \u001b[0mKeyboardInterrupt\u001b[0m\u001b[0;34m:\u001b[0m\u001b[0;34m\u001b[0m\u001b[0;34m\u001b[0m\u001b[0m\n\u001b[1;32m    733\u001b[0m                 \u001b[0;31m# re-raise KeyboardInterrupt, to truncate traceback\u001b[0m\u001b[0;34m\u001b[0m\u001b[0;34m\u001b[0m\u001b[0;34m\u001b[0m\u001b[0m\n\u001b[0;32m--> 734\u001b[0;31m                 \u001b[0;32mraise\u001b[0m \u001b[0mKeyboardInterrupt\u001b[0m\u001b[0;34m\u001b[0m\u001b[0;34m\u001b[0m\u001b[0m\n\u001b[0m\u001b[1;32m    735\u001b[0m             \u001b[0;32melse\u001b[0m\u001b[0;34m:\u001b[0m\u001b[0;34m\u001b[0m\u001b[0;34m\u001b[0m\u001b[0m\n\u001b[1;32m    736\u001b[0m                 \u001b[0;32mbreak\u001b[0m\u001b[0;34m\u001b[0m\u001b[0;34m\u001b[0m\u001b[0m\n",
            "\u001b[0;31mKeyboardInterrupt\u001b[0m: "
          ]
        }
      ]
    },
    {
      "cell_type": "code",
      "metadata": {
        "colab": {
          "base_uri": "https://localhost:8080/"
        },
        "id": "Ye0IwT7wuMwt",
        "outputId": "9a26d0e2-6c2f-48ca-8394-fa017ceb645d"
      },
      "source": [
        "sağ_el = set(\"jklşiuıopğühnymöç\")\n",
        "sol_el = set(\"qwertyasdfgzxcvb\")\n",
        "kelime = input(\"lütfen bir kelime giriniz:\")\n",
        "kelime = set(kelime)  \n",
        "if kelime.isdisjoint(sağ_el): \n",
        "    print(\"False\")\n",
        "elif kelime.isdisjoint(sol_el):\n",
        "    print(\"False\")\n",
        "elif not kelime.isdisjoint(sağ_el) and not kelime.isdisjoint(sol_el):\n",
        "    print(\"True\")\n"
      ],
      "execution_count": null,
      "outputs": [
        {
          "output_type": "stream",
          "text": [
            "lütfen bir kelime giriniz:asd\n",
            "False\n"
          ],
          "name": "stdout"
        }
      ]
    },
    {
      "cell_type": "code",
      "metadata": {
        "id": "40gczhsd0jDx",
        "colab": {
          "base_uri": "https://localhost:8080/"
        },
        "outputId": "bc3aea87-1927-46c0-ee0f-fc62f673f7bf"
      },
      "source": [
        "'j' in sağ_el\n"
      ],
      "execution_count": null,
      "outputs": [
        {
          "output_type": "execute_result",
          "data": {
            "text/plain": [
              "True"
            ]
          },
          "metadata": {
            "tags": []
          },
          "execution_count": 14
        }
      ]
    },
    {
      "cell_type": "code",
      "metadata": {
        "id": "HYZJ1g0H0m7w"
      },
      "source": [
        "def function()\n"
      ],
      "execution_count": null,
      "outputs": []
    },
    {
      "cell_type": "code",
      "metadata": {
        "colab": {
          "base_uri": "https://localhost:8080/"
        },
        "id": "kytqy_o05Oz6",
        "outputId": "88dca278-209c-4a2f-bbb8-552976f9c6ba"
      },
      "source": [
        "print(print.__doc__)"
      ],
      "execution_count": null,
      "outputs": [
        {
          "output_type": "stream",
          "text": [
            "print(value, ..., sep=' ', end='\\n', file=sys.stdout, flush=False)\n",
            "\n",
            "Prints the values to a stream, or to sys.stdout by default.\n",
            "Optional keyword arguments:\n",
            "file:  a file-like object (stream); defaults to the current sys.stdout.\n",
            "sep:   string inserted between values, default a space.\n",
            "end:   string appended after the last value, default a newline.\n",
            "flush: whether to forcibly flush the stream.\n"
          ],
          "name": "stdout"
        }
      ]
    },
    {
      "cell_type": "code",
      "metadata": {
        "id": "IAQ81OZWRvuD"
      },
      "source": [
        "bos = set()\n",
        "bos. "
      ],
      "execution_count": null,
      "outputs": []
    },
    {
      "cell_type": "code",
      "metadata": {
        "colab": {
          "base_uri": "https://localhost:8080/"
        },
        "id": "dKTgIbH8dNrw",
        "outputId": "e15c47fc-8551-447c-bea3-e0fc8d5f3c5a"
      },
      "source": [
        "a = set('philadelphia')\n",
        "b = set('dolphin')\n",
        "print(a & b)"
      ],
      "execution_count": null,
      "outputs": [
        {
          "output_type": "stream",
          "text": [
            "{'h', 'd', 'p', 'i', 'l'}\n"
          ],
          "name": "stdout"
        }
      ]
    },
    {
      "cell_type": "code",
      "metadata": {
        "colab": {
          "base_uri": "https://localhost:8080/"
        },
        "id": "nmIjBF5AdVld",
        "outputId": "e8c140d4-9048-4e5c-f416-8e101a7a4333"
      },
      "source": [
        "given_list = [1, 2, 3, 3, 3, 3, 4, 4, 5, 5]\n",
        "set (given_list)"
      ],
      "execution_count": null,
      "outputs": [
        {
          "output_type": "execute_result",
          "data": {
            "text/plain": [
              "{1, 2, 3, 4, 5}"
            ]
          },
          "metadata": {
            "tags": []
          },
          "execution_count": 2
        }
      ]
    },
    {
      "cell_type": "code",
      "metadata": {
        "colab": {
          "base_uri": "https://localhost:8080/"
        },
        "id": "NTUgiR4sfBM-",
        "outputId": "2b081083-d179-41e7-f3f4-b1ba3714d328"
      },
      "source": [
        "usa = set(\"Washington\")\n",
        "new_zeland = set(\"Wellington\")\n",
        "print(usa & new_zeland)\n",
        "print(usa | new_zeland)\n",
        "print(usa - new_zeland)\n",
        "print(usa.intersection(new_zeland))\n",
        "print(usa.union(new_zeland))\n",
        "print(usa.difference(new_zeland))"
      ],
      "execution_count": null,
      "outputs": [
        {
          "output_type": "stream",
          "text": [
            "{'W', 'o', 'i', 't', 'n', 'g'}\n",
            "{'h', 'W', 's', 'o', 'e', 'i', 't', 'n', 'a', 'l', 'g'}\n",
            "{'s', 'a', 'h'}\n",
            "{'W', 'o', 'i', 't', 'n', 'g'}\n",
            "{'h', 'W', 's', 'o', 'e', 'i', 't', 'n', 'a', 'l', 'g'}\n",
            "{'s', 'a', 'h'}\n"
          ],
          "name": "stdout"
        }
      ]
    },
    {
      "cell_type": "code",
      "metadata": {
        "id": "OIhGS3rvf_1I"
      },
      "source": [
        "print(\"hello\")\n",
        "print(\"hello\")\n",
        "print(\"hello\")"
      ],
      "execution_count": null,
      "outputs": []
    },
    {
      "cell_type": "code",
      "metadata": {
        "id": "y72cVrgGj-m-"
      },
      "source": [
        "if condition:\n",
        "  body\n",
        "  body2\n",
        "body3"
      ],
      "execution_count": null,
      "outputs": []
    },
    {
      "cell_type": "code",
      "metadata": {
        "colab": {
          "base_uri": "https://localhost:8080/"
        },
        "id": "Y_ZFpYeDky-i",
        "outputId": "7e6107f4-8513-4493-c09a-e8a554e67da9"
      },
      "source": [
        "if True:\n",
        "  print(\"it is true\")"
      ],
      "execution_count": null,
      "outputs": [
        {
          "output_type": "stream",
          "text": [
            "it is true\n"
          ],
          "name": "stdout"
        }
      ]
    },
    {
      "cell_type": "code",
      "metadata": {
        "id": "1BR1GhvFk47C"
      },
      "source": [
        "if False:\n",
        "  print(\"it is true\")"
      ],
      "execution_count": null,
      "outputs": []
    },
    {
      "cell_type": "code",
      "metadata": {
        "colab": {
          "base_uri": "https://localhost:8080/"
        },
        "id": "Y4Ovi-UIlAHc",
        "outputId": "654dd5ef-2e52-4d3d-aea2-702d9f35c3f2"
      },
      "source": [
        "if 1:\n",
        "  print(\"ben\")"
      ],
      "execution_count": null,
      "outputs": [
        {
          "output_type": "stream",
          "text": [
            "ben\n"
          ],
          "name": "stdout"
        }
      ]
    },
    {
      "cell_type": "code",
      "metadata": {
        "colab": {
          "base_uri": "https://localhost:8080/"
        },
        "id": "r16fF8iulQ13",
        "outputId": "8a293ec3-d1e8-4ae7-eb51-56c1e997c6d0"
      },
      "source": [
        "if False or True:\n",
        "  print(\"ben\")"
      ],
      "execution_count": null,
      "outputs": [
        {
          "output_type": "stream",
          "text": [
            "ben\n"
          ],
          "name": "stdout"
        }
      ]
    },
    {
      "cell_type": "code",
      "metadata": {
        "id": "2Xz7sTEzlqS4"
      },
      "source": [
        "minced = True\n",
        "bread = True\n",
        "#green\n",
        "lettuce = True\n",
        "pepper = False\n",
        "store = True"
      ],
      "execution_count": null,
      "outputs": []
    },
    {
      "cell_type": "code",
      "metadata": {
        "id": "JKCztydH6Kef"
      },
      "source": [
        "hamburger = (minced and store and bread) and (lettuce or pepper)"
      ],
      "execution_count": null,
      "outputs": []
    },
    {
      "cell_type": "code",
      "metadata": {
        "colab": {
          "base_uri": "https://localhost:8080/"
        },
        "id": "x2Gaiag86cff",
        "outputId": "0a18cf21-7be8-40e1-88c2-18886ef5851d"
      },
      "source": [
        "if hamburger:\n",
        "  print(\"Bon Apetite\")"
      ],
      "execution_count": null,
      "outputs": [
        {
          "output_type": "stream",
          "text": [
            "Bon Apetite\n"
          ],
          "name": "stdout"
        }
      ]
    },
    {
      "cell_type": "code",
      "metadata": {
        "colab": {
          "base_uri": "https://localhost:8080/"
        },
        "id": "r2HVUkk06jFP",
        "outputId": "bd90aedf-88e2-480f-862f-d993191f2d44"
      },
      "source": [
        "1 == 1.0"
      ],
      "execution_count": null,
      "outputs": [
        {
          "output_type": "execute_result",
          "data": {
            "text/plain": [
              "True"
            ]
          },
          "metadata": {
            "tags": []
          },
          "execution_count": 21
        }
      ]
    },
    {
      "cell_type": "code",
      "metadata": {
        "colab": {
          "base_uri": "https://localhost:8080/"
        },
        "id": "CjTtG14O9Twf",
        "outputId": "bfbc2cfd-eb29-4126-c2ab-c7204255d130"
      },
      "source": [
        "a = set(\"TWELVE PLUS ONE\")\n",
        "b = set(\"ELEVEN PLUS TWO\")\n",
        "a==b"
      ],
      "execution_count": null,
      "outputs": [
        {
          "output_type": "execute_result",
          "data": {
            "text/plain": [
              "True"
            ]
          },
          "metadata": {
            "tags": []
          },
          "execution_count": 24
        }
      ]
    },
    {
      "cell_type": "code",
      "metadata": {
        "colab": {
          "base_uri": "https://localhost:8080/"
        },
        "id": "MPgYHSBZ-AIE",
        "outputId": "ec9e4028-dd00-449d-fed1-732fc8ca53e3"
      },
      "source": [
        "print(a==b)"
      ],
      "execution_count": null,
      "outputs": [
        {
          "output_type": "stream",
          "text": [
            "True\n"
          ],
          "name": "stdout"
        }
      ]
    },
    {
      "cell_type": "code",
      "metadata": {
        "colab": {
          "base_uri": "https://localhost:8080/"
        },
        "id": "idANuvJ7-G-D",
        "outputId": "12d75e46-2926-42ea-e0b5-03ef498436e6"
      },
      "source": [
        "şifre = input(\"Şifreyi biliyor musun?:\").title().strip() == \"Yes\"\n",
        "print(\"You entered:\", şifre)\n",
        "  "
      ],
      "execution_count": null,
      "outputs": [
        {
          "output_type": "stream",
          "text": [
            "Şifreyi biliyor musun?:no\n",
            "You entered: False\n"
          ],
          "name": "stdout"
        }
      ]
    },
    {
      "cell_type": "code",
      "metadata": {
        "colab": {
          "base_uri": "https://localhost:8080/"
        },
        "id": "uhmZUFlu_1Uo",
        "outputId": "f5c29b77-9f59-4059-90e7-e0a1fe9d1ae4"
      },
      "source": [
        "a = int(input(\"bir sayı giriniz: \"))\n",
        "if a % 2 == 0:\n",
        "  print(\"{} bir çift sayı\".format(a))\n",
        "else:\n",
        "  print(\"{} bir tek sayı\".format(a))"
      ],
      "execution_count": null,
      "outputs": [
        {
          "output_type": "stream",
          "text": [
            "bir sayı giriniz: 4\n",
            "4 bir çift sayı\n"
          ],
          "name": "stdout"
        }
      ]
    },
    {
      "cell_type": "code",
      "metadata": {
        "colab": {
          "base_uri": "https://localhost:8080/"
        },
        "id": "s_i-vhItGoh5",
        "outputId": "e2b9c1d8-9751-4c4d-cabf-b02164db32be"
      },
      "source": [
        "a = int(input(\"bir sayı giriniz: \"))\n",
        "if a > 0:\n",
        "  print(\"{} pozitiftir\".format(a))\n",
        "else:\n",
        "  print(\"{} negatiftir\".format(a))"
      ],
      "execution_count": null,
      "outputs": [
        {
          "output_type": "stream",
          "text": [
            "bir sayı giriniz: -10\n",
            "-10 negatiftir\n"
          ],
          "name": "stdout"
        }
      ]
    },
    {
      "cell_type": "code",
      "metadata": {
        "colab": {
          "base_uri": "https://localhost:8080/"
        },
        "id": "NkDMFKw6HwJ8",
        "outputId": "6f69091b-b59a-4687-d09d-5d7321c3f748"
      },
      "source": [
        "a = int(input(\"1.sayıyı gir:\"))\n",
        "b = int(input(\"2.sayıyı gir:\"))\n",
        "if a > b:\n",
        "  print(\"{} sayısı {} sayısından büyüktür\".format(a, b))\n",
        "else:\n",
        "  print(\"{} sayısı {} sayısından büyüktür\".format(b, a))"
      ],
      "execution_count": null,
      "outputs": [
        {
          "output_type": "stream",
          "text": [
            "1.sayıyı gir:10\n",
            "2.sayıyı gir:4\n",
            "10 sayısı 4 sayısından büyüktür\n"
          ],
          "name": "stdout"
        }
      ]
    },
    {
      "cell_type": "code",
      "metadata": {
        "colab": {
          "base_uri": "https://localhost:8080/"
        },
        "id": "upUMlj5SIp7e",
        "outputId": "1a1d4d22-d4ba-4728-8b6d-9ea4a82f0fe9"
      },
      "source": [
        "bool_value = True\n",
        "if bool_value :\n",
        "  print(\"Yes\")\n",
        "else:\n",
        "  print(\"No\")"
      ],
      "execution_count": null,
      "outputs": [
        {
          "output_type": "stream",
          "text": [
            "Yes\n"
          ],
          "name": "stdout"
        }
      ]
    },
    {
      "cell_type": "code",
      "metadata": {
        "id": "o0UDGUbLAxVB"
      },
      "source": [
        "L1 = []\n",
        "L1.append([1, [2,3], 4])"
      ],
      "execution_count": null,
      "outputs": []
    },
    {
      "cell_type": "code",
      "metadata": {
        "colab": {
          "base_uri": "https://localhost:8080/"
        },
        "id": "_mHi6zXBA7HB",
        "outputId": "bd7cba4b-8216-4ee1-ecf2-51e28281c80e"
      },
      "source": [
        "L1"
      ],
      "execution_count": null,
      "outputs": [
        {
          "output_type": "execute_result",
          "data": {
            "text/plain": [
              "[[1, [2, 3], 4]]"
            ]
          },
          "metadata": {
            "tags": []
          },
          "execution_count": 3
        }
      ]
    },
    {
      "cell_type": "code",
      "metadata": {
        "id": "DQjnVoMkBBS7"
      },
      "source": [
        "L1.extend([7, 8, 9])"
      ],
      "execution_count": null,
      "outputs": []
    },
    {
      "cell_type": "code",
      "metadata": {
        "colab": {
          "base_uri": "https://localhost:8080/"
        },
        "id": "eRB9NTQiBJXm",
        "outputId": "6e2f6ea8-6ebb-4c4e-a1c8-893936e60fb2"
      },
      "source": [
        "L1"
      ],
      "execution_count": null,
      "outputs": [
        {
          "output_type": "execute_result",
          "data": {
            "text/plain": [
              "[[1, [2, 3], 4], 7, 8, 9]"
            ]
          },
          "metadata": {
            "tags": []
          },
          "execution_count": 10
        }
      ]
    },
    {
      "cell_type": "code",
      "metadata": {
        "colab": {
          "base_uri": "https://localhost:8080/"
        },
        "id": "sGqz7gEW4ysj",
        "outputId": "a7a5d6b1-1f47-4c37-e6c6-2e5e2b20d117"
      },
      "source": [
        "num1 = float(input(\"Enter the first number : \"))\n",
        "num2 = float(input(\"Enter the second number : \"))\n",
        "num3 = float(input(\"Enter the third number : \"))\n",
        "if (num1 > num2) and (num1 > num3) :\n",
        "  largest = num1\n",
        "elif (num2 > num1) and (num2 > num3) :\n",
        "  largest = num2\n",
        "else:\n",
        "  largest = num3\n",
        "  print(\"the largest number is :\", largest\n",
        "        )"
      ],
      "execution_count": null,
      "outputs": [
        {
          "output_type": "stream",
          "text": [
            "Enter the first number : 3\n",
            "Enter the second number : 4\n",
            "Enter the third number : 5\n",
            "the largest number is : 5.0\n"
          ],
          "name": "stdout"
        }
      ]
    },
    {
      "cell_type": "code",
      "metadata": {
        "id": "tZn12Gng5QF4"
      },
      "source": [
        "num = float(input(\"bir sayı gir\"))\n",
        "if num > 0:\n",
        "  print(\"positive number\")\n",
        "elif num ==0:\n",
        "   print(\"zero\") \n",
        "else:\n",
        "  print(\"negative number\")"
      ],
      "execution_count": null,
      "outputs": []
    },
    {
      "cell_type": "code",
      "metadata": {
        "colab": {
          "base_uri": "https://localhost:8080/"
        },
        "id": "D8k6cT4A7vjz",
        "outputId": "134f9ad8-16a6-482f-f2ac-68aa3935e9ac"
      },
      "source": [
        "score = int(input(\"Score\"))\n",
        "if score >= 90 :\n",
        "  if score >= 95 :\n",
        "    degree = \"A+\"\n",
        "  else :\n",
        "    degree = \"A\"\n",
        "elif score >= 80 :\n",
        "  if score >= 85 :\n",
        "    degree = \"B+\"\n",
        "  else :\n",
        "    degree = \"B\"\n",
        "else :\n",
        "  degree = \"B-\"\n",
        "print(\"Your degree is:\", degree)"
      ],
      "execution_count": null,
      "outputs": [
        {
          "output_type": "stream",
          "text": [
            "Score88\n",
            "Your degree is: B+\n"
          ],
          "name": "stdout"
        }
      ]
    },
    {
      "cell_type": "code",
      "metadata": {
        "colab": {
          "base_uri": "https://localhost:8080/"
        },
        "id": "cgeywCzj_IXM",
        "outputId": "164e3918-5a6b-4ca4-ce80-74cf07596a37"
      },
      "source": [
        "while 0 :\n",
        "  print(\"bir\")\n",
        "print(2)"
      ],
      "execution_count": null,
      "outputs": [
        {
          "output_type": "stream",
          "text": [
            "2\n"
          ],
          "name": "stdout"
        }
      ]
    },
    {
      "cell_type": "code",
      "metadata": {
        "colab": {
          "base_uri": "https://localhost:8080/"
        },
        "id": "aQ1yAt_IFXyA",
        "outputId": "10bc8f79-d2d0-4212-e673-890888f9367b"
      },
      "source": [
        "while [] :\n",
        "  print(\"while\")\n",
        "print(\"outside while\")"
      ],
      "execution_count": null,
      "outputs": [
        {
          "output_type": "stream",
          "text": [
            "outside while\n"
          ],
          "name": "stdout"
        }
      ]
    },
    {
      "cell_type": "code",
      "metadata": {
        "colab": {
          "base_uri": "https://localhost:8080/"
        },
        "id": "pVJ9P7iLGQI7",
        "outputId": "e7b4555d-bebd-44ef-a9ae-dd0edfe3ef52"
      },
      "source": [
        "bool(None)"
      ],
      "execution_count": null,
      "outputs": [
        {
          "output_type": "execute_result",
          "data": {
            "text/plain": [
              "False"
            ]
          },
          "metadata": {
            "tags": []
          },
          "execution_count": 12
        }
      ]
    },
    {
      "cell_type": "code",
      "metadata": {
        "colab": {
          "base_uri": "https://localhost:8080/"
        },
        "id": "mtn_gZ5pGT5Z",
        "outputId": "400ce616-87fe-4f43-c91d-dfdbcc1a5b3c"
      },
      "source": [
        "while None :\n",
        "  print(\"None\")\n",
        "print(\"outside\")"
      ],
      "execution_count": null,
      "outputs": [
        {
          "output_type": "stream",
          "text": [
            "outside\n"
          ],
          "name": "stdout"
        }
      ]
    },
    {
      "cell_type": "code",
      "metadata": {
        "colab": {
          "base_uri": "https://localhost:8080/"
        },
        "id": "uWBpt1lcGagd",
        "outputId": "70d63665-b0b3-426e-eb25-abbecbff4a47"
      },
      "source": [
        "number = 0\n",
        "while number < 6:\n",
        "  print(number)\n",
        "  number += 1\n",
        "print('now, number is bigger or equal to 6')"
      ],
      "execution_count": null,
      "outputs": [
        {
          "output_type": "stream",
          "text": [
            "0\n",
            "1\n",
            "2\n",
            "3\n",
            "4\n",
            "5\n",
            "now, number is bigger or equal to 6\n"
          ],
          "name": "stdout"
        }
      ]
    },
    {
      "cell_type": "code",
      "metadata": {
        "colab": {
          "base_uri": "https://localhost:8080/"
        },
        "id": "3yl2dDDeJaGK",
        "outputId": "09caaf76-2743-4e99-be86-ccbb4775a775"
      },
      "source": [
        "age = input(\"Enter your age:\")\n",
        "while not age.isdigit() :\n",
        "  print(\"You entered incorrectly!\")\n",
        "  age = input(\"Enter your age correctly please :\")\n",
        "print(\"Great! You entered valid age :\", age)"
      ],
      "execution_count": null,
      "outputs": [
        {
          "output_type": "stream",
          "text": [
            "Enter your age:-5\n",
            "You entered incorrectly!\n",
            "Enter your age correctly please :5\n",
            "Great! You entered valid age : 5\n"
          ],
          "name": "stdout"
        }
      ]
    },
    {
      "cell_type": "code",
      "metadata": {
        "colab": {
          "base_uri": "https://localhost:8080/"
        },
        "id": "Fx_IhvrxLcdq",
        "outputId": "79cda733-5026-4096-c7ba-25fcf5df8f2c"
      },
      "source": [
        "\"onaltı\".isdigit()"
      ],
      "execution_count": null,
      "outputs": [
        {
          "output_type": "execute_result",
          "data": {
            "text/plain": [
              "False"
            ]
          },
          "metadata": {
            "tags": []
          },
          "execution_count": 22
        }
      ]
    },
    {
      "cell_type": "code",
      "metadata": {
        "colab": {
          "base_uri": "https://localhost:8080/"
        },
        "id": "vojB3wP6LfwO",
        "outputId": "f3355fac-8671-48e3-917c-9b7998e09770"
      },
      "source": [
        "\"16.0\".isdigit()"
      ],
      "execution_count": null,
      "outputs": [
        {
          "output_type": "execute_result",
          "data": {
            "text/plain": [
              "False"
            ]
          },
          "metadata": {
            "tags": []
          },
          "execution_count": 23
        }
      ]
    },
    {
      "cell_type": "code",
      "metadata": {
        "colab": {
          "base_uri": "https://localhost:8080/"
        },
        "id": "Wy3aq9rbLiqd",
        "outputId": "4ad958a7-256c-4598-9be6-a8e25b77f763"
      },
      "source": [
        "\"41\".isdigit()"
      ],
      "execution_count": null,
      "outputs": [
        {
          "output_type": "execute_result",
          "data": {
            "text/plain": [
              "True"
            ]
          },
          "metadata": {
            "tags": []
          },
          "execution_count": 24
        }
      ]
    },
    {
      "cell_type": "code",
      "metadata": {
        "colab": {
          "base_uri": "https://localhost:8080/"
        },
        "id": "zjmUHi7wLvFk",
        "outputId": "4f2a6d68-9db8-4f94-b954-42b5dc5f7d99"
      },
      "source": [
        "answer = 28\n",
        "question = 'What a two-digit number am I thinking of?'\n",
        "print (\"Let's play the guessing game!\")\n",
        "while True:\n",
        "  guess = int(input(question))\n",
        "\n",
        "  if guess < answer:\n",
        "    print('Little higher')\n",
        "  elif guess > answer:\n",
        "    print('Little lower')\n",
        "  else: # guess == answer\n",
        "    print('Are ypu a MINDREADER!!!')\n",
        "    break"
      ],
      "execution_count": null,
      "outputs": [
        {
          "output_type": "stream",
          "text": [
            "Let's play the guessing game!\n",
            "What a two-digit number am I thinking of?27\n",
            "Little higher\n",
            "What a two-digit number am I thinking of?29\n",
            "Little lower\n",
            "What a two-digit number am I thinking of?28\n",
            "Are ypu a MINDREADER!!!\n"
          ],
          "name": "stdout"
        }
      ]
    },
    {
      "cell_type": "code",
      "metadata": {
        "colab": {
          "base_uri": "https://localhost:8080/"
        },
        "id": "jf5rMXGEO-Bd",
        "outputId": "0d46a1b6-3fe7-48ef-ba72-15c61aa80824"
      },
      "source": [
        "while True :\n",
        "  print(\"bir kere yazdır\")\n",
        "  break"
      ],
      "execution_count": null,
      "outputs": [
        {
          "output_type": "stream",
          "text": [
            "bir kere yazdır\n"
          ],
          "name": "stdout"
        }
      ]
    },
    {
      "cell_type": "code",
      "metadata": {
        "id": "j27paHlZWBGH"
      },
      "source": [
        "### The most frequent number\n"
      ],
      "execution_count": null,
      "outputs": []
    },
    {
      "cell_type": "code",
      "metadata": {
        "id": "W4hxHy0DWaL6"
      },
      "source": [
        "numbers = [-1, 3, 7, 4, 3, 0, 3, 16, 3, 7, 0, 0, 1]"
      ],
      "execution_count": null,
      "outputs": []
    },
    {
      "cell_type": "code",
      "metadata": {
        "colab": {
          "base_uri": "https://localhost:8080/"
        },
        "id": "H2SACF17Wz7t",
        "outputId": "5a6b7528-9cb0-45b7-af53-23de88aaeb09"
      },
      "source": [
        "max(1,2,3)"
      ],
      "execution_count": null,
      "outputs": [
        {
          "output_type": "execute_result",
          "data": {
            "text/plain": [
              "3"
            ]
          },
          "metadata": {
            "tags": []
          },
          "execution_count": 49
        }
      ]
    },
    {
      "cell_type": "code",
      "metadata": {
        "colab": {
          "base_uri": "https://localhost:8080/"
        },
        "id": "Kfo7hSMqXcXR",
        "outputId": "c4eea666-ae48-43cc-9fd2-dd9beea2c5f7"
      },
      "source": [
        "empty = []\n",
        "max(empty, default = True)"
      ],
      "execution_count": null,
      "outputs": [
        {
          "output_type": "execute_result",
          "data": {
            "text/plain": [
              "True"
            ]
          },
          "metadata": {
            "tags": []
          },
          "execution_count": 51
        }
      ]
    },
    {
      "cell_type": "code",
      "metadata": {
        "colab": {
          "base_uri": "https://localhost:8080/",
          "height": 35
        },
        "id": "2FfcH0eEXsSe",
        "outputId": "63d07476-d4d1-40dc-b115-ec6fc3550ad1"
      },
      "source": [
        "empty = ()\n",
        "max(empty, default = \"boş\")"
      ],
      "execution_count": null,
      "outputs": [
        {
          "output_type": "execute_result",
          "data": {
            "application/vnd.google.colaboratory.intrinsic+json": {
              "type": "string"
            },
            "text/plain": [
              "'boş'"
            ]
          },
          "metadata": {
            "tags": []
          },
          "execution_count": 52
        }
      ]
    },
    {
      "cell_type": "code",
      "metadata": {
        "colab": {
          "base_uri": "https://localhost:8080/"
        },
        "id": "F8B0XXa6X8c2",
        "outputId": "229c3d95-b21e-4656-9ff0-d4dd71babf57"
      },
      "source": [
        "sequence = [1,1,1,1,2,2,2,3,3,4]\n",
        "max(sequence)"
      ],
      "execution_count": null,
      "outputs": [
        {
          "output_type": "execute_result",
          "data": {
            "text/plain": [
              "4"
            ]
          },
          "metadata": {
            "tags": []
          },
          "execution_count": 53
        }
      ]
    },
    {
      "cell_type": "code",
      "metadata": {
        "colab": {
          "base_uri": "https://localhost:8080/"
        },
        "id": "ADF5YE1yYHaj",
        "outputId": "f66fa881-ac5b-4762-ed20-c9055e317327"
      },
      "source": [
        "sequence.count(4)"
      ],
      "execution_count": null,
      "outputs": [
        {
          "output_type": "execute_result",
          "data": {
            "text/plain": [
              "1"
            ]
          },
          "metadata": {
            "tags": []
          },
          "execution_count": 54
        }
      ]
    },
    {
      "cell_type": "code",
      "metadata": {
        "colab": {
          "base_uri": "https://localhost:8080/"
        },
        "id": "PmUAWVgEYQGj",
        "outputId": "3c9335fe-dff3-447d-ac0a-d937b4479c6b"
      },
      "source": [
        "sequence.count(3)"
      ],
      "execution_count": null,
      "outputs": [
        {
          "output_type": "execute_result",
          "data": {
            "text/plain": [
              "2"
            ]
          },
          "metadata": {
            "tags": []
          },
          "execution_count": 55
        }
      ]
    },
    {
      "cell_type": "code",
      "metadata": {
        "colab": {
          "base_uri": "https://localhost:8080/"
        },
        "id": "2TTT5a6ZYb-Y",
        "outputId": "2498573d-c102-40ec-9f1b-32e37cb4d135"
      },
      "source": [
        "sequence.count(1)"
      ],
      "execution_count": null,
      "outputs": [
        {
          "output_type": "execute_result",
          "data": {
            "text/plain": [
              "4"
            ]
          },
          "metadata": {
            "tags": []
          },
          "execution_count": 56
        }
      ]
    },
    {
      "cell_type": "code",
      "metadata": {
        "id": "KMd6Ygm3YfA1"
      },
      "source": [
        "numbers = [-1, 3, 7, 4, 3, 0, 3, 16, 3, 7, 0, 0, 1]"
      ],
      "execution_count": null,
      "outputs": []
    },
    {
      "cell_type": "code",
      "metadata": {
        "colab": {
          "base_uri": "https://localhost:8080/"
        },
        "id": "PlJz_r5_Yplq",
        "outputId": "4c489ae3-d185-4db7-dce9-e1fcfe3510c1"
      },
      "source": [
        "max(numbers)"
      ],
      "execution_count": null,
      "outputs": [
        {
          "output_type": "execute_result",
          "data": {
            "text/plain": [
              "16"
            ]
          },
          "metadata": {
            "tags": []
          },
          "execution_count": 58
        }
      ]
    },
    {
      "cell_type": "code",
      "metadata": {
        "colab": {
          "base_uri": "https://localhost:8080/"
        },
        "id": "HJ2kFK1AYs3m",
        "outputId": "d8b63883-202a-4782-c3b3-dea7e1abb8ee"
      },
      "source": [
        "numbers.count(16)"
      ],
      "execution_count": null,
      "outputs": [
        {
          "output_type": "execute_result",
          "data": {
            "text/plain": [
              "1"
            ]
          },
          "metadata": {
            "tags": []
          },
          "execution_count": 59
        }
      ]
    },
    {
      "cell_type": "code",
      "metadata": {
        "colab": {
          "base_uri": "https://localhost:8080/"
        },
        "id": "_LyZEyQqYyml",
        "outputId": "7b8634cd-0ded-4c7d-ff96-6dd44213fb11"
      },
      "source": [
        "numbers.count(3)"
      ],
      "execution_count": null,
      "outputs": [
        {
          "output_type": "execute_result",
          "data": {
            "text/plain": [
              "4"
            ]
          },
          "metadata": {
            "tags": []
          },
          "execution_count": 60
        }
      ]
    },
    {
      "cell_type": "code",
      "metadata": {
        "id": "6dKZM4wGY25M"
      },
      "source": [
        "numbers = [-1, \"3\", 7, 4, \"3\", 0, \"3\", 16, \"3\", 7, 0, 0, 1]"
      ],
      "execution_count": null,
      "outputs": []
    },
    {
      "cell_type": "code",
      "metadata": {
        "colab": {
          "base_uri": "https://localhost:8080/"
        },
        "id": "3hZXCTpwZDIG",
        "outputId": "f08a5906-51f7-4429-f076-ef6117f58135"
      },
      "source": [
        "numbers.count(\"3\")"
      ],
      "execution_count": null,
      "outputs": [
        {
          "output_type": "execute_result",
          "data": {
            "text/plain": [
              "4"
            ]
          },
          "metadata": {
            "tags": []
          },
          "execution_count": 62
        }
      ]
    },
    {
      "cell_type": "code",
      "metadata": {
        "id": "Oco_zoIGZF1t"
      },
      "source": [
        "numbers = [-1, 3, 7, 4, 3, 0, 3, 16, 3, 7, 0, 0, 1]"
      ],
      "execution_count": null,
      "outputs": []
    },
    {
      "cell_type": "code",
      "metadata": {
        "colab": {
          "base_uri": "https://localhost:8080/"
        },
        "id": "ALwwlxsxZIgM",
        "outputId": "6a1bc6b4-e7cb-4aed-fd27-6d90c9d4a991"
      },
      "source": [
        "max(numbers, key = numbers.count)"
      ],
      "execution_count": null,
      "outputs": [
        {
          "output_type": "execute_result",
          "data": {
            "text/plain": [
              "3"
            ]
          },
          "metadata": {
            "tags": []
          },
          "execution_count": 64
        }
      ]
    },
    {
      "cell_type": "code",
      "metadata": {
        "colab": {
          "base_uri": "https://localhost:8080/"
        },
        "id": "arWZveL0aQYO",
        "outputId": "4078f7cd-f096-472b-a138-8dabb8aa8b7f"
      },
      "source": [
        "item = max(numbers, key = numbers.count)\n",
        "numbers.count(item)"
      ],
      "execution_count": null,
      "outputs": [
        {
          "output_type": "execute_result",
          "data": {
            "text/plain": [
              "4"
            ]
          },
          "metadata": {
            "tags": []
          },
          "execution_count": 66
        }
      ]
    },
    {
      "cell_type": "code",
      "metadata": {
        "colab": {
          "base_uri": "https://localhost:8080/"
        },
        "id": "YMGr5nznadW6",
        "outputId": "b49ce1c5-a45f-437d-b659-f815ec40ac03"
      },
      "source": [
        "numbers.count(max(numbers, key = numbers.count))"
      ],
      "execution_count": null,
      "outputs": [
        {
          "output_type": "execute_result",
          "data": {
            "text/plain": [
              "4"
            ]
          },
          "metadata": {
            "tags": []
          },
          "execution_count": 67
        }
      ]
    },
    {
      "cell_type": "code",
      "metadata": {
        "id": "0CsrHYx-bJH4"
      },
      "source": [
        "### Comfortable words"
      ],
      "execution_count": null,
      "outputs": []
    },
    {
      "cell_type": "code",
      "metadata": {
        "id": "SUhOz5FMbVmf"
      },
      "source": [
        "left = set(\"qwertasdfgzxcvb\")\n",
        "right = set(\"yuiophjklmn\")"
      ],
      "execution_count": null,
      "outputs": []
    },
    {
      "cell_type": "code",
      "metadata": {
        "colab": {
          "base_uri": "https://localhost:8080/"
        },
        "id": "gbZdhLLEc83t",
        "outputId": "1792acc8-9f69-4871-9df0-b18cdc2c54dc"
      },
      "source": [
        "left"
      ],
      "execution_count": null,
      "outputs": [
        {
          "output_type": "execute_result",
          "data": {
            "text/plain": [
              "{'a', 'b', 'c', 'd', 'e', 'f', 'g', 'q', 'r', 's', 't', 'v', 'w', 'x', 'z'}"
            ]
          },
          "metadata": {
            "tags": []
          },
          "execution_count": 69
        }
      ]
    },
    {
      "cell_type": "code",
      "metadata": {
        "colab": {
          "base_uri": "https://localhost:8080/"
        },
        "id": "7LUq1kj8c9mL",
        "outputId": "8bb02535-4725-42a1-ff2c-cddefae0872e"
      },
      "source": [
        "right"
      ],
      "execution_count": null,
      "outputs": [
        {
          "output_type": "execute_result",
          "data": {
            "text/plain": [
              "{'h', 'i', 'j', 'k', 'l', 'm', 'n', 'o', 'p', 'u', 'y'}"
            ]
          },
          "metadata": {
            "tags": []
          },
          "execution_count": 70
        }
      ]
    },
    {
      "cell_type": "code",
      "metadata": {
        "id": "uhIzp2Xhc_W6"
      },
      "source": [
        "word = set(\"clarusway\")"
      ],
      "execution_count": null,
      "outputs": []
    },
    {
      "cell_type": "code",
      "metadata": {
        "colab": {
          "base_uri": "https://localhost:8080/"
        },
        "id": "DA6pEIJ8dptf",
        "outputId": "5a81ef2e-b158-4eda-8fb3-2d06ab914a8e"
      },
      "source": [
        "word"
      ],
      "execution_count": null,
      "outputs": [
        {
          "output_type": "execute_result",
          "data": {
            "text/plain": [
              "{'a', 'c', 'l', 'r', 's', 'u', 'w', 'y'}"
            ]
          },
          "metadata": {
            "tags": []
          },
          "execution_count": 72
        }
      ]
    },
    {
      "cell_type": "code",
      "metadata": {
        "id": "f9QyLOQzdqv5"
      },
      "source": [
        "leftcheck = (word.intersection(left))\n",
        "rightcheck = (word.intersection(right))"
      ],
      "execution_count": null,
      "outputs": []
    },
    {
      "cell_type": "code",
      "metadata": {
        "colab": {
          "base_uri": "https://localhost:8080/"
        },
        "id": "fjDtbxIHd2Ds",
        "outputId": "f0b12e72-0acd-43ee-8aff-3f3a4ac82fe2"
      },
      "source": [
        "leftcheck"
      ],
      "execution_count": null,
      "outputs": [
        {
          "output_type": "execute_result",
          "data": {
            "text/plain": [
              "{'a', 'c', 'r', 's', 'w'}"
            ]
          },
          "metadata": {
            "tags": []
          },
          "execution_count": 74
        }
      ]
    },
    {
      "cell_type": "code",
      "metadata": {
        "colab": {
          "base_uri": "https://localhost:8080/"
        },
        "id": "apscj-U8d4So",
        "outputId": "d528638c-bc3d-4510-baef-0dfb41b985c5"
      },
      "source": [
        "rightcheck"
      ],
      "execution_count": null,
      "outputs": [
        {
          "output_type": "execute_result",
          "data": {
            "text/plain": [
              "{'l', 'u', 'y'}"
            ]
          },
          "metadata": {
            "tags": []
          },
          "execution_count": 75
        }
      ]
    },
    {
      "cell_type": "code",
      "metadata": {
        "id": "M3v5tnxld56z"
      },
      "source": [
        "leftcheck = bool(word.intersection(left))\n",
        "rightcheck = bool(word.intersection(right))"
      ],
      "execution_count": null,
      "outputs": []
    },
    {
      "cell_type": "code",
      "metadata": {
        "colab": {
          "base_uri": "https://localhost:8080/"
        },
        "id": "ThQCDqqMeH5C",
        "outputId": "8f6cfe1e-08cb-4944-bf2b-ca3392eb8bd1"
      },
      "source": [
        "leftcheck"
      ],
      "execution_count": null,
      "outputs": [
        {
          "output_type": "execute_result",
          "data": {
            "text/plain": [
              "True"
            ]
          },
          "metadata": {
            "tags": []
          },
          "execution_count": 77
        }
      ]
    },
    {
      "cell_type": "code",
      "metadata": {
        "colab": {
          "base_uri": "https://localhost:8080/"
        },
        "id": "rfSZoV45eMtT",
        "outputId": "05a38fb9-c3a4-4281-d9d1-0770184900e3"
      },
      "source": [
        "print(leftcheck and rightcheck)"
      ],
      "execution_count": null,
      "outputs": [
        {
          "output_type": "stream",
          "text": [
            "True\n"
          ],
          "name": "stdout"
        }
      ]
    },
    {
      "cell_type": "code",
      "metadata": {
        "id": "og7_HyqCeTeR"
      },
      "source": [
        "word2 = set(\"asar\")"
      ],
      "execution_count": null,
      "outputs": []
    },
    {
      "cell_type": "code",
      "metadata": {
        "colab": {
          "base_uri": "https://localhost:8080/"
        },
        "id": "mvqGX1f3eizc",
        "outputId": "45354843-56d0-4c4f-d62d-1407ba740af5"
      },
      "source": [
        "word2"
      ],
      "execution_count": null,
      "outputs": [
        {
          "output_type": "execute_result",
          "data": {
            "text/plain": [
              "{'a', 'r', 's'}"
            ]
          },
          "metadata": {
            "tags": []
          },
          "execution_count": 80
        }
      ]
    },
    {
      "cell_type": "code",
      "metadata": {
        "id": "27D7awQkejpL"
      },
      "source": [
        "leftcheck = bool(word2.intersection(left))\n",
        "rightcheck = bool(word2.intersection(right))"
      ],
      "execution_count": null,
      "outputs": []
    },
    {
      "cell_type": "code",
      "metadata": {
        "colab": {
          "base_uri": "https://localhost:8080/"
        },
        "id": "Ved61b7_eoqm",
        "outputId": "ccae5fbb-f238-4d36-8fc6-2d660645237c"
      },
      "source": [
        "leftcheck and rightcheck"
      ],
      "execution_count": null,
      "outputs": [
        {
          "output_type": "execute_result",
          "data": {
            "text/plain": [
              "False"
            ]
          },
          "metadata": {
            "tags": []
          },
          "execution_count": 84
        }
      ]
    },
    {
      "cell_type": "code",
      "metadata": {
        "id": "7NQbnxJle_Gt"
      },
      "source": [
        ""
      ],
      "execution_count": null,
      "outputs": []
    },
    {
      "cell_type": "code",
      "metadata": {
        "colab": {
          "base_uri": "https://localhost:8080/"
        },
        "id": "-kxnKOpRfHo4",
        "outputId": "79b8cf00-7587-4387-d6bd-e6a374200ea3"
      },
      "source": [
        "sentence = input(\"give me a sentence :\")\n",
        "words = sentence.split()\n",
        "i = 0\n",
        "longest = 0\n",
        "while i < len(words) :\n",
        "  if len(words[i]) > longest :\n",
        "    longest = len(words[i])\n",
        "  i += 1\n",
        "print(\"the lenght og the longest word is :\", longest)\n"
      ],
      "execution_count": null,
      "outputs": [
        {
          "output_type": "stream",
          "text": [
            "give me a sentence :be bir garip öğretmenim yoktur hiç yardım eden öğrencim\n",
            "the lenght og the longest word is : 10\n"
          ],
          "name": "stdout"
        }
      ]
    },
    {
      "cell_type": "code",
      "metadata": {
        "colab": {
          "base_uri": "https://localhost:8080/"
        },
        "id": "8iw4wdpwfJbl",
        "outputId": "afbb7a2d-9435-4ae5-db65-75858769ec7c"
      },
      "source": [
        "\"ben bir cümle girmiş olayım\".split()"
      ],
      "execution_count": null,
      "outputs": [
        {
          "output_type": "execute_result",
          "data": {
            "text/plain": [
              "['ben', 'bir', 'cümle', 'girmiş', 'olayım']"
            ]
          },
          "metadata": {
            "tags": []
          },
          "execution_count": 3
        }
      ]
    },
    {
      "cell_type": "code",
      "metadata": {
        "colab": {
          "base_uri": "https://localhost:8080/",
          "height": 129
        },
        "id": "r8OFWi4IhBpY",
        "outputId": "ae636769-4ff9-43d6-c729-31467e3d9dc2"
      },
      "source": [
        "names = [“Ahmed”, “Aisha”, “Adam”, “Joseph”, “Gabriel”]\n",
        "for i in names:\n",
        "  print(\"Hello\", i)"
      ],
      "execution_count": null,
      "outputs": [
        {
          "output_type": "error",
          "ename": "SyntaxError",
          "evalue": "ignored",
          "traceback": [
            "\u001b[0;36m  File \u001b[0;32m\"<ipython-input-6-409c0b133c66>\"\u001b[0;36m, line \u001b[0;32m1\u001b[0m\n\u001b[0;31m    names = [“Ahmed”, “Aisha”, “Adam”, “Joseph”, “Gabriel”]\u001b[0m\n\u001b[0m                   ^\u001b[0m\n\u001b[0;31mSyntaxError\u001b[0m\u001b[0;31m:\u001b[0m invalid character in identifier\n"
          ]
        }
      ]
    },
    {
      "cell_type": "code",
      "metadata": {
        "id": "kdFiTEPHjzzs"
      },
      "source": [
        "sayılar = []\n",
        "for i in range(1,6) :\n",
        "  sayılar.append(i)"
      ],
      "execution_count": null,
      "outputs": []
    },
    {
      "cell_type": "code",
      "metadata": {
        "colab": {
          "base_uri": "https://localhost:8080/"
        },
        "id": "kDoUeLSvkVXZ",
        "outputId": "fcbf28b8-1adf-437b-b3bb-8c8889b280bd"
      },
      "source": [
        "sayılar"
      ],
      "execution_count": null,
      "outputs": [
        {
          "output_type": "execute_result",
          "data": {
            "text/plain": [
              "[1, 2, 3, 4, 5]"
            ]
          },
          "metadata": {
            "tags": []
          },
          "execution_count": 9
        }
      ]
    },
    {
      "cell_type": "code",
      "metadata": {
        "colab": {
          "base_uri": "https://localhost:8080/"
        },
        "id": "-qS3g7Diks_t",
        "outputId": "9c6c0305-da26-47a1-a14b-7749ee9a8661"
      },
      "source": [
        "for i in range(1,6) :\n",
        "  print(i)"
      ],
      "execution_count": null,
      "outputs": [
        {
          "output_type": "stream",
          "text": [
            "1\n",
            "2\n",
            "3\n",
            "4\n",
            "5\n"
          ],
          "name": "stdout"
        }
      ]
    },
    {
      "cell_type": "code",
      "metadata": {
        "id": "Rrf7Qdvak6yy"
      },
      "source": [
        "eleman = \"ahmet -, clarusway[]\""
      ],
      "execution_count": null,
      "outputs": []
    },
    {
      "cell_type": "code",
      "metadata": {
        "colab": {
          "base_uri": "https://localhost:8080/"
        },
        "id": "u4Uu4vyhli5Q",
        "outputId": "87a68012-8392-4ec2-8faf-7dfa043250ad"
      },
      "source": [
        "for i in eleman :\n",
        "  print(i, end = \"//\")"
      ],
      "execution_count": null,
      "outputs": [
        {
          "output_type": "stream",
          "text": [
            "a//h//m//e//t// //-//,// //c//l//a//r//u//s//w//a//y//[//]//"
          ],
          "name": "stdout"
        }
      ]
    },
    {
      "cell_type": "code",
      "metadata": {
        "colab": {
          "base_uri": "https://localhost:8080/"
        },
        "id": "x2LSiWE6mFZ4",
        "outputId": "a3be3c4d-30f3-4f70-e66f-141bf304b601"
      },
      "source": [
        "kelime = input(\"kelime gir:\")\n",
        "count = 0\n",
        "for i in kelime:\n",
        "  count += 1\n",
        "  if count < len(kelime):\n",
        "    i = i + \"-\"\n",
        "  print(i, end = \"\")"
      ],
      "execution_count": null,
      "outputs": [
        {
          "output_type": "stream",
          "text": [
            "kelime gir:clarusway\n",
            "c-l-a-r-u-s-w-a-y"
          ],
          "name": "stdout"
        }
      ]
    },
    {
      "cell_type": "code",
      "metadata": {
        "colab": {
          "base_uri": "https://localhost:8080/"
        },
        "id": "WRKPb5HAny-c",
        "outputId": "292986a1-90ef-4408-c10e-7e05f21b8c36"
      },
      "source": [
        "word = \"clarusway\"\n",
        "a = \"-\".join(word)\n",
        "print(a)"
      ],
      "execution_count": null,
      "outputs": [
        {
          "output_type": "stream",
          "text": [
            "c-l-a-r-u-s-w-a-y\n"
          ],
          "name": "stdout"
        }
      ]
    },
    {
      "cell_type": "code",
      "metadata": {
        "id": "eSVUHvc5oZEI"
      },
      "source": [
        "### Samanlıkta iğne arayalım mı?"
      ],
      "execution_count": null,
      "outputs": []
    },
    {
      "cell_type": "code",
      "metadata": {
        "id": "W_VGikng3xTN"
      },
      "source": [
        "samanlık = [\"yumurta\", \"yaba\", \"inek\", \"iğne\", \"saman\", \"tezek\", \"tırmık\"]"
      ],
      "execution_count": null,
      "outputs": []
    },
    {
      "cell_type": "code",
      "metadata": {
        "colab": {
          "base_uri": "https://localhost:8080/"
        },
        "id": "J-Jo6cyH4CIj",
        "outputId": "65563355-f9a6-4d5a-aedb-ebd034e7db93"
      },
      "source": [
        "print(f\"iğne {samanlık.index('iğne')} numaralı indexte\") "
      ],
      "execution_count": null,
      "outputs": [
        {
          "output_type": "stream",
          "text": [
            "iğne 3 numaralı indexte\n"
          ],
          "name": "stdout"
        }
      ]
    },
    {
      "cell_type": "code",
      "metadata": {
        "id": "g8vFX3vD4l74"
      },
      "source": [
        "###'Tuple' kullanarak çoklu değer assign etmek"
      ],
      "execution_count": null,
      "outputs": []
    },
    {
      "cell_type": "code",
      "metadata": {
        "colab": {
          "base_uri": "https://localhost:8080/"
        },
        "id": "fszC0Ge-49sH",
        "outputId": "f84bf734-45f2-4a20-dca4-973637255c5f"
      },
      "source": [
        "v = (\"five\", 5, True)\n",
        "(x, y, z) = v\n",
        "print(x, y, z)"
      ],
      "execution_count": null,
      "outputs": [
        {
          "output_type": "stream",
          "text": [
            "five 5 True\n"
          ],
          "name": "stdout"
        }
      ]
    },
    {
      "cell_type": "code",
      "metadata": {
        "id": "wpXAPH1v5Y08"
      },
      "source": [
        "(monday, tuesday, wednesday, thursday, friday, saturday, sunday) = tuple(range(1,8))"
      ],
      "execution_count": null,
      "outputs": []
    },
    {
      "cell_type": "code",
      "metadata": {
        "colab": {
          "base_uri": "https://localhost:8080/"
        },
        "id": "Wj6NZ8Eo5vbU",
        "outputId": "7a956642-21f8-4856-fb62-52f141e34740"
      },
      "source": [
        "sunday"
      ],
      "execution_count": null,
      "outputs": [
        {
          "output_type": "execute_result",
          "data": {
            "text/plain": [
              "7"
            ]
          },
          "metadata": {
            "tags": []
          },
          "execution_count": 29
        }
      ]
    },
    {
      "cell_type": "code",
      "metadata": {
        "colab": {
          "base_uri": "https://localhost:8080/"
        },
        "id": "3i-iXciA6Rym",
        "outputId": "f77a6749-bb54-49e8-9fd6-89a6eb04fda9"
      },
      "source": [
        "print([1, 2, 3, 4] + [\"11\", \"22\", 33])"
      ],
      "execution_count": null,
      "outputs": [
        {
          "output_type": "stream",
          "text": [
            "[1, 2, 3, 4, '11', '22', 33]\n"
          ],
          "name": "stdout"
        }
      ]
    },
    {
      "cell_type": "code",
      "metadata": {
        "id": "izRi9zFm64Mx"
      },
      "source": [
        "tt = (1,2, [1,3,5])"
      ],
      "execution_count": null,
      "outputs": []
    },
    {
      "cell_type": "code",
      "metadata": {
        "id": "TTr3ueLc7Sdb"
      },
      "source": [
        "tt[2].append(4)"
      ],
      "execution_count": null,
      "outputs": []
    },
    {
      "cell_type": "code",
      "metadata": {
        "colab": {
          "base_uri": "https://localhost:8080/"
        },
        "id": "CRWwcr2B7jct",
        "outputId": "6441eaf2-ed60-4d44-fd4e-d7747aa7020a"
      },
      "source": [
        "tt"
      ],
      "execution_count": null,
      "outputs": [
        {
          "output_type": "execute_result",
          "data": {
            "text/plain": [
              "(1, 2, [1, 3, 5, 4])"
            ]
          },
          "metadata": {
            "tags": []
          },
          "execution_count": 34
        }
      ]
    },
    {
      "cell_type": "code",
      "metadata": {
        "id": "-KUnM82e7ofP"
      },
      "source": [
        "x, y = (10, 20)"
      ],
      "execution_count": null,
      "outputs": []
    },
    {
      "cell_type": "code",
      "metadata": {
        "colab": {
          "base_uri": "https://localhost:8080/"
        },
        "id": "ylbGmzYk7vEn",
        "outputId": "a7d04e37-04cd-43ca-9f4f-6e9ac4cdbfbc"
      },
      "source": [
        "print(x)\n",
        "print(y)"
      ],
      "execution_count": null,
      "outputs": [
        {
          "output_type": "stream",
          "text": [
            "10\n",
            "20\n"
          ],
          "name": "stdout"
        }
      ]
    },
    {
      "cell_type": "code",
      "metadata": {
        "id": "Jbf1T9s38UYX"
      },
      "source": [
        "a, _, b, _ = (10, 20, 30, 40)"
      ],
      "execution_count": null,
      "outputs": []
    },
    {
      "cell_type": "code",
      "metadata": {
        "colab": {
          "base_uri": "https://localhost:8080/"
        },
        "id": "JXwXMF2M8glE",
        "outputId": "cbc636c7-783d-4dc1-a729-73a1f6b03751"
      },
      "source": [
        "print(a, b)"
      ],
      "execution_count": null,
      "outputs": [
        {
          "output_type": "stream",
          "text": [
            "10 30\n"
          ],
          "name": "stdout"
        }
      ]
    },
    {
      "cell_type": "code",
      "metadata": {
        "id": "4ve_npbT8nX_"
      },
      "source": [
        "x, y, *z = (11, 22, 33, 44, 55, 66)"
      ],
      "execution_count": null,
      "outputs": []
    },
    {
      "cell_type": "code",
      "metadata": {
        "colab": {
          "base_uri": "https://localhost:8080/"
        },
        "id": "cNtvyUDj9N4p",
        "outputId": "b5d335f9-0cc6-4448-e924-93b484498db4"
      },
      "source": [
        "print(x)"
      ],
      "execution_count": null,
      "outputs": [
        {
          "output_type": "stream",
          "text": [
            "11\n"
          ],
          "name": "stdout"
        }
      ]
    },
    {
      "cell_type": "code",
      "metadata": {
        "colab": {
          "base_uri": "https://localhost:8080/"
        },
        "id": "-xIOKj8x9RCX",
        "outputId": "392a117e-bbdf-4c35-d1b3-7ecd758709dd"
      },
      "source": [
        "print(y)"
      ],
      "execution_count": null,
      "outputs": [
        {
          "output_type": "stream",
          "text": [
            "22\n"
          ],
          "name": "stdout"
        }
      ]
    },
    {
      "cell_type": "code",
      "metadata": {
        "colab": {
          "base_uri": "https://localhost:8080/"
        },
        "id": "1F_F-JUG9Syi",
        "outputId": "4309f6f4-2fcf-4cfb-fcb8-9815a74b3418"
      },
      "source": [
        "print(z)"
      ],
      "execution_count": null,
      "outputs": [
        {
          "output_type": "stream",
          "text": [
            "[33, 44, 55, 66]\n"
          ],
          "name": "stdout"
        }
      ]
    },
    {
      "cell_type": "code",
      "metadata": {
        "id": "yP8OGNyu9lw6"
      },
      "source": [
        "x, y, *_ = (11, 22, 33, 44, 55, 66)"
      ],
      "execution_count": null,
      "outputs": []
    },
    {
      "cell_type": "code",
      "metadata": {
        "id": "t7AGWTO19q7O"
      },
      "source": [
        "x, y, *z, t =(11, 22, 33, 44, 55, 66, 77)"
      ],
      "execution_count": null,
      "outputs": []
    },
    {
      "cell_type": "code",
      "metadata": {
        "colab": {
          "base_uri": "https://localhost:8080/"
        },
        "id": "dX3nmfqC98E6",
        "outputId": "ed71f16a-23f7-48c3-b393-230fd452f25b"
      },
      "source": [
        "print(t)"
      ],
      "execution_count": null,
      "outputs": [
        {
          "output_type": "stream",
          "text": [
            "77\n"
          ],
          "name": "stdout"
        }
      ]
    },
    {
      "cell_type": "code",
      "metadata": {
        "id": "13fheErj9_pg"
      },
      "source": [
        "x, y, *_, t, w = (11, 22, 33, 44, 55, 66, 77, 88)"
      ],
      "execution_count": null,
      "outputs": []
    },
    {
      "cell_type": "code",
      "metadata": {
        "colab": {
          "base_uri": "https://localhost:8080/"
        },
        "id": "krjsBkKV-ZD-",
        "outputId": "ca99df8c-6016-4b57-8219-259c209dc4e7"
      },
      "source": [
        "print(t)"
      ],
      "execution_count": null,
      "outputs": [
        {
          "output_type": "stream",
          "text": [
            "77\n"
          ],
          "name": "stdout"
        }
      ]
    },
    {
      "cell_type": "code",
      "metadata": {
        "id": "v0abYtCA-4Yi"
      },
      "source": [
        "isimler = {\"ali\" : 33,\n",
        "           \"veli\" : 44,\n",
        "           \"ayşe\" : 2\n",
        "           }"
      ],
      "execution_count": null,
      "outputs": []
    },
    {
      "cell_type": "code",
      "metadata": {
        "colab": {
          "base_uri": "https://localhost:8080/",
          "height": 129
        },
        "id": "83q_lHLyMK18",
        "outputId": "5fb60471-3770-4d53-8134-31b582858b0b"
      },
      "source": [
        "for a, b in isimler.items():"
      ],
      "execution_count": null,
      "outputs": [
        {
          "output_type": "error",
          "ename": "SyntaxError",
          "evalue": "ignored",
          "traceback": [
            "\u001b[0;36m  File \u001b[0;32m\"<ipython-input-71-c3f9ef7821a3>\"\u001b[0;36m, line \u001b[0;32m1\u001b[0m\n\u001b[0;31m    for a, b in isimler.items():\u001b[0m\n\u001b[0m                                ^\u001b[0m\n\u001b[0;31mSyntaxError\u001b[0m\u001b[0;31m:\u001b[0m unexpected EOF while parsing\n"
          ]
        }
      ]
    },
    {
      "cell_type": "code",
      "metadata": {
        "colab": {
          "base_uri": "https://localhost:8080/"
        },
        "id": "O5-AvElI__e0",
        "outputId": "25da1d9f-141c-4d58-abcf-67f2054f7256"
      },
      "source": [
        "isimler.items()"
      ],
      "execution_count": null,
      "outputs": [
        {
          "output_type": "execute_result",
          "data": {
            "text/plain": [
              "dict_items([('ali', 33), ('veli', 44), ('ayşe', 2)])"
            ]
          },
          "metadata": {
            "tags": []
          },
          "execution_count": 64
        }
      ]
    },
    {
      "cell_type": "code",
      "metadata": {
        "colab": {
          "base_uri": "https://localhost:8080/",
          "height": 129
        },
        "id": "lYJbcPRaJLJA",
        "outputId": "be3ec905-4e2f-43ec-90f0-feb840594590"
      },
      "source": [
        "for a, b in isimler.items():"
      ],
      "execution_count": null,
      "outputs": [
        {
          "output_type": "error",
          "ename": "SyntaxError",
          "evalue": "ignored",
          "traceback": [
            "\u001b[0;36m  File \u001b[0;32m\"<ipython-input-67-e210a1cfd544>\"\u001b[0;36m, line \u001b[0;32m1\u001b[0m\n\u001b[0;31m    for a, b in isimler.items:\u001b[0m\n\u001b[0m                              ^\u001b[0m\n\u001b[0;31mSyntaxError\u001b[0m\u001b[0;31m:\u001b[0m unexpected EOF while parsing\n"
          ]
        }
      ]
    },
    {
      "cell_type": "code",
      "metadata": {
        "colab": {
          "base_uri": "https://localhost:8080/"
        },
        "id": "EVe8rMaSKKfZ",
        "outputId": "cb659a67-0d9d-4bb7-f33e-d9605cba511d"
      },
      "source": [
        "sayı = int(input(\"çarpacağın sayı gir 1-10:\"))\n",
        "for i in range(11):\n",
        "  print(\"{}x{} = \".format(sayı, i), sayı * i)\n",
        "  "
      ],
      "execution_count": null,
      "outputs": [
        {
          "output_type": "stream",
          "text": [
            "çarpacağın sayı gir 1-10:3\n",
            "3x0 =  0\n",
            "3x1 =  3\n",
            "3x2 =  6\n",
            "3x3 =  9\n",
            "3x4 =  12\n",
            "3x5 =  15\n",
            "3x6 =  18\n",
            "3x7 =  21\n",
            "3x8 =  24\n",
            "3x9 =  27\n",
            "3x10 =  30\n"
          ],
          "name": "stdout"
        }
      ]
    },
    {
      "cell_type": "code",
      "metadata": {
        "id": "kKDsv85xKs7i"
      },
      "source": [
        "seq = range(5)"
      ],
      "execution_count": null,
      "outputs": []
    },
    {
      "cell_type": "code",
      "metadata": {
        "colab": {
          "base_uri": "https://localhost:8080/"
        },
        "id": "1S6Jfb2uNMER",
        "outputId": "e2fadcf1-aaaa-494a-943c-84caee1e7824"
      },
      "source": [
        "for i in seq:\n",
        "  print(i)"
      ],
      "execution_count": null,
      "outputs": [
        {
          "output_type": "stream",
          "text": [
            "0\n",
            "1\n",
            "2\n",
            "3\n",
            "4\n"
          ],
          "name": "stdout"
        }
      ]
    },
    {
      "cell_type": "code",
      "metadata": {
        "colab": {
          "base_uri": "https://localhost:8080/"
        },
        "id": "D3guKOr9Nke-",
        "outputId": "57c43503-c0f5-4a4c-deeb-f829d0188a1e"
      },
      "source": [
        "print(list(seq))"
      ],
      "execution_count": null,
      "outputs": [
        {
          "output_type": "stream",
          "text": [
            "[0, 1, 2, 3, 4]\n"
          ],
          "name": "stdout"
        }
      ]
    },
    {
      "cell_type": "code",
      "metadata": {
        "colab": {
          "base_uri": "https://localhost:8080/"
        },
        "id": "zlMNF3ZVNvUS",
        "outputId": "84db317a-78dd-4ff8-95d7-f2eba3c526ca"
      },
      "source": [
        "print(tuple(seq))"
      ],
      "execution_count": null,
      "outputs": [
        {
          "output_type": "stream",
          "text": [
            "(0, 1, 2, 3, 4)\n"
          ],
          "name": "stdout"
        }
      ]
    },
    {
      "cell_type": "code",
      "metadata": {
        "colab": {
          "base_uri": "https://localhost:8080/"
        },
        "id": "qDZlPw7QN1wX",
        "outputId": "24991b81-a584-47f5-db8c-cf1ec1f103ed"
      },
      "source": [
        "print(*seq)"
      ],
      "execution_count": null,
      "outputs": [
        {
          "output_type": "stream",
          "text": [
            "0 1 2 3 4\n"
          ],
          "name": "stdout"
        }
      ]
    },
    {
      "cell_type": "code",
      "metadata": {
        "colab": {
          "base_uri": "https://localhost:8080/"
        },
        "id": "4ZqwZ5uwN4Ih",
        "outputId": "6167d2c0-815e-498b-da22-941e3e6880bf"
      },
      "source": [
        "seq"
      ],
      "execution_count": null,
      "outputs": [
        {
          "output_type": "execute_result",
          "data": {
            "text/plain": [
              "range(0, 5)"
            ]
          },
          "metadata": {
            "tags": []
          },
          "execution_count": 81
        }
      ]
    },
    {
      "cell_type": "code",
      "metadata": {
        "colab": {
          "base_uri": "https://localhost:8080/"
        },
        "id": "w2GBxyjfN9-0",
        "outputId": "8904edb5-c8f6-4b22-f585-eb9d17f23db1"
      },
      "source": [
        "a = set(range(0,10))\n",
        "print(a)"
      ],
      "execution_count": null,
      "outputs": [
        {
          "output_type": "stream",
          "text": [
            "{0, 1, 2, 3, 4, 5, 6, 7, 8, 9}\n"
          ],
          "name": "stdout"
        }
      ]
    },
    {
      "cell_type": "code",
      "metadata": {
        "colab": {
          "base_uri": "https://localhost:8080/"
        },
        "id": "MVhPjHwxOKli",
        "outputId": "68e43a97-a560-4223-f489-6edbfea5c948"
      },
      "source": [
        "print(* \"separate\")"
      ],
      "execution_count": null,
      "outputs": [
        {
          "output_type": "stream",
          "text": [
            "s e p a r a t e\n"
          ],
          "name": "stdout"
        }
      ]
    },
    {
      "cell_type": "code",
      "metadata": {
        "id": "342FAgUnO12X"
      },
      "source": [
        "isimler= [\"tarık\", \"sevda\", \"selim\"]\n",
        "yaşlar= [11, 22, 33]"
      ],
      "execution_count": null,
      "outputs": []
    },
    {
      "cell_type": "code",
      "metadata": {
        "colab": {
          "base_uri": "https://localhost:8080/"
        },
        "id": "erOxNGGrQ0hv",
        "outputId": "18cccb37-cb55-4ce7-c743-0fc5f7349085"
      },
      "source": [
        "zip(isimler, yaşlar)"
      ],
      "execution_count": null,
      "outputs": [
        {
          "output_type": "execute_result",
          "data": {
            "text/plain": [
              "<zip at 0x7f905a6f2910>"
            ]
          },
          "metadata": {
            "tags": []
          },
          "execution_count": 90
        }
      ]
    },
    {
      "cell_type": "code",
      "metadata": {
        "colab": {
          "base_uri": "https://localhost:8080/"
        },
        "id": "asOKUpXOQ5gd",
        "outputId": "8bf9bd39-799a-4099-b5e0-57cc5c59a5da"
      },
      "source": [
        "tuple(zip(isimler, yaşlar))"
      ],
      "execution_count": null,
      "outputs": [
        {
          "output_type": "execute_result",
          "data": {
            "text/plain": [
              "(('tarık', 11), ('sevda', 22), ('selim', 33))"
            ]
          },
          "metadata": {
            "tags": []
          },
          "execution_count": 91
        }
      ]
    },
    {
      "cell_type": "code",
      "metadata": {
        "id": "TXPSyzMrRCAK"
      },
      "source": [
        "xx = zip(isimler, yaşlar)"
      ],
      "execution_count": null,
      "outputs": []
    },
    {
      "cell_type": "code",
      "metadata": {
        "colab": {
          "base_uri": "https://localhost:8080/"
        },
        "id": "a3mXIk5WR_wp",
        "outputId": "13944ff6-cd4d-419e-a7ba-4bf9a16b1d19"
      },
      "source": [
        "print(list(xx))"
      ],
      "execution_count": null,
      "outputs": [
        {
          "output_type": "stream",
          "text": [
            "[]\n"
          ],
          "name": "stdout"
        }
      ]
    },
    {
      "cell_type": "code",
      "metadata": {
        "colab": {
          "base_uri": "https://localhost:8080/"
        },
        "id": "fv0nzTSlSB49",
        "outputId": "6a9cb591-71ec-40f6-832a-22263f8472b3"
      },
      "source": [
        "for isimler, yaşlar in xx :\n",
        "  print(isimler, yaşlar)"
      ],
      "execution_count": null,
      "outputs": [
        {
          "output_type": "stream",
          "text": [
            "tarık 11\n",
            "sevda 22\n",
            "selim 33\n"
          ],
          "name": "stdout"
        }
      ]
    },
    {
      "cell_type": "code",
      "metadata": {
        "colab": {
          "base_uri": "https://localhost:8080/"
        },
        "id": "O0NA-Qw4vpV5",
        "outputId": "f038a0e7-81c7-4a07-b2bc-713bbfcbd9eb"
      },
      "source": [
        "saved_amount = int(input('Please enter your saved amount: '))\n",
        "ps4_price = 200\n",
        "if saved_amount <= ps4_price/2:\n",
        "  print(\"You must save more, keep saving!\")\n",
        "elif saved_amount >= ps4_price:\n",
        "  print(\"Yippee! You can buy your PS4\")\n",
        "else:\n",
        "  saved_amount >= ps4_price/2\n",
        "  print(\"You saved more than half, keep saving!\")\n",
        "  "
      ],
      "execution_count": null,
      "outputs": [
        {
          "output_type": "stream",
          "text": [
            "Please enter your saved amount: 105\n",
            "You saved more than half, keep saving!\n"
          ],
          "name": "stdout"
        }
      ]
    },
    {
      "cell_type": "code",
      "metadata": {
        "colab": {
          "base_uri": "https://localhost:8080/"
        },
        "id": "28sFuOaaxZaQ",
        "outputId": "e3822e6d-9128-4aa6-c96d-ee22d582717e"
      },
      "source": [
        "math_mark = int(input('Please enter the mark: '))\n",
        "if math_mark >= 85:\n",
        "  print(\"A (Excellent)\")\n",
        "elif math_mark >=70:\n",
        "  print(\"B (Good)\")\n",
        "elif math_mark >= 60:\n",
        "  print(\"C (Medium)\")\n",
        "elif math_mark >= 45:\n",
        "  print(\"D (Not Bad\")\n",
        "else:\n",
        "  print(\"F (Failed)\")"
      ],
      "execution_count": null,
      "outputs": [
        {
          "output_type": "stream",
          "text": [
            "Please enter the mark: 75\n",
            "B (Good)\n"
          ],
          "name": "stdout"
        }
      ]
    },
    {
      "cell_type": "code",
      "metadata": {
        "colab": {
          "base_uri": "https://localhost:8080/"
        },
        "id": "4gAkuAlK8Yzk",
        "outputId": "2d7fb2be-9281-4176-891c-350d18434ea0"
      },
      "source": [
        "sample_list = [{\"section\":5, \"topic\":2}, 'clarusway', [1, 4], 2020, 3.14, 1+618j, False, (10, 20)]\n",
        "for i in sample_list:\n",
        "  print(\"The type of\", i, \"is\", type(i))"
      ],
      "execution_count": null,
      "outputs": [
        {
          "output_type": "stream",
          "text": [
            "The type of {'section': 5, 'topic': 2} is <class 'dict'>\n",
            "The type of clarusway is <class 'str'>\n",
            "The type of [1, 4] is <class 'list'>\n",
            "The type of 2020 is <class 'int'>\n",
            "The type of 3.14 is <class 'float'>\n",
            "The type of (1+618j) is <class 'complex'>\n",
            "The type of False is <class 'bool'>\n",
            "The type of (10, 20) is <class 'tuple'>\n"
          ],
          "name": "stdout"
        }
      ]
    },
    {
      "cell_type": "code",
      "metadata": {
        "colab": {
          "base_uri": "https://localhost:8080/"
        },
        "id": "eGE0oDJvCRmn",
        "outputId": "f05aab08-86cc-429f-9665-c08bf043b77f"
      },
      "source": [
        "weekdays = ['Monday', 'Tuesday', 'Wednesday', 'Thursday', 'Friday']\n",
        "for day in range(len(weekdays)):\n",
        "  print('Day', day+1, ':', weekdays[day])\n"
      ],
      "execution_count": null,
      "outputs": [
        {
          "output_type": "stream",
          "text": [
            "Day 1 : Monday\n",
            "Day 2 : Tuesday\n",
            "Day 3 : Wednesday\n",
            "Day 4 : Thursday\n",
            "Day 5 : Friday\n"
          ],
          "name": "stdout"
        }
      ]
    },
    {
      "cell_type": "code",
      "metadata": {
        "colab": {
          "base_uri": "https://localhost:8080/"
        },
        "id": "TQRCGARiH0W-",
        "outputId": "cf672efa-ee3b-4f63-e00d-136a61daf3c4"
      },
      "source": [
        "range(len(weekdays))"
      ],
      "execution_count": null,
      "outputs": [
        {
          "output_type": "execute_result",
          "data": {
            "text/plain": [
              "range(0, 5)"
            ]
          },
          "metadata": {
            "tags": []
          },
          "execution_count": 41
        }
      ]
    },
    {
      "cell_type": "code",
      "metadata": {
        "colab": {
          "base_uri": "https://localhost:8080/"
        },
        "id": "m5nsxTmjC3Y0",
        "outputId": "3dda4c2d-9084-4921-8284-361d877aa906"
      },
      "source": [
        "number = int(input('Please enter a number: '))\n",
        "\n",
        "count = 0\n",
        "\n",
        "while count < number:\n",
        "    print(count**2)\n",
        "    count += 1\n"
      ],
      "execution_count": null,
      "outputs": [
        {
          "output_type": "stream",
          "text": [
            "Please enter a number: 3\n",
            "0\n",
            "1\n",
            "4\n"
          ],
          "name": "stdout"
        }
      ]
    },
    {
      "cell_type": "code",
      "metadata": {
        "colab": {
          "base_uri": "https://localhost:8080/"
        },
        "id": "mHFpXGaQa3hB",
        "outputId": "77517490-1cc3-4aba-d468-0bcdb33dd5bf"
      },
      "source": [
        "name = input(\"enter your name:\")\n",
        "if name == \"Joseph\":\n",
        "  print(\"Hello, name! The password is : W@12\")\n",
        "else:\n",
        "  print(\"Hello, name! See you later.\")"
      ],
      "execution_count": null,
      "outputs": [
        {
          "output_type": "stream",
          "text": [
            "enter your name:Mahmut\n",
            "Hello, name! See you later.\n"
          ],
          "name": "stdout"
        }
      ]
    },
    {
      "cell_type": "code",
      "metadata": {
        "id": "uRijKEkPcOCz",
        "colab": {
          "base_uri": "https://localhost:8080/"
        },
        "outputId": "143f4f9f-ea82-411e-d604-4f9f8df343eb"
      },
      "source": [
        "age = (input(\"Are you a cigarette addict older than 75 years old?(Yes/No)\"))\n",
        "chronic = (input(\"Do you have a severe chronic disease?(Yes/No)\"))\n",
        "immune = (input(\"Is your immune system too weak?(Yes/No)\"))\n",
        "age = age.lower()\n",
        "chronic = chronic.lower()\n",
        "immune = immune.lower()\n",
        "if age == \"yes\":\n",
        "  age = True\n",
        "else:\n",
        "  age = False\n",
        "if chronic == \"yes\":\n",
        "  chronic = True\n",
        "else:\n",
        "  chronic = False\n",
        "if immune == \"yes\":\n",
        "  immune = True\n",
        "else:\n",
        "  immune = False\n",
        "risk = age or chronic or immune\n",
        "print(\"Risk:\", risk)\n"
      ],
      "execution_count": null,
      "outputs": [
        {
          "output_type": "stream",
          "text": [
            "Are you a cigarette addict older than 75 years old?(Yes/No)YES\n",
            "Do you have a severe chronic disease?(Yes/No)YES\n",
            "Is your immune system too weak?(Yes/No)YES\n",
            "Risk: True\n"
          ],
          "name": "stdout"
        }
      ]
    },
    {
      "cell_type": "code",
      "metadata": {
        "colab": {
          "base_uri": "https://localhost:8080/",
          "height": 527
        },
        "id": "FldLd4oqi6mD",
        "outputId": "a4359cd1-e801-45db-c2ad-c34631bb8660"
      },
      "source": [
        "age = (input(\"Are you a cigarette addict older than 75 years old?(Yes/No):\"))\n",
        "age = age.lower()\n",
        "print(age)"
      ],
      "execution_count": null,
      "outputs": [
        {
          "output_type": "error",
          "ename": "KeyboardInterrupt",
          "evalue": "ignored",
          "traceback": [
            "\u001b[0;31m---------------------------------------------------------------------------\u001b[0m",
            "\u001b[0;31mKeyboardInterrupt\u001b[0m                         Traceback (most recent call last)",
            "\u001b[0;32m/usr/local/lib/python3.7/dist-packages/ipykernel/kernelbase.py\u001b[0m in \u001b[0;36m_input_request\u001b[0;34m(self, prompt, ident, parent, password)\u001b[0m\n\u001b[1;32m    728\u001b[0m             \u001b[0;32mtry\u001b[0m\u001b[0;34m:\u001b[0m\u001b[0;34m\u001b[0m\u001b[0;34m\u001b[0m\u001b[0m\n\u001b[0;32m--> 729\u001b[0;31m                 \u001b[0mident\u001b[0m\u001b[0;34m,\u001b[0m \u001b[0mreply\u001b[0m \u001b[0;34m=\u001b[0m \u001b[0mself\u001b[0m\u001b[0;34m.\u001b[0m\u001b[0msession\u001b[0m\u001b[0;34m.\u001b[0m\u001b[0mrecv\u001b[0m\u001b[0;34m(\u001b[0m\u001b[0mself\u001b[0m\u001b[0;34m.\u001b[0m\u001b[0mstdin_socket\u001b[0m\u001b[0;34m,\u001b[0m \u001b[0;36m0\u001b[0m\u001b[0;34m)\u001b[0m\u001b[0;34m\u001b[0m\u001b[0;34m\u001b[0m\u001b[0m\n\u001b[0m\u001b[1;32m    730\u001b[0m             \u001b[0;32mexcept\u001b[0m \u001b[0mException\u001b[0m\u001b[0;34m:\u001b[0m\u001b[0;34m\u001b[0m\u001b[0;34m\u001b[0m\u001b[0m\n",
            "\u001b[0;32m/usr/local/lib/python3.7/dist-packages/jupyter_client/session.py\u001b[0m in \u001b[0;36mrecv\u001b[0;34m(self, socket, mode, content, copy)\u001b[0m\n\u001b[1;32m    802\u001b[0m         \u001b[0;32mtry\u001b[0m\u001b[0;34m:\u001b[0m\u001b[0;34m\u001b[0m\u001b[0;34m\u001b[0m\u001b[0m\n\u001b[0;32m--> 803\u001b[0;31m             \u001b[0mmsg_list\u001b[0m \u001b[0;34m=\u001b[0m \u001b[0msocket\u001b[0m\u001b[0;34m.\u001b[0m\u001b[0mrecv_multipart\u001b[0m\u001b[0;34m(\u001b[0m\u001b[0mmode\u001b[0m\u001b[0;34m,\u001b[0m \u001b[0mcopy\u001b[0m\u001b[0;34m=\u001b[0m\u001b[0mcopy\u001b[0m\u001b[0;34m)\u001b[0m\u001b[0;34m\u001b[0m\u001b[0;34m\u001b[0m\u001b[0m\n\u001b[0m\u001b[1;32m    804\u001b[0m         \u001b[0;32mexcept\u001b[0m \u001b[0mzmq\u001b[0m\u001b[0;34m.\u001b[0m\u001b[0mZMQError\u001b[0m \u001b[0;32mas\u001b[0m \u001b[0me\u001b[0m\u001b[0;34m:\u001b[0m\u001b[0;34m\u001b[0m\u001b[0;34m\u001b[0m\u001b[0m\n",
            "\u001b[0;32m/usr/local/lib/python3.7/dist-packages/zmq/sugar/socket.py\u001b[0m in \u001b[0;36mrecv_multipart\u001b[0;34m(self, flags, copy, track)\u001b[0m\n\u001b[1;32m    582\u001b[0m         \"\"\"\n\u001b[0;32m--> 583\u001b[0;31m         \u001b[0mparts\u001b[0m \u001b[0;34m=\u001b[0m \u001b[0;34m[\u001b[0m\u001b[0mself\u001b[0m\u001b[0;34m.\u001b[0m\u001b[0mrecv\u001b[0m\u001b[0;34m(\u001b[0m\u001b[0mflags\u001b[0m\u001b[0;34m,\u001b[0m \u001b[0mcopy\u001b[0m\u001b[0;34m=\u001b[0m\u001b[0mcopy\u001b[0m\u001b[0;34m,\u001b[0m \u001b[0mtrack\u001b[0m\u001b[0;34m=\u001b[0m\u001b[0mtrack\u001b[0m\u001b[0;34m)\u001b[0m\u001b[0;34m]\u001b[0m\u001b[0;34m\u001b[0m\u001b[0;34m\u001b[0m\u001b[0m\n\u001b[0m\u001b[1;32m    584\u001b[0m         \u001b[0;31m# have first part already, only loop while more to receive\u001b[0m\u001b[0;34m\u001b[0m\u001b[0;34m\u001b[0m\u001b[0;34m\u001b[0m\u001b[0m\n",
            "\u001b[0;32mzmq/backend/cython/socket.pyx\u001b[0m in \u001b[0;36mzmq.backend.cython.socket.Socket.recv\u001b[0;34m()\u001b[0m\n",
            "\u001b[0;32mzmq/backend/cython/socket.pyx\u001b[0m in \u001b[0;36mzmq.backend.cython.socket.Socket.recv\u001b[0;34m()\u001b[0m\n",
            "\u001b[0;32mzmq/backend/cython/socket.pyx\u001b[0m in \u001b[0;36mzmq.backend.cython.socket._recv_copy\u001b[0;34m()\u001b[0m\n",
            "\u001b[0;32m/usr/local/lib/python3.7/dist-packages/zmq/backend/cython/checkrc.pxd\u001b[0m in \u001b[0;36mzmq.backend.cython.checkrc._check_rc\u001b[0;34m()\u001b[0m\n",
            "\u001b[0;31mKeyboardInterrupt\u001b[0m: ",
            "\nDuring handling of the above exception, another exception occurred:\n",
            "\u001b[0;31mKeyboardInterrupt\u001b[0m                         Traceback (most recent call last)",
            "\u001b[0;32m<ipython-input-89-13bcff0d1d89>\u001b[0m in \u001b[0;36m<module>\u001b[0;34m()\u001b[0m\n\u001b[0;32m----> 1\u001b[0;31m \u001b[0mage\u001b[0m \u001b[0;34m=\u001b[0m \u001b[0;34m(\u001b[0m\u001b[0minput\u001b[0m\u001b[0;34m(\u001b[0m\u001b[0;34m\"Are you a cigarette addict older than 75 years old?(Yes/No):\"\u001b[0m\u001b[0;34m)\u001b[0m\u001b[0;34m)\u001b[0m\u001b[0;34m\u001b[0m\u001b[0;34m\u001b[0m\u001b[0m\n\u001b[0m\u001b[1;32m      2\u001b[0m \u001b[0mage\u001b[0m \u001b[0;34m=\u001b[0m \u001b[0mage\u001b[0m\u001b[0;34m.\u001b[0m\u001b[0mlower\u001b[0m\u001b[0;34m(\u001b[0m\u001b[0;34m)\u001b[0m\u001b[0;34m\u001b[0m\u001b[0;34m\u001b[0m\u001b[0m\n\u001b[1;32m      3\u001b[0m \u001b[0mprint\u001b[0m\u001b[0;34m(\u001b[0m\u001b[0mage\u001b[0m\u001b[0;34m)\u001b[0m\u001b[0;34m\u001b[0m\u001b[0;34m\u001b[0m\u001b[0m\n",
            "\u001b[0;32m/usr/local/lib/python3.7/dist-packages/ipykernel/kernelbase.py\u001b[0m in \u001b[0;36mraw_input\u001b[0;34m(self, prompt)\u001b[0m\n\u001b[1;32m    702\u001b[0m             \u001b[0mself\u001b[0m\u001b[0;34m.\u001b[0m\u001b[0m_parent_ident\u001b[0m\u001b[0;34m,\u001b[0m\u001b[0;34m\u001b[0m\u001b[0;34m\u001b[0m\u001b[0m\n\u001b[1;32m    703\u001b[0m             \u001b[0mself\u001b[0m\u001b[0;34m.\u001b[0m\u001b[0m_parent_header\u001b[0m\u001b[0;34m,\u001b[0m\u001b[0;34m\u001b[0m\u001b[0;34m\u001b[0m\u001b[0m\n\u001b[0;32m--> 704\u001b[0;31m             \u001b[0mpassword\u001b[0m\u001b[0;34m=\u001b[0m\u001b[0;32mFalse\u001b[0m\u001b[0;34m,\u001b[0m\u001b[0;34m\u001b[0m\u001b[0;34m\u001b[0m\u001b[0m\n\u001b[0m\u001b[1;32m    705\u001b[0m         )\n\u001b[1;32m    706\u001b[0m \u001b[0;34m\u001b[0m\u001b[0m\n",
            "\u001b[0;32m/usr/local/lib/python3.7/dist-packages/ipykernel/kernelbase.py\u001b[0m in \u001b[0;36m_input_request\u001b[0;34m(self, prompt, ident, parent, password)\u001b[0m\n\u001b[1;32m    732\u001b[0m             \u001b[0;32mexcept\u001b[0m \u001b[0mKeyboardInterrupt\u001b[0m\u001b[0;34m:\u001b[0m\u001b[0;34m\u001b[0m\u001b[0;34m\u001b[0m\u001b[0m\n\u001b[1;32m    733\u001b[0m                 \u001b[0;31m# re-raise KeyboardInterrupt, to truncate traceback\u001b[0m\u001b[0;34m\u001b[0m\u001b[0;34m\u001b[0m\u001b[0;34m\u001b[0m\u001b[0m\n\u001b[0;32m--> 734\u001b[0;31m                 \u001b[0;32mraise\u001b[0m \u001b[0mKeyboardInterrupt\u001b[0m\u001b[0;34m\u001b[0m\u001b[0;34m\u001b[0m\u001b[0m\n\u001b[0m\u001b[1;32m    735\u001b[0m             \u001b[0;32melse\u001b[0m\u001b[0;34m:\u001b[0m\u001b[0;34m\u001b[0m\u001b[0;34m\u001b[0m\u001b[0m\n\u001b[1;32m    736\u001b[0m                 \u001b[0;32mbreak\u001b[0m\u001b[0;34m\u001b[0m\u001b[0;34m\u001b[0m\u001b[0m\n",
            "\u001b[0;31mKeyboardInterrupt\u001b[0m: "
          ]
        }
      ]
    },
    {
      "cell_type": "code",
      "metadata": {
        "colab": {
          "base_uri": "https://localhost:8080/"
        },
        "id": "PiEnD65LqhcT",
        "outputId": "d7c1afea-75b7-47c4-e919-1f784e560de7"
      },
      "source": [
        "age = (input(\"Are you a cigarette addict older than 75 years old?(Yes/No)\"))\n",
        "age = age.lower()\n",
        "if age == \"yes\":\n",
        "  age = True\n",
        "else:\n",
        "  age = False\n",
        "print(age)"
      ],
      "execution_count": null,
      "outputs": [
        {
          "output_type": "stream",
          "text": [
            "Are you a cigarette addict older than 75 years old?(Yes/No)Yes\n",
            "True\n"
          ],
          "name": "stdout"
        }
      ]
    },
    {
      "cell_type": "code",
      "metadata": {
        "colab": {
          "base_uri": "https://localhost:8080/"
        },
        "id": "lLJ89ga7n0qo",
        "outputId": "5e7f0551-1860-499f-a07d-3608fd85bbd2"
      },
      "source": [
        "age = input(\"Are you a cigarette addict older than 75 years old? Y/N:\")\n",
        "if age == \"N\":\n",
        "  age = False\n",
        "elif age == \"n\":\n",
        "  age = False\n",
        "else:\n",
        "  age = True\n",
        "chronic = input(\"Do you have a severe chronic disease? Y/N:\")\n",
        "if chronic == \"N\":\n",
        "  chronic = False\n",
        "elif chronic == \"n\":\n",
        "  chronic = False\n",
        "else:\n",
        "  chronic = True\n",
        "immune = input(\"Is your immune system too weak? Y/N:\")\n",
        "if immune == \"N\":\n",
        "  immune = False\n",
        "elif immune == \"n\":\n",
        "  immune = False\n",
        "else:\n",
        "  immune = True\n",
        "risk = age or chronic or immune\n",
        "print(\"risk =\", risk)"
      ],
      "execution_count": null,
      "outputs": [
        {
          "output_type": "stream",
          "text": [
            "Are you a cigarette addict older than 75 years old? Y/N:y\n",
            "Do you have a severe chronic disease? Y/N:y\n",
            "Is your immune system too weak? Y/N:y\n",
            "risk = True\n"
          ],
          "name": "stdout"
        }
      ]
    },
    {
      "cell_type": "code",
      "metadata": {
        "colab": {
          "base_uri": "https://localhost:8080/"
        },
        "id": "vrFkfDlYBYh1",
        "outputId": "02ec83d4-ffcc-4017-cb80-f83d70004863"
      },
      "source": [
        "a = int(input(\"How many number \"))\n",
        "values = []\n",
        "i = 1\n",
        "while i<=a:\n",
        "  values.append(input(\"value \"))\n",
        "  i+=1\n",
        "print(\"The largest number is:\", sorted(values)[a-1])\n",
        "\n",
        "\n"
      ],
      "execution_count": null,
      "outputs": [
        {
          "output_type": "stream",
          "text": [
            "How many number 5\n",
            "value 6\n",
            "value 4\n",
            "value 9\n",
            "value 2\n",
            "value 3\n",
            "The largest number is: 9\n"
          ],
          "name": "stdout"
        }
      ]
    },
    {
      "cell_type": "code",
      "metadata": {
        "id": "bUNp6w04DBsb"
      },
      "source": [
        ""
      ],
      "execution_count": null,
      "outputs": []
    },
    {
      "cell_type": "code",
      "metadata": {
        "colab": {
          "base_uri": "https://localhost:8080/"
        },
        "id": "n_F3PkP6GcQm",
        "outputId": "79b8cf00-7587-4387-d6bd-e6a374200ea3"
      },
      "source": [
        "sentence = input(\"give me a sentence :\")\n",
        "words = sentence.split()\n",
        "i = 0\n",
        "longest = 0\n",
        "while i < len(words) :\n",
        "  if len(words[i]) > longest :\n",
        "    longest = len(words[i])\n",
        "  i += 1\n",
        "print(\"the lenght og the longest word is :\", longest)\n"
      ],
      "execution_count": null,
      "outputs": [
        {
          "output_type": "stream",
          "text": [
            "give me a sentence :be bir garip öğretmenim yoktur hiç yardım eden öğrencim\n",
            "the lenght og the longest word is : 10\n"
          ],
          "name": "stdout"
        }
      ]
    },
    {
      "cell_type": "code",
      "metadata": {
        "colab": {
          "base_uri": "https://localhost:8080/"
        },
        "id": "XXpwokJtJl_U",
        "outputId": "640ba874-169a-4ef3-920d-9df47de47ef2"
      },
      "source": [
        "values = [4, 2, 3, 1]\n",
        "print(sorted(values))"
      ],
      "execution_count": null,
      "outputs": [
        {
          "output_type": "stream",
          "text": [
            "[1, 2, 3, 4]\n"
          ],
          "name": "stdout"
        }
      ]
    },
    {
      "cell_type": "code",
      "metadata": {
        "id": "Y_tvXd7XOxaR",
        "colab": {
          "base_uri": "https://localhost:8080/"
        },
        "outputId": "5dad4f7f-8e9d-44af-fb04-79d7815188cb"
      },
      "source": [
        "liste=[\"eat\", \"tea\", \"tan\", \"ate\", \"nat\", \"bat\"]\n",
        "sorted_list=[]\n",
        "sonuc=[]\n",
        "for i in liste:\n",
        "  if sorted(i) not in sorted_list:\n",
        "    sorted_list.append(sorted(i))\n",
        "for a in range(len(sorted_list)):\n",
        "  sonuc.append([i for i in liste if sorted(i)==sorted_list[a]])\n",
        "print(sonuc)"
      ],
      "execution_count": null,
      "outputs": [
        {
          "output_type": "stream",
          "text": [
            "[['eat', 'tea', 'ate'], ['tan', 'nat'], ['bat']]\n"
          ],
          "name": "stdout"
        }
      ]
    },
    {
      "cell_type": "code",
      "metadata": {
        "colab": {
          "base_uri": "https://localhost:8080/"
        },
        "id": "44OtWH0bS4ey",
        "outputId": "9aa753f0-31d1-4380-e26f-dd3d39a7cf66"
      },
      "source": [
        "liste=[\"eat\", \"tea\", \"tan\", \"ate\", \"nat\", \"bat\"]\n",
        "sorted_list=[]\n",
        "sonuc=[]\n",
        "for i in liste:\n",
        "  print(i)"
      ],
      "execution_count": null,
      "outputs": [
        {
          "output_type": "stream",
          "text": [
            "eat\n",
            "tea\n",
            "tan\n",
            "ate\n",
            "nat\n",
            "bat\n"
          ],
          "name": "stdout"
        }
      ]
    },
    {
      "cell_type": "code",
      "metadata": {
        "colab": {
          "base_uri": "https://localhost:8080/"
        },
        "id": "Hf_PSF7RUYbq",
        "outputId": "777bd9bb-df61-42a9-db83-6279fa267801"
      },
      "source": [
        "liste=[\"eat\", \"tea\", \"tan\", \"ate\", \"nat\", \"bat\"]\n",
        "sorted_list=[]\n",
        "sonuc=[]\n",
        "for i in liste:\n",
        "  print(sorted(i))"
      ],
      "execution_count": null,
      "outputs": [
        {
          "output_type": "stream",
          "text": [
            "['a', 'e', 't']\n",
            "['a', 'e', 't']\n",
            "['a', 'n', 't']\n",
            "['a', 'e', 't']\n",
            "['a', 'n', 't']\n",
            "['a', 'b', 't']\n"
          ],
          "name": "stdout"
        }
      ]
    },
    {
      "cell_type": "code",
      "metadata": {
        "colab": {
          "base_uri": "https://localhost:8080/"
        },
        "id": "6c1gXzAMS8Q9",
        "outputId": "14aefd1d-c231-428f-bf4c-31d80d83d7df"
      },
      "source": [
        "liste=[\"eat\", \"tea\", \"tan\", \"ate\", \"nat\", \"bat\"]\n",
        "sorted_list=[]\n",
        "sonuc=[]\n",
        "for i in liste:\n",
        "  if sorted(i) not in sorted_list:\n",
        "    sorted_list.append(sorted(i))\n",
        "    print(sorted_list)\n"
      ],
      "execution_count": null,
      "outputs": [
        {
          "output_type": "stream",
          "text": [
            "[['a', 'e', 't']]\n",
            "[['a', 'e', 't'], ['a', 'n', 't']]\n",
            "[['a', 'e', 't'], ['a', 'n', 't'], ['a', 'b', 't']]\n"
          ],
          "name": "stdout"
        }
      ]
    },
    {
      "cell_type": "code",
      "metadata": {
        "colab": {
          "base_uri": "https://localhost:8080/"
        },
        "id": "3o98785_Y2qe",
        "outputId": "99e643aa-eb3e-4fdc-c4d8-4097260625ae"
      },
      "source": [
        "liste=[\"eat\", \"tea\", \"tan\", \"ate\", \"nat\", \"bat\"]\n",
        "sorted_list=[]\n",
        "sonuc=[]\n",
        "for i in liste:\n",
        "  if sorted(i) not in sorted_list:\n",
        "    sorted_list.append(sorted(i))\n",
        "for a in range(len(sorted_list)):\n",
        "  sonuc.append([i for i in liste if sorted(i)==sorted_list[a]])\n",
        "print(sonuc)"
      ],
      "execution_count": null,
      "outputs": [
        {
          "output_type": "stream",
          "text": [
            "[['eat', 'tea', 'ate'], ['tan', 'nat'], ['bat']]\n"
          ],
          "name": "stdout"
        }
      ]
    },
    {
      "cell_type": "code",
      "metadata": {
        "id": "TwOk3goOr1sx",
        "colab": {
          "base_uri": "https://localhost:8080/"
        },
        "outputId": "0b3971c6-3c19-4a1b-c618-71a5931ad6d6"
      },
      "source": [
        "strs = [\"eat\", \"tea\", \"tan\", \"ate\", \"nat\", \"bat\", \"cat\", \"tac\"]\n",
        "list_c = []\n",
        "list_n = []\n",
        "list_b = []\n",
        "list_e = []\n",
        "for i in strs:\n",
        "  for j in i:\n",
        "    if j == \"c\":\n",
        "      list_c.append(i)     \n",
        "for i in strs:\n",
        "   for j in i:\n",
        "     if j == \"n\":\n",
        "       list_n.append(i)\n",
        "for i in strs:\n",
        "   for j in i:\n",
        "     if j == \"b\":\n",
        "       list_b.append(i)  \n",
        "for i in strs:\n",
        "   for j in i:\n",
        "     if j == \"e\":\n",
        "       list_e.append(i) \n",
        "last_list = [list_e, list_n, list_b, list_c]\n",
        "print(last_list)\n"
      ],
      "execution_count": null,
      "outputs": [
        {
          "output_type": "stream",
          "text": [
            "[['eat', 'tea', 'ate'], ['tan', 'nat'], ['bat'], ['cat', 'tac']]\n"
          ],
          "name": "stdout"
        }
      ]
    },
    {
      "cell_type": "code",
      "metadata": {
        "id": "NyMlzS5v3yJ1"
      },
      "source": [
        "# [['eat', 'tea', 'ate'], ['tan', 'nat'], ['bat'], ['cat', 'tac']]"
      ],
      "execution_count": null,
      "outputs": []
    },
    {
      "cell_type": "code",
      "metadata": {
        "colab": {
          "base_uri": "https://localhost:8080/"
        },
        "id": "E9UntmBeYogO",
        "outputId": "d695b3f8-6019-488d-c611-e8b85d8299e7"
      },
      "source": [
        "# -*- coding: utf-8 -*-\n",
        "\"\"\"\n",
        "Created on Sat Apr 17 19:05:41 2021\n",
        "@author: Joseph Forest\n",
        "\"\"\"\n",
        "arr = list()\n",
        "while True:\n",
        "    users = input(\"Type 'ok' when you are done: \")\n",
        "    if users == \"ok\":\n",
        "        break\n",
        "    else:\n",
        "        arr.append(int(users))\n",
        "n = len(arr)     \n",
        "# To store the maximum water\n",
        "# that can be stored\n",
        "res = 0\n",
        "print(\"bloklar\", arr)\n",
        "olasılık = [] # su tutma olasılığı olan blocklar\n",
        "# For every element of the array\n",
        "for i in range(1, n - 1) :\n",
        "    \n",
        "      \n",
        "    # Find the maximum element on its left\n",
        "    left = arr[i] \n",
        "    for j in range(i) : \n",
        "        left = max(left, arr[j])\n",
        "         \n",
        "        # Find the maximum element on its right\n",
        "        right = arr[i]\n",
        "         \n",
        "        for j in range(i + 1 , n) :\n",
        "            right = max(right, arr[j])\n",
        "             \n",
        "        # Update the maximum water\n",
        "res = res + (min(left, right) - arr[i])\n",
        "print()\n",
        "print()\n",
        "print(res)"
      ],
      "execution_count": null,
      "outputs": [
        {
          "output_type": "stream",
          "text": [
            "Type 'ok' when you are done: 5\n",
            "Type 'ok' when you are done: 4\n",
            "Type 'ok' when you are done: 5\n",
            "Type 'ok' when you are done: 4\n",
            "Type 'ok' when you are done: 5\n",
            "Type 'ok' when you are done: ok\n",
            "bloklar [5, 4, 5, 4, 5]\n",
            "\n",
            "\n",
            "1\n"
          ],
          "name": "stdout"
        }
      ]
    },
    {
      "cell_type": "code",
      "metadata": {
        "colab": {
          "base_uri": "https://localhost:8080/"
        },
        "id": "yKzEWzsrY5On",
        "outputId": "a2275477-1741-4578-b565-3b8abca21a4b"
      },
      "source": [
        "# -*- coding: utf-8 -*-\n",
        "\"\"\"\n",
        "Created on Sat Apr 17 19:05:41 2021\n",
        "@author: Joseph Forest\n",
        "\"\"\"\n",
        "arr = list()\n",
        "while True:\n",
        "    users = input(\"Type 'ok' when you are done: \")\n",
        "    if users == \"ok\":\n",
        "        break\n",
        "    else:\n",
        "        arr.append(int(users))\n",
        "n = len(arr)\n",
        "# To store the maximum water\n",
        "# that can be stored\n",
        "res = 0\n",
        "print(\"bloklar\", arr)\n",
        "olasılık = [] # su tutma olasılığı olan blocklar\n",
        "# For every element of the array\n",
        "for i in range(1, n - 1) :\n",
        "    # Find the maximum element on its left\n",
        "    left = arr[i]\n",
        "    for j in range(i) :\n",
        "        left = max(left, arr[j])\n",
        "        # Find the maximum element on its right\n",
        "        right = arr[i]\n",
        "        for j in range(i + 1 , n) :\n",
        "            right = max(right, arr[j])\n",
        "        # Update the maximum water\n",
        "res = res + (min(left, right) - arr[i])\n",
        "print()\n",
        "print()\n",
        "print(res)"
      ],
      "execution_count": null,
      "outputs": [
        {
          "output_type": "stream",
          "text": [
            "Type 'ok' when you are done: 5\n",
            "Type 'ok' when you are done: 4\n",
            "Type 'ok' when you are done: 5\n",
            "Type 'ok' when you are done: 4\n",
            "Type 'ok' when you are done: 5\n",
            "Type 'ok' when you are done: ok\n",
            "bloklar [5, 4, 5, 4, 5]\n",
            "\n",
            "\n",
            "1\n"
          ],
          "name": "stdout"
        }
      ]
    },
    {
      "cell_type": "code",
      "metadata": {
        "colab": {
          "base_uri": "https://localhost:8080/",
          "height": 248
        },
        "id": "Big0eom4xx4r",
        "outputId": "3b8fc353-4757-408d-81f6-2f6aede33481"
      },
      "source": [
        "5sayi = int(input(\"sayi giriniz:\"))\n",
        "n = 0\n",
        "for i in sayi:\n",
        "  print(sayi)"
      ],
      "execution_count": null,
      "outputs": [
        {
          "output_type": "stream",
          "text": [
            "sayi giriniz:15\n"
          ],
          "name": "stdout"
        },
        {
          "output_type": "error",
          "ename": "TypeError",
          "evalue": "ignored",
          "traceback": [
            "\u001b[0;31m---------------------------------------------------------------------------\u001b[0m",
            "\u001b[0;31mTypeError\u001b[0m                                 Traceback (most recent call last)",
            "\u001b[0;32m<ipython-input-4-5a662d8e2ea6>\u001b[0m in \u001b[0;36m<module>\u001b[0;34m()\u001b[0m\n\u001b[1;32m      1\u001b[0m \u001b[0msayi\u001b[0m \u001b[0;34m=\u001b[0m \u001b[0mint\u001b[0m\u001b[0;34m(\u001b[0m\u001b[0minput\u001b[0m\u001b[0;34m(\u001b[0m\u001b[0;34m\"sayi giriniz:\"\u001b[0m\u001b[0;34m)\u001b[0m\u001b[0;34m)\u001b[0m\u001b[0;34m\u001b[0m\u001b[0;34m\u001b[0m\u001b[0m\n\u001b[1;32m      2\u001b[0m \u001b[0mn\u001b[0m \u001b[0;34m=\u001b[0m \u001b[0;36m0\u001b[0m\u001b[0;34m\u001b[0m\u001b[0;34m\u001b[0m\u001b[0m\n\u001b[0;32m----> 3\u001b[0;31m \u001b[0mlen\u001b[0m\u001b[0;34m(\u001b[0m\u001b[0msayi\u001b[0m\u001b[0;34m)\u001b[0m\u001b[0;34m\u001b[0m\u001b[0;34m\u001b[0m\u001b[0m\n\u001b[0m\u001b[1;32m      4\u001b[0m \u001b[0;32mfor\u001b[0m \u001b[0mi\u001b[0m \u001b[0;32min\u001b[0m \u001b[0msayi\u001b[0m\u001b[0;34m:\u001b[0m\u001b[0;34m\u001b[0m\u001b[0;34m\u001b[0m\u001b[0m\n\u001b[1;32m      5\u001b[0m   \u001b[0mprint\u001b[0m\u001b[0;34m(\u001b[0m\u001b[0msayi\u001b[0m\u001b[0;34m)\u001b[0m\u001b[0;34m\u001b[0m\u001b[0;34m\u001b[0m\u001b[0m\n",
            "\u001b[0;31mTypeError\u001b[0m: object of type 'int' has no len()"
          ]
        }
      ]
    },
    {
      "cell_type": "code",
      "metadata": {
        "id": "0zHxUEIT0VC9"
      },
      "source": [
        "text = ['one','two','three','four','five']\n",
        "numbers = [1, 2, 3, 4, 5]\n",
        "city = [\"Tokyo\", \"Kiev\", \"Mekke\", \"İstanbul\", \"Washington\"]\n"
      ],
      "execution_count": null,
      "outputs": []
    },
    {
      "cell_type": "code",
      "metadata": {
        "colab": {
          "base_uri": "https://localhost:8080/"
        },
        "id": "_PyTNfvG6ry-",
        "outputId": "e2919382-0d16-486a-a23d-8896db05efd3"
      },
      "source": [
        "print(zip(text, numbers))"
      ],
      "execution_count": null,
      "outputs": [
        {
          "output_type": "stream",
          "text": [
            "<zip object at 0x7fa62064ed70>\n"
          ],
          "name": "stdout"
        }
      ]
    },
    {
      "cell_type": "code",
      "metadata": {
        "colab": {
          "base_uri": "https://localhost:8080/"
        },
        "id": "_olFDYPI67cU",
        "outputId": "53a3007f-3a59-4e0e-e57a-93da901b6cf8"
      },
      "source": [
        "list(zip(text, numbers))"
      ],
      "execution_count": null,
      "outputs": [
        {
          "output_type": "execute_result",
          "data": {
            "text/plain": [
              "[('one', 1), ('two', 2), ('three', 3), ('four', 4), ('five', 5)]"
            ]
          },
          "metadata": {
            "tags": []
          },
          "execution_count": 8
        }
      ]
    },
    {
      "cell_type": "code",
      "metadata": {
        "colab": {
          "base_uri": "https://localhost:8080/"
        },
        "id": "Z8bP2TNB7AFy",
        "outputId": "21258c36-dee8-452d-e8d1-7a924ce016b6"
      },
      "source": [
        "print(*zip(text, numbers))"
      ],
      "execution_count": null,
      "outputs": [
        {
          "output_type": "stream",
          "text": [
            "('one', 1) ('two', 2) ('three', 3) ('four', 4) ('five', 5)\n"
          ],
          "name": "stdout"
        }
      ]
    },
    {
      "cell_type": "code",
      "metadata": {
        "colab": {
          "base_uri": "https://localhost:8080/"
        },
        "id": "6QL5qB1X7H5q",
        "outputId": "2d18d4d2-6500-4469-8330-baf89a81a6ab"
      },
      "source": [
        "print(* zip(text, numbers, city))"
      ],
      "execution_count": null,
      "outputs": [
        {
          "output_type": "stream",
          "text": [
            "('one', 1, 'Tokyo') ('two', 2, 'Kiev') ('three', 3, 'Mekke') ('four', 4, 'İstanbul') ('five', 5, 'Washington')\n"
          ],
          "name": "stdout"
        }
      ]
    },
    {
      "cell_type": "code",
      "metadata": {
        "colab": {
          "base_uri": "https://localhost:8080/"
        },
        "id": "a3l9DL2c7Q42",
        "outputId": "94c70657-0eb1-4a2c-ea57-028ce8c2f8b3"
      },
      "source": [
        "range(0,10)"
      ],
      "execution_count": null,
      "outputs": [
        {
          "output_type": "execute_result",
          "data": {
            "text/plain": [
              "range(0, 10)"
            ]
          },
          "metadata": {
            "tags": []
          },
          "execution_count": 11
        }
      ]
    },
    {
      "cell_type": "code",
      "metadata": {
        "colab": {
          "base_uri": "https://localhost:8080/"
        },
        "id": "n_UrHkXA7xVN",
        "outputId": "1a2762b0-b35e-447b-ca5f-698ce33798b1"
      },
      "source": [
        "print(range)"
      ],
      "execution_count": null,
      "outputs": [
        {
          "output_type": "stream",
          "text": [
            "<class 'range'>\n"
          ],
          "name": "stdout"
        }
      ]
    },
    {
      "cell_type": "code",
      "metadata": {
        "colab": {
          "base_uri": "https://localhost:8080/"
        },
        "id": "dk_OTdSw8MVi",
        "outputId": "43518633-610d-4d17-e477-027b980d3ab5"
      },
      "source": [
        "evens = []\n",
        "odd = []\n",
        "for n in range(10):\n",
        "  if n%2 == 0 :\n",
        "    evens.append(n)\n",
        "  else:\n",
        "    odd.append(n)\n",
        "print(evens)\n",
        "print(odd)"
      ],
      "execution_count": null,
      "outputs": [
        {
          "output_type": "stream",
          "text": [
            "[0, 2, 4, 6, 8]\n",
            "[1, 3, 5, 7, 9]\n"
          ],
          "name": "stdout"
        }
      ]
    },
    {
      "cell_type": "code",
      "metadata": {
        "colab": {
          "base_uri": "https://localhost:8080/"
        },
        "id": "gYHROXgR9cXH",
        "outputId": "aca60681-03bf-4fc7-978a-9cd43ac1f38e"
      },
      "source": [
        "numbers = [11, 36, 33, 66, 89, 21, 32, 16, 10]\n",
        "evens = 0\n",
        "odds= 0\n",
        "for i in numbers:\n",
        "  if not i%2:\n",
        "    evens += 1\n",
        "  else:\n",
        "    odds +=1\n",
        "print(\"The number of even numbers:\", evens)\n",
        "print(\"The number of odd numbers:\", odds)\n"
      ],
      "execution_count": null,
      "outputs": [
        {
          "output_type": "stream",
          "text": [
            "The number of even numbers: 5\n",
            "The number of odd numbers: 4\n"
          ],
          "name": "stdout"
        }
      ]
    },
    {
      "cell_type": "code",
      "metadata": {
        "colab": {
          "base_uri": "https://localhost:8080/"
        },
        "id": "nfWyX2TL_Yz5",
        "outputId": "1241129a-067a-49e3-da77-9b554b6a57b8"
      },
      "source": [
        "numbers = range(1,10)\n",
        "for i in numbers:\n",
        "  print(str(i)*i)"
      ],
      "execution_count": null,
      "outputs": [
        {
          "output_type": "stream",
          "text": [
            "1\n",
            "22\n",
            "333\n",
            "4444\n",
            "55555\n",
            "666666\n",
            "7777777\n",
            "88888888\n",
            "999999999\n"
          ],
          "name": "stdout"
        }
      ]
    },
    {
      "cell_type": "code",
      "metadata": {
        "colab": {
          "base_uri": "https://localhost:8080/"
        },
        "id": "evOKfDZNDWL1",
        "outputId": "a6360d2e-7cc8-40e7-d0aa-23f753cc7f4e"
      },
      "source": [
        "toplam = 0\n",
        "for i in range(1,75):\n",
        "  toplam = toplam + i\n",
        "print(toplam)  "
      ],
      "execution_count": null,
      "outputs": [
        {
          "output_type": "stream",
          "text": [
            "2775\n"
          ],
          "name": "stdout"
        }
      ]
    },
    {
      "cell_type": "code",
      "metadata": {
        "colab": {
          "base_uri": "https://localhost:8080/"
        },
        "id": "znHFwSB3H_vL",
        "outputId": "35e3ab5a-3bad-44fb-de5c-eea55ce764b2"
      },
      "source": [
        "names = [\"susan\", \"tom\", \"edward\"] \n",
        "mood = [\"happy\", \"sad\"]\n",
        "for i in names:\n",
        "  for ii in mood:\n",
        "    print(i + \" is \" + ii)"
      ],
      "execution_count": null,
      "outputs": [
        {
          "output_type": "stream",
          "text": [
            "susan is happy\n",
            "susan is sad\n",
            "tom is happy\n",
            "tom is sad\n",
            "edward is happy\n",
            "edward is sad\n"
          ],
          "name": "stdout"
        }
      ]
    },
    {
      "cell_type": "code",
      "metadata": {
        "id": "LZhEcR0ULixZ"
      },
      "source": [
        "my_list = [1, 2, 3, 4, 5, 6]\n",
        "new_list = []"
      ],
      "execution_count": null,
      "outputs": []
    },
    {
      "cell_type": "code",
      "metadata": {
        "colab": {
          "base_uri": "https://localhost:8080/"
        },
        "id": "UJqmXQrIOqxL",
        "outputId": "1b35cc1c-f014-451a-9f2e-ebd78386011f"
      },
      "source": [
        "for i in my_list :\n",
        "  if i % 2 :\n",
        "    new_list.append(i ** 2)\n",
        "new_list"
      ],
      "execution_count": null,
      "outputs": [
        {
          "output_type": "execute_result",
          "data": {
            "text/plain": [
              "[1, 9, 25]"
            ]
          },
          "metadata": {
            "tags": []
          },
          "execution_count": 52
        }
      ]
    },
    {
      "cell_type": "code",
      "metadata": {
        "id": "LtCwm10NPRvQ"
      },
      "source": [
        "boş = []"
      ],
      "execution_count": null,
      "outputs": []
    },
    {
      "cell_type": "code",
      "metadata": {
        "colab": {
          "base_uri": "https://localhost:8080/"
        },
        "id": "U1NRP81iPbm7",
        "outputId": "9b85c9f2-efef-4fab-f320-651f0c178a9d"
      },
      "source": [
        "boş.append(my_list[0] ** 2)\n",
        "boş"
      ],
      "execution_count": null,
      "outputs": [
        {
          "output_type": "execute_result",
          "data": {
            "text/plain": [
              "[1]"
            ]
          },
          "metadata": {
            "tags": []
          },
          "execution_count": 54
        }
      ]
    },
    {
      "cell_type": "code",
      "metadata": {
        "colab": {
          "base_uri": "https://localhost:8080/"
        },
        "id": "S3I6j2koPm8_",
        "outputId": "8bc11e90-1b24-448e-ddbc-5103a24fb51b"
      },
      "source": [
        "boş.append(my_list[2] ** 2)\n",
        "boş"
      ],
      "execution_count": null,
      "outputs": [
        {
          "output_type": "execute_result",
          "data": {
            "text/plain": [
              "[1, 9]"
            ]
          },
          "metadata": {
            "tags": []
          },
          "execution_count": 56
        }
      ]
    },
    {
      "cell_type": "code",
      "metadata": {
        "colab": {
          "base_uri": "https://localhost:8080/"
        },
        "id": "ZMGgAOZmPxs2",
        "outputId": "e64c8e3a-99e8-4669-c66e-78a03157493d"
      },
      "source": [
        "boş.append(my_list[4] ** 2)\n",
        "boş"
      ],
      "execution_count": null,
      "outputs": [
        {
          "output_type": "execute_result",
          "data": {
            "text/plain": [
              "[1, 9, 25]"
            ]
          },
          "metadata": {
            "tags": []
          },
          "execution_count": 57
        }
      ]
    },
    {
      "cell_type": "code",
      "metadata": {
        "id": "8zix6M03P46n"
      },
      "source": [
        "# [expression for item in iterable]"
      ],
      "execution_count": null,
      "outputs": []
    },
    {
      "cell_type": "code",
      "metadata": {
        "colab": {
          "base_uri": "https://localhost:8080/"
        },
        "id": "iTVI44-2QOdf",
        "outputId": "05099586-975b-4727-df96-4718c01488da"
      },
      "source": [
        "[i for i in range(5)]"
      ],
      "execution_count": null,
      "outputs": [
        {
          "output_type": "execute_result",
          "data": {
            "text/plain": [
              "[0, 1, 2, 3, 4]"
            ]
          },
          "metadata": {
            "tags": []
          },
          "execution_count": 59
        }
      ]
    },
    {
      "cell_type": "code",
      "metadata": {
        "colab": {
          "base_uri": "https://localhost:8080/"
        },
        "id": "oIF8BiaJQuly",
        "outputId": "4cfc6f94-7d63-42df-f3dd-f1772f36581d"
      },
      "source": [
        "for i in range(5):\n",
        " print(i)"
      ],
      "execution_count": null,
      "outputs": [
        {
          "output_type": "stream",
          "text": [
            "0\n",
            "1\n",
            "2\n",
            "3\n",
            "4\n"
          ],
          "name": "stdout"
        }
      ]
    },
    {
      "cell_type": "code",
      "metadata": {
        "colab": {
          "base_uri": "https://localhost:8080/"
        },
        "id": "25S4RG21QzD7",
        "outputId": "f253750c-7e43-4cfb-b919-b2f45d8832bc"
      },
      "source": [
        "[i**2 for i in range(5)]"
      ],
      "execution_count": null,
      "outputs": [
        {
          "output_type": "execute_result",
          "data": {
            "text/plain": [
              "[0, 1, 4, 9, 16]"
            ]
          },
          "metadata": {
            "tags": []
          },
          "execution_count": 63
        }
      ]
    },
    {
      "cell_type": "code",
      "metadata": {
        "colab": {
          "base_uri": "https://localhost:8080/"
        },
        "id": "QqP15P-kQ9yL",
        "outputId": "f61aedc2-969c-4f2e-f35d-dc04e9b8561c"
      },
      "source": [
        "listem = []\n",
        "for i in range(5):\n",
        "  listem.append(i)\n",
        "listem"
      ],
      "execution_count": null,
      "outputs": [
        {
          "output_type": "execute_result",
          "data": {
            "text/plain": [
              "[0, 1, 2, 3, 4]"
            ]
          },
          "metadata": {
            "tags": []
          },
          "execution_count": 65
        }
      ]
    },
    {
      "cell_type": "code",
      "metadata": {
        "colab": {
          "base_uri": "https://localhost:8080/"
        },
        "id": "tGDoD_bSR3Be",
        "outputId": "90960505-b55f-478a-ff6a-61b29ea2f2a0"
      },
      "source": [
        "condition = True\n",
        "if condition :\n",
        "  a = 1\n",
        "else :\n",
        "  a = 0\n",
        "print(a)"
      ],
      "execution_count": null,
      "outputs": [
        {
          "output_type": "stream",
          "text": [
            "1\n"
          ],
          "name": "stdout"
        }
      ]
    },
    {
      "cell_type": "code",
      "metadata": {
        "id": "qSGJeh6KZhoI"
      },
      "source": [
        "# ternary 'if' contidition yapısı\n",
        "\n",
        "execute-body1 if condition else execute-body2"
      ],
      "execution_count": null,
      "outputs": []
    },
    {
      "cell_type": "code",
      "metadata": {
        "colab": {
          "base_uri": "https://localhost:8080/"
        },
        "id": "UIKAoutBaDnp",
        "outputId": "2cb9248a-a38d-4da3-b844-e69834400bf8"
      },
      "source": [
        "print(1 if 2 < 4 else 0)"
      ],
      "execution_count": null,
      "outputs": [
        {
          "output_type": "stream",
          "text": [
            "1\n"
          ],
          "name": "stdout"
        }
      ]
    },
    {
      "cell_type": "code",
      "metadata": {
        "colab": {
          "base_uri": "https://localhost:8080/"
        },
        "id": "vHB7XxUNaFyI",
        "outputId": "6a47fe54-de74-4b88-8496-a693dc1e911a"
      },
      "source": [
        "a = 1 if 2 < 4 else 0\n",
        "print(a)"
      ],
      "execution_count": null,
      "outputs": [
        {
          "output_type": "stream",
          "text": [
            "1\n"
          ],
          "name": "stdout"
        }
      ]
    },
    {
      "cell_type": "code",
      "metadata": {
        "colab": {
          "base_uri": "https://localhost:8080/"
        },
        "id": "JUJq4j23aaNl",
        "outputId": "75c7c3ae-b966-4b33-b5a4-e0f096eea678"
      },
      "source": [
        "my_list = [1, 2, 3, 4, 5, 6]\n",
        "[i ** 2 for i in my_list if i%2 ]"
      ],
      "execution_count": null,
      "outputs": [
        {
          "output_type": "execute_result",
          "data": {
            "text/plain": [
              "[1, 9, 25]"
            ]
          },
          "metadata": {
            "tags": []
          },
          "execution_count": 74
        }
      ]
    },
    {
      "cell_type": "code",
      "metadata": {
        "colab": {
          "base_uri": "https://localhost:8080/"
        },
        "id": "TBFC8Gz2ahLJ",
        "outputId": "da56a3e4-248d-45d2-c7f7-b7f23c1a7653"
      },
      "source": [
        "a = [i ** 2 for i in my_list if i%2 ]\n",
        "a"
      ],
      "execution_count": null,
      "outputs": [
        {
          "output_type": "execute_result",
          "data": {
            "text/plain": [
              "[1, 9, 25]"
            ]
          },
          "metadata": {
            "tags": []
          },
          "execution_count": 75
        }
      ]
    },
    {
      "cell_type": "code",
      "metadata": {
        "id": "SOgpMfvWcK9p"
      },
      "source": [
        "a = (i ** 2 for i in my_list if i%2)"
      ],
      "execution_count": null,
      "outputs": []
    },
    {
      "cell_type": "code",
      "metadata": {
        "colab": {
          "base_uri": "https://localhost:8080/"
        },
        "id": "XlL4zIojcSXS",
        "outputId": "8bc3fd46-3c5c-4476-9e8e-62d9f136f88b"
      },
      "source": [
        "a"
      ],
      "execution_count": null,
      "outputs": [
        {
          "output_type": "execute_result",
          "data": {
            "text/plain": [
              "<generator object <genexpr> at 0x7fa62067d550>"
            ]
          },
          "metadata": {
            "tags": []
          },
          "execution_count": 77
        }
      ]
    },
    {
      "cell_type": "code",
      "metadata": {
        "colab": {
          "base_uri": "https://localhost:8080/"
        },
        "id": "1M4o2P2_cS1q",
        "outputId": "5198f9e2-c389-496e-cd84-d05d97ed7960"
      },
      "source": [
        "print(*a)"
      ],
      "execution_count": null,
      "outputs": [
        {
          "output_type": "stream",
          "text": [
            "1 9 25\n"
          ],
          "name": "stdout"
        }
      ]
    },
    {
      "cell_type": "code",
      "metadata": {
        "colab": {
          "base_uri": "https://localhost:8080/"
        },
        "id": "BGTelsxNcdeV",
        "outputId": "601393f8-e4a2-4931-f035-96175d7c4a7e"
      },
      "source": [
        "for i in a:\n",
        "  print(i)"
      ],
      "execution_count": null,
      "outputs": [
        {
          "output_type": "stream",
          "text": [
            "1\n",
            "9\n",
            "25\n"
          ],
          "name": "stdout"
        }
      ]
    },
    {
      "cell_type": "code",
      "metadata": {
        "colab": {
          "base_uri": "https://localhost:8080/"
        },
        "id": "ZD3AmJzlcg6V",
        "outputId": "37770a95-496d-4800-e5cc-d2d0ec0864ee"
      },
      "source": [
        "a = (i ** 2 for i in my_list)\n",
        "print(next(a))"
      ],
      "execution_count": null,
      "outputs": [
        {
          "output_type": "stream",
          "text": [
            "1\n"
          ],
          "name": "stdout"
        }
      ]
    },
    {
      "cell_type": "code",
      "metadata": {
        "colab": {
          "base_uri": "https://localhost:8080/"
        },
        "id": "OoWqCIMidg0H",
        "outputId": "15258cf3-d936-47a3-8d79-e902ad95de4d"
      },
      "source": [
        "print(next(a))"
      ],
      "execution_count": null,
      "outputs": [
        {
          "output_type": "stream",
          "text": [
            "4\n"
          ],
          "name": "stdout"
        }
      ]
    },
    {
      "cell_type": "code",
      "metadata": {
        "colab": {
          "base_uri": "https://localhost:8080/"
        },
        "id": "F7lnmifodkcH",
        "outputId": "9c9a5cbc-2bf3-4c9d-c605-3cb0140911fa"
      },
      "source": [
        "print(next(a))"
      ],
      "execution_count": null,
      "outputs": [
        {
          "output_type": "stream",
          "text": [
            "9\n"
          ],
          "name": "stdout"
        }
      ]
    },
    {
      "cell_type": "code",
      "metadata": {
        "colab": {
          "base_uri": "https://localhost:8080/"
        },
        "id": "w9L5biMtdmiy",
        "outputId": "5484a4ed-623a-4b61-bf21-0810c7c22851"
      },
      "source": [
        "print(next(a))"
      ],
      "execution_count": null,
      "outputs": [
        {
          "output_type": "stream",
          "text": [
            "16\n"
          ],
          "name": "stdout"
        }
      ]
    },
    {
      "cell_type": "code",
      "metadata": {
        "colab": {
          "base_uri": "https://localhost:8080/"
        },
        "id": "41ij6lDtdoPa",
        "outputId": "e25536a8-8fd2-4fdb-bd4c-53d14ff7ed8a"
      },
      "source": [
        "print(next(a))"
      ],
      "execution_count": null,
      "outputs": [
        {
          "output_type": "stream",
          "text": [
            "25\n"
          ],
          "name": "stdout"
        }
      ]
    },
    {
      "cell_type": "code",
      "metadata": {
        "colab": {
          "base_uri": "https://localhost:8080/"
        },
        "id": "1GTWSSDKdpai",
        "outputId": "023f865d-5fb0-46e2-b417-d8d5d9484c3c"
      },
      "source": [
        "print(next(a))"
      ],
      "execution_count": null,
      "outputs": [
        {
          "output_type": "stream",
          "text": [
            "36\n"
          ],
          "name": "stdout"
        }
      ]
    },
    {
      "cell_type": "code",
      "metadata": {
        "colab": {
          "base_uri": "https://localhost:8080/",
          "height": 163
        },
        "id": "-yxI4xsxdqlH",
        "outputId": "bab04ee2-bb6e-4c7c-ea9e-0f9eba0a270b"
      },
      "source": [
        "print(next(a))"
      ],
      "execution_count": null,
      "outputs": [
        {
          "output_type": "error",
          "ename": "StopIteration",
          "evalue": "ignored",
          "traceback": [
            "\u001b[0;31m---------------------------------------------------------------------------\u001b[0m",
            "\u001b[0;31mStopIteration\u001b[0m                             Traceback (most recent call last)",
            "\u001b[0;32m<ipython-input-88-94b12d3903f7>\u001b[0m in \u001b[0;36m<module>\u001b[0;34m()\u001b[0m\n\u001b[0;32m----> 1\u001b[0;31m \u001b[0mprint\u001b[0m\u001b[0;34m(\u001b[0m\u001b[0mnext\u001b[0m\u001b[0;34m(\u001b[0m\u001b[0ma\u001b[0m\u001b[0;34m)\u001b[0m\u001b[0;34m)\u001b[0m\u001b[0;34m\u001b[0m\u001b[0;34m\u001b[0m\u001b[0m\n\u001b[0m",
            "\u001b[0;31mStopIteration\u001b[0m: "
          ]
        }
      ]
    },
    {
      "cell_type": "code",
      "metadata": {
        "colab": {
          "base_uri": "https://localhost:8080/",
          "height": 129
        },
        "id": "vuiccpDu_Rc7",
        "outputId": "05648cd1-6d51-4ffd-f4ff-e782a77ac468"
      },
      "source": [
        "college_years = ['Freshman', 'Sophomore', 'Junior', 'Senior']\n",
        "  return list(enumerate(college_years, 2019))\n",
        "print(college_years)"
      ],
      "execution_count": null,
      "outputs": [
        {
          "output_type": "error",
          "ename": "IndentationError",
          "evalue": "ignored",
          "traceback": [
            "\u001b[0;36m  File \u001b[0;32m\"<ipython-input-4-e4bd5c96eb5b>\"\u001b[0;36m, line \u001b[0;32m2\u001b[0m\n\u001b[0;31m    return list(enumerate(college_years, 2019))\u001b[0m\n\u001b[0m    ^\u001b[0m\n\u001b[0;31mIndentationError\u001b[0m\u001b[0;31m:\u001b[0m unexpected indent\n"
          ]
        }
      ]
    },
    {
      "cell_type": "code",
      "metadata": {
        "id": "I7EXBTEGIIgU"
      },
      "source": [
        "def amstrong_number():\n",
        "    for i in range(0,1):\n",
        "        sayi=int(input(\"Lütfen bir sayı giriniz : \"))\n",
        "        if sayi<=0:\n",
        "            print(\"pozitif bir sayı giriniz.\")\n",
        "            break\n",
        "        elif sayi>0:\n",
        "            basamak=len(str(sayi))\n",
        "            if basamak==1:\n",
        "                print(\"Tek basamklı sayı giremessiniz.\")\n",
        "                break\n",
        "            elif basamak>1:\n",
        "                toplam=0\n",
        "                for i in str(sayi):\n",
        "                    toplam=toplam+(int(i)**basamak)\n",
        "                print(f\"sayıların rakamlara ayırıp basamak sayısı kadar üssünü alıp toplayınca çıkan sonuç = {toplam}\")\n",
        "                if toplam==sayi:\n",
        "                    print(f\"Girilen sayi = {sayi} bir amstrong sayısıdır.\")\n",
        "                elif toplam!=sayi:\n",
        "                    print(f\"Girilen sayi = {sayi} bir amstrong sayısı değildir.\")"
      ],
      "execution_count": null,
      "outputs": []
    },
    {
      "cell_type": "code",
      "metadata": {
        "id": "8DPFQy_AJlMC"
      },
      "source": [
        "while True:\n",
        "    num = input(\"Please enter a positive integer number : \")\n",
        "    if num.isdigit() :\n",
        "        a = num.split()\n",
        "        b=0\n",
        "        for i in range(len(a[0])) :\n",
        "            b+=int(a[0][i])**len(a[0])\n",
        "        if b==int(num):\n",
        "            print(num, \"is an Armstrong number\")\n",
        "        else:\n",
        "            print(num, \"is not an Armstrong number\")\n",
        "        break\n",
        "    else:\n",
        "        print(\"It is an invalid entry. Don't use non-numeric, float, or negative values!\")"
      ],
      "execution_count": null,
      "outputs": []
    },
    {
      "cell_type": "code",
      "metadata": {
        "id": "A8go4vXk7ko9"
      },
      "source": [
        "while True:\n",
        "  num = input(\"Please enter a positive integer number : \")\n",
        "  if num.isdigit():\n",
        "    b = 0\n",
        "    a = num.split()\n",
        "    for i in range(len(a[0])):\n",
        "    if:\n",
        "    else:\n",
        "      print(num, \"is not an Armstrong number\")\n",
        "  else:\n",
        "    print(\"It is an invalid entry. Don't use non-numeric, float, or negative values!\")\n"
      ],
      "execution_count": null,
      "outputs": []
    },
    {
      "cell_type": "code",
      "metadata": {
        "colab": {
          "base_uri": "https://localhost:8080/",
          "height": 214
        },
        "id": "GP-sRg1IP6KR",
        "outputId": "14c79f83-326d-4c9f-b973-c291df3abf23"
      },
      "source": [
        "num = 671\n",
        "a = num.split()\n",
        "range(len(a[0]))\n",
        "print(* range(len(a[0])))"
      ],
      "execution_count": null,
      "outputs": [
        {
          "output_type": "error",
          "ename": "AttributeError",
          "evalue": "ignored",
          "traceback": [
            "\u001b[0;31m---------------------------------------------------------------------------\u001b[0m",
            "\u001b[0;31mAttributeError\u001b[0m                            Traceback (most recent call last)",
            "\u001b[0;32m<ipython-input-12-6f2120232ff7>\u001b[0m in \u001b[0;36m<module>\u001b[0;34m()\u001b[0m\n\u001b[1;32m      1\u001b[0m \u001b[0mnum\u001b[0m \u001b[0;34m=\u001b[0m \u001b[0;36m671\u001b[0m\u001b[0;34m\u001b[0m\u001b[0;34m\u001b[0m\u001b[0m\n\u001b[0;32m----> 2\u001b[0;31m \u001b[0ma\u001b[0m \u001b[0;34m=\u001b[0m \u001b[0mnum\u001b[0m\u001b[0;34m.\u001b[0m\u001b[0msplit\u001b[0m\u001b[0;34m(\u001b[0m\u001b[0;34m)\u001b[0m\u001b[0;34m\u001b[0m\u001b[0;34m\u001b[0m\u001b[0m\n\u001b[0m\u001b[1;32m      3\u001b[0m \u001b[0mrange\u001b[0m\u001b[0;34m(\u001b[0m\u001b[0mlen\u001b[0m\u001b[0;34m(\u001b[0m\u001b[0ma\u001b[0m\u001b[0;34m[\u001b[0m\u001b[0;36m0\u001b[0m\u001b[0;34m]\u001b[0m\u001b[0;34m)\u001b[0m\u001b[0;34m)\u001b[0m\u001b[0;34m\u001b[0m\u001b[0;34m\u001b[0m\u001b[0m\n\u001b[1;32m      4\u001b[0m \u001b[0mprint\u001b[0m\u001b[0;34m(\u001b[0m\u001b[0;34m*\u001b[0m \u001b[0mrange\u001b[0m\u001b[0;34m(\u001b[0m\u001b[0mlen\u001b[0m\u001b[0;34m(\u001b[0m\u001b[0ma\u001b[0m\u001b[0;34m[\u001b[0m\u001b[0;36m0\u001b[0m\u001b[0;34m]\u001b[0m\u001b[0;34m)\u001b[0m\u001b[0;34m)\u001b[0m\u001b[0;34m)\u001b[0m\u001b[0;34m\u001b[0m\u001b[0;34m\u001b[0m\u001b[0m\n",
            "\u001b[0;31mAttributeError\u001b[0m: 'int' object has no attribute 'split'"
          ]
        }
      ]
    },
    {
      "cell_type": "code",
      "metadata": {
        "id": "CNd3OHVIqAdh"
      },
      "source": [
        "listem = [None, \"0\", \"istanbul\", ()]"
      ],
      "execution_count": null,
      "outputs": []
    },
    {
      "cell_type": "code",
      "metadata": {
        "id": "w25HN5AVqHaT"
      },
      "source": [
        "filtered = filter(None, listem)"
      ],
      "execution_count": null,
      "outputs": []
    },
    {
      "cell_type": "code",
      "metadata": {
        "colab": {
          "base_uri": "https://localhost:8080/"
        },
        "id": "VwWhuC-WqOJL",
        "outputId": "2ecd2440-8d89-4fc4-acdd-a9bc5045b04c"
      },
      "source": [
        "filtered"
      ],
      "execution_count": null,
      "outputs": [
        {
          "output_type": "execute_result",
          "data": {
            "text/plain": [
              "<filter at 0x7fd05ef93ad0>"
            ]
          },
          "metadata": {
            "tags": []
          },
          "execution_count": 3
        }
      ]
    },
    {
      "cell_type": "code",
      "metadata": {
        "colab": {
          "base_uri": "https://localhost:8080/"
        },
        "id": "xi1eR5haqQFI",
        "outputId": "107d7348-072b-4b31-bdf5-c5ce886470b1"
      },
      "source": [
        "print(* filtered)"
      ],
      "execution_count": null,
      "outputs": [
        {
          "output_type": "stream",
          "text": [
            "0 istanbul\n"
          ],
          "name": "stdout"
        }
      ]
    },
    {
      "cell_type": "code",
      "metadata": {
        "colab": {
          "base_uri": "https://localhost:8080/"
        },
        "id": "h67D9T_VqUKL",
        "outputId": "fe26a824-7828-42cf-95ba-81ff310000cc"
      },
      "source": [
        "for i in filtered :\n",
        "  print(i)"
      ],
      "execution_count": null,
      "outputs": [
        {
          "output_type": "stream",
          "text": [
            "0\n",
            "istanbul\n"
          ],
          "name": "stdout"
        }
      ]
    },
    {
      "cell_type": "code",
      "metadata": {
        "id": "eZS_WmrZqZP6"
      },
      "source": [
        "enum = enumerate(listem)"
      ],
      "execution_count": null,
      "outputs": []
    },
    {
      "cell_type": "code",
      "metadata": {
        "colab": {
          "base_uri": "https://localhost:8080/"
        },
        "id": "-eY-Po_4rZBG",
        "outputId": "7578bf63-90f0-4f17-b0d5-e44977514195"
      },
      "source": [
        "type(enum)"
      ],
      "execution_count": null,
      "outputs": [
        {
          "output_type": "execute_result",
          "data": {
            "text/plain": [
              "enumerate"
            ]
          },
          "metadata": {
            "tags": []
          },
          "execution_count": 9
        }
      ]
    },
    {
      "cell_type": "code",
      "metadata": {
        "colab": {
          "base_uri": "https://localhost:8080/"
        },
        "id": "AmboOf5Nrazv",
        "outputId": "fbb88845-3728-40ea-b69a-a4399b38f528"
      },
      "source": [
        "enum"
      ],
      "execution_count": null,
      "outputs": [
        {
          "output_type": "execute_result",
          "data": {
            "text/plain": [
              "<enumerate at 0x7fd05efb49b0>"
            ]
          },
          "metadata": {
            "tags": []
          },
          "execution_count": 10
        }
      ]
    },
    {
      "cell_type": "code",
      "metadata": {
        "colab": {
          "base_uri": "https://localhost:8080/"
        },
        "id": "F3ME6tjcrb_K",
        "outputId": "62a0e380-625d-4a59-b5a9-992406531cef"
      },
      "source": [
        "print(* enum)"
      ],
      "execution_count": null,
      "outputs": [
        {
          "output_type": "stream",
          "text": [
            "(0, None) (1, '0') (2, 'istanbul') (3, ())\n"
          ],
          "name": "stdout"
        }
      ]
    },
    {
      "cell_type": "code",
      "metadata": {
        "colab": {
          "base_uri": "https://localhost:8080/",
          "height": 35
        },
        "id": "8aHzJ1b7riOf",
        "outputId": "9a5ebb8d-d702-4af6-91f0-3948df9c6d3e"
      },
      "source": [
        "min (\"ahmet\")"
      ],
      "execution_count": null,
      "outputs": [
        {
          "output_type": "execute_result",
          "data": {
            "application/vnd.google.colaboratory.intrinsic+json": {
              "type": "string"
            },
            "text/plain": [
              "'a'"
            ]
          },
          "metadata": {
            "tags": []
          },
          "execution_count": 13
        }
      ]
    },
    {
      "cell_type": "code",
      "metadata": {
        "colab": {
          "base_uri": "https://localhost:8080/",
          "height": 35
        },
        "id": "6BaGiefRsfij",
        "outputId": "06f7c2fd-1445-4a78-d515-501599e21b34"
      },
      "source": [
        "max (\"ahmet\")"
      ],
      "execution_count": null,
      "outputs": [
        {
          "output_type": "execute_result",
          "data": {
            "application/vnd.google.colaboratory.intrinsic+json": {
              "type": "string"
            },
            "text/plain": [
              "'t'"
            ]
          },
          "metadata": {
            "tags": []
          },
          "execution_count": 14
        }
      ]
    },
    {
      "cell_type": "code",
      "metadata": {
        "colab": {
          "base_uri": "https://localhost:8080/"
        },
        "id": "NBYpaUhtsh6D",
        "outputId": "da62290a-7311-427f-b6d3-2fb4a94ea553"
      },
      "source": [
        "ord(\"a\")"
      ],
      "execution_count": null,
      "outputs": [
        {
          "output_type": "execute_result",
          "data": {
            "text/plain": [
              "97"
            ]
          },
          "metadata": {
            "tags": []
          },
          "execution_count": 15
        }
      ]
    },
    {
      "cell_type": "code",
      "metadata": {
        "colab": {
          "base_uri": "https://localhost:8080/"
        },
        "id": "s90JVeJjskBX",
        "outputId": "d8044467-ac82-43aa-c2cb-dbf2d50d91c9"
      },
      "source": [
        "ord(\"t\")"
      ],
      "execution_count": null,
      "outputs": [
        {
          "output_type": "execute_result",
          "data": {
            "text/plain": [
              "116"
            ]
          },
          "metadata": {
            "tags": []
          },
          "execution_count": 16
        }
      ]
    },
    {
      "cell_type": "code",
      "metadata": {
        "colab": {
          "base_uri": "https://localhost:8080/"
        },
        "id": "rpkZOhXXsl9r",
        "outputId": "6f113995-9ebe-4885-f9af-430b3b1fb351"
      },
      "source": [
        "sum([1,2,3,4,5])"
      ],
      "execution_count": null,
      "outputs": [
        {
          "output_type": "execute_result",
          "data": {
            "text/plain": [
              "15"
            ]
          },
          "metadata": {
            "tags": []
          },
          "execution_count": 18
        }
      ]
    },
    {
      "cell_type": "code",
      "metadata": {
        "id": "LvAvamkyEUH0"
      },
      "source": [
        "def multiply(a, b) :\n",
        "  print(a * b)"
      ],
      "execution_count": null,
      "outputs": []
    },
    {
      "cell_type": "code",
      "metadata": {
        "colab": {
          "base_uri": "https://localhost:8080/"
        },
        "id": "kSBh1lfxEdiK",
        "outputId": "82f0cc8b-1110-46c9-8b33-98f5a91ac4e1"
      },
      "source": [
        "multiply(\"amazing \", 3)"
      ],
      "execution_count": null,
      "outputs": [
        {
          "output_type": "stream",
          "text": [
            "amazing amazing amazing \n"
          ],
          "name": "stdout"
        }
      ]
    },
    {
      "cell_type": "code",
      "metadata": {
        "id": "AYzVgDzREixz"
      },
      "source": [
        "def add(a, b):\n",
        "  print(a+b)"
      ],
      "execution_count": null,
      "outputs": []
    },
    {
      "cell_type": "code",
      "metadata": {
        "colab": {
          "base_uri": "https://localhost:8080/"
        },
        "id": "26638o70Ftjl",
        "outputId": "7f23e5a3-90f2-42b1-87bb-029185a37929"
      },
      "source": [
        "add(-3, 5)"
      ],
      "execution_count": null,
      "outputs": [
        {
          "output_type": "stream",
          "text": [
            "2\n"
          ],
          "name": "stdout"
        }
      ]
    },
    {
      "cell_type": "code",
      "metadata": {
        "id": "Ccgbl0hnFwUA"
      },
      "source": [
        "def calculator(a, b, c):\n",
        "  if c == \"+\":\n",
        "    print(a+b)\n",
        "  elif c == \"-\":\n",
        "    print(a-b)\n",
        "  elif c == \"*\":\n",
        "    print(a*b)\n",
        "  elif c == \"/\":\n",
        "    print(a/b)\n",
        "  else:\n",
        "    print(\"Enter valid arguments\")\n"
      ],
      "execution_count": null,
      "outputs": []
    },
    {
      "cell_type": "code",
      "metadata": {
        "colab": {
          "base_uri": "https://localhost:8080/"
        },
        "id": "ZtfbJjXXH1nM",
        "outputId": "3a250a3b-c56f-4954-b5ed-a074f16146bf"
      },
      "source": [
        "calculator(12, 3, \"/\")"
      ],
      "execution_count": null,
      "outputs": [
        {
          "output_type": "stream",
          "text": [
            "4.0\n"
          ],
          "name": "stdout"
        }
      ]
    },
    {
      "cell_type": "code",
      "metadata": {
        "id": "_HxNRA7bH5Xw"
      },
      "source": [
        "def mul(x, y) :\n",
        "  return x+y"
      ],
      "execution_count": null,
      "outputs": []
    },
    {
      "cell_type": "code",
      "metadata": {
        "colab": {
          "base_uri": "https://localhost:8080/"
        },
        "id": "egtG6wUyI-DT",
        "outputId": "f18b6a8b-002e-4634-bf08-80285a9e136b"
      },
      "source": [
        "aa= mul(2,5)\n",
        "print(aa)"
      ],
      "execution_count": null,
      "outputs": [
        {
          "output_type": "stream",
          "text": [
            "7\n"
          ],
          "name": "stdout"
        }
      ]
    },
    {
      "cell_type": "code",
      "metadata": {
        "colab": {
          "base_uri": "https://localhost:8080/"
        },
        "id": "lYoFFWa_JECk",
        "outputId": "8f9aa6cf-ff65-4e0b-8da1-a07b979041f2"
      },
      "source": [
        "print(type(print(\"hello\")))"
      ],
      "execution_count": null,
      "outputs": [
        {
          "output_type": "stream",
          "text": [
            "hello\n",
            "<class 'NoneType'>\n"
          ],
          "name": "stdout"
        }
      ]
    },
    {
      "cell_type": "code",
      "metadata": {
        "colab": {
          "base_uri": "https://localhost:8080/"
        },
        "id": "cmmyEg44QtAY",
        "outputId": "2e726877-6b73-4948-9be8-35809ba4de58"
      },
      "source": [
        "print(type(10*5))"
      ],
      "execution_count": null,
      "outputs": [
        {
          "output_type": "stream",
          "text": [
            "<class 'int'>\n"
          ],
          "name": "stdout"
        }
      ]
    },
    {
      "cell_type": "code",
      "metadata": {
        "id": "0MXKMJ1FQwgB"
      },
      "source": [
        "def string() :\n",
        "  return \"ahmet\""
      ],
      "execution_count": null,
      "outputs": []
    },
    {
      "cell_type": "code",
      "metadata": {
        "colab": {
          "base_uri": "https://localhost:8080/"
        },
        "id": "AdXG1wKkRFrw",
        "outputId": "e5b78a0c-3ff5-477a-c382-9962c74dea86"
      },
      "source": [
        "print(string())"
      ],
      "execution_count": null,
      "outputs": [
        {
          "output_type": "stream",
          "text": [
            "ahmet\n"
          ],
          "name": "stdout"
        }
      ]
    },
    {
      "cell_type": "code",
      "metadata": {
        "colab": {
          "base_uri": "https://localhost:8080/"
        },
        "id": "Uno3f3SrRLMG",
        "outputId": "bd3da62d-b29a-4068-bd94-94dac825e85b"
      },
      "source": [
        "type(string())"
      ],
      "execution_count": null,
      "outputs": [
        {
          "output_type": "execute_result",
          "data": {
            "text/plain": [
              "str"
            ]
          },
          "metadata": {
            "tags": []
          },
          "execution_count": 36
        }
      ]
    },
    {
      "cell_type": "code",
      "metadata": {
        "id": "EDEFIFg3RO-4"
      },
      "source": [
        "def integer() :\n",
        "  return 15"
      ],
      "execution_count": null,
      "outputs": []
    },
    {
      "cell_type": "code",
      "metadata": {
        "colab": {
          "base_uri": "https://localhost:8080/"
        },
        "id": "nNqgNmrTRbD3",
        "outputId": "84223261-cd22-4b13-d927-b142a3c27795"
      },
      "source": [
        "print(integer())"
      ],
      "execution_count": null,
      "outputs": [
        {
          "output_type": "stream",
          "text": [
            "15\n"
          ],
          "name": "stdout"
        }
      ]
    },
    {
      "cell_type": "code",
      "metadata": {
        "colab": {
          "base_uri": "https://localhost:8080/"
        },
        "id": "b7t0gI8JRcs4",
        "outputId": "7e552a71-d178-4b54-be5d-2d83a87935d4"
      },
      "source": [
        "type(integer())"
      ],
      "execution_count": null,
      "outputs": [
        {
          "output_type": "execute_result",
          "data": {
            "text/plain": [
              "int"
            ]
          },
          "metadata": {
            "tags": []
          },
          "execution_count": 39
        }
      ]
    },
    {
      "cell_type": "code",
      "metadata": {
        "id": "5QSYUChZRfSx"
      },
      "source": [
        "def boolean() :\n",
        "  return True"
      ],
      "execution_count": null,
      "outputs": []
    },
    {
      "cell_type": "code",
      "metadata": {
        "colab": {
          "base_uri": "https://localhost:8080/"
        },
        "id": "rqaXUrU5Rkag",
        "outputId": "8603ee19-b113-4aae-95e0-f9eba0f38d57"
      },
      "source": [
        "type(boolean())"
      ],
      "execution_count": null,
      "outputs": [
        {
          "output_type": "execute_result",
          "data": {
            "text/plain": [
              "bool"
            ]
          },
          "metadata": {
            "tags": []
          },
          "execution_count": 41
        }
      ]
    },
    {
      "cell_type": "code",
      "metadata": {
        "colab": {
          "base_uri": "https://localhost:8080/"
        },
        "id": "dc-vFjbVRmvV",
        "outputId": "4ec0860a-a0e8-4c22-929b-6b9d26f64f16"
      },
      "source": [
        "print(boolean())"
      ],
      "execution_count": null,
      "outputs": [
        {
          "output_type": "stream",
          "text": [
            "True\n"
          ],
          "name": "stdout"
        }
      ]
    },
    {
      "cell_type": "code",
      "metadata": {
        "colab": {
          "base_uri": "https://localhost:8080/"
        },
        "id": "mrbo0xkoRq8h",
        "outputId": "90068658-63bd-41f5-a6b1-0483c0cad823"
      },
      "source": [
        "if boolean():\n",
        "  print(\"ben çalıştım\")\n",
        "else :\n",
        "  print(\"beni rahatsız etmeyesen\")"
      ],
      "execution_count": null,
      "outputs": [
        {
          "output_type": "stream",
          "text": [
            "ben çalıştım\n"
          ],
          "name": "stdout"
        }
      ]
    },
    {
      "cell_type": "code",
      "metadata": {
        "id": "ZBgiiPq0R00m"
      },
      "source": [
        "def listem() :\n",
        "  return [1,2,3,4,5]"
      ],
      "execution_count": null,
      "outputs": []
    },
    {
      "cell_type": "code",
      "metadata": {
        "colab": {
          "base_uri": "https://localhost:8080/"
        },
        "id": "iWj7XB2vR92U",
        "outputId": "bf7ac722-6332-4a66-f72e-f77b0b193e75"
      },
      "source": [
        "print(listem())"
      ],
      "execution_count": null,
      "outputs": [
        {
          "output_type": "stream",
          "text": [
            "[1, 2, 3, 4, 5]\n"
          ],
          "name": "stdout"
        }
      ]
    },
    {
      "cell_type": "code",
      "metadata": {
        "colab": {
          "base_uri": "https://localhost:8080/"
        },
        "id": "D9kGJi4wSA6f",
        "outputId": "c873469e-fa6f-4dea-8bba-a3cb84fa2cb5"
      },
      "source": [
        "for i in listem() :\n",
        "  print(i)"
      ],
      "execution_count": null,
      "outputs": [
        {
          "output_type": "stream",
          "text": [
            "1\n",
            "2\n",
            "3\n",
            "4\n",
            "5\n"
          ],
          "name": "stdout"
        }
      ]
    },
    {
      "cell_type": "code",
      "metadata": {
        "colab": {
          "base_uri": "https://localhost:8080/"
        },
        "id": "6b8PF-fASJ8P",
        "outputId": "2d416465-6603-4089-b86b-df5a7983616c"
      },
      "source": [
        "tuple(listem())"
      ],
      "execution_count": null,
      "outputs": [
        {
          "output_type": "execute_result",
          "data": {
            "text/plain": [
              "(1, 2, 3, 4, 5)"
            ]
          },
          "metadata": {
            "tags": []
          },
          "execution_count": 47
        }
      ]
    },
    {
      "cell_type": "code",
      "metadata": {
        "colab": {
          "base_uri": "https://localhost:8080/"
        },
        "id": "o7cH0ZjnSPrn",
        "outputId": "3e67792b-4e2d-4de3-df6f-f5c3c55463b8"
      },
      "source": [
        "tuple([1,2,3,4,5])"
      ],
      "execution_count": null,
      "outputs": [
        {
          "output_type": "execute_result",
          "data": {
            "text/plain": [
              "(1, 2, 3, 4, 5)"
            ]
          },
          "metadata": {
            "tags": []
          },
          "execution_count": 48
        }
      ]
    },
    {
      "cell_type": "code",
      "metadata": {
        "id": "FQL4eGW2SUda"
      },
      "source": [
        "def calculator(a, b, c):\n",
        "  if c == \"+\":\n",
        "    return(a+b)\n",
        "  elif c == \"-\":\n",
        "    return(a-b)\n",
        "  elif c == \"*\":\n",
        "    return(a*b)\n",
        "  elif c == \"/\":\n",
        "    return(a/b)\n",
        "  else:\n",
        "    return(\"Enter valid arguments\")\n",
        "  "
      ],
      "execution_count": null,
      "outputs": []
    },
    {
      "cell_type": "code",
      "metadata": {
        "id": "9KBYFufJYIbn"
      },
      "source": [
        "### Armstrong Number"
      ],
      "execution_count": null,
      "outputs": []
    },
    {
      "cell_type": "code",
      "metadata": {
        "id": "dN8oP5FKS5Qq"
      },
      "source": [
        "while True :\n",
        "  number = input(\"enter a positive number:\")\n",
        "  digits = len(number)\n",
        "  summ = 0\n",
        "  if not number.isdigit() :\n",
        "    print(number, \"is invalid entry enter numberic value!\")\n",
        "  elif int(number) >= 0 :\n",
        "    for i in range(digits) :\n",
        "      summ = summ + int(number[i]) ** digits\n",
        "    if summ == int(number) :\n",
        "      print(number, \"is an Armstrong Number\")\n",
        "      break\n",
        "    else :\n",
        "      print(number, \"is not an Armstrong Number\")\n",
        "      break"
      ],
      "execution_count": null,
      "outputs": []
    },
    {
      "cell_type": "code",
      "metadata": {
        "id": "msawrsoHYGac"
      },
      "source": [
        "### Prime Number"
      ],
      "execution_count": null,
      "outputs": []
    },
    {
      "cell_type": "code",
      "metadata": {
        "colab": {
          "base_uri": "https://localhost:8080/"
        },
        "id": "wiki4CfKYOsN",
        "outputId": "9abb8b5c-c5e5-4560-b704-784b3357ed76"
      },
      "source": [
        "n = int(input(\"Enter a number to check if it is a prime number.\"))\n",
        "count = 0\n",
        "for i in range(1, n+1) :\n",
        "  if n % i == 0 :\n",
        "    count += 1\n",
        "if (n == 0 or (n == 1)) or (count >=3) :\n",
        "  print(n, \"is not a prime number\")\n",
        "else:\n",
        "  print(n, \"is a prime number\")"
      ],
      "execution_count": null,
      "outputs": [
        {
          "output_type": "stream",
          "text": [
            "Enter a number to check if it is a prime number.17\n",
            "17 is a prime number\n"
          ],
          "name": "stdout"
        }
      ]
    },
    {
      "cell_type": "code",
      "metadata": {
        "colab": {
          "base_uri": "https://localhost:8080/"
        },
        "id": "z4YCMxTo9wKm",
        "outputId": "5cb8037e-8a2e-42fd-8046-856fa4120c72"
      },
      "source": [
        "def listem():\n",
        "  return [\"hello\"]\n",
        "listem()"
      ],
      "execution_count": null,
      "outputs": [
        {
          "output_type": "execute_result",
          "data": {
            "text/plain": [
              "['hello']"
            ]
          },
          "metadata": {
            "tags": []
          },
          "execution_count": 1
        }
      ]
    },
    {
      "cell_type": "code",
      "metadata": {
        "id": "w0fEPFbE-Q_-"
      },
      "source": [
        "filter()"
      ],
      "execution_count": null,
      "outputs": []
    },
    {
      "cell_type": "code",
      "metadata": {
        "id": "1yk3zFJb-cs5"
      },
      "source": [
        "def filterVowels(letter) :\n",
        "  vowels = [\"a\", \"e\", \"i\", \"o\", \"u\"]\n",
        "\n",
        "  if letter.lower() in vowels :\n",
        "    return True\n",
        "  else :\n",
        "    return False"
      ],
      "execution_count": null,
      "outputs": []
    },
    {
      "cell_type": "code",
      "metadata": {
        "id": "51YwqvT1_PIX"
      },
      "source": [
        "vowels = [\"a\", \"e\", \"i\", \"o\", \"u\"]"
      ],
      "execution_count": null,
      "outputs": []
    },
    {
      "cell_type": "code",
      "metadata": {
        "colab": {
          "base_uri": "https://localhost:8080/"
        },
        "id": "2JDuHPVL_TUR",
        "outputId": "393192a1-a6cf-46b6-ee43-61080d433b7f"
      },
      "source": [
        "\"b\" in vowels"
      ],
      "execution_count": null,
      "outputs": [
        {
          "output_type": "execute_result",
          "data": {
            "text/plain": [
              "False"
            ]
          },
          "metadata": {
            "tags": []
          },
          "execution_count": 4
        }
      ]
    },
    {
      "cell_type": "code",
      "metadata": {
        "colab": {
          "base_uri": "https://localhost:8080/"
        },
        "id": "i2LJIbdg_Z34",
        "outputId": "2c1d7b2e-a650-4c27-b319-a439114bc15f"
      },
      "source": [
        "\"a\" in vowels"
      ],
      "execution_count": null,
      "outputs": [
        {
          "output_type": "execute_result",
          "data": {
            "text/plain": [
              "True"
            ]
          },
          "metadata": {
            "tags": []
          },
          "execution_count": 5
        }
      ]
    },
    {
      "cell_type": "code",
      "metadata": {
        "colab": {
          "base_uri": "https://localhost:8080/"
        },
        "id": "8vb_7P33_gZv",
        "outputId": "fdbe97b3-b168-4f56-c9cf-49640899cb88"
      },
      "source": [
        "filterVowels(\"b\")"
      ],
      "execution_count": null,
      "outputs": [
        {
          "output_type": "execute_result",
          "data": {
            "text/plain": [
              "False"
            ]
          },
          "metadata": {
            "tags": []
          },
          "execution_count": 7
        }
      ]
    },
    {
      "cell_type": "code",
      "metadata": {
        "colab": {
          "base_uri": "https://localhost:8080/"
        },
        "id": "8E0lim2b_3wZ",
        "outputId": "6d752d88-4762-4460-d24a-4c4053bc402b"
      },
      "source": [
        "filterVowels(\"U\")"
      ],
      "execution_count": null,
      "outputs": [
        {
          "output_type": "execute_result",
          "data": {
            "text/plain": [
              "True"
            ]
          },
          "metadata": {
            "tags": []
          },
          "execution_count": 8
        }
      ]
    },
    {
      "cell_type": "code",
      "metadata": {
        "id": "EkaswgfHAiaA"
      },
      "source": [
        "sentence = \"the clarusway is the best.\""
      ],
      "execution_count": null,
      "outputs": []
    },
    {
      "cell_type": "code",
      "metadata": {
        "id": "GV2XHGLV_9HU"
      },
      "source": [
        "filtered_vowels = filter(filterVowels, sentence)"
      ],
      "execution_count": null,
      "outputs": []
    },
    {
      "cell_type": "code",
      "metadata": {
        "colab": {
          "base_uri": "https://localhost:8080/"
        },
        "id": "D3UzbATaAxOH",
        "outputId": "0f674ebc-e660-4132-bd99-7547217f0ea9"
      },
      "source": [
        "print(*filtered_vowels)"
      ],
      "execution_count": null,
      "outputs": [
        {
          "output_type": "stream",
          "text": [
            "e a u a i e e\n"
          ],
          "name": "stdout"
        }
      ]
    },
    {
      "cell_type": "code",
      "metadata": {
        "id": "__NL7xMxA1N7"
      },
      "source": [
        "def absolute(a):\n",
        "  if a > 0:\n",
        "    return a\n",
        "  else: \n",
        "    return -a"
      ],
      "execution_count": null,
      "outputs": []
    },
    {
      "cell_type": "code",
      "metadata": {
        "colab": {
          "base_uri": "https://localhost:8080/"
        },
        "id": "o4g_GIH3CpR3",
        "outputId": "f80d5c96-a5da-495a-deb3-17a8aae5603a"
      },
      "source": [
        "absolute(-2)"
      ],
      "execution_count": null,
      "outputs": [
        {
          "output_type": "execute_result",
          "data": {
            "text/plain": [
              "2"
            ]
          },
          "metadata": {
            "tags": []
          },
          "execution_count": 14
        }
      ]
    },
    {
      "cell_type": "code",
      "metadata": {
        "colab": {
          "base_uri": "https://localhost:8080/"
        },
        "id": "ro9ByZ4YCwdF",
        "outputId": "ba3057fc-18bc-479e-9620-f4386e2387ad"
      },
      "source": [
        "def texter(x, y, z):\n",
        "  return (x, y, z)\n",
        "a = \"i\"\n",
        "b = \"love\"\n",
        "c = \"you\"\n",
        "print(a, b ,c)"
      ],
      "execution_count": null,
      "outputs": [
        {
          "output_type": "stream",
          "text": [
            "i love you\n"
          ],
          "name": "stdout"
        }
      ]
    },
    {
      "cell_type": "code",
      "metadata": {
        "id": "TdNMoAHEHKzB"
      },
      "source": [
        "def concat(a, b) :\n",
        "  print(a + b)"
      ],
      "execution_count": null,
      "outputs": []
    },
    {
      "cell_type": "code",
      "metadata": {
        "colab": {
          "base_uri": "https://localhost:8080/"
        },
        "id": "IZ8CE2p8LDZQ",
        "outputId": "30370e3e-d929-4a6e-fcfb-ef8c365cad4a"
      },
      "source": [
        "concat(a = \"istanbul \", b = \"erzurum\")"
      ],
      "execution_count": null,
      "outputs": [
        {
          "output_type": "stream",
          "text": [
            "istanbul erzurum\n"
          ],
          "name": "stdout"
        }
      ]
    },
    {
      "cell_type": "code",
      "metadata": {
        "colab": {
          "base_uri": "https://localhost:8080/"
        },
        "id": "nGZ1JBPiLX3W",
        "outputId": "640a6a48-08c4-4254-81f3-8379d64494e6"
      },
      "source": [
        "concat(b = \"erzurum\", a = \"istanbul \")"
      ],
      "execution_count": null,
      "outputs": [
        {
          "output_type": "stream",
          "text": [
            "istanbul erzurum\n"
          ],
          "name": "stdout"
        }
      ]
    },
    {
      "cell_type": "code",
      "metadata": {
        "id": "DbST3-JZLdWR"
      },
      "source": [
        "def default(a = \"ali\", b = 33) :\n",
        "  print(a, \"is\", b, \"years old.\")"
      ],
      "execution_count": null,
      "outputs": []
    },
    {
      "cell_type": "code",
      "metadata": {
        "colab": {
          "base_uri": "https://localhost:8080/"
        },
        "id": "amE3qE8CMslf",
        "outputId": "b8a23479-9f88-4395-bf34-78a9759742b4"
      },
      "source": [
        "default()"
      ],
      "execution_count": null,
      "outputs": [
        {
          "output_type": "stream",
          "text": [
            "ali is 33 years old.\n"
          ],
          "name": "stdout"
        }
      ]
    },
    {
      "cell_type": "code",
      "metadata": {
        "colab": {
          "base_uri": "https://localhost:8080/"
        },
        "id": "9U1umTE_MuWA",
        "outputId": "f2a1cffc-8d03-49cc-aa70-2064774392d3"
      },
      "source": [
        "default(\"mehmet\", 44)"
      ],
      "execution_count": null,
      "outputs": [
        {
          "output_type": "stream",
          "text": [
            "mehmet is 44 years old.\n"
          ],
          "name": "stdout"
        }
      ]
    },
    {
      "cell_type": "code",
      "metadata": {
        "colab": {
          "base_uri": "https://localhost:8080/"
        },
        "id": "EnJz5ilpM-kc",
        "outputId": "4000e53e-c4c5-4a69-e03a-5fb8e2b9ade8"
      },
      "source": [
        "default(\"selvi\")"
      ],
      "execution_count": null,
      "outputs": [
        {
          "output_type": "stream",
          "text": [
            "selvi is 33 years old.\n"
          ],
          "name": "stdout"
        }
      ]
    },
    {
      "cell_type": "code",
      "metadata": {
        "colab": {
          "base_uri": "https://localhost:8080/"
        },
        "id": "MDznn5XINF_J",
        "outputId": "f8ea4ae5-4ba6-442d-a29c-605977f21fa5"
      },
      "source": [
        "default(b = 55)"
      ],
      "execution_count": null,
      "outputs": [
        {
          "output_type": "stream",
          "text": [
            "ali is 55 years old.\n"
          ],
          "name": "stdout"
        }
      ]
    },
    {
      "cell_type": "code",
      "metadata": {
        "id": "zpUDaLtjNUG5"
      },
      "source": [
        "def default(x, a=)"
      ],
      "execution_count": null,
      "outputs": []
    },
    {
      "cell_type": "code",
      "metadata": {
        "id": "2zAOesMiOTmz"
      },
      "source": [
        "def parrot(voltage, state='a stiff', action='voom', typed='nörüyon'):\n",
        "    print(\"-- This parrot wouldn't\", action, end=' ')\n",
        "    print(\"if you put\", voltage, \"volts through it.\")\n",
        "    print(\"-- Lovely plumage, the\", type)\n",
        "    print(\"-- It's\", state, \"!\")"
      ],
      "execution_count": null,
      "outputs": []
    },
    {
      "cell_type": "code",
      "metadata": {
        "colab": {
          "base_uri": "https://localhost:8080/"
        },
        "id": "dBzA_qBmPG42",
        "outputId": "75ad00cd-249a-4400-fcaa-07158cd87cef"
      },
      "source": [
        "parrot(1000)"
      ],
      "execution_count": null,
      "outputs": [
        {
          "output_type": "stream",
          "text": [
            "-- This parrot wouldn't voom if you put 1000 volts through it.\n",
            "-- Lovely plumage, the <class 'type'>\n",
            "-- It's a stiff !\n"
          ],
          "name": "stdout"
        }
      ]
    },
    {
      "cell_type": "code",
      "metadata": {
        "colab": {
          "base_uri": "https://localhost:8080/"
        },
        "id": "J3TcP5JnPKFu",
        "outputId": "958b30dc-bc43-4794-c08a-de2b30bb1c45"
      },
      "source": [
        "parrot(voltage = 10000000, action = \"VOOOOOM\")"
      ],
      "execution_count": null,
      "outputs": [
        {
          "output_type": "stream",
          "text": [
            "-- This parrot wouldn't VOOOOOM if you put 10000000 volts through it.\n",
            "-- Lovely plumage, the <class 'type'>\n",
            "-- It's a stiff !\n"
          ],
          "name": "stdout"
        }
      ]
    },
    {
      "cell_type": "code",
      "metadata": {
        "colab": {
          "base_uri": "https://localhost:8080/",
          "height": 129
        },
        "id": "QFJW0XLnQ7Jx",
        "outputId": "47ecd89b-fdf2-4b56-e5fe-34f05b1c437b"
      },
      "source": [
        "def parrot(state='a stiff', voltage, action='voom', typed='nörüyon'):\n",
        "    print(\"-- This parrot wouldn't\", action, end=' ')\n",
        "    print(\"if you put\", voltage, \"volts through it.\")\n",
        "    print(\"-- Lovely plumage, the\", type)\n",
        "    print(\"-- It's\", state, \"!\")"
      ],
      "execution_count": null,
      "outputs": [
        {
          "output_type": "error",
          "ename": "SyntaxError",
          "evalue": "ignored",
          "traceback": [
            "\u001b[0;36m  File \u001b[0;32m\"<ipython-input-39-e6ce08e74737>\"\u001b[0;36m, line \u001b[0;32m1\u001b[0m\n\u001b[0;31m    def parrot(state='a stiff', voltage, action='voom', typed='nörüyon'):\u001b[0m\n\u001b[0m              ^\u001b[0m\n\u001b[0;31mSyntaxError\u001b[0m\u001b[0;31m:\u001b[0m non-default argument follows default argument\n"
          ]
        }
      ]
    },
    {
      "cell_type": "code",
      "metadata": {
        "id": "2sfU6b6KR4kv"
      },
      "source": [
        "def argu(a, c, b = \"dünya\", d = \"satürn\") :\n",
        "  print(a, b, c, d, sep = \"\\n\")"
      ],
      "execution_count": null,
      "outputs": []
    },
    {
      "cell_type": "code",
      "metadata": {
        "colab": {
          "base_uri": "https://localhost:8080/",
          "height": 163
        },
        "id": "hhbmivVwSrPu",
        "outputId": "e649aa0c-5785-46a6-8ad6-92b249553c79"
      },
      "source": [
        "argu()"
      ],
      "execution_count": null,
      "outputs": [
        {
          "output_type": "error",
          "ename": "TypeError",
          "evalue": "ignored",
          "traceback": [
            "\u001b[0;31m---------------------------------------------------------------------------\u001b[0m",
            "\u001b[0;31mTypeError\u001b[0m                                 Traceback (most recent call last)",
            "\u001b[0;32m<ipython-input-43-2743aba80a34>\u001b[0m in \u001b[0;36m<module>\u001b[0;34m()\u001b[0m\n\u001b[0;32m----> 1\u001b[0;31m \u001b[0margu\u001b[0m\u001b[0;34m(\u001b[0m\u001b[0;34m)\u001b[0m\u001b[0;34m\u001b[0m\u001b[0;34m\u001b[0m\u001b[0m\n\u001b[0m",
            "\u001b[0;31mTypeError\u001b[0m: argu() missing 2 required positional arguments: 'a' and 'c'"
          ]
        }
      ]
    },
    {
      "cell_type": "code",
      "metadata": {
        "colab": {
          "base_uri": "https://localhost:8080/"
        },
        "id": "Ni9vCiAVSs5B",
        "outputId": "bb9c86e3-777c-4d6d-befa-a3a9e98b0209"
      },
      "source": [
        "argu(\"uranus\", \"jüpiter\")"
      ],
      "execution_count": null,
      "outputs": [
        {
          "output_type": "stream",
          "text": [
            "uranus\n",
            "dünya\n",
            "jüpiter\n",
            "satürn\n"
          ],
          "name": "stdout"
        }
      ]
    },
    {
      "cell_type": "code",
      "metadata": {
        "colab": {
          "base_uri": "https://localhost:8080/"
        },
        "id": "AvDppm1HSyP-",
        "outputId": "277fb24f-b7c6-4c8a-ce07-caff2ddbe90b"
      },
      "source": [
        "argu(d = \"güneş\", a = \"dünya\", c = \"pluto\", b = \"at\")"
      ],
      "execution_count": null,
      "outputs": [
        {
          "output_type": "stream",
          "text": [
            "dünya\n",
            "at\n",
            "pluto\n",
            "güneş\n"
          ],
          "name": "stdout"
        }
      ]
    },
    {
      "cell_type": "code",
      "metadata": {
        "colab": {
          "base_uri": "https://localhost:8080/"
        },
        "id": "M23KmbdkUeqQ",
        "outputId": "56683fda-85f7-451a-81f8-abef8027c3a6"
      },
      "source": [
        "if 10 > 0 :\n",
        "  pass\n",
        "  print(\"ben ikinci satırım\")"
      ],
      "execution_count": null,
      "outputs": [
        {
          "output_type": "stream",
          "text": [
            "ben ikinci satırım\n"
          ],
          "name": "stdout"
        }
      ]
    },
    {
      "cell_type": "code",
      "metadata": {
        "colab": {
          "base_uri": "https://localhost:8080/"
        },
        "id": "qiPnT5LoUh9J",
        "outputId": "641c5e54-ad40-413b-e7e7-b4e8fdd2c5f8"
      },
      "source": [
        "def slicer(*num):\n",
        "  evens = []\n",
        "  odds = []\n",
        "  for i in num:\n",
        "    if not i % 2:\n",
        "      evens.append(i)\n",
        "    else:\n",
        "      odds.append(i)\n",
        "  print(\"even list:\", evens)\n",
        "  print(\"odd list:\", odds)\n",
        "slicer(1, 2, 3, 4, 5, 6, 7, 8, 9)"
      ],
      "execution_count": null,
      "outputs": [
        {
          "output_type": "stream",
          "text": [
            "even list: [2, 4, 6, 8]\n",
            "odd list: [1, 3, 5, 7, 9]\n"
          ],
          "name": "stdout"
        }
      ]
    },
    {
      "cell_type": "code",
      "metadata": {
        "id": "ag0KeoEVeBG7"
      },
      "source": [
        "def slicer(*num)\n",
        "  print(\"evens :\", [i for i in num if i %2 == 0])\n",
        "  print(\"odds :\", [i for i in num if i %2 != 0])"
      ],
      "execution_count": null,
      "outputs": []
    },
    {
      "cell_type": "code",
      "metadata": {
        "id": "hL7bVAj7gJLI"
      },
      "source": [
        "sözlük = dict(ahmet = \"bacanak\", mehmet = \"ağabey\", ceyda = \"baldız\", meryem = \"anne\")"
      ],
      "execution_count": null,
      "outputs": []
    },
    {
      "cell_type": "code",
      "metadata": {
        "colab": {
          "base_uri": "https://localhost:8080/"
        },
        "id": "o8GaPyalgZ2Y",
        "outputId": "3a5ee859-2635-450a-eaf6-6d21b3893f4b"
      },
      "source": [
        "sözlük"
      ],
      "execution_count": null,
      "outputs": [
        {
          "output_type": "execute_result",
          "data": {
            "text/plain": [
              "{'ahmet': 'bacanak', 'ceyda': 'baldız', 'mehmet': 'ağabey', 'meryem': 'anne'}"
            ]
          },
          "metadata": {
            "tags": []
          },
          "execution_count": 54
        }
      ]
    },
    {
      "cell_type": "code",
      "metadata": {
        "id": "fzjUsB1Igaoc"
      },
      "source": [
        "def sözlük(**a) :\n",
        "  for key, value in a.items() :\n",
        "    print(key, value)\n"
      ],
      "execution_count": null,
      "outputs": []
    },
    {
      "cell_type": "code",
      "metadata": {
        "colab": {
          "base_uri": "https://localhost:8080/"
        },
        "id": "KJ4iQ3wag_8o",
        "outputId": "58461567-093c-4c4e-ba7d-6d5c29fcfce1"
      },
      "source": [
        "sözlük(ahmet = \"bacanak\", mehmet = \"ağabey\", ceyda = \"baldız\")"
      ],
      "execution_count": null,
      "outputs": [
        {
          "output_type": "stream",
          "text": [
            "ahmet bacanak\n",
            "mehmet ağabey\n",
            "ceyda baldız\n"
          ],
          "name": "stdout"
        }
      ]
    },
    {
      "cell_type": "code",
      "metadata": {
        "id": "qZZXGHeZhLns"
      },
      "source": [
        "def organizer(**kwargs):\n",
        "  list_name = []\n",
        "  list_age = []\n",
        "  for key, value in kwargs.items():\n",
        "    list_name.append(key)\n",
        "    list_age.append(value)\n",
        "  print(list_name, list_age, sep=\"\\n\")\n",
        "  "
      ],
      "execution_count": null,
      "outputs": []
    },
    {
      "cell_type": "code",
      "metadata": {
        "colab": {
          "base_uri": "https://localhost:8080/"
        },
        "id": "Xl8UPio1ju3_",
        "outputId": "fe94c668-8293-4dab-e07c-00673c6c3b9f"
      },
      "source": [
        "organizer(Beth = 26, Oscar = 42)"
      ],
      "execution_count": null,
      "outputs": [
        {
          "output_type": "stream",
          "text": [
            "['Beth', 'Oscar']\n",
            "[26, 42]\n"
          ],
          "name": "stdout"
        }
      ]
    },
    {
      "cell_type": "code",
      "metadata": {
        "id": "Ja4JHn9ej2NV"
      },
      "source": [
        "sözlük = dict(ahmet = \"bacanak\", mehmet = \"ağabey\", ceyda = \"baldız\", meryem = \"anne\")\n",
        "a = sözlük.items()"
      ],
      "execution_count": null,
      "outputs": []
    },
    {
      "cell_type": "code",
      "metadata": {
        "colab": {
          "base_uri": "https://localhost:8080/"
        },
        "id": "UU_Mxl_Gk-kR",
        "outputId": "d67adff4-f7e2-43ba-fbfd-4f2247e516c1"
      },
      "source": [
        "print(a)"
      ],
      "execution_count": null,
      "outputs": [
        {
          "output_type": "stream",
          "text": [
            "dict_items([('ahmet', 'bacanak'), ('mehmet', 'ağabey'), ('ceyda', 'baldız'), ('meryem', 'anne')])\n"
          ],
          "name": "stdout"
        }
      ]
    },
    {
      "cell_type": "code",
      "metadata": {
        "colab": {
          "base_uri": "https://localhost:8080/"
        },
        "id": "AkyPEwXMlHzG",
        "outputId": "79c842dc-4906-4ede-d9f5-ff4b861141c2"
      },
      "source": [
        "print(sözlük)"
      ],
      "execution_count": null,
      "outputs": [
        {
          "output_type": "stream",
          "text": [
            "{'ahmet': 'bacanak', 'mehmet': 'ağabey', 'ceyda': 'baldız', 'meryem': 'anne'}\n"
          ],
          "name": "stdout"
        }
      ]
    },
    {
      "cell_type": "code",
      "metadata": {
        "id": "ybkkE3t5lNZC",
        "colab": {
          "base_uri": "https://localhost:8080/"
        },
        "outputId": "cef169ad-476a-4b70-bade-6348121c0a65"
      },
      "source": [
        "nterms = int(input(\"How many terms?:\"))\n",
        "n1, n2 = 1, 1\n",
        "count = 0\n",
        "fibonacci = []\n",
        "if nterms <= 0 :\n",
        "  print(\"Please enter a positive integer\")\n",
        "elif nterms == 1 :\n",
        "  print(\"Fibonacci sequence upto\",nterms,\":\")\n",
        "  print(n1)\n",
        "else:\n",
        "  while count < nterms :\n",
        "    fibonacci.append(n1)\n",
        "    nn = n1 + n2\n",
        "    n1 = n2\n",
        "    n2 = nn\n",
        "    \n",
        "    count += 1\n",
        "print(fibonacci)\n",
        "    \n"
      ],
      "execution_count": null,
      "outputs": [
        {
          "output_type": "stream",
          "text": [
            "How many terms?:10\n",
            "[1, 1, 2, 3, 5, 8, 13, 21, 34, 55]\n"
          ],
          "name": "stdout"
        }
      ]
    },
    {
      "cell_type": "code",
      "metadata": {
        "id": "xKCrVyitw4VT",
        "colab": {
          "base_uri": "https://localhost:8080/"
        },
        "outputId": "c98250df-d129-4a5a-ace7-31e43ba3b6fa"
      },
      "source": [
        "def sum_double(x, y):\n",
        "    if x != y :\n",
        "        return x + y\n",
        "    if x == y :\n",
        "        return (x + y) * 2\n",
        "print(sum_double(2, 2))"
      ],
      "execution_count": null,
      "outputs": [
        {
          "output_type": "stream",
          "text": [
            "8\n"
          ],
          "name": "stdout"
        }
      ]
    },
    {
      "cell_type": "code",
      "metadata": {
        "id": "NCfsHEBp-N9U"
      },
      "source": [
        "brackets = input(\"Write a string that contains only `(`, `)`, `{`, `}`, `[` and `]`:\")\n",
        "a = [\"()\"]\n",
        "  if brackets in a:\n",
        "    print(True)\n",
        "  else:\n",
        "    print(False)\n"
      ],
      "execution_count": null,
      "outputs": []
    },
    {
      "cell_type": "code",
      "metadata": {
        "id": "PciIQqRDf4ox"
      },
      "source": [
        "def String(bracket) :\n",
        "  string = [\"()\", \"[]\", \"{}\"]\n",
        "\n",
        "  if bracket in string :\n",
        "    return True\n",
        "  else :\n",
        "    return False"
      ],
      "execution_count": null,
      "outputs": []
    },
    {
      "cell_type": "code",
      "metadata": {
        "colab": {
          "base_uri": "https://localhost:8080/"
        },
        "id": "T45iEb6poSGw",
        "outputId": "360aa2fb-425a-420c-a25b-a5ab9b220700"
      },
      "source": [
        "String(\"()\")"
      ],
      "execution_count": null,
      "outputs": [
        {
          "output_type": "execute_result",
          "data": {
            "text/plain": [
              "True"
            ]
          },
          "metadata": {
            "tags": []
          },
          "execution_count": 33
        }
      ]
    },
    {
      "cell_type": "code",
      "metadata": {
        "id": "ObstZUmrjJF6"
      },
      "source": [
        "def filterVowels(letter) :\n",
        "  vowels = [\"a\", \"e\", \"i\", \"o\", \"u\"]\n",
        "\n",
        "  if letter.lower() in vowels :\n",
        "    return True\n",
        "  else :\n",
        "    return False"
      ],
      "execution_count": null,
      "outputs": []
    },
    {
      "cell_type": "code",
      "metadata": {
        "colab": {
          "base_uri": "https://localhost:8080/"
        },
        "id": "Ago9GGGsqRoo",
        "outputId": "166a711f-04e7-4347-9f7b-b94285b390eb"
      },
      "source": [
        "def characters(variable):\n",
        "    string = ['()', '()[]{}', '{[]}', '''\"\"''', '[]', '{}']\n",
        "    if (variable in string):\n",
        "        return True\n",
        "    else:\n",
        "        return False\n",
        "  \n",
        "  \n",
        "# sequence\n",
        "brackets = input(\"Write a string that contains only `(`, `)`, `{`, `}`, `[` and `]`:\")\n",
        "  \n",
        "# using filter function\n",
        "filter(characters, brackets)\n",
        "  \n",
        "characters(brackets)\n"
      ],
      "execution_count": null,
      "outputs": [
        {
          "output_type": "stream",
          "text": [
            "Write a string that contains only `(`, `)`, `{`, `}`, `[` and `]`:\"\"\n"
          ],
          "name": "stdout"
        },
        {
          "output_type": "execute_result",
          "data": {
            "text/plain": [
              "True"
            ]
          },
          "metadata": {
            "tags": []
          },
          "execution_count": 45
        }
      ]
    },
    {
      "cell_type": "code",
      "metadata": {
        "colab": {
          "base_uri": "https://localhost:8080/"
        },
        "id": "OwwcBoGztC1n",
        "outputId": "9fd08a0b-61c5-4761-f862-1926ea4d4ae6"
      },
      "source": [
        "a=input(\"Write a string that contains only `(`, `)`, `{`, `}`, `[` and `]`:\")\n",
        "b=[]\n",
        "c=(\"{[()]}\")\n",
        "for i in a:\n",
        "    if i in c:\n",
        "        b.append(i)\n",
        "x=\"\".join(b)\n",
        "left=set(\"{[(\")\n",
        "dict={\"(\" : \")\", \"[\" : \"]\", \"{\" : \"}\"}\n",
        "stack=[]\n",
        "print(x)\n",
        "for i in x:\n",
        "    if i in left:\n",
        "      \n",
        "        stack.append(i)\n",
        "    elif stack and i == dict[stack[-1]]:\n",
        "            stack.pop()\n",
        "    else:\n",
        "        print(False)\n",
        "if stack==[]:\n",
        "    print(True)"
      ],
      "execution_count": null,
      "outputs": [
        {
          "output_type": "stream",
          "text": [
            "Write a string that contains only `(`, `)`, `{`, `}`, `[` and `]`:{[]}\n",
            "{[]}\n",
            "True\n"
          ],
          "name": "stdout"
        }
      ]
    },
    {
      "cell_type": "code",
      "metadata": {
        "colab": {
          "base_uri": "https://localhost:8080/"
        },
        "id": "IGrKZAeopENT",
        "outputId": "a66ba367-147c-4e99-df5f-883ae4120e60"
      },
      "source": [
        "a=input(\"Write a string that contains only `(`, `)`, `{`, `}`, `[` and `]`:\")\n",
        "b=[]\n",
        "c=(\"{[()]}\")\n",
        "for i in a:\n",
        "    if i in c:\n",
        "        b.append(i)\n",
        "x=\"\".join(b)\n",
        "left=set(\"{[(\")\n",
        "dict={\"(\" : \")\", \"[\" : \"]\", \"{\" : \"}\"}\n",
        "stack=[]\n",
        "print(x)\n",
        "for i in x:\n",
        "    if i in left:\n",
        "      stack.append(i)\n",
        "    elif stack and i == dict[stack[-1]]:\n",
        "            stack.pop()\n",
        "stack"
      ],
      "execution_count": null,
      "outputs": [
        {
          "output_type": "stream",
          "text": [
            "Write a string that contains only `(`, `)`, `{`, `}`, `[` and `]`:{[]}\n",
            "{[]}\n"
          ],
          "name": "stdout"
        },
        {
          "output_type": "execute_result",
          "data": {
            "text/plain": [
              "[]"
            ]
          },
          "metadata": {
            "tags": []
          },
          "execution_count": 3
        }
      ]
    },
    {
      "cell_type": "code",
      "metadata": {
        "id": "pfhlfRSYIo4W",
        "colab": {
          "base_uri": "https://localhost:8080/"
        },
        "outputId": "f391fae2-8a26-422a-e888-5b764190433e"
      },
      "source": [
        "limit_number = int(input(\"Up to what number to find prime numbers:\"))\n",
        "prime_number = []\n",
        "for num in range(1, (limit_number+1)):\n",
        "  if num > 1:\n",
        "    for i in range(2, num):\n",
        "      if (num % i) == 0:\n",
        "        break\n",
        "    else:\n",
        "      prime_number.append(num)\n",
        "print(prime_number)"
      ],
      "execution_count": null,
      "outputs": [
        {
          "output_type": "stream",
          "text": [
            "Up to what number to find prime numbers:100\n",
            "[2, 3, 5, 7, 11, 13, 17, 19, 23, 29, 31, 37, 41, 43, 47, 53, 59, 61, 67, 71, 73, 79, 83, 89, 97]\n"
          ],
          "name": "stdout"
        }
      ]
    },
    {
      "cell_type": "code",
      "metadata": {
        "colab": {
          "base_uri": "https://localhost:8080/"
        },
        "id": "sTESNfNh3ZYY",
        "outputId": "3b932521-c038-42ad-b2f2-85bb827f87db"
      },
      "source": [
        "nterms = int(input(\"How many terms?:\"))\n",
        "n1, n2 = 1, 1\n",
        "count = 0\n",
        "fibonacci = []\n",
        "if nterms <= 0 :\n",
        "  print(nterms = int(input(\"please positive num:\")))\n",
        "elif nterms == 1 :\n",
        "  print(\"Fibonacci sequence upto\",nterms,\":\")\n",
        "  print(n1)\n",
        "else:\n",
        "  while count < nterms :\n",
        "    fibonacci.append(n1)\n",
        "    nn = n1 + n2\n",
        "    n1 = n2\n",
        "    n2 = nn\n",
        "    \n",
        "    count += 1\n",
        " \n",
        "print(fibonacci)"
      ],
      "execution_count": null,
      "outputs": [
        {
          "output_type": "stream",
          "text": [
            "How many terms?:10\n",
            "[1, 1, 2, 3, 5, 8, 13, 21, 34, 55]\n"
          ],
          "name": "stdout"
        }
      ]
    },
    {
      "cell_type": "code",
      "metadata": {
        "colab": {
          "base_uri": "https://localhost:8080/"
        },
        "id": "kRJXleeDBQq0",
        "outputId": "e160a5c8-dd09-4d76-b242-b57c7b495c23"
      },
      "source": [
        "num = int(input(\"Print numbers from 1 to 100 inclusively:\"))\n",
        "numbers = []\n",
        "for i in range(1, num+1) :\n",
        "  if i % 15 == 0 :\n",
        "    i = \"FizzBuzz\"\n",
        "    numbers.append(i)\n",
        "  elif i % 3 == 0 :\n",
        "    i = \"Fizz\"\n",
        "    numbers.append(i)\n",
        "  elif i % 5 == 0 :\n",
        "    i = \"Buzz\"\n",
        "    numbers.append(i)\n",
        "  else :\n",
        "    numbers.append(i)\n",
        "print(numbers) "
      ],
      "execution_count": null,
      "outputs": [
        {
          "output_type": "stream",
          "text": [
            "Print numbers from 1 to 100 inclusively:100\n",
            "[1, 2, 'Fizz', 4, 'Buzz', 'Fizz', 7, 8, 'Fizz', 'Buzz', 11, 'Fizz', 13, 14, 'FizzBuzz', 16, 17, 'Fizz', 19, 'Buzz', 'Fizz', 22, 23, 'Fizz', 'Buzz', 26, 'Fizz', 28, 29, 'FizzBuzz', 31, 32, 'Fizz', 34, 'Buzz', 'Fizz', 37, 38, 'Fizz', 'Buzz', 41, 'Fizz', 43, 44, 'FizzBuzz', 46, 47, 'Fizz', 49, 'Buzz', 'Fizz', 52, 53, 'Fizz', 'Buzz', 56, 'Fizz', 58, 59, 'FizzBuzz', 61, 62, 'Fizz', 64, 'Buzz', 'Fizz', 67, 68, 'Fizz', 'Buzz', 71, 'Fizz', 73, 74, 'FizzBuzz', 76, 77, 'Fizz', 79, 'Buzz', 'Fizz', 82, 83, 'Fizz', 'Buzz', 86, 'Fizz', 88, 89, 'FizzBuzz', 91, 92, 'Fizz', 94, 'Buzz', 'Fizz', 97, 98, 'Fizz', 'Buzz']\n"
          ],
          "name": "stdout"
        }
      ]
    },
    {
      "cell_type": "code",
      "metadata": {
        "id": "Qt-e8Jd8puj2"
      },
      "source": [
        "genius = (\"Bill\", \"Rossum\", \"Guido van\", \"Gates\")"
      ],
      "execution_count": null,
      "outputs": []
    },
    {
      "cell_type": "code",
      "metadata": {
        "id": "2QAulg3bp_oH"
      },
      "source": [
        "def merger(par1, par2, par3, par4) :\n",
        "  print(f\"For me, {par1} {par4} and {par3}{par2} are geniuses.\")"
      ],
      "execution_count": null,
      "outputs": []
    },
    {
      "cell_type": "code",
      "metadata": {
        "colab": {
          "base_uri": "https://localhost:8080/"
        },
        "id": "qLl19gcJqomY",
        "outputId": "60978465-4ab9-413f-9296-05ef0740dd18"
      },
      "source": [
        "merger(*genius)"
      ],
      "execution_count": null,
      "outputs": [
        {
          "output_type": "stream",
          "text": [
            "For me, Bill Gates and Guido vanRossum are geniuses.\n"
          ],
          "name": "stdout"
        }
      ]
    },
    {
      "cell_type": "code",
      "metadata": {
        "colab": {
          "base_uri": "https://localhost:8080/"
        },
        "id": "80DI4GPTqvIX",
        "outputId": "f44206bc-98ab-4201-dfaf-e5757020337e"
      },
      "source": [
        "def gene(x='Solomon', y='David'):  # defined by positional args\n",
        "    print(x, \"belongs to Generation X\")\n",
        "    print(y, \"belongs to Generation Y\")\n",
        "dict_gene = {'y' : \"Marry\", 'x' : \"Fred\"}  #x, y her iki yerde de olmalı\n",
        "gene(**dict_gene) "
      ],
      "execution_count": null,
      "outputs": [
        {
          "output_type": "stream",
          "text": [
            "Fred belongs to Generation X\n",
            "Marry belongs to Generation Y\n"
          ],
          "name": "stdout"
        }
      ]
    },
    {
      "cell_type": "code",
      "metadata": {
        "colab": {
          "base_uri": "https://localhost:8080/"
        },
        "id": "lpLUL9qPsMYS",
        "outputId": "2f968954-43b9-49cb-c72d-fb37005c1cbb"
      },
      "source": [
        "gene()"
      ],
      "execution_count": null,
      "outputs": [
        {
          "output_type": "stream",
          "text": [
            "Solomon belongs to Generation X\n",
            "David belongs to Generation Y\n"
          ],
          "name": "stdout"
        }
      ]
    },
    {
      "cell_type": "code",
      "metadata": {
        "colab": {
          "base_uri": "https://localhost:8080/",
          "height": 129
        },
        "id": "yOw6-x02tZ7j",
        "outputId": "c96942eb-7891-4ab2-cb46-9c450060028b"
      },
      "source": [
        "<img src=\"https://i.pinimg.com/originals/e6/87/61/e687614048a36165dd49b6fb18a12b5d.png\" height= \"100\" width = \"200\" alt= \"izdivac\">"
      ],
      "execution_count": null,
      "outputs": [
        {
          "output_type": "error",
          "ename": "SyntaxError",
          "evalue": "ignored",
          "traceback": [
            "\u001b[0;36m  File \u001b[0;32m\"<ipython-input-8-4cea738355a3>\"\u001b[0;36m, line \u001b[0;32m1\u001b[0m\n\u001b[0;31m    <img src=\"https://i.pinimg.com/originals/e6/87/61/e687614048a36165dd49b6fb18a12b5d.png\" height= \"100\" width = \"200\" alt= \"izdivac\">\u001b[0m\n\u001b[0m    ^\u001b[0m\n\u001b[0;31mSyntaxError\u001b[0m\u001b[0;31m:\u001b[0m invalid syntax\n"
          ]
        }
      ]
    },
    {
      "cell_type": "code",
      "metadata": {
        "id": "k5TbS4NHsZ9d"
      },
      "source": [
        "dict_couple = {\"bride\" : [\"mary\", \"bella\", \"linda\"],\n",
        "               \"groom\" : [\"rye\", \"fred\", \"roland\"]}"
      ],
      "execution_count": null,
      "outputs": []
    },
    {
      "cell_type": "code",
      "metadata": {
        "id": "8zaFq-89vWxN"
      },
      "source": [
        "def couples(bride, groom) :\n",
        "  couple_list = []\n",
        "  for x in zip(bride, groom) :\n",
        "    couple_list.append(x)\n",
        "  return couple_list"
      ],
      "execution_count": null,
      "outputs": []
    },
    {
      "cell_type": "code",
      "metadata": {
        "colab": {
          "base_uri": "https://localhost:8080/"
        },
        "id": "ijY2X80AvP_t",
        "outputId": "189b8b84-5d04-4a9c-e8fb-8ef40a0cae2b"
      },
      "source": [
        "couples(**dict_couple)"
      ],
      "execution_count": null,
      "outputs": [
        {
          "output_type": "execute_result",
          "data": {
            "text/plain": [
              "[('mary', 'rye'), ('bella', 'fred'), ('linda', 'roland')]"
            ]
          },
          "metadata": {
            "tags": []
          },
          "execution_count": 11
        }
      ]
    },
    {
      "cell_type": "code",
      "metadata": {
        "id": "jqrLY0Jhxnq0"
      },
      "source": [
        "def couples(bride, groom) :\n",
        "  return [x for x in zip(bride, groom)]"
      ],
      "execution_count": null,
      "outputs": []
    },
    {
      "cell_type": "code",
      "metadata": {
        "colab": {
          "base_uri": "https://localhost:8080/"
        },
        "id": "sg9zhRRKx1A8",
        "outputId": "ef5bb7eb-7592-4506-ddbe-9d3e05ff513c"
      },
      "source": [
        "couples(**dict_couple)"
      ],
      "execution_count": null,
      "outputs": [
        {
          "output_type": "execute_result",
          "data": {
            "text/plain": [
              "[('mary', 'rye'), ('bella', 'fred'), ('linda', 'roland')]"
            ]
          },
          "metadata": {
            "tags": []
          },
          "execution_count": 13
        }
      ]
    },
    {
      "cell_type": "code",
      "metadata": {
        "id": "NIjQuKeOyOey"
      },
      "source": [
        "def meaner(ahmet, joseph, linda) :\n",
        "  average = (ahmet + joseph + linda) / 3\n",
        "  print(\"The average of their ages is :\", average)\n"
      ],
      "execution_count": null,
      "outputs": []
    },
    {
      "cell_type": "code",
      "metadata": {
        "id": "WI1xN3rAzAsm"
      },
      "source": [
        "friends = {\"ahmet\" : 44, \"joseph\" : 39, \"linda\" : 55}"
      ],
      "execution_count": null,
      "outputs": []
    },
    {
      "cell_type": "code",
      "metadata": {
        "colab": {
          "base_uri": "https://localhost:8080/"
        },
        "id": "LWuJeMaFzLO5",
        "outputId": "dd223c60-9f1a-4c54-bc3c-4a954de51518"
      },
      "source": [
        "friends[\"ahmet\"]"
      ],
      "execution_count": null,
      "outputs": [
        {
          "output_type": "execute_result",
          "data": {
            "text/plain": [
              "44"
            ]
          },
          "metadata": {
            "tags": []
          },
          "execution_count": 16
        }
      ]
    },
    {
      "cell_type": "code",
      "metadata": {
        "colab": {
          "base_uri": "https://localhost:8080/"
        },
        "id": "N1kAoWrLzmIZ",
        "outputId": "19c1ece1-5e04-4e61-8cfd-732d4241febe"
      },
      "source": [
        "meaner(**friends)"
      ],
      "execution_count": null,
      "outputs": [
        {
          "output_type": "stream",
          "text": [
            "The average of their ages is : 46.0\n"
          ],
          "name": "stdout"
        }
      ]
    },
    {
      "cell_type": "code",
      "metadata": {
        "colab": {
          "base_uri": "https://localhost:8080/"
        },
        "id": "kr1uDTB4D5H4",
        "outputId": "3bd77f35-0d08-4562-c3cc-943417186257"
      },
      "source": [
        "string=input(\"Write a string that contains only `(`, `)`, `{`, `}`, `[` and `]`:\")\n",
        "while (\"()\" in string) or( \"[]\" in string)  or (\"{}\" in string) :\n",
        "    string=string.replace(\"()\",\"\")\n",
        "    string=string.replace(\"[]\",\"\")\n",
        "    string=string.replace(\"{}\",\"\")\n",
        "if len (string)== 0:\n",
        "    print(True)\n",
        "else:\n",
        "    print(False)"
      ],
      "execution_count": null,
      "outputs": [
        {
          "output_type": "stream",
          "text": [
            "Write a string that contains only `(`, `)`, `{`, `}`, `[` and `]`:)(\n",
            "False\n"
          ],
          "name": "stdout"
        }
      ]
    },
    {
      "cell_type": "code",
      "metadata": {
        "colab": {
          "base_uri": "https://localhost:8080/"
        },
        "id": "Rxfsdtx8Ead0",
        "outputId": "bfeb3858-7f25-4e6b-fbde-03aee6477f85"
      },
      "source": [
        "def query(s):\n",
        "    while \"()\" in s or \"{}\" in s or '[]' in s:\n",
        "        s = s.replace(\"()\", \"\").replace('{}', \"\").replace('[]', \"\")\n",
        "    return s == ''\n",
        "print(query(('()]')))"
      ],
      "execution_count": null,
      "outputs": [
        {
          "output_type": "stream",
          "text": [
            "False\n"
          ],
          "name": "stdout"
        }
      ]
    },
    {
      "cell_type": "code",
      "metadata": {
        "id": "B_5TEYt-Folw"
      },
      "source": [
        "x = \"([)]([)]\""
      ],
      "execution_count": null,
      "outputs": []
    },
    {
      "cell_type": "code",
      "metadata": {
        "id": "-MBnhfFfEd5j"
      },
      "source": [
        "def isValid(s) :\n",
        "  while \"()\" in s or \"{}\" in s or \"[]\" in s:\n",
        "    s = s.replace(\"()\", \"\").replace(\"[]\", \"\").replace(\"{}\", \"\")\n",
        "  return s == \"\""
      ],
      "execution_count": null,
      "outputs": []
    },
    {
      "cell_type": "code",
      "metadata": {
        "colab": {
          "base_uri": "https://localhost:8080/"
        },
        "id": "GRivegqPHSwU",
        "outputId": "acf3fe61-4227-4527-fdb2-9ad95dcde2a2"
      },
      "source": [
        "isValid(x)"
      ],
      "execution_count": null,
      "outputs": [
        {
          "output_type": "execute_result",
          "data": {
            "text/plain": [
              "False"
            ]
          },
          "metadata": {
            "tags": []
          },
          "execution_count": 36
        }
      ]
    },
    {
      "cell_type": "code",
      "metadata": {
        "colab": {
          "base_uri": "https://localhost:8080/",
          "height": 35
        },
        "id": "Dh2DrWzFHWc3",
        "outputId": "2eb1e0d5-c27d-4d61-ebf4-8d6f5e840cc6"
      },
      "source": [
        "(lambda x : \"odd\" if x%2 else \"even\")(3)"
      ],
      "execution_count": null,
      "outputs": [
        {
          "output_type": "execute_result",
          "data": {
            "application/vnd.google.colaboratory.intrinsic+json": {
              "type": "string"
            },
            "text/plain": [
              "'odd'"
            ]
          },
          "metadata": {
            "tags": []
          },
          "execution_count": 37
        }
      ]
    },
    {
      "cell_type": "code",
      "metadata": {
        "colab": {
          "base_uri": "https://localhost:8080/",
          "height": 35
        },
        "id": "qAntez-bPqhA",
        "outputId": "273304dd-6d65-4053-955e-0957f685290b"
      },
      "source": [
        "(lambda x : \"odd\" if x%2 else \"even\")(10)"
      ],
      "execution_count": null,
      "outputs": [
        {
          "output_type": "execute_result",
          "data": {
            "application/vnd.google.colaboratory.intrinsic+json": {
              "type": "string"
            },
            "text/plain": [
              "'even'"
            ]
          },
          "metadata": {
            "tags": []
          },
          "execution_count": 38
        }
      ]
    },
    {
      "cell_type": "code",
      "metadata": {
        "id": "iuUqMXg6PwCc"
      },
      "source": [
        "average = (lambda a, b : a**2 + b**2)(3, 5)"
      ],
      "execution_count": null,
      "outputs": []
    },
    {
      "cell_type": "code",
      "metadata": {
        "colab": {
          "base_uri": "https://localhost:8080/"
        },
        "id": "nGHdKQIeQdfv",
        "outputId": "b0bef7ae-ed95-45b6-96de-fa1bc8487042"
      },
      "source": [
        "print(average)"
      ],
      "execution_count": null,
      "outputs": [
        {
          "output_type": "stream",
          "text": [
            "34\n"
          ],
          "name": "stdout"
        }
      ]
    },
    {
      "cell_type": "code",
      "metadata": {
        "id": "lpqAqCGLQf8u"
      },
      "source": [
        "iterable = \"clarusway\"\n",
        "reverser = (lambda x : x[::-1])(iterable)"
      ],
      "execution_count": null,
      "outputs": []
    },
    {
      "cell_type": "code",
      "metadata": {
        "colab": {
          "base_uri": "https://localhost:8080/"
        },
        "id": "19nwZNdvRWJs",
        "outputId": "808a5acb-7920-451d-9f2f-59b18a24ab30"
      },
      "source": [
        "print(reverser)"
      ],
      "execution_count": null,
      "outputs": [
        {
          "output_type": "stream",
          "text": [
            "yawsuralc\n"
          ],
          "name": "stdout"
        }
      ]
    },
    {
      "cell_type": "code",
      "metadata": {
        "colab": {
          "base_uri": "https://localhost:8080/"
        },
        "id": "rylV1ZWSRYv1",
        "outputId": "15583ea1-9ab1-40c5-8007-fdf03e1a0c90"
      },
      "source": [
        "for i in [1, 2, 3, 4, 5, 6]:\n",
        "  print(i, \":\", (lambda x : \"odd\" if x%2 != 0 else \"even\")(i))"
      ],
      "execution_count": null,
      "outputs": [
        {
          "output_type": "stream",
          "text": [
            "1 : odd\n",
            "2 : even\n",
            "3 : odd\n",
            "4 : even\n",
            "5 : odd\n",
            "6 : even\n"
          ],
          "name": "stdout"
        }
      ]
    },
    {
      "cell_type": "code",
      "metadata": {
        "id": "dX0HoaXaST0S"
      },
      "source": [
        "hipotanüs = lambda a, b : a**2 + b**2"
      ],
      "execution_count": null,
      "outputs": []
    },
    {
      "cell_type": "code",
      "metadata": {
        "colab": {
          "base_uri": "https://localhost:8080/"
        },
        "id": "Jmi7tr27Ubb-",
        "outputId": "7327ae74-2180-41a8-8430-dabe5c67543f"
      },
      "source": [
        "hipotanüs(3,5)"
      ],
      "execution_count": null,
      "outputs": [
        {
          "output_type": "execute_result",
          "data": {
            "text/plain": [
              "34"
            ]
          },
          "metadata": {
            "tags": []
          },
          "execution_count": 57
        }
      ]
    },
    {
      "cell_type": "code",
      "metadata": {
        "id": "uDvN20aYUexG"
      },
      "source": [
        "iterable = [1,2,3,4,5]"
      ],
      "execution_count": null,
      "outputs": []
    },
    {
      "cell_type": "code",
      "metadata": {
        "id": "CKoLydVQW9sN"
      },
      "source": [
        "result = map(lambda x : x**2, iterable)"
      ],
      "execution_count": null,
      "outputs": []
    },
    {
      "cell_type": "code",
      "metadata": {
        "colab": {
          "base_uri": "https://localhost:8080/"
        },
        "id": "srv_07FuXjl3",
        "outputId": "392d4689-4feb-4663-9c12-e2d15933dfdb"
      },
      "source": [
        "print(*result)"
      ],
      "execution_count": null,
      "outputs": [
        {
          "output_type": "stream",
          "text": [
            "1 4 9 16 25\n"
          ],
          "name": "stdout"
        }
      ]
    },
    {
      "cell_type": "code",
      "metadata": {
        "id": "9mZIku8_Xlke"
      },
      "source": [
        "for i in result:\n",
        "  print(i)"
      ],
      "execution_count": null,
      "outputs": []
    },
    {
      "cell_type": "code",
      "metadata": {
        "id": "h_wmKDBwYIWX"
      },
      "source": [
        "def karesinial(x) :\n",
        "  return x**2"
      ],
      "execution_count": null,
      "outputs": []
    },
    {
      "cell_type": "code",
      "metadata": {
        "id": "aVhItRseYNyL"
      },
      "source": [
        "result = map(karesinial, iterable)"
      ],
      "execution_count": null,
      "outputs": []
    },
    {
      "cell_type": "code",
      "metadata": {
        "colab": {
          "base_uri": "https://localhost:8080/"
        },
        "id": "wvFYirGPYTsT",
        "outputId": "39bb7618-8907-4b6b-d9cc-c665becfa89d"
      },
      "source": [
        "print(*result)"
      ],
      "execution_count": null,
      "outputs": [
        {
          "output_type": "stream",
          "text": [
            "1 4 9 16 25\n"
          ],
          "name": "stdout"
        }
      ]
    },
    {
      "cell_type": "code",
      "metadata": {
        "id": "0sNbvlqbYWQQ"
      },
      "source": [
        "iterable_2 = [\"ahmet\", \"mehmet ve kuzeni\", \"cemilin bacısı\"]"
      ],
      "execution_count": null,
      "outputs": []
    },
    {
      "cell_type": "code",
      "metadata": {
        "colab": {
          "base_uri": "https://localhost:8080/"
        },
        "id": "gurbvyGSYkzy",
        "outputId": "04724f7f-0992-4fe2-c7ae-801dee59550d"
      },
      "source": [
        "result_2 = map(len, iterable_2)\n",
        "print(*result_2)"
      ],
      "execution_count": null,
      "outputs": [
        {
          "output_type": "stream",
          "text": [
            "5 16 14\n"
          ],
          "name": "stdout"
        }
      ]
    },
    {
      "cell_type": "code",
      "metadata": {
        "id": "17RhDtsnYup9"
      },
      "source": [
        "letter1 = [\"o\", \"s\", \"t\", \"t\"]\n",
        "letter2 = [\"n\", \"i\", \"e\", \"w\"]\n",
        "letter3 = [\"e\", \"x\", \"n\", \"o\"]\n",
        "numbers = map(lambda x, y, z : x+y+z, letter1, letter2, letter3)\n",
        "print(list(numbers))"
      ],
      "execution_count": null,
      "outputs": []
    },
    {
      "cell_type": "code",
      "metadata": {
        "colab": {
          "base_uri": "https://localhost:8080/"
        },
        "id": "xx6OF8l0cACe",
        "outputId": "c2477e36-2a71-4c5e-e949-187924987809"
      },
      "source": [
        "letter1 = [\"a\", \"b\", \"c\"]\n",
        "letter2 = [\"x\", \"y\", \"z\"]\n",
        "s = map(zip, letter1, letter2)\n",
        "for i in s :\n",
        "    for ii in i :\n",
        "        print(ii)"
      ],
      "execution_count": null,
      "outputs": [
        {
          "output_type": "stream",
          "text": [
            "('a', 'x')\n",
            "('b', 'y')\n",
            "('c', 'z')\n"
          ],
          "name": "stdout"
        }
      ]
    },
    {
      "cell_type": "code",
      "metadata": {
        "colab": {
          "base_uri": "https://localhost:8080/"
        },
        "id": "V1icuaoG7isI",
        "outputId": "5db4ca68-a114-4cb2-f00b-9c5dfa02f526"
      },
      "source": [
        "def parrot_trouble(talking, hour):\n",
        "  if talking == True and (hour<7 or hour>20):\n",
        "            return True\n",
        "  else:\n",
        "            return False\n",
        "print(parrot_trouble(True, 5))"
      ],
      "execution_count": null,
      "outputs": [
        {
          "output_type": "stream",
          "text": [
            "True\n"
          ],
          "name": "stdout"
        }
      ]
    },
    {
      "cell_type": "code",
      "metadata": {
        "id": "kcwon_pBgHrv",
        "colab": {
          "base_uri": "https://localhost:8080/"
        },
        "outputId": "2422a188-015e-425c-d137-d09d6ec4a6c5"
      },
      "source": [
        "def not_string(word):\n",
        "  if 'not' in word:\n",
        "    return(word)\n",
        "  else:\n",
        "    return('not '+word)\n",
        "print(not_string('not sugar'))\n",
        "\n",
        "\n",
        "    "
      ],
      "execution_count": null,
      "outputs": [
        {
          "output_type": "stream",
          "text": [
            "not sugar\n"
          ],
          "name": "stdout"
        }
      ]
    },
    {
      "cell_type": "code",
      "metadata": {
        "colab": {
          "base_uri": "https://localhost:8080/"
        },
        "id": "9I5g1q4XB27n",
        "outputId": "423a73ff-0393-4afa-c774-75740ab3acd1"
      },
      "source": [
        "(lambda x, y : (x+y)/2)(5,3)"
      ],
      "execution_count": null,
      "outputs": [
        {
          "output_type": "execute_result",
          "data": {
            "text/plain": [
              "4.0"
            ]
          },
          "metadata": {
            "tags": []
          },
          "execution_count": 6
        }
      ]
    },
    {
      "cell_type": "code",
      "metadata": {
        "id": "mjTJRQ-QCK0e"
      },
      "source": [
        "num1 = [9, 6, 7, 4]\n",
        "num2 = [3, 6, 5, 8]"
      ],
      "execution_count": null,
      "outputs": []
    },
    {
      "cell_type": "code",
      "metadata": {
        "colab": {
          "base_uri": "https://localhost:8080/"
        },
        "id": "MRXPaCnDCXxK",
        "outputId": "496d220a-6db9-41e2-96c5-445338edb830"
      },
      "source": [
        "numbers = map(lambda x, y : (x+y)/2, num1, num2)\n",
        "print(* numbers)"
      ],
      "execution_count": null,
      "outputs": [
        {
          "output_type": "stream",
          "text": [
            "6.0 6.0 6.0 6.0\n"
          ],
          "name": "stdout"
        }
      ]
    },
    {
      "cell_type": "code",
      "metadata": {
        "id": "SDiP8VaFDOtt"
      },
      "source": [
        "words1=[\"you\", \"much\", \"hard\"]\n",
        "words2=[\"i\", \"you\", \"he\"]\n",
        "words3=[\"love\", \"ate\", \"works\"]"
      ],
      "execution_count": null,
      "outputs": []
    },
    {
      "cell_type": "code",
      "metadata": {
        "id": "5F4rDsXpD9xK"
      },
      "source": [
        "sentence = map(lambda x, y, z : x + \" \" + y + \" \" + z, words2, words3, words1)"
      ],
      "execution_count": null,
      "outputs": []
    },
    {
      "cell_type": "code",
      "metadata": {
        "colab": {
          "base_uri": "https://localhost:8080/"
        },
        "id": "58DoXf2wE6qd",
        "outputId": "e6342542-a7dc-4372-c695-e85986d3c2ee"
      },
      "source": [
        "for i in sentence :\n",
        "  print(i)"
      ],
      "execution_count": null,
      "outputs": [
        {
          "output_type": "stream",
          "text": [
            "i love you\n",
            "you ate much\n",
            "he works hard\n"
          ],
          "name": "stdout"
        }
      ]
    },
    {
      "cell_type": "code",
      "metadata": {
        "colab": {
          "base_uri": "https://localhost:8080/"
        },
        "id": "c__sc2abE_kW",
        "outputId": "ac6810ce-81ee-4ea4-dc75-820f746508fc"
      },
      "source": [
        "words1 = [\"you\", \"much\", \"hard\"]\n",
        "words2 = [\"i\",\"you\",\"he\"]\n",
        "words3 = [\"love\",\"ate\",\"works\"]\n",
        "sentence = map(lambda x,y,z: x+\" \"+\" \"+y+\" \"+z,words2,words3,words1 )\n",
        "print(* sentence)"
      ],
      "execution_count": null,
      "outputs": [
        {
          "output_type": "stream",
          "text": [
            "i  love you you  ate much he  works hard\n"
          ],
          "name": "stdout"
        }
      ]
    },
    {
      "cell_type": "code",
      "metadata": {
        "colab": {
          "base_uri": "https://localhost:8080/"
        },
        "id": "lr1Eg7cBGIkJ",
        "outputId": "678aaed1-fd88-4a24-ccb4-f8e6dfbebd5e"
      },
      "source": [
        "first_ten = [0, 1, 2, 3, 4, 5, 6, 7, 8, 9]\n",
        "even = filter(lambda x:x%2==0, first_ten)\n",
        "print(type(even))\n",
        "print('even numbers are :', * even )"
      ],
      "execution_count": null,
      "outputs": [
        {
          "output_type": "stream",
          "text": [
            "<class 'filter'>\n",
            "even numbers are : 0 2 4 6 8\n"
          ],
          "name": "stdout"
        }
      ]
    },
    {
      "cell_type": "code",
      "metadata": {
        "id": "VkV6yZlYGUZQ"
      },
      "source": [
        "words = ['apple', 'swim', \"clock\", \"me\", \"kiwi\", \"banana\"]"
      ],
      "execution_count": null,
      "outputs": []
    },
    {
      "cell_type": "code",
      "metadata": {
        "colab": {
          "base_uri": "https://localhost:8080/"
        },
        "id": "-0dpHbJDGh9w",
        "outputId": "66f964b3-fa85-43dc-987e-5265eb04b131"
      },
      "source": [
        "for i in filter(lambda x : len(x) < 5, words):\n",
        "  print(i)"
      ],
      "execution_count": null,
      "outputs": [
        {
          "output_type": "stream",
          "text": [
            "swim\n",
            "me\n",
            "kiwi\n"
          ],
          "name": "stdout"
        }
      ]
    },
    {
      "cell_type": "code",
      "metadata": {
        "colab": {
          "base_uri": "https://localhost:8080/"
        },
        "id": "tzRPt7omIEW9",
        "outputId": "b85bcc4a-ec3c-47ac-cfb2-d1f46781426c"
      },
      "source": [
        "def modular_function(n):\n",
        "    return lambda x: x ** n\n",
        "power_of_2 = modular_function(2)  # first sub-function derived from def\n",
        "power_of_3 = modular_function(3)  # second sub-function derived from def\n",
        "power_of_4 = modular_function(4)  # third sub-function derived from def\n",
        "print(power_of_2(2))  # 2 to the power of 2\n",
        "print(power_of_3(2))  # 2 to the power of 3\n",
        "print(power_of_4(2))  # 2 to the power of 4"
      ],
      "execution_count": null,
      "outputs": [
        {
          "output_type": "stream",
          "text": [
            "4\n",
            "8\n",
            "16\n"
          ],
          "name": "stdout"
        }
      ]
    },
    {
      "cell_type": "code",
      "metadata": {
        "colab": {
          "base_uri": "https://localhost:8080/"
        },
        "id": "2ehzsZz-J6Cp",
        "outputId": "44387629-92e3-4631-dd51-5054941b81cf"
      },
      "source": [
        "def functioner(n):\n",
        "  return lambda x: str(x) + n\n",
        "myPrint_smile = functioner(\":)\")\n",
        "myPrint_sad = functioner(\":(\")\n",
        "myPrint_neutral = functioner(\":|\")\n",
        "print(myPrint_smile(55))\n",
        "print(myPrint_sad(\"hello\"))\n",
        "print(myPrint_neutral(\"hello\"))\n",
        "\n"
      ],
      "execution_count": null,
      "outputs": [
        {
          "output_type": "stream",
          "text": [
            "55:)\n",
            "hello:(\n",
            "hello:|\n"
          ],
          "name": "stdout"
        }
      ]
    },
    {
      "cell_type": "code",
      "metadata": {
        "colab": {
          "base_uri": "https://localhost:8080/"
        },
        "id": "obg6jNRFSCud",
        "outputId": "11dabd7e-ade8-43a8-e12b-fbf1d6b0f21e"
      },
      "source": [
        "def functioner(n):\n",
        "  return lambda x: str(x) + n\n",
        "myPrint_smile = functioner(\":)\")(55)\n",
        "print(myPrint_smile)"
      ],
      "execution_count": null,
      "outputs": [
        {
          "output_type": "stream",
          "text": [
            "55:)\n"
          ],
          "name": "stdout"
        }
      ]
    },
    {
      "cell_type": "code",
      "metadata": {
        "colab": {
          "base_uri": "https://localhost:8080/"
        },
        "id": "V3Hhais1UqNm",
        "outputId": "79e0de9a-c338-44fd-f4d8-57c69d89688a"
      },
      "source": [
        "def func_genereator(func_name):\n",
        "  return lambda x: func_name(x)\n",
        "yavuz_max = func_genereator(max)\n",
        "yavuz_max([1,6,8,3,1])"
      ],
      "execution_count": null,
      "outputs": [
        {
          "output_type": "execute_result",
          "data": {
            "text/plain": [
              "8"
            ]
          },
          "metadata": {
            "tags": []
          },
          "execution_count": 41
        }
      ]
    },
    {
      "cell_type": "code",
      "metadata": {
        "id": "1lxMwww2hixf"
      },
      "source": [
        "import math"
      ],
      "execution_count": null,
      "outputs": []
    },
    {
      "cell_type": "code",
      "metadata": {
        "id": "RKLqMxmthlPA"
      },
      "source": [
        "math.factorial()"
      ],
      "execution_count": null,
      "outputs": []
    },
    {
      "cell_type": "code",
      "metadata": {
        "id": "j1yBnByWh4PE"
      },
      "source": [
        "import math as matematik"
      ],
      "execution_count": null,
      "outputs": []
    },
    {
      "cell_type": "code",
      "metadata": {
        "id": "PUSMdOxDiBXs"
      },
      "source": [
        "matematik."
      ],
      "execution_count": null,
      "outputs": []
    },
    {
      "cell_type": "code",
      "metadata": {
        "colab": {
          "base_uri": "https://localhost:8080/"
        },
        "id": "UIBh3PsgiZLY",
        "outputId": "d1eaa384-0244-449b-9fd6-5ca0f6653788"
      },
      "source": [
        "math.e"
      ],
      "execution_count": null,
      "outputs": [
        {
          "output_type": "execute_result",
          "data": {
            "text/plain": [
              "2.718281828459045"
            ]
          },
          "metadata": {
            "tags": []
          },
          "execution_count": 45
        }
      ]
    },
    {
      "cell_type": "code",
      "metadata": {
        "colab": {
          "base_uri": "https://localhost:8080/"
        },
        "id": "7DC7_MyUio85",
        "outputId": "454f89fe-14dd-4868-c532-2c85258e7ac0"
      },
      "source": [
        "matematik.factorial(5)"
      ],
      "execution_count": null,
      "outputs": [
        {
          "output_type": "execute_result",
          "data": {
            "text/plain": [
              "120"
            ]
          },
          "metadata": {
            "tags": []
          },
          "execution_count": 46
        }
      ]
    },
    {
      "cell_type": "code",
      "metadata": {
        "colab": {
          "base_uri": "https://localhost:8080/"
        },
        "id": "slxcWJtUisxg",
        "outputId": "133d69dc-f33e-47d0-d336-94b74beb9364"
      },
      "source": [
        "dir(math)"
      ],
      "execution_count": null,
      "outputs": [
        {
          "output_type": "execute_result",
          "data": {
            "text/plain": [
              "['__doc__',\n",
              " '__loader__',\n",
              " '__name__',\n",
              " '__package__',\n",
              " '__spec__',\n",
              " 'acos',\n",
              " 'acosh',\n",
              " 'asin',\n",
              " 'asinh',\n",
              " 'atan',\n",
              " 'atan2',\n",
              " 'atanh',\n",
              " 'ceil',\n",
              " 'copysign',\n",
              " 'cos',\n",
              " 'cosh',\n",
              " 'degrees',\n",
              " 'e',\n",
              " 'erf',\n",
              " 'erfc',\n",
              " 'exp',\n",
              " 'expm1',\n",
              " 'fabs',\n",
              " 'factorial',\n",
              " 'floor',\n",
              " 'fmod',\n",
              " 'frexp',\n",
              " 'fsum',\n",
              " 'gamma',\n",
              " 'gcd',\n",
              " 'hypot',\n",
              " 'inf',\n",
              " 'isclose',\n",
              " 'isfinite',\n",
              " 'isinf',\n",
              " 'isnan',\n",
              " 'ldexp',\n",
              " 'lgamma',\n",
              " 'log',\n",
              " 'log10',\n",
              " 'log1p',\n",
              " 'log2',\n",
              " 'modf',\n",
              " 'nan',\n",
              " 'pi',\n",
              " 'pow',\n",
              " 'radians',\n",
              " 'remainder',\n",
              " 'sin',\n",
              " 'sinh',\n",
              " 'sqrt',\n",
              " 'tan',\n",
              " 'tanh',\n",
              " 'tau',\n",
              " 'trunc']"
            ]
          },
          "metadata": {
            "tags": []
          },
          "execution_count": 47
        }
      ]
    },
    {
      "cell_type": "code",
      "metadata": {
        "id": "USva6Y_ti1ih"
      },
      "source": [
        "from math import pi, log10, factorial"
      ],
      "execution_count": null,
      "outputs": []
    },
    {
      "cell_type": "code",
      "metadata": {
        "colab": {
          "base_uri": "https://localhost:8080/"
        },
        "id": "6mHbuqBSjefk",
        "outputId": "43fbdb60-93ce-4950-9ab8-8e79858874ce"
      },
      "source": [
        "print(pi)"
      ],
      "execution_count": null,
      "outputs": [
        {
          "output_type": "stream",
          "text": [
            "3.141592653589793\n"
          ],
          "name": "stdout"
        }
      ]
    },
    {
      "cell_type": "code",
      "metadata": {
        "colab": {
          "base_uri": "https://localhost:8080/"
        },
        "id": "HDaMde-gjgj0",
        "outputId": "107817ec-41a2-47bb-8bea-f32ff3c64ec4"
      },
      "source": [
        "print(log10(1000))"
      ],
      "execution_count": null,
      "outputs": [
        {
          "output_type": "stream",
          "text": [
            "3.0\n"
          ],
          "name": "stdout"
        }
      ]
    },
    {
      "cell_type": "code",
      "metadata": {
        "colab": {
          "base_uri": "https://localhost:8080/"
        },
        "id": "WEdcms8QjmO7",
        "outputId": "9e7eb7d6-31b1-4b31-9e5a-cde77014e552"
      },
      "source": [
        "print(factorial(4))"
      ],
      "execution_count": null,
      "outputs": [
        {
          "output_type": "stream",
          "text": [
            "24\n"
          ],
          "name": "stdout"
        }
      ]
    },
    {
      "cell_type": "code",
      "metadata": {
        "colab": {
          "base_uri": "https://localhost:8080/"
        },
        "id": "f79GJ2H2jrUI",
        "outputId": "48ee5316-dc5a-4b06-ae00-0ae2c8850e48"
      },
      "source": [
        "matematik.factorial(4)"
      ],
      "execution_count": null,
      "outputs": [
        {
          "output_type": "execute_result",
          "data": {
            "text/plain": [
              "24"
            ]
          },
          "metadata": {
            "tags": []
          },
          "execution_count": 52
        }
      ]
    },
    {
      "cell_type": "code",
      "metadata": {
        "id": "AZ_XA5INj7Xy"
      },
      "source": [
        "import string "
      ],
      "execution_count": null,
      "outputs": []
    },
    {
      "cell_type": "code",
      "metadata": {
        "colab": {
          "base_uri": "https://localhost:8080/",
          "height": 35
        },
        "id": "1Bi7EtofkYnc",
        "outputId": "d1a7ae8a-0147-4d84-fb17-403feb401afe"
      },
      "source": [
        "string.punctuation"
      ],
      "execution_count": null,
      "outputs": [
        {
          "output_type": "execute_result",
          "data": {
            "application/vnd.google.colaboratory.intrinsic+json": {
              "type": "string"
            },
            "text/plain": [
              "'!\"#$%&\\'()*+,-./:;<=>?@[\\\\]^_`{|}~'"
            ]
          },
          "metadata": {
            "tags": []
          },
          "execution_count": 54
        }
      ]
    },
    {
      "cell_type": "code",
      "metadata": {
        "colab": {
          "base_uri": "https://localhost:8080/"
        },
        "id": "-hdNaT19kcl5",
        "outputId": "3f549951-c50f-4191-9bb8-0831743ed0cb"
      },
      "source": [
        "dir(string)"
      ],
      "execution_count": null,
      "outputs": [
        {
          "output_type": "execute_result",
          "data": {
            "text/plain": [
              "['Formatter',\n",
              " 'Template',\n",
              " '_ChainMap',\n",
              " '_TemplateMetaclass',\n",
              " '__all__',\n",
              " '__builtins__',\n",
              " '__cached__',\n",
              " '__doc__',\n",
              " '__file__',\n",
              " '__loader__',\n",
              " '__name__',\n",
              " '__package__',\n",
              " '__spec__',\n",
              " '_re',\n",
              " '_string',\n",
              " 'ascii_letters',\n",
              " 'ascii_lowercase',\n",
              " 'ascii_uppercase',\n",
              " 'capwords',\n",
              " 'digits',\n",
              " 'hexdigits',\n",
              " 'octdigits',\n",
              " 'printable',\n",
              " 'punctuation',\n",
              " 'whitespace']"
            ]
          },
          "metadata": {
            "tags": []
          },
          "execution_count": 55
        }
      ]
    },
    {
      "cell_type": "code",
      "metadata": {
        "colab": {
          "base_uri": "https://localhost:8080/",
          "height": 35
        },
        "id": "zW8FstB9kn7y",
        "outputId": "b9e9cb2c-0d79-40ee-e472-fca30d1ca972"
      },
      "source": [
        "string.digits"
      ],
      "execution_count": null,
      "outputs": [
        {
          "output_type": "execute_result",
          "data": {
            "application/vnd.google.colaboratory.intrinsic+json": {
              "type": "string"
            },
            "text/plain": [
              "'0123456789'"
            ]
          },
          "metadata": {
            "tags": []
          },
          "execution_count": 56
        }
      ]
    },
    {
      "cell_type": "code",
      "metadata": {
        "id": "e_cOzNxakrn0"
      },
      "source": [
        "import datetime"
      ],
      "execution_count": null,
      "outputs": []
    },
    {
      "cell_type": "code",
      "metadata": {
        "colab": {
          "base_uri": "https://localhost:8080/"
        },
        "id": "ojg7gyI1lKhp",
        "outputId": "d4fc9d99-c9b1-44aa-cb7a-1b444c045105"
      },
      "source": [
        "datetime.date"
      ],
      "execution_count": null,
      "outputs": [
        {
          "output_type": "execute_result",
          "data": {
            "text/plain": [
              "datetime.date"
            ]
          },
          "metadata": {
            "tags": []
          },
          "execution_count": 58
        }
      ]
    },
    {
      "cell_type": "code",
      "metadata": {
        "colab": {
          "base_uri": "https://localhost:8080/"
        },
        "id": "StuWEGXqlO7E",
        "outputId": "50d09d46-0b1a-4f92-a741-e760a8658388"
      },
      "source": [
        "datetime.date.today"
      ],
      "execution_count": null,
      "outputs": [
        {
          "output_type": "execute_result",
          "data": {
            "text/plain": [
              "<function date.today>"
            ]
          },
          "metadata": {
            "tags": []
          },
          "execution_count": 59
        }
      ]
    },
    {
      "cell_type": "code",
      "metadata": {
        "colab": {
          "base_uri": "https://localhost:8080/"
        },
        "id": "WN3VQAaQlUgd",
        "outputId": "3a48d850-e22f-4c03-e15a-b22d0dddb4cc"
      },
      "source": [
        "print(datetime.date.today())"
      ],
      "execution_count": null,
      "outputs": [
        {
          "output_type": "stream",
          "text": [
            "2021-05-08\n"
          ],
          "name": "stdout"
        }
      ]
    },
    {
      "cell_type": "code",
      "metadata": {
        "id": "jsuswQtqlY-l"
      },
      "source": [
        "from datetime.date import today"
      ],
      "execution_count": null,
      "outputs": []
    },
    {
      "cell_type": "code",
      "metadata": {
        "colab": {
          "base_uri": "https://localhost:8080/"
        },
        "id": "yiOWHqo6mVjs",
        "outputId": "e3d26576-aa98-4fca-92fe-c50e5e6a3257"
      },
      "source": [
        "print(datetime.datetime.now())"
      ],
      "execution_count": null,
      "outputs": [
        {
          "output_type": "stream",
          "text": [
            "2021-05-08 10:55:33.112346\n"
          ],
          "name": "stdout"
        }
      ]
    },
    {
      "cell_type": "code",
      "metadata": {
        "id": "U5m52qAYnj12"
      },
      "source": [
        "from datetime import date"
      ],
      "execution_count": null,
      "outputs": []
    },
    {
      "cell_type": "code",
      "metadata": {
        "id": "b8JuQmT2nrBD"
      },
      "source": [
        "birt = date(571, 4, 22)"
      ],
      "execution_count": null,
      "outputs": []
    },
    {
      "cell_type": "code",
      "metadata": {
        "colab": {
          "base_uri": "https://localhost:8080/"
        },
        "id": "nag5FdCfn4rW",
        "outputId": "9689917c-9089-4011-d717-7df87d8cd4be"
      },
      "source": [
        "print(birt)"
      ],
      "execution_count": null,
      "outputs": [
        {
          "output_type": "stream",
          "text": [
            "0571-04-22\n"
          ],
          "name": "stdout"
        }
      ]
    },
    {
      "cell_type": "code",
      "metadata": {
        "id": "7Yhg3hMun6X4"
      },
      "source": [
        "death = date(632, 6, 8)"
      ],
      "execution_count": null,
      "outputs": []
    },
    {
      "cell_type": "code",
      "metadata": {
        "colab": {
          "base_uri": "https://localhost:8080/"
        },
        "id": "BwpClWH1n_Sg",
        "outputId": "91c9daac-81d0-47a8-c91a-5e28ebcfe668"
      },
      "source": [
        "date.toordinal(death) - date.toordinal(birt)"
      ],
      "execution_count": null,
      "outputs": [
        {
          "output_type": "execute_result",
          "data": {
            "text/plain": [
              "22327"
            ]
          },
          "metadata": {
            "tags": []
          },
          "execution_count": 68
        }
      ]
    },
    {
      "cell_type": "code",
      "metadata": {
        "id": "SaHsRhLzoZZ1"
      },
      "source": [
        "from random import choice"
      ],
      "execution_count": null,
      "outputs": []
    },
    {
      "cell_type": "code",
      "metadata": {
        "colab": {
          "base_uri": "https://localhost:8080/",
          "height": 35
        },
        "id": "BkXRGADtorPT",
        "outputId": "18f35708-964d-499e-9848-508ede3ff477"
      },
      "source": [
        "city = [\"istanbul\", \"stockholm\", \"seul\", \"cape town\"]\n",
        "choice(city)"
      ],
      "execution_count": null,
      "outputs": [
        {
          "output_type": "execute_result",
          "data": {
            "application/vnd.google.colaboratory.intrinsic+json": {
              "type": "string"
            },
            "text/plain": [
              "'cape town'"
            ]
          },
          "metadata": {
            "tags": []
          },
          "execution_count": 71
        }
      ]
    },
    {
      "cell_type": "code",
      "metadata": {
        "id": "K3O3Lmfbo5NR",
        "colab": {
          "base_uri": "https://localhost:8080/",
          "height": 299
        },
        "outputId": "cdffd490-e64d-43d4-8db2-2ac172b4172b"
      },
      "source": [
        "def missing_char(word, n):\n",
        "  at = [word]\n",
        "  print(at.remove('i'))\n",
        "missing_char('kitchen', 1)"
      ],
      "execution_count": null,
      "outputs": [
        {
          "output_type": "error",
          "ename": "ValueError",
          "evalue": "ignored",
          "traceback": [
            "\u001b[0;31m---------------------------------------------------------------------------\u001b[0m",
            "\u001b[0;31mValueError\u001b[0m                                Traceback (most recent call last)",
            "\u001b[0;32m<ipython-input-17-b1e854a77bb3>\u001b[0m in \u001b[0;36m<module>\u001b[0;34m()\u001b[0m\n\u001b[1;32m      2\u001b[0m   \u001b[0mat\u001b[0m \u001b[0;34m=\u001b[0m \u001b[0;34m[\u001b[0m\u001b[0mword\u001b[0m\u001b[0;34m]\u001b[0m\u001b[0;34m\u001b[0m\u001b[0;34m\u001b[0m\u001b[0m\n\u001b[1;32m      3\u001b[0m   \u001b[0mprint\u001b[0m\u001b[0;34m(\u001b[0m\u001b[0mat\u001b[0m\u001b[0;34m.\u001b[0m\u001b[0mremove\u001b[0m\u001b[0;34m(\u001b[0m\u001b[0;34m'i'\u001b[0m\u001b[0;34m)\u001b[0m\u001b[0;34m)\u001b[0m\u001b[0;34m\u001b[0m\u001b[0;34m\u001b[0m\u001b[0m\n\u001b[0;32m----> 4\u001b[0;31m \u001b[0mmissing_char\u001b[0m\u001b[0;34m(\u001b[0m\u001b[0;34m'kitchen'\u001b[0m\u001b[0;34m,\u001b[0m \u001b[0;36m1\u001b[0m\u001b[0;34m)\u001b[0m\u001b[0;34m\u001b[0m\u001b[0;34m\u001b[0m\u001b[0m\n\u001b[0m",
            "\u001b[0;32m<ipython-input-17-b1e854a77bb3>\u001b[0m in \u001b[0;36mmissing_char\u001b[0;34m(word, n)\u001b[0m\n\u001b[1;32m      1\u001b[0m \u001b[0;32mdef\u001b[0m \u001b[0mmissing_char\u001b[0m\u001b[0;34m(\u001b[0m\u001b[0mword\u001b[0m\u001b[0;34m,\u001b[0m \u001b[0mn\u001b[0m\u001b[0;34m)\u001b[0m\u001b[0;34m:\u001b[0m\u001b[0;34m\u001b[0m\u001b[0;34m\u001b[0m\u001b[0m\n\u001b[1;32m      2\u001b[0m   \u001b[0mat\u001b[0m \u001b[0;34m=\u001b[0m \u001b[0;34m[\u001b[0m\u001b[0mword\u001b[0m\u001b[0;34m]\u001b[0m\u001b[0;34m\u001b[0m\u001b[0;34m\u001b[0m\u001b[0m\n\u001b[0;32m----> 3\u001b[0;31m   \u001b[0mprint\u001b[0m\u001b[0;34m(\u001b[0m\u001b[0mat\u001b[0m\u001b[0;34m.\u001b[0m\u001b[0mremove\u001b[0m\u001b[0;34m(\u001b[0m\u001b[0;34m'i'\u001b[0m\u001b[0;34m)\u001b[0m\u001b[0;34m)\u001b[0m\u001b[0;34m\u001b[0m\u001b[0;34m\u001b[0m\u001b[0m\n\u001b[0m\u001b[1;32m      4\u001b[0m \u001b[0mmissing_char\u001b[0m\u001b[0;34m(\u001b[0m\u001b[0;34m'kitchen'\u001b[0m\u001b[0;34m,\u001b[0m \u001b[0;36m1\u001b[0m\u001b[0;34m)\u001b[0m\u001b[0;34m\u001b[0m\u001b[0;34m\u001b[0m\u001b[0m\n",
            "\u001b[0;31mValueError\u001b[0m: list.remove(x): x not in list"
          ]
        }
      ]
    },
    {
      "cell_type": "code",
      "metadata": {
        "colab": {
          "base_uri": "https://localhost:8080/"
        },
        "id": "xXke68DJryqm",
        "outputId": "41be1df1-5c59-439b-e7e7-668a8762a229"
      },
      "source": [
        "def missing_char(word, n):\n",
        "  at = [word]\n",
        "  print(at[0][n])\n",
        "missing_char('kitchen', 1)"
      ],
      "execution_count": null,
      "outputs": [
        {
          "output_type": "stream",
          "text": [
            "i\n"
          ],
          "name": "stdout"
        }
      ]
    },
    {
      "cell_type": "code",
      "metadata": {
        "colab": {
          "base_uri": "https://localhost:8080/"
        },
        "id": "e7MHoeM01CvI",
        "outputId": "1b864546-59b1-4c55-a69e-fbe6b6497100"
      },
      "source": [
        "at = ['word', 'ats']\n",
        "print(at[1])"
      ],
      "execution_count": null,
      "outputs": [
        {
          "output_type": "stream",
          "text": [
            "ats\n"
          ],
          "name": "stdout"
        }
      ]
    },
    {
      "cell_type": "code",
      "metadata": {
        "colab": {
          "base_uri": "https://localhost:8080/"
        },
        "id": "qo2B6nzz1Ojv",
        "outputId": "e623e437-9de4-4c1e-f756-bd8574732dfa"
      },
      "source": [
        "colors = ['red', 'purple', 'blue', 'yellow', 'green']\n",
        "print(colors[2])"
      ],
      "execution_count": null,
      "outputs": [
        {
          "output_type": "stream",
          "text": [
            "blue\n"
          ],
          "name": "stdout"
        }
      ]
    },
    {
      "cell_type": "code",
      "metadata": {
        "id": "dNr8l0N3dPSf"
      },
      "source": [
        "fruit = 'Orange'"
      ],
      "execution_count": null,
      "outputs": []
    },
    {
      "cell_type": "code",
      "metadata": {
        "colab": {
          "base_uri": "https://localhost:8080/",
          "height": 35
        },
        "id": "gCsHWy2_de2W",
        "outputId": "933a136f-f6bb-41a9-e4f9-81571adc4147"
      },
      "source": [
        "fruit[3]"
      ],
      "execution_count": null,
      "outputs": [
        {
          "output_type": "execute_result",
          "data": {
            "application/vnd.google.colaboratory.intrinsic+json": {
              "type": "string"
            },
            "text/plain": [
              "'n'"
            ]
          },
          "metadata": {
            "tags": []
          },
          "execution_count": 2
        }
      ]
    },
    {
      "cell_type": "code",
      "metadata": {
        "colab": {
          "base_uri": "https://localhost:8080/",
          "height": 35
        },
        "id": "ryM7SrnNdjmL",
        "outputId": "00217f05-6d4c-478d-ed4a-a71b59587223"
      },
      "source": [
        "fruit[2:5]"
      ],
      "execution_count": null,
      "outputs": [
        {
          "output_type": "execute_result",
          "data": {
            "application/vnd.google.colaboratory.intrinsic+json": {
              "type": "string"
            },
            "text/plain": [
              "'ang'"
            ]
          },
          "metadata": {
            "tags": []
          },
          "execution_count": 3
        }
      ]
    },
    {
      "cell_type": "code",
      "metadata": {
        "colab": {
          "base_uri": "https://localhost:8080/",
          "height": 35
        },
        "id": "YuSbBwvWdqZs",
        "outputId": "60a637c7-95eb-40fa-fd96-f0f9f238f6fe"
      },
      "source": [
        "fruit[1:-1:2]"
      ],
      "execution_count": null,
      "outputs": [
        {
          "output_type": "execute_result",
          "data": {
            "application/vnd.google.colaboratory.intrinsic+json": {
              "type": "string"
            },
            "text/plain": [
              "'rn'"
            ]
          },
          "metadata": {
            "tags": []
          },
          "execution_count": 4
        }
      ]
    },
    {
      "cell_type": "code",
      "metadata": {
        "colab": {
          "base_uri": "https://localhost:8080/",
          "height": 35
        },
        "id": "8Yg5mFF7dx6q",
        "outputId": "a4d2ddea-8ee2-4cb3-a864-1f92630c1e71"
      },
      "source": [
        "fruit[-1::-2]"
      ],
      "execution_count": null,
      "outputs": [
        {
          "output_type": "execute_result",
          "data": {
            "application/vnd.google.colaboratory.intrinsic+json": {
              "type": "string"
            },
            "text/plain": [
              "'enr'"
            ]
          },
          "metadata": {
            "tags": []
          },
          "execution_count": 6
        }
      ]
    },
    {
      "cell_type": "code",
      "metadata": {
        "colab": {
          "base_uri": "https://localhost:8080/"
        },
        "id": "sv7lEcGcd59Y",
        "outputId": "5c25adb6-bf6f-4a84-854b-28ee3c2c79c5"
      },
      "source": [
        "print('galata' + 'saray')"
      ],
      "execution_count": null,
      "outputs": [
        {
          "output_type": "stream",
          "text": [
            "galatasaray\n"
          ],
          "name": "stdout"
        }
      ]
    },
    {
      "cell_type": "code",
      "metadata": {
        "colab": {
          "base_uri": "https://localhost:8080/"
        },
        "id": "DcrJ9O8DfT_2",
        "outputId": "aa5a7121-3f56-41a3-df23-218e2a42671c"
      },
      "source": [
        "print(4*'galatasaray')"
      ],
      "execution_count": null,
      "outputs": [
        {
          "output_type": "stream",
          "text": [
            "galatasaraygalatasaraygalatasaraygalatasaray\n"
          ],
          "name": "stdout"
        }
      ]
    },
    {
      "cell_type": "code",
      "metadata": {
        "colab": {
          "base_uri": "https://localhost:8080/"
        },
        "id": "H3ajCXHkfd83",
        "outputId": "4018b22d-9d7a-4013-8860-d3dece0e8c1f"
      },
      "source": [
        "print(3 * fruit)"
      ],
      "execution_count": null,
      "outputs": [
        {
          "output_type": "stream",
          "text": [
            "OrangeOrangeOrange\n"
          ],
          "name": "stdout"
        }
      ]
    },
    {
      "cell_type": "code",
      "metadata": {
        "id": "479Spc2ZfseG"
      },
      "source": [
        "fruit += 'apple'"
      ],
      "execution_count": null,
      "outputs": []
    },
    {
      "cell_type": "code",
      "metadata": {
        "id": "mW0idWF0gGIU"
      },
      "source": [
        "fruit += 'lemon'"
      ],
      "execution_count": null,
      "outputs": []
    },
    {
      "cell_type": "code",
      "metadata": {
        "colab": {
          "base_uri": "https://localhost:8080/"
        },
        "id": "XHUVvz48gJPo",
        "outputId": "3c227c7f-5bcb-4d3c-fd0c-339ece5ce0bb"
      },
      "source": [
        "print(fruit)"
      ],
      "execution_count": null,
      "outputs": [
        {
          "output_type": "stream",
          "text": [
            "Orangeapplelemon\n"
          ],
          "name": "stdout"
        }
      ]
    },
    {
      "cell_type": "code",
      "metadata": {
        "id": "vqjdjAE8gNax"
      },
      "source": [
        "sentence = 'i brush my %s %d times at %.2f' % ('teeth', 3, 9)"
      ],
      "execution_count": null,
      "outputs": []
    },
    {
      "cell_type": "code",
      "metadata": {
        "colab": {
          "base_uri": "https://localhost:8080/"
        },
        "id": "pcW8IMNdiWTd",
        "outputId": "59c28007-795c-42b4-9b21-2c95ae907588"
      },
      "source": [
        "print(sentence)"
      ],
      "execution_count": null,
      "outputs": [
        {
          "output_type": "stream",
          "text": [
            "i brush my teeth 3 times at 9.00\n"
          ],
          "name": "stdout"
        }
      ]
    },
    {
      "cell_type": "code",
      "metadata": {
        "id": "5LM_3iCOiYS1"
      },
      "source": [
        "title = \"apologizing is a virtue\""
      ],
      "execution_count": null,
      "outputs": []
    },
    {
      "cell_type": "code",
      "metadata": {
        "colab": {
          "base_uri": "https://localhost:8080/"
        },
        "id": "Nd6g2RchJPrQ",
        "outputId": "07b7de7c-7fbf-43a6-f0bb-be348a97ce56"
      },
      "source": [
        "print(\"%.5s\" % title)"
      ],
      "execution_count": null,
      "outputs": [
        {
          "output_type": "stream",
          "text": [
            "apolo\n"
          ],
          "name": "stdout"
        }
      ]
    },
    {
      "cell_type": "code",
      "metadata": {
        "colab": {
          "base_uri": "https://localhost:8080/"
        },
        "id": "hQlkYLjAK-eR",
        "outputId": "5d341e67-992a-4ad4-9885-2d1ac6d8782b"
      },
      "source": [
        "print('%(amount)d pounds of %(fruit)s left' % {'amount': 33, 'fruit': 'bananas'})"
      ],
      "execution_count": null,
      "outputs": [
        {
          "output_type": "stream",
          "text": [
            "33 pounds of bananas left\n"
          ],
          "name": "stdout"
        }
      ]
    },
    {
      "cell_type": "code",
      "metadata": {
        "colab": {
          "base_uri": "https://localhost:8080/"
        },
        "id": "qrYA9NKxMyXq",
        "outputId": "1b189759-0ab5-4677-a95c-f53fb4da52f1"
      },
      "source": [
        "fruit = 'Orange'\n",
        "vegetable = 'Spanich'\n",
        "amount = 4\n",
        "print('The amount of {} we bought is {} pounds'.format(fruit,amount))"
      ],
      "execution_count": null,
      "outputs": [
        {
          "output_type": "stream",
          "text": [
            "The amount of Orange we bought is 4 pounds\n"
          ],
          "name": "stdout"
        }
      ]
    },
    {
      "cell_type": "code",
      "metadata": {
        "colab": {
          "base_uri": "https://localhost:8080/"
        },
        "id": "K1rznUd-Neju",
        "outputId": "a4b695b6-8a14-4b50-ff14-c01463f769a0"
      },
      "source": [
        "print('{state} is the most {adjective} state of the {country}'.format(state='California', country='USA', adjective='crowded'))"
      ],
      "execution_count": null,
      "outputs": [
        {
          "output_type": "stream",
          "text": [
            "California is the most crowded state of the USA\n"
          ],
          "name": "stdout"
        }
      ]
    },
    {
      "cell_type": "code",
      "metadata": {
        "colab": {
          "base_uri": "https://localhost:8080/"
        },
        "id": "6ntYWDDOO8t_",
        "outputId": "883007e8-3e39-4125-a13f-675fe240be09"
      },
      "source": [
        "print('{0} is the most {adjective} state of the {country}'.format('California', country='USA', adjective='crowded'))"
      ],
      "execution_count": null,
      "outputs": [
        {
          "output_type": "stream",
          "text": [
            "California is the most crowded state of the USA\n"
          ],
          "name": "stdout"
        }
      ]
    },
    {
      "cell_type": "code",
      "metadata": {
        "colab": {
          "base_uri": "https://localhost:8080/"
        },
        "id": "DgYe0fQUTyD7",
        "outputId": "a3cef2c4-32b6-4155-8d62-f0edde902cd4"
      },
      "source": [
        "print('{0} 0-{gsskor} {bizimtakım} şampiyon {1}'.format('Denizlispor', 'Galatasaray', gsskor = 7, bizimtakım = 'Galatasaray'))"
      ],
      "execution_count": null,
      "outputs": [
        {
          "output_type": "stream",
          "text": [
            "Denizlispor 0-7 Galatasaray şampiyon Galatasaray\n"
          ],
          "name": "stdout"
        }
      ]
    },
    {
      "cell_type": "code",
      "metadata": {
        "colab": {
          "base_uri": "https://localhost:8080/"
        },
        "id": "k5OKsCUQVv-I",
        "outputId": "f7e55ea3-cab9-42b9-bb05-2653b4d87507"
      },
      "source": [
        "print(\"{} {} {} {} {} {} {}\".format('have', 6, 'months', 'a job', 'in', 'found', 'I will'))"
      ],
      "execution_count": null,
      "outputs": [
        {
          "output_type": "stream",
          "text": [
            "have 6 months a job in found I will\n"
          ],
          "name": "stdout"
        }
      ]
    },
    {
      "cell_type": "code",
      "metadata": {
        "colab": {
          "base_uri": "https://localhost:8080/"
        },
        "id": "PkEpoWxEWeCU",
        "outputId": "f3c8507b-3b9d-4bd9-da22-f14c44713a1a"
      },
      "source": [
        "print(\"{6} {0} {5} {3} {4} {1} {2}\".format('have', 6, 'months', 'a job', 'in', 'found', 'I will'))"
      ],
      "execution_count": null,
      "outputs": [
        {
          "output_type": "stream",
          "text": [
            "I will have found a job in 6 months\n"
          ],
          "name": "stdout"
        }
      ]
    },
    {
      "cell_type": "code",
      "metadata": {
        "colab": {
          "base_uri": "https://localhost:8080/"
        },
        "id": "bgGTIAp4WgLB",
        "outputId": "e44de976-e3e7-482d-ff34-aa45c933e071"
      },
      "source": [
        "fruit = 'Orange'\n",
        "vegetable = 'Tomato'\n",
        "amount = 6\n",
        "output = f\"The amount of {fruit} and {vegetable} we bought are totally {amount} pounds\"\n",
        "\n",
        "print(output)\n"
      ],
      "execution_count": null,
      "outputs": [
        {
          "output_type": "stream",
          "text": [
            "The amount of Orange and Tomato we bought are totally 6 pounds\n"
          ],
          "name": "stdout"
        }
      ]
    },
    {
      "cell_type": "code",
      "metadata": {
        "colab": {
          "base_uri": "https://localhost:8080/"
        },
        "id": "Kj6MeghzccgQ",
        "outputId": "d4f14e36-b432-4a5f-c58b-be0ec401e4f2"
      },
      "source": [
        "text = 'www.clarusway.com'\n",
        "print(text.endswith('.com'))\n",
        "print(text.startswith('http:'))"
      ],
      "execution_count": null,
      "outputs": [
        {
          "output_type": "stream",
          "text": [
            "True\n",
            "False\n"
          ],
          "name": "stdout"
        }
      ]
    },
    {
      "cell_type": "code",
      "metadata": {
        "colab": {
          "base_uri": "https://localhost:8080/"
        },
        "id": "BywfIqqNj_FY",
        "outputId": "d82a1700-fcd0-4aa2-b5b1-86adf42f4726"
      },
      "source": [
        "email = \"clarusway@clarusway.com is my e-mail address\"\n",
        "print(email.startswith(\"@c\", 9))\n",
        "print(email.endswith(\"e-\", 1, 32))"
      ],
      "execution_count": null,
      "outputs": [
        {
          "output_type": "stream",
          "text": [
            "True\n",
            "True\n"
          ],
          "name": "stdout"
        }
      ]
    },
    {
      "cell_type": "code",
      "metadata": {
        "id": "zK059P60lBSC"
      },
      "source": [
        "sentence = \"I live and work in Virginia\""
      ],
      "execution_count": null,
      "outputs": []
    },
    {
      "cell_type": "code",
      "metadata": {
        "colab": {
          "base_uri": "https://localhost:8080/"
        },
        "id": "_ZBMheCxnxKL",
        "outputId": "12562a7c-ac1f-4fb8-ad6d-0a2c2011d552"
      },
      "source": [
        "print(sentence.upper())\n",
        "print(sentence.lower())\n",
        "print(sentence.swapcase())\n",
        "print(sentence.title())\n",
        "print(sentence.replace(\"i\", \"+\"))\n",
        "print(sentence.capitalize())"
      ],
      "execution_count": null,
      "outputs": [
        {
          "output_type": "stream",
          "text": [
            "I LIVE AND WORK IN VIRGINIA\n",
            "i live and work in virginia\n",
            "i LIVE AND WORK IN vIRGINIA\n",
            "I Live And Work In Virginia\n",
            "I l+ve and work +n V+rg+n+a\n",
            "I live and work in virginia\n"
          ],
          "name": "stdout"
        }
      ]
    },
    {
      "cell_type": "code",
      "metadata": {
        "colab": {
          "base_uri": "https://localhost:8080/"
        },
        "id": "izygxbjnn-qM",
        "outputId": "7ebe88ae-dba3-4fb8-8ba6-ce5f50fe5d3b"
      },
      "source": [
        "print(\"Actions speaks louder than words\".upper().swapcase().capitalize())"
      ],
      "execution_count": null,
      "outputs": [
        {
          "output_type": "stream",
          "text": [
            "Actions speaks louder than words\n"
          ],
          "name": "stdout"
        }
      ]
    },
    {
      "cell_type": "code",
      "metadata": {
        "colab": {
          "base_uri": "https://localhost:8080/"
        },
        "id": "8aJWxfPpxmMd",
        "outputId": "bcdb0def-a94d-4e33-f082-8508f16df673"
      },
      "source": [
        "space_string = \"     listen first      \"\n",
        "print(space_string.strip())"
      ],
      "execution_count": null,
      "outputs": [
        {
          "output_type": "stream",
          "text": [
            "listen first\n"
          ],
          "name": "stdout"
        }
      ]
    },
    {
      "cell_type": "code",
      "metadata": {
        "colab": {
          "base_uri": "https://localhost:8080/"
        },
        "id": "ybSBRnhhxy2E",
        "outputId": "6c76911e-4db7-42cf-8150-67a168abd33f"
      },
      "source": [
        "space_string = \"     listen first      \".strip()\n",
        "print(space_string)"
      ],
      "execution_count": null,
      "outputs": [
        {
          "output_type": "stream",
          "text": [
            "listen first\n"
          ],
          "name": "stdout"
        }
      ]
    },
    {
      "cell_type": "code",
      "metadata": {
        "colab": {
          "base_uri": "https://localhost:8080/"
        },
        "id": "Z65gkrBlzWcz",
        "outputId": "1887fef2-03b3-4c32-e1b0-094fe640649e"
      },
      "source": [
        "source_string = \"athırsızı\"\n",
        "print(source_string.strip(\"aı\"))"
      ],
      "execution_count": null,
      "outputs": [
        {
          "output_type": "stream",
          "text": [
            "thırsız\n"
          ],
          "name": "stdout"
        }
      ]
    },
    {
      "cell_type": "code",
      "metadata": {
        "colab": {
          "base_uri": "https://localhost:8080/"
        },
        "id": "BYKJjSnG1Cro",
        "outputId": "6ef345b3-5c16-453e-8e69-80d3c675d6d2"
      },
      "source": [
        "source_string = \"athırsızı\"\n",
        "print(source_string.lstrip(\"at\"))"
      ],
      "execution_count": null,
      "outputs": [
        {
          "output_type": "stream",
          "text": [
            "hırsızı\n"
          ],
          "name": "stdout"
        }
      ]
    },
    {
      "cell_type": "code",
      "metadata": {
        "colab": {
          "base_uri": "https://localhost:8080/"
        },
        "id": "OLcpkxTV1LKp",
        "outputId": "543f8481-9723-4232-9715-c49069da3435"
      },
      "source": [
        "source_string = \"athırsızı\"\n",
        "print(source_string.rstrip(\"ızı\"))"
      ],
      "execution_count": null,
      "outputs": [
        {
          "output_type": "stream",
          "text": [
            "athırs\n"
          ],
          "name": "stdout"
        }
      ]
    },
    {
      "cell_type": "code",
      "metadata": {
        "id": "IgbidSP_1TUk"
      },
      "source": [
        "source_string = \"                   athırsızı               \"\n"
      ],
      "execution_count": null,
      "outputs": []
    },
    {
      "cell_type": "code",
      "metadata": {
        "colab": {
          "base_uri": "https://localhost:8080/"
        },
        "id": "O9k8e0_h9vz0",
        "outputId": "93435d75-f5c7-4767-b491-f874d642433e"
      },
      "source": [
        "print(source_string.rstrip()) "
      ],
      "execution_count": null,
      "outputs": [
        {
          "output_type": "stream",
          "text": [
            "                   athırsızı\n"
          ],
          "name": "stdout"
        }
      ]
    },
    {
      "cell_type": "code",
      "metadata": {
        "colab": {
          "base_uri": "https://localhost:8080/"
        },
        "id": "PYqEuRtq9wk1",
        "outputId": "c3a7d2fe-3452-4ba0-e8ee-530aa84ad654"
      },
      "source": [
        "print(source_string.lstrip()) "
      ],
      "execution_count": null,
      "outputs": [
        {
          "output_type": "stream",
          "text": [
            "athırsızı               \n"
          ],
          "name": "stdout"
        }
      ]
    },
    {
      "cell_type": "code",
      "metadata": {
        "colab": {
          "base_uri": "https://localhost:8080/",
          "height": 299
        },
        "id": "fnxTwazc7pqw",
        "outputId": "d9866b67-e743-480d-c55c-94d380f5f17d"
      },
      "source": [
        "import streamlit"
      ],
      "execution_count": null,
      "outputs": [
        {
          "output_type": "error",
          "ename": "ModuleNotFoundError",
          "evalue": "ignored",
          "traceback": [
            "\u001b[0;31m---------------------------------------------------------------------------\u001b[0m",
            "\u001b[0;31mModuleNotFoundError\u001b[0m                       Traceback (most recent call last)",
            "\u001b[0;32m<ipython-input-12-12b511d36365>\u001b[0m in \u001b[0;36m<module>\u001b[0;34m()\u001b[0m\n\u001b[0;32m----> 1\u001b[0;31m \u001b[0;32mimport\u001b[0m \u001b[0mstreamlit\u001b[0m\u001b[0;34m\u001b[0m\u001b[0;34m\u001b[0m\u001b[0m\n\u001b[0m",
            "\u001b[0;31mModuleNotFoundError\u001b[0m: No module named 'streamlit'",
            "",
            "\u001b[0;31m---------------------------------------------------------------------------\u001b[0;32m\nNOTE: If your import is failing due to a missing package, you can\nmanually install dependencies using either !pip or !apt.\n\nTo view examples of installing some common dependencies, click the\n\"Open Examples\" button below.\n\u001b[0;31m---------------------------------------------------------------------------\u001b[0m\n"
          ]
        }
      ]
    },
    {
      "cell_type": "code",
      "metadata": {
        "colab": {
          "base_uri": "https://localhost:8080/"
        },
        "id": "-kpokiyg86BX",
        "outputId": "8d4701e7-2dda-46e6-be5b-fe228b9d9742"
      },
      "source": [
        "!pip install -q streamlit"
      ],
      "execution_count": null,
      "outputs": [
        {
          "output_type": "stream",
          "text": [
            "\u001b[K     |████████████████████████████████| 8.2MB 5.1MB/s \n",
            "\u001b[K     |████████████████████████████████| 112kB 46.4MB/s \n",
            "\u001b[K     |████████████████████████████████| 4.2MB 39.3MB/s \n",
            "\u001b[K     |████████████████████████████████| 81kB 8.5MB/s \n",
            "\u001b[K     |████████████████████████████████| 163kB 45.7MB/s \n",
            "\u001b[K     |████████████████████████████████| 122kB 45.2MB/s \n",
            "\u001b[K     |████████████████████████████████| 71kB 6.3MB/s \n",
            "\u001b[?25h  Building wheel for blinker (setup.py) ... \u001b[?25l\u001b[?25hdone\n",
            "\u001b[31mERROR: google-colab 1.0.0 has requirement ipykernel~=4.10, but you'll have ipykernel 5.5.4 which is incompatible.\u001b[0m\n"
          ],
          "name": "stdout"
        }
      ]
    },
    {
      "cell_type": "code",
      "metadata": {
        "colab": {
          "base_uri": "https://localhost:8080/"
        },
        "id": "3zA2_plX9BWG",
        "outputId": "bf4d70f6-6eae-43fa-9936-0719cd9a9c93"
      },
      "source": [
        "%%writefile app.py\n",
        "\n",
        "import streamlit as st\n",
        "import datetime\n",
        "\n",
        "st.title(\"Bu benim ilk Aplikasyonum\")\n",
        "st.write(\"Buradaki formu doldurmanız gerekiyor.\")\n",
        "user_id = st.text_input(\"ID\", value=\"Your ID\", max_chars=7)\n",
        "info = st.text_area(\"Share some information about you\", \"Put information here\",\n",
        "                    help='You can write about your hobbies or family')\n",
        "age = st.number_input(\"Age\", min_value=18, max_value=100, step=1)"
      ],
      "execution_count": null,
      "outputs": [
        {
          "output_type": "stream",
          "text": [
            "Overwriting app.py\n"
          ],
          "name": "stdout"
        }
      ]
    },
    {
      "cell_type": "code",
      "metadata": {
        "colab": {
          "base_uri": "https://localhost:8080/"
        },
        "id": "xksdU_MV9imD",
        "outputId": "1200a1b4-ec4e-4f4d-bc04-74521ca4af44"
      },
      "source": [
        "!wget https://bin.equinox.io/c/4VmDzA7iaHb/ngrok-stable-linux-amd64.zip"
      ],
      "execution_count": null,
      "outputs": [
        {
          "output_type": "stream",
          "text": [
            "--2021-05-11 20:09:18--  https://bin.equinox.io/c/4VmDzA7iaHb/ngrok-stable-linux-amd64.zip\n",
            "Resolving bin.equinox.io (bin.equinox.io)... 3.211.204.50, 3.230.235.205, 34.235.106.23, ...\n",
            "Connecting to bin.equinox.io (bin.equinox.io)|3.211.204.50|:443... connected.\n",
            "HTTP request sent, awaiting response... 200 OK\n",
            "Length: 13832437 (13M) [application/octet-stream]\n",
            "Saving to: ‘ngrok-stable-linux-amd64.zip.1’\n",
            "\n",
            "ngrok-stable-linux- 100%[===================>]  13.19M  51.0MB/s    in 0.3s    \n",
            "\n",
            "2021-05-11 20:09:19 (51.0 MB/s) - ‘ngrok-stable-linux-amd64.zip.1’ saved [13832437/13832437]\n",
            "\n"
          ],
          "name": "stdout"
        }
      ]
    },
    {
      "cell_type": "code",
      "metadata": {
        "colab": {
          "base_uri": "https://localhost:8080/"
        },
        "id": "Kf6hpihF_1Wc",
        "outputId": "08f75356-410c-4a06-b1b3-49936b09bca0"
      },
      "source": [
        "!unzip ngrok-stable-linux-amd64.zip"
      ],
      "execution_count": null,
      "outputs": [
        {
          "output_type": "stream",
          "text": [
            "Archive:  ngrok-stable-linux-amd64.zip\n",
            "replace ngrok? [y]es, [n]o, [A]ll, [N]one, [r]ename: y\n",
            "  inflating: ngrok                   \n"
          ],
          "name": "stdout"
        }
      ]
    },
    {
      "cell_type": "code",
      "metadata": {
        "id": "AyVXolX_ABjq"
      },
      "source": [
        "get_ipython().system_raw('./ngrok http 8501 &')"
      ],
      "execution_count": null,
      "outputs": []
    },
    {
      "cell_type": "code",
      "metadata": {
        "colab": {
          "base_uri": "https://localhost:8080/"
        },
        "id": "R2lsvKFKAh9M",
        "outputId": "71310400-4b6b-4da9-af1c-81577b6381f1"
      },
      "source": [
        "!curl -s http://localhost:4040/api/tunnels | python3 -c \\\n",
        "    'import sys, json; print(\"Execute the next cell and the go to the following URL: \" +json.load(sys.stdin)[\"tunnels\"][0][\"public_url\"])'"
      ],
      "execution_count": null,
      "outputs": [
        {
          "output_type": "stream",
          "text": [
            "Execute the next cell and the go to the following URL: http://09bf0b43cee5.ngrok.io\n"
          ],
          "name": "stdout"
        }
      ]
    },
    {
      "cell_type": "markdown",
      "metadata": {
        "id": "5-cP-DL1Cnf7"
      },
      "source": [
        ""
      ]
    },
    {
      "cell_type": "code",
      "metadata": {
        "colab": {
          "base_uri": "https://localhost:8080/"
        },
        "id": "TCBFtXyrCoMm",
        "outputId": "69ad0fa0-3737-42cd-e48e-6e7dcdacc450"
      },
      "source": [
        "!streamlit run /content/app.py"
      ],
      "execution_count": null,
      "outputs": [
        {
          "output_type": "stream",
          "text": [
            "\u001b[0m\n",
            "\u001b[34m\u001b[1m  You can now view your Streamlit app in your browser.\u001b[0m\n",
            "\u001b[0m\n",
            "\u001b[34m  Network URL: \u001b[0m\u001b[1mhttp://172.28.0.2:8501\u001b[0m\n",
            "\u001b[34m  External URL: \u001b[0m\u001b[1mhttp://104.196.20.166:8501\u001b[0m\n",
            "\u001b[0m\n"
          ],
          "name": "stdout"
        }
      ]
    },
    {
      "cell_type": "code",
      "metadata": {
        "id": "pdew4TqycfEG"
      },
      "source": [
        "string_1 = 'I quit smoking'"
      ],
      "execution_count": null,
      "outputs": []
    },
    {
      "cell_type": "code",
      "metadata": {
        "colab": {
          "base_uri": "https://localhost:8080/"
        },
        "id": "xXrRG_kdpIjV",
        "outputId": "a3b723f3-6859-4d8c-f148-b3c6bdad76be"
      },
      "source": [
        "new_list_1 = list(string_1)  # we created multi element list\n",
        "print(new_list_1)"
      ],
      "execution_count": null,
      "outputs": [
        {
          "output_type": "stream",
          "text": [
            "['I', ' ', 'q', 'u', 'i', 't', ' ', 's', 'm', 'o', 'k', 'i', 'n', 'g']\n"
          ],
          "name": "stdout"
        }
      ]
    },
    {
      "cell_type": "code",
      "metadata": {
        "colab": {
          "base_uri": "https://localhost:8080/"
        },
        "id": "T3Pa2fmtsuGS",
        "outputId": "d9c5d383-03d6-4fee-a49c-ea0c84c9a527"
      },
      "source": [
        "print(len(new_list_1))"
      ],
      "execution_count": null,
      "outputs": [
        {
          "output_type": "stream",
          "text": [
            "14\n"
          ],
          "name": "stdout"
        }
      ]
    },
    {
      "cell_type": "code",
      "metadata": {
        "colab": {
          "base_uri": "https://localhost:8080/"
        },
        "id": "2RbpLmPVpJmI",
        "outputId": "940570bb-0cd7-42b7-a01c-f625e49e2631"
      },
      "source": [
        "new_list_2 = [string_1]  # this is a single element list\n",
        "print(new_list_2)"
      ],
      "execution_count": null,
      "outputs": [
        {
          "output_type": "stream",
          "text": [
            "['I quit smoking']\n"
          ],
          "name": "stdout"
        }
      ]
    },
    {
      "cell_type": "code",
      "metadata": {
        "id": "8whM2KnZpN4c"
      },
      "source": [
        "new_list_2.append('Galatasaray')"
      ],
      "execution_count": null,
      "outputs": []
    },
    {
      "cell_type": "code",
      "metadata": {
        "colab": {
          "base_uri": "https://localhost:8080/"
        },
        "id": "pEArC2BQrG6H",
        "outputId": "006624c2-3ea0-4813-a164-b09f769f3b99"
      },
      "source": [
        "print(new_list_2)"
      ],
      "execution_count": null,
      "outputs": [
        {
          "output_type": "stream",
          "text": [
            "['I quit smoking', 'Galatasaray']\n"
          ],
          "name": "stdout"
        }
      ]
    },
    {
      "cell_type": "code",
      "metadata": {
        "id": "Kn8qdWdfrIz7"
      },
      "source": [
        "new_list_2.insert(1, 'ultraslan')"
      ],
      "execution_count": null,
      "outputs": []
    },
    {
      "cell_type": "code",
      "metadata": {
        "colab": {
          "base_uri": "https://localhost:8080/"
        },
        "id": "2_XdfQ3TrWl8",
        "outputId": "273d29ab-c3f3-42a0-dcff-7998b09de9a8"
      },
      "source": [
        "print(new_list_2)"
      ],
      "execution_count": null,
      "outputs": [
        {
          "output_type": "stream",
          "text": [
            "['I quit smoking', 'ultraslan', 'Galatasaray']\n"
          ],
          "name": "stdout"
        }
      ]
    },
    {
      "cell_type": "code",
      "metadata": {
        "id": "5X5Ej823rd6-"
      },
      "source": [
        "new_list_2.remove('I quit smoking')"
      ],
      "execution_count": null,
      "outputs": []
    },
    {
      "cell_type": "code",
      "metadata": {
        "colab": {
          "base_uri": "https://localhost:8080/"
        },
        "id": "rmhcvrvDr1_P",
        "outputId": "a901ddfc-4830-495b-bcba-7179645d1b52"
      },
      "source": [
        "print(new_list_2)"
      ],
      "execution_count": null,
      "outputs": [
        {
          "output_type": "stream",
          "text": [
            "['ultraslan', 'Galatasaray']\n"
          ],
          "name": "stdout"
        }
      ]
    },
    {
      "cell_type": "code",
      "metadata": {
        "id": "xlB_iPiHr6r7"
      },
      "source": [
        "new_list_2.sort()"
      ],
      "execution_count": null,
      "outputs": []
    },
    {
      "cell_type": "code",
      "metadata": {
        "colab": {
          "base_uri": "https://localhost:8080/"
        },
        "id": "muaY28JUsGJJ",
        "outputId": "4ec53444-eda5-4296-827c-882839632296"
      },
      "source": [
        "print(new_list_2)"
      ],
      "execution_count": null,
      "outputs": [
        {
          "output_type": "stream",
          "text": [
            "['Galatasaray', 'ultraslan']\n"
          ],
          "name": "stdout"
        }
      ]
    },
    {
      "cell_type": "code",
      "metadata": {
        "colab": {
          "base_uri": "https://localhost:8080/"
        },
        "id": "QkQhQWVAsjKg",
        "outputId": "82d3e110-6b57-45e2-97de-7651b5b5fba7"
      },
      "source": [
        "print(len(new_list_2))"
      ],
      "execution_count": null,
      "outputs": [
        {
          "output_type": "stream",
          "text": [
            "2\n"
          ],
          "name": "stdout"
        }
      ]
    },
    {
      "cell_type": "code",
      "metadata": {
        "colab": {
          "base_uri": "https://localhost:8080/"
        },
        "id": "wxKDdLBzsmnJ",
        "outputId": "d0e1d5fc-1f4b-4a9b-abb2-2c4aacc03795"
      },
      "source": [
        "print(new_list_2 * 3)"
      ],
      "execution_count": null,
      "outputs": [
        {
          "output_type": "stream",
          "text": [
            "['Galatasaray', 'ultraslan', 'Galatasaray', 'ultraslan', 'Galatasaray', 'ultraslan']\n"
          ],
          "name": "stdout"
        }
      ]
    },
    {
      "cell_type": "code",
      "metadata": {
        "colab": {
          "base_uri": "https://localhost:8080/"
        },
        "id": "F_i3GDckte1f",
        "outputId": "6b60848b-537e-4e36-a47b-f6b426d1cf38"
      },
      "source": [
        "print(3 * new_list_2)"
      ],
      "execution_count": null,
      "outputs": [
        {
          "output_type": "stream",
          "text": [
            "['GALATASARAY', 'S', 'GALATASARAY', 'S', 'GALATASARAY', 'S']\n"
          ],
          "name": "stdout"
        }
      ]
    },
    {
      "cell_type": "code",
      "metadata": {
        "id": "UEl97xirtpL4"
      },
      "source": [
        "new_list_2[0] = 'GALATASARAY'"
      ],
      "execution_count": null,
      "outputs": []
    },
    {
      "cell_type": "code",
      "metadata": {
        "colab": {
          "base_uri": "https://localhost:8080/"
        },
        "id": "t2v7s2OluBPq",
        "outputId": "9afe7d7c-6771-4025-e621-9818acf846d1"
      },
      "source": [
        "print(new_list_2)"
      ],
      "execution_count": null,
      "outputs": [
        {
          "output_type": "stream",
          "text": [
            "['GALATASARAY', 'Galatasaray']\n"
          ],
          "name": "stdout"
        }
      ]
    },
    {
      "cell_type": "code",
      "metadata": {
        "id": "vowZiarguDft"
      },
      "source": [
        "new_list_2[4:6] = 'Gala'"
      ],
      "execution_count": null,
      "outputs": []
    },
    {
      "cell_type": "code",
      "metadata": {
        "colab": {
          "base_uri": "https://localhost:8080/"
        },
        "id": "64x_KdiOcmil",
        "outputId": "1b93338d-27fc-4c6d-a7db-5a2a57d7a021"
      },
      "source": [
        "print(new_list_2)"
      ],
      "execution_count": null,
      "outputs": [
        {
          "output_type": "stream",
          "text": [
            "['GALATASARAY', 'S', 'G', 'S', 'G', 'a', 'l', 'a']\n"
          ],
          "name": "stdout"
        }
      ]
    },
    {
      "cell_type": "code",
      "metadata": {
        "id": "A-lCcHChdM6H"
      },
      "source": [
        "new_list_2[1:7] = 'ultrAslan'"
      ],
      "execution_count": null,
      "outputs": []
    },
    {
      "cell_type": "code",
      "metadata": {
        "colab": {
          "base_uri": "https://localhost:8080/"
        },
        "id": "ZQz7RrqZd6Xo",
        "outputId": "2d72a6c7-5993-48a3-c66c-c25702a5da3c"
      },
      "source": [
        "print(new_list_2)"
      ],
      "execution_count": null,
      "outputs": [
        {
          "output_type": "stream",
          "text": [
            "['GALATASARAY', 'u', 'l', 't', 'r', 'A', 's', 'l', 'a', 'n', 'l', 'a', 'n', 'l', 'a', 'n', 'a']\n"
          ],
          "name": "stdout"
        }
      ]
    },
    {
      "cell_type": "code",
      "metadata": {
        "colab": {
          "base_uri": "https://localhost:8080/"
        },
        "id": "HkiQmaMbe5bo",
        "outputId": "8a6e2b8c-3f91-4645-b6ce-1055e0d2e1b2"
      },
      "source": [
        "new_list_2.copy()"
      ],
      "execution_count": null,
      "outputs": [
        {
          "output_type": "execute_result",
          "data": {
            "text/plain": [
              "['GALATASARAY',\n",
              " 'u',\n",
              " 'l',\n",
              " 't',\n",
              " 'r',\n",
              " 'A',\n",
              " 's',\n",
              " 'l',\n",
              " 'a',\n",
              " 'n',\n",
              " 'l',\n",
              " 'a',\n",
              " 'n',\n",
              " 'l',\n",
              " 'a',\n",
              " 'n',\n",
              " 'a']"
            ]
          },
          "metadata": {
            "tags": []
          },
          "execution_count": 35
        }
      ]
    },
    {
      "cell_type": "code",
      "metadata": {
        "id": "71tNZTOPe9UR",
        "colab": {
          "base_uri": "https://localhost:8080/",
          "height": 35
        },
        "outputId": "d9d6a52a-cef2-45f1-ec5f-00922d869a4d"
      },
      "source": [
        "def front_back(word):\n",
        "    word1 = list(word)\n",
        "    word1[0], word1[-1] = word1[-1], word1[0]\n",
        "    return \"\".join(word1)\n",
        "front_back(\"clarusway\")"
      ],
      "execution_count": null,
      "outputs": [
        {
          "output_type": "execute_result",
          "data": {
            "application/vnd.google.colaboratory.intrinsic+json": {
              "type": "string"
            },
            "text/plain": [
              "'ylaruswac'"
            ]
          },
          "metadata": {
            "tags": []
          },
          "execution_count": 32
        }
      ]
    },
    {
      "cell_type": "code",
      "metadata": {
        "colab": {
          "base_uri": "https://localhost:8080/"
        },
        "id": "EwqLq86FhBS2",
        "outputId": "684a92c8-b535-4ef3-d238-0eb5dbf51f0e"
      },
      "source": [
        "leap_year = int(input(\"enter year:\"))\n",
        "if leap_year % 400 == 0 :\n",
        "  print(leap_year, \" is a leap year\")\n",
        "elif leap_year % 100 == 0 :\n",
        "  print(leap_year, \" is not a leap year\")\n",
        "elif leap_year % 4 == 0 :\n",
        "  print(leap_year, \" is a leap year\")\n",
        "else :\n",
        "  print(leap_year, \" is not a leap year\")\n",
        "\n"
      ],
      "execution_count": null,
      "outputs": [
        {
          "output_type": "stream",
          "text": [
            "enter year:1900\n",
            "1900  is not a leap year\n"
          ],
          "name": "stdout"
        }
      ]
    },
    {
      "cell_type": "code",
      "metadata": {
        "colab": {
          "base_uri": "https://localhost:8080/"
        },
        "id": "8fH_xpRJYbND",
        "outputId": "0bb608e7-02e6-4eea-8631-307a17bb800f"
      },
      "source": [
        "mystring = 'banana'\n",
        "number = mystring.count('a')\n",
        "number"
      ],
      "execution_count": null,
      "outputs": [
        {
          "output_type": "execute_result",
          "data": {
            "text/plain": [
              "3"
            ]
          },
          "metadata": {
            "tags": []
          },
          "execution_count": 23
        }
      ]
    },
    {
      "cell_type": "code",
      "metadata": {
        "id": "HoSVn6BuYes6",
        "colab": {
          "base_uri": "https://localhost:8080/",
          "height": 163
        },
        "outputId": "95534e76-a412-4c70-932f-5a7f7e491400"
      },
      "source": [
        "d = dict(itertools.izip_longest(*[iter(l)] * 2, fillvalue=\"\"))"
      ],
      "execution_count": null,
      "outputs": [
        {
          "output_type": "error",
          "ename": "AttributeError",
          "evalue": "ignored",
          "traceback": [
            "\u001b[0;31m---------------------------------------------------------------------------\u001b[0m",
            "\u001b[0;31mAttributeError\u001b[0m                            Traceback (most recent call last)",
            "\u001b[0;32m<ipython-input-11-664cd4897cb8>\u001b[0m in \u001b[0;36m<module>\u001b[0;34m()\u001b[0m\n\u001b[0;32m----> 1\u001b[0;31m \u001b[0md\u001b[0m \u001b[0;34m=\u001b[0m \u001b[0mdict\u001b[0m\u001b[0;34m(\u001b[0m\u001b[0mitertools\u001b[0m\u001b[0;34m.\u001b[0m\u001b[0mizip_longest\u001b[0m\u001b[0;34m(\u001b[0m\u001b[0;34m*\u001b[0m\u001b[0;34m[\u001b[0m\u001b[0miter\u001b[0m\u001b[0;34m(\u001b[0m\u001b[0ml\u001b[0m\u001b[0;34m)\u001b[0m\u001b[0;34m]\u001b[0m \u001b[0;34m*\u001b[0m \u001b[0;36m2\u001b[0m\u001b[0;34m,\u001b[0m \u001b[0mfillvalue\u001b[0m\u001b[0;34m=\u001b[0m\u001b[0;34m\"\"\u001b[0m\u001b[0;34m)\u001b[0m\u001b[0;34m)\u001b[0m\u001b[0;34m\u001b[0m\u001b[0;34m\u001b[0m\u001b[0m\n\u001b[0m",
            "\u001b[0;31mAttributeError\u001b[0m: module 'itertools' has no attribute 'izip_longest'"
          ]
        }
      ]
    },
    {
      "cell_type": "code",
      "metadata": {
        "id": "8uenr0Nxi4fu"
      },
      "source": [
        "import itertools"
      ],
      "execution_count": null,
      "outputs": []
    },
    {
      "cell_type": "code",
      "metadata": {
        "id": "EaGpO0IzKr_H",
        "colab": {
          "base_uri": "https://localhost:8080/"
        },
        "outputId": "643c268c-3aef-4b00-eebe-91778c6ccb97"
      },
      "source": [
        "sentence = \"asfafda fdsfsdf\"\n",
        "\n",
        "sentence1 = list(sentence)\n",
        "sentence2 = {w:sentence1.count(w) for w in sentence1}\n",
        "\n",
        "sentence1\n"
      ],
      "execution_count": null,
      "outputs": [
        {
          "output_type": "execute_result",
          "data": {
            "text/plain": [
              "['a', 's', 'f', 'a', 'f', 'd', 'a', ' ', 'f', 'd', 's', 'f', 's', 'd', 'f']"
            ]
          },
          "metadata": {
            "tags": []
          },
          "execution_count": 19
        }
      ]
    },
    {
      "cell_type": "code",
      "metadata": {
        "colab": {
          "base_uri": "https://localhost:8080/"
        },
        "id": "XtyKZ-_ejl6m",
        "outputId": "023d72e4-402b-4f25-d751-d9b850a008fc"
      },
      "source": [
        "s = input(\"enter sentence:\")\n",
        "\n",
        "words = list(s)\n",
        "\n",
        "stnc = {w:words.count(w) for w in words}\n",
        "stnc"
      ],
      "execution_count": null,
      "outputs": [
        {
          "output_type": "stream",
          "text": [
            "enter sentence:hippo runs to us!\n"
          ],
          "name": "stdout"
        },
        {
          "output_type": "execute_result",
          "data": {
            "text/plain": [
              "{' ': 3,\n",
              " '!': 1,\n",
              " 'h': 1,\n",
              " 'i': 1,\n",
              " 'n': 1,\n",
              " 'o': 2,\n",
              " 'p': 2,\n",
              " 'r': 1,\n",
              " 's': 2,\n",
              " 't': 1,\n",
              " 'u': 2}"
            ]
          },
          "metadata": {
            "tags": []
          },
          "execution_count": 24
        }
      ]
    },
    {
      "cell_type": "code",
      "metadata": {
        "colab": {
          "base_uri": "https://localhost:8080/",
          "height": 129
        },
        "id": "UT_E8fClvXYv",
        "outputId": "f81191c9-b920-4925-cdd0-db6082992db3"
      },
      "source": [
        "str = \"this is string!\"\n",
        "dict = {}\n",
        "for i in set(str):\n",
        "    b = str.count(i, 0, len(str))\n",
        "    dict[i] = b\n",
        "print dict\n",
        "\n",
        "\n",
        "\n",
        "\n",
        "\n"
      ],
      "execution_count": null,
      "outputs": [
        {
          "output_type": "error",
          "ename": "SyntaxError",
          "evalue": "ignored",
          "traceback": [
            "\u001b[0;36m  File \u001b[0;32m\"<ipython-input-14-4f1dc16dc175>\"\u001b[0;36m, line \u001b[0;32m6\u001b[0m\n\u001b[0;31m    print dict\u001b[0m\n\u001b[0m             ^\u001b[0m\n\u001b[0;31mSyntaxError\u001b[0m\u001b[0;31m:\u001b[0m Missing parentheses in call to 'print'. Did you mean print(dict)?\n"
          ]
        }
      ]
    },
    {
      "cell_type": "code",
      "metadata": {
        "colab": {
          "base_uri": "https://localhost:8080/"
        },
        "id": "Yp6NE_5GywtF",
        "outputId": "8c597c0e-110f-4194-fd19-1e5711b8b15a"
      },
      "source": [
        "def count_repeated_letter(string1):\n",
        "    list1=[]\n",
        "\n",
        "    for letter in string1:\n",
        "        if string1.count(letter)>=2:\n",
        "            if letter not in list1:\n",
        "                list1.append(letter)\n",
        "\n",
        "\n",
        "    for item in list1:\n",
        "        if item!= \" \":\n",
        "            print(item,string1.count(item))\n",
        "\n",
        "\n",
        "count_repeated_letter('letter has 1 e and 2 e and 1 t and two t')"
      ],
      "execution_count": null,
      "outputs": [
        {
          "output_type": "stream",
          "text": [
            "e 4\n",
            "t 5\n",
            "a 4\n",
            "1 2\n",
            "n 3\n",
            "d 3\n"
          ],
          "name": "stdout"
        }
      ]
    },
    {
      "cell_type": "code",
      "metadata": {
        "colab": {
          "base_uri": "https://localhost:8080/"
        },
        "id": "tbJ_VZsj1SsB",
        "outputId": "d7fcc23c-8614-41a3-8e2c-6841a3ba4429"
      },
      "source": [
        "def my_min(*x):\n",
        "  for i in x :\n",
        "    min(x)\n",
        "  return (min(x))\n",
        "print(my_min(5,6,7))\n"
      ],
      "execution_count": null,
      "outputs": [
        {
          "output_type": "stream",
          "text": [
            "5\n"
          ],
          "name": "stdout"
        }
      ]
    },
    {
      "cell_type": "code",
      "metadata": {
        "colab": {
          "base_uri": "https://localhost:8080/"
        },
        "id": "ReXjGJZP3LEO",
        "outputId": "6982cac2-b7dd-4a1b-ac29-279884b357fa"
      },
      "source": [
        "# Python program to find smallest\n",
        "# number in a list\n",
        " \n",
        "# list of numbers\n",
        "list1 = [10, 20, 4, 45, 99]\n",
        " \n",
        "# sorting the list\n",
        "list1.sort()\n",
        " \n",
        "# printing the first element\n",
        "print(\"Smallest element is:\", list1[:1])"
      ],
      "execution_count": null,
      "outputs": [
        {
          "output_type": "stream",
          "text": [
            "Smallest element is: [4]\n"
          ],
          "name": "stdout"
        }
      ]
    },
    {
      "cell_type": "code",
      "metadata": {
        "id": "mXSFNCyAGf8j"
      },
      "source": [
        "empty_tuple = ()"
      ],
      "execution_count": null,
      "outputs": []
    },
    {
      "cell_type": "code",
      "metadata": {
        "colab": {
          "base_uri": "https://localhost:8080/"
        },
        "id": "8WhvyPvVQCIl",
        "outputId": "93306f18-8ddb-414e-a0e3-b91a248831d8"
      },
      "source": [
        "print(type(empty_tuple))"
      ],
      "execution_count": null,
      "outputs": [
        {
          "output_type": "stream",
          "text": [
            "<class 'tuple'>\n"
          ],
          "name": "stdout"
        }
      ]
    },
    {
      "cell_type": "code",
      "metadata": {
        "id": "P9UseygbQGWJ"
      },
      "source": [
        "try_tuple = (\"love\")"
      ],
      "execution_count": null,
      "outputs": []
    },
    {
      "cell_type": "code",
      "metadata": {
        "colab": {
          "base_uri": "https://localhost:8080/"
        },
        "id": "sSjjlwTYQL-c",
        "outputId": "98703d79-d969-492a-ad55-bd77f75422b2"
      },
      "source": [
        "print(type(try_tuple))"
      ],
      "execution_count": null,
      "outputs": [
        {
          "output_type": "stream",
          "text": [
            "<class 'str'>\n"
          ],
          "name": "stdout"
        }
      ]
    },
    {
      "cell_type": "code",
      "metadata": {
        "id": "m_7bRwI9QPy8"
      },
      "source": [
        "try_tuple = (\"love\",)"
      ],
      "execution_count": null,
      "outputs": []
    },
    {
      "cell_type": "code",
      "metadata": {
        "colab": {
          "base_uri": "https://localhost:8080/"
        },
        "id": "KCJgVorbQXL6",
        "outputId": "f4f1cc70-4a25-4a7b-c67b-d6eb55863267"
      },
      "source": [
        "print(type(try_tuple))"
      ],
      "execution_count": null,
      "outputs": [
        {
          "output_type": "stream",
          "text": [
            "<class 'tuple'>\n"
          ],
          "name": "stdout"
        }
      ]
    },
    {
      "cell_type": "code",
      "metadata": {
        "id": "ZLmToy72Qb-z"
      },
      "source": [
        "planet = 'mercury', 'jupiter', 'saturn'"
      ],
      "execution_count": null,
      "outputs": []
    },
    {
      "cell_type": "code",
      "metadata": {
        "colab": {
          "base_uri": "https://localhost:8080/"
        },
        "id": "bhVcGzbfQtcf",
        "outputId": "35c12e51-1dbf-49e0-f0d9-3cfab49ad162"
      },
      "source": [
        "print(planet)"
      ],
      "execution_count": null,
      "outputs": [
        {
          "output_type": "stream",
          "text": [
            "('mercury', 'jupiter', 'saturn')\n"
          ],
          "name": "stdout"
        }
      ]
    },
    {
      "cell_type": "code",
      "metadata": {
        "colab": {
          "base_uri": "https://localhost:8080/"
        },
        "id": "lmS-H2LPQw90",
        "outputId": "938eadd5-3a1f-4bb9-c2be-6c7ef6187698"
      },
      "source": [
        "print(type(planet))"
      ],
      "execution_count": null,
      "outputs": [
        {
          "output_type": "stream",
          "text": [
            "<class 'tuple'>\n"
          ],
          "name": "stdout"
        }
      ]
    },
    {
      "cell_type": "code",
      "metadata": {
        "id": "PeFJ9HavQ60x"
      },
      "source": [
        "empty_tuple_1 = tuple()"
      ],
      "execution_count": null,
      "outputs": []
    },
    {
      "cell_type": "code",
      "metadata": {
        "colab": {
          "base_uri": "https://localhost:8080/"
        },
        "id": "ffcUB3uFRKYl",
        "outputId": "8d297006-417f-42dc-d6bd-59c4bd8a60f7"
      },
      "source": [
        "print(type(empty_tuple_1))"
      ],
      "execution_count": null,
      "outputs": [
        {
          "output_type": "stream",
          "text": [
            "<class 'tuple'>\n"
          ],
          "name": "stdout"
        }
      ]
    },
    {
      "cell_type": "code",
      "metadata": {
        "id": "-WNZbtX8RNSN"
      },
      "source": [
        "my_tuple = (1, 4, 3, 4, 5, 6, 7, 4)"
      ],
      "execution_count": null,
      "outputs": []
    },
    {
      "cell_type": "code",
      "metadata": {
        "id": "mk22KdMdRYtQ"
      },
      "source": [
        "my_list = list(my_tuple)"
      ],
      "execution_count": null,
      "outputs": []
    },
    {
      "cell_type": "code",
      "metadata": {
        "colab": {
          "base_uri": "https://localhost:8080/"
        },
        "id": "nNrQJqYoReqJ",
        "outputId": "61afaaf8-8af6-4d99-bf2d-16c204d3a8be"
      },
      "source": [
        "print(type(my_list))"
      ],
      "execution_count": null,
      "outputs": [
        {
          "output_type": "stream",
          "text": [
            "<class 'list'>\n"
          ],
          "name": "stdout"
        }
      ]
    },
    {
      "cell_type": "code",
      "metadata": {
        "id": "Mh56AepKRj8v"
      },
      "source": [
        "my_tuple = tuple(my_list)"
      ],
      "execution_count": null,
      "outputs": []
    },
    {
      "cell_type": "code",
      "metadata": {
        "colab": {
          "base_uri": "https://localhost:8080/"
        },
        "id": "oIpmA5RxR9dl",
        "outputId": "5744e7e7-e528-4b29-cab9-3f8b0c1c1a9a"
      },
      "source": [
        "print(my_tuple)"
      ],
      "execution_count": null,
      "outputs": [
        {
          "output_type": "stream",
          "text": [
            "(1, 4, 3, 4, 5, 6, 7, 4)\n"
          ],
          "name": "stdout"
        }
      ]
    },
    {
      "cell_type": "code",
      "metadata": {
        "colab": {
          "base_uri": "https://localhost:8080/"
        },
        "id": "brwxBM_OSANc",
        "outputId": "77278082-8e22-44e5-d7b1-939d25f07f36"
      },
      "source": [
        "print(type(my_tuple))"
      ],
      "execution_count": null,
      "outputs": [
        {
          "output_type": "stream",
          "text": [
            "<class 'tuple'>\n"
          ],
          "name": "stdout"
        }
      ]
    },
    {
      "cell_type": "code",
      "metadata": {
        "colab": {
          "base_uri": "https://localhost:8080/"
        },
        "id": "rmWtSc5pSHTz",
        "outputId": "c07cfc18-2938-41bd-8c1e-9ac7ce7b4aff"
      },
      "source": [
        "mountain = tuple('Alps')\n",
        "print(mountain)"
      ],
      "execution_count": null,
      "outputs": [
        {
          "output_type": "stream",
          "text": [
            "('A', 'l', 'p', 's')\n"
          ],
          "name": "stdout"
        }
      ]
    },
    {
      "cell_type": "code",
      "metadata": {
        "colab": {
          "base_uri": "https://localhost:8080/"
        },
        "id": "vDFq0nSkSmjL",
        "outputId": "de92ac4b-8bc7-483c-abcd-c56e793a3fb3"
      },
      "source": [
        "type(mountain)"
      ],
      "execution_count": null,
      "outputs": [
        {
          "output_type": "execute_result",
          "data": {
            "text/plain": [
              "tuple"
            ]
          },
          "metadata": {
            "tags": []
          },
          "execution_count": 44
        }
      ]
    },
    {
      "cell_type": "code",
      "metadata": {
        "colab": {
          "base_uri": "https://localhost:8080/"
        },
        "id": "PX6bEpWGSqKO",
        "outputId": "8784227d-411a-41f6-a5cf-095c3d5d76c2"
      },
      "source": [
        "mountain = ('Alps')\n",
        "print(mountain)"
      ],
      "execution_count": null,
      "outputs": [
        {
          "output_type": "stream",
          "text": [
            "Alps\n"
          ],
          "name": "stdout"
        }
      ]
    },
    {
      "cell_type": "code",
      "metadata": {
        "colab": {
          "base_uri": "https://localhost:8080/"
        },
        "id": "ucHnZ3WPSzGi",
        "outputId": "6f3a3bb2-76cb-4503-8804-2869affdac94"
      },
      "source": [
        "type(mountain)"
      ],
      "execution_count": null,
      "outputs": [
        {
          "output_type": "execute_result",
          "data": {
            "text/plain": [
              "str"
            ]
          },
          "metadata": {
            "tags": []
          },
          "execution_count": 46
        }
      ]
    },
    {
      "cell_type": "code",
      "metadata": {
        "id": "AZ_g20RoTFOu"
      },
      "source": [
        "mix_value_tuple = (0, 'bird', 3.14, True)"
      ],
      "execution_count": null,
      "outputs": []
    },
    {
      "cell_type": "code",
      "metadata": {
        "colab": {
          "base_uri": "https://localhost:8080/"
        },
        "id": "VDQYB5qtToAj",
        "outputId": "e8471be1-b976-44c8-c6ca-765316c40c91"
      },
      "source": [
        "print(len(mix_value_tuple))"
      ],
      "execution_count": null,
      "outputs": [
        {
          "output_type": "stream",
          "text": [
            "4\n"
          ],
          "name": "stdout"
        }
      ]
    },
    {
      "cell_type": "code",
      "metadata": {
        "colab": {
          "base_uri": "https://localhost:8080/",
          "height": 35
        },
        "id": "kO2_0n3vTsNo",
        "outputId": "ff1b85ae-8db4-4c6a-8b01-864b53db6024"
      },
      "source": [
        "mix_value_tuple[1]"
      ],
      "execution_count": null,
      "outputs": [
        {
          "output_type": "execute_result",
          "data": {
            "application/vnd.google.colaboratory.intrinsic+json": {
              "type": "string"
            },
            "text/plain": [
              "'bird'"
            ]
          },
          "metadata": {
            "tags": []
          },
          "execution_count": 49
        }
      ]
    },
    {
      "cell_type": "code",
      "metadata": {
        "colab": {
          "base_uri": "https://localhost:8080/",
          "height": 163
        },
        "id": "QPrGsEZDTxyG",
        "outputId": "bb305956-c951-4251-8293-d265833c06c4"
      },
      "source": [
        "mix_value_tuple[0] = 1"
      ],
      "execution_count": null,
      "outputs": [
        {
          "output_type": "error",
          "ename": "TypeError",
          "evalue": "ignored",
          "traceback": [
            "\u001b[0;31m---------------------------------------------------------------------------\u001b[0m",
            "\u001b[0;31mTypeError\u001b[0m                                 Traceback (most recent call last)",
            "\u001b[0;32m<ipython-input-50-7b5dfcf75d87>\u001b[0m in \u001b[0;36m<module>\u001b[0;34m()\u001b[0m\n\u001b[0;32m----> 1\u001b[0;31m \u001b[0mmix_value_tuple\u001b[0m\u001b[0;34m[\u001b[0m\u001b[0;36m0\u001b[0m\u001b[0;34m]\u001b[0m \u001b[0;34m=\u001b[0m \u001b[0;36m1\u001b[0m\u001b[0;34m\u001b[0m\u001b[0;34m\u001b[0m\u001b[0m\n\u001b[0m",
            "\u001b[0;31mTypeError\u001b[0m: 'tuple' object does not support item assignment"
          ]
        }
      ]
    },
    {
      "cell_type": "code",
      "metadata": {
        "id": "Vl458LjyT79O"
      },
      "source": [
        "empty_dict_1 = {}"
      ],
      "execution_count": null,
      "outputs": []
    },
    {
      "cell_type": "code",
      "metadata": {
        "id": "aEQkALBfU_nR"
      },
      "source": [
        "empty_dict_2 = dict()"
      ],
      "execution_count": null,
      "outputs": []
    },
    {
      "cell_type": "code",
      "metadata": {
        "colab": {
          "base_uri": "https://localhost:8080/"
        },
        "id": "JoT_x3ybVDiq",
        "outputId": "8f92381d-6477-45b8-99ea-3531daa9a645"
      },
      "source": [
        "print(type(empty_dict_1))"
      ],
      "execution_count": null,
      "outputs": [
        {
          "output_type": "stream",
          "text": [
            "<class 'dict'>\n"
          ],
          "name": "stdout"
        }
      ]
    },
    {
      "cell_type": "code",
      "metadata": {
        "id": "8XbMMjiIVMSm"
      },
      "source": [
        "my_dict = {'key1' : 'value1',\n",
        "           'key2' : 'value2',\n",
        "           'key3' : 'value3'\n",
        "           }\n"
      ],
      "execution_count": null,
      "outputs": []
    },
    {
      "cell_type": "code",
      "metadata": {
        "colab": {
          "base_uri": "https://localhost:8080/"
        },
        "id": "nkBs92n83elL",
        "outputId": "c309b23b-56ea-4ca5-8b0f-d52d7911de7c"
      },
      "source": [
        "print(my_dict)"
      ],
      "execution_count": null,
      "outputs": [
        {
          "output_type": "stream",
          "text": [
            "{'key1': 'value1', 'key2': 'value2', 'key3': 'value3'}\n"
          ],
          "name": "stdout"
        }
      ]
    },
    {
      "cell_type": "code",
      "metadata": {
        "colab": {
          "base_uri": "https://localhost:8080/"
        },
        "id": "xlX8YvEd3jdQ",
        "outputId": "1f0c2e83-9ac6-40e8-88f6-00cc2752fddf"
      },
      "source": [
        "print(my_dict['key1'])"
      ],
      "execution_count": null,
      "outputs": [
        {
          "output_type": "stream",
          "text": [
            "value1\n"
          ],
          "name": "stdout"
        }
      ]
    },
    {
      "cell_type": "code",
      "metadata": {
        "id": "J0qFeaas3y5F"
      },
      "source": [
        "my_dict['key4'] = 'value4'"
      ],
      "execution_count": null,
      "outputs": []
    },
    {
      "cell_type": "code",
      "metadata": {
        "colab": {
          "base_uri": "https://localhost:8080/"
        },
        "id": "AhU-x-ow4g-t",
        "outputId": "701e2607-4d88-40c3-9f82-3f521d215baf"
      },
      "source": [
        "print(my_dict)"
      ],
      "execution_count": null,
      "outputs": [
        {
          "output_type": "stream",
          "text": [
            "{'key1': 'value1', 'key2': 'value2', 'key3': 'value3', 'key4': 'value4'}\n"
          ],
          "name": "stdout"
        }
      ]
    },
    {
      "cell_type": "code",
      "metadata": {
        "id": "TFWOxa5k4kPh"
      },
      "source": [
        "mix_keys = {22 : \"integer\",\n",
        "            1.2 : \"float\",\n",
        "            True : \"boolean\",\n",
        "            \"key\" : \"string\"}"
      ],
      "execution_count": null,
      "outputs": []
    },
    {
      "cell_type": "code",
      "metadata": {
        "colab": {
          "base_uri": "https://localhost:8080/"
        },
        "id": "a3mrALV65CNM",
        "outputId": "8debbf64-50d0-47af-9b25-a2ed89e512cb"
      },
      "source": [
        "print(mix_keys)"
      ],
      "execution_count": null,
      "outputs": [
        {
          "output_type": "stream",
          "text": [
            "{22: 'integer', 1.2: 'float', True: 'boolean', 'key': 'string'}\n"
          ],
          "name": "stdout"
        }
      ]
    },
    {
      "cell_type": "code",
      "metadata": {
        "id": "gcBmKJeh5E0U"
      },
      "source": [
        "mix_list = [0, 'bird', 3.14, True]"
      ],
      "execution_count": null,
      "outputs": []
    },
    {
      "cell_type": "code",
      "metadata": {
        "colab": {
          "base_uri": "https://localhost:8080/"
        },
        "id": "AFwkdD155Ua0",
        "outputId": "a8bcf190-6a0b-4bc0-d418-8812b5f9f34d"
      },
      "source": [
        "print(type(mix_list))"
      ],
      "execution_count": null,
      "outputs": [
        {
          "output_type": "stream",
          "text": [
            "<class 'list'>\n"
          ],
          "name": "stdout"
        }
      ]
    },
    {
      "cell_type": "code",
      "metadata": {
        "id": "lS1ECTq85YYS"
      },
      "source": [
        "dict_by_dict = dict(animal = 'dog', planet = 'neptun', number = 40, pi = 3.14, is_good = True)"
      ],
      "execution_count": null,
      "outputs": []
    },
    {
      "cell_type": "code",
      "metadata": {
        "colab": {
          "base_uri": "https://localhost:8080/"
        },
        "id": "w49kk11555pm",
        "outputId": "2edaa54c-2912-41cb-fb01-39d29337677d"
      },
      "source": [
        "print(dict_by_dict)"
      ],
      "execution_count": null,
      "outputs": [
        {
          "output_type": "stream",
          "text": [
            "{'animal': 'dog', 'planet': 'neptun', 'number': 40, 'pi': 3.14, 'is_good': True}\n"
          ],
          "name": "stdout"
        }
      ]
    },
    {
      "cell_type": "code",
      "metadata": {
        "colab": {
          "base_uri": "https://localhost:8080/"
        },
        "id": "gR8ze_bN58eM",
        "outputId": "c0e3a3ee-d64f-4d23-efae-78eb74f0ebe8"
      },
      "source": [
        "print(dict_by_dict.items())"
      ],
      "execution_count": null,
      "outputs": [
        {
          "output_type": "stream",
          "text": [
            "dict_items([('animal', 'dog'), ('planet', 'neptun'), ('number', 40), ('pi', 3.14), ('is_good', True)])\n"
          ],
          "name": "stdout"
        }
      ]
    },
    {
      "cell_type": "code",
      "metadata": {
        "colab": {
          "base_uri": "https://localhost:8080/"
        },
        "id": "v1BRy-9EYgmc",
        "outputId": "35818ff7-e29f-4917-f571-c5f55ec75911"
      },
      "source": [
        "print(dict_by_dict.keys())"
      ],
      "execution_count": null,
      "outputs": [
        {
          "output_type": "stream",
          "text": [
            "dict_keys(['animal', 'planet', 'number', 'pi', 'is_good'])\n"
          ],
          "name": "stdout"
        }
      ]
    },
    {
      "cell_type": "code",
      "metadata": {
        "colab": {
          "base_uri": "https://localhost:8080/"
        },
        "id": "jwKIfdiaZFjE",
        "outputId": "d7318a44-f0df-4322-ddd1-98f1a81d9b2f"
      },
      "source": [
        "print(dict_by_dict.values())"
      ],
      "execution_count": null,
      "outputs": [
        {
          "output_type": "stream",
          "text": [
            "dict_values(['dog', 'neptun', 40, 3.14, True])\n"
          ],
          "name": "stdout"
        }
      ]
    },
    {
      "cell_type": "code",
      "metadata": {
        "id": "PFhPPB1EZUtb"
      },
      "source": [
        "dict_by_dict.update({'is_bad' : False})"
      ],
      "execution_count": null,
      "outputs": []
    },
    {
      "cell_type": "code",
      "metadata": {
        "colab": {
          "base_uri": "https://localhost:8080/"
        },
        "id": "_sBa_bE8aI--",
        "outputId": "96951834-47bb-4377-904f-b474aff5c06b"
      },
      "source": [
        "print(dict_by_dict)"
      ],
      "execution_count": null,
      "outputs": [
        {
          "output_type": "stream",
          "text": [
            "{'animal': 'dog', 'planet': 'neptun', 'number': 40, 'pi': 3.14, 'is_good': True, 'is_bad': False}\n"
          ],
          "name": "stdout"
        }
      ]
    },
    {
      "cell_type": "code",
      "metadata": {
        "id": "mwXizD-taOQX"
      },
      "source": [
        "del dict_by_dict['animal']"
      ],
      "execution_count": null,
      "outputs": []
    },
    {
      "cell_type": "code",
      "metadata": {
        "colab": {
          "base_uri": "https://localhost:8080/"
        },
        "id": "_vibDvLqalrp",
        "outputId": "9feb6980-3ddd-4495-e9a6-b620ef36a7f0"
      },
      "source": [
        "print(dict_by_dict)"
      ],
      "execution_count": null,
      "outputs": [
        {
          "output_type": "stream",
          "text": [
            "{'planet': 'neptun', 'number': 40, 'pi': 3.14, 'is_good': True, 'is_bad': False}\n"
          ],
          "name": "stdout"
        }
      ]
    },
    {
      "cell_type": "code",
      "metadata": {
        "id": "5zzCrYLdao0L"
      },
      "source": [
        "dict_by_dict['animal'] = 'at'"
      ],
      "execution_count": null,
      "outputs": []
    },
    {
      "cell_type": "code",
      "metadata": {
        "colab": {
          "base_uri": "https://localhost:8080/"
        },
        "id": "LZlKCvYjfu0i",
        "outputId": "457664b0-d52d-45e2-a9c6-f85f66262dac"
      },
      "source": [
        "print(dict_by_dict)"
      ],
      "execution_count": null,
      "outputs": [
        {
          "output_type": "stream",
          "text": [
            "{'planet': 'neptun', 'number': 40, 'pi': 3.14, 'is_good': True, 'is_bad': False, 'animal': 'at'}\n"
          ],
          "name": "stdout"
        }
      ]
    },
    {
      "cell_type": "code",
      "metadata": {
        "colab": {
          "base_uri": "https://localhost:8080/"
        },
        "id": "zcH7UtEXiawf",
        "outputId": "b948ba12-d80c-4e35-f21b-ce0fbe60b704"
      },
      "source": [
        "print('pi' in dict_by_dict)"
      ],
      "execution_count": null,
      "outputs": [
        {
          "output_type": "stream",
          "text": [
            "True\n"
          ],
          "name": "stdout"
        }
      ]
    },
    {
      "cell_type": "code",
      "metadata": {
        "colab": {
          "base_uri": "https://localhost:8080/"
        },
        "id": "qsfe6YEDih2f",
        "outputId": "073df06e-5c14-456b-c888-7ea2a6ca9348"
      },
      "source": [
        "print('animal' not in dict_by_dict)"
      ],
      "execution_count": null,
      "outputs": [
        {
          "output_type": "stream",
          "text": [
            "False\n"
          ],
          "name": "stdout"
        }
      ]
    },
    {
      "cell_type": "code",
      "metadata": {
        "colab": {
          "base_uri": "https://localhost:8080/"
        },
        "id": "sDONywuSinxX",
        "outputId": "2bc58be1-79ef-42fd-cf7d-12890ac82060"
      },
      "source": [
        "print('neptun' in dict_by_dict) # key de değil value de olduğu için False"
      ],
      "execution_count": null,
      "outputs": [
        {
          "output_type": "stream",
          "text": [
            "False\n"
          ],
          "name": "stdout"
        }
      ]
    },
    {
      "cell_type": "code",
      "metadata": {
        "id": "EOWJRiYYiykv"
      },
      "source": [
        "school_records = {\n",
        "     \"personel_info\":\n",
        "        {\"kid\":\n",
        "            {\"tom\":{\"class\": \"intermediate\", \"age\": 10},\n",
        "             \"sue\":{\"class\": \"elementary\", \"age\": 8}\n",
        "            },\n",
        "         \"teen\":\n",
        "            {\"joseph\":{\"class\": \"college\", \"age\": 19},\n",
        "             \"marry\":{\"class\": \"high school\", \"age\": 16}\n",
        "            }, \n",
        "        },\n",
        "     \"grades_info\":\n",
        "        {\"kid\":\n",
        "            {\"tom\":{\"math\": 88, \"speech\": 69},\n",
        "             \"sue\":{\"math\": 90, \"speech\": 81}\n",
        "            },\n",
        "         \"teen\":\n",
        "            {\"joseph\":{\"coding\": 80, \"math\": 89},\n",
        "             \"marry\":{\"coding\": 70, \"math\": 96}\n",
        "            },  \n",
        "        },\n",
        "}"
      ],
      "execution_count": null,
      "outputs": []
    },
    {
      "cell_type": "code",
      "metadata": {
        "colab": {
          "base_uri": "https://localhost:8080/"
        },
        "id": "UsKM-GsVtzxw",
        "outputId": "fdb28a80-fac6-4535-acc8-2d76e5f42f8c"
      },
      "source": [
        "print(school_records)"
      ],
      "execution_count": null,
      "outputs": [
        {
          "output_type": "stream",
          "text": [
            "{'personel_info': {'kid': {'tom': {'class': 'intermediate', 'age': 10}, 'sue': {'class': 'elementary', 'age': 8}}, 'teen': {'joseph': {'class': 'college', 'age': 19}, 'marry': {'class': 'high school', 'age': 16}}}, 'grades_info': {'kid': {'tom': {'math': 88, 'speech': 69}, 'sue': {'math': 90, 'speech': 81}}, 'teen': {'joseph': {'coding': 80, 'math': 89}, 'marry': {'coding': 70, 'math': 96}}}}\n"
          ],
          "name": "stdout"
        }
      ]
    },
    {
      "cell_type": "code",
      "metadata": {
        "colab": {
          "base_uri": "https://localhost:8080/"
        },
        "id": "tIm9vZS_uG95",
        "outputId": "4ee7214f-cd6b-4882-c6c4-34ab935ac77f"
      },
      "source": [
        "print(school_records['personel_info']['teen']['marry']['age'])"
      ],
      "execution_count": null,
      "outputs": [
        {
          "output_type": "stream",
          "text": [
            "16\n"
          ],
          "name": "stdout"
        }
      ]
    },
    {
      "cell_type": "code",
      "metadata": {
        "colab": {
          "base_uri": "https://localhost:8080/"
        },
        "id": "FNR8ajKWuhJf",
        "outputId": "ab1aa659-2897-4b0b-d94c-ab904004b561"
      },
      "source": [
        "empty_set = set()\n",
        "print(type(empty_set))"
      ],
      "execution_count": null,
      "outputs": [
        {
          "output_type": "stream",
          "text": [
            "<class 'set'>\n"
          ],
          "name": "stdout"
        }
      ]
    },
    {
      "cell_type": "code",
      "metadata": {
        "colab": {
          "base_uri": "https://localhost:8080/"
        },
        "id": "0na2OSiRXlwz",
        "outputId": "7173459d-7d17-4445-e4ad-a65c2147a300"
      },
      "source": [
        "colorset = {'purple', 'orange', 'red', 'darkblue', 'yellow', 'red'}\n",
        "print(colorset)\n",
        "print(colorset)"
      ],
      "execution_count": null,
      "outputs": [
        {
          "output_type": "stream",
          "text": [
            "{'yellow', 'orange', 'purple', 'red', 'darkblue'}\n",
            "{'yellow', 'orange', 'purple', 'red', 'darkblue'}\n"
          ],
          "name": "stdout"
        }
      ]
    },
    {
      "cell_type": "code",
      "metadata": {
        "colab": {
          "base_uri": "https://localhost:8080/"
        },
        "id": "qW0BGcVOYKA8",
        "outputId": "f1c3f0a9-34dc-4e3f-967f-58593be97362"
      },
      "source": [
        "print(colorset)"
      ],
      "execution_count": null,
      "outputs": [
        {
          "output_type": "stream",
          "text": [
            "{'yellow', 'orange', 'purple', 'red', 'darkblue'}\n"
          ],
          "name": "stdout"
        }
      ]
    },
    {
      "cell_type": "code",
      "metadata": {
        "colab": {
          "base_uri": "https://localhost:8080/"
        },
        "id": "CUPH-cSMYMU9",
        "outputId": "896570d2-1f6c-438a-db9e-1b9c951a713d"
      },
      "source": [
        "s = set('unselfishness')\n",
        "print(s)"
      ],
      "execution_count": null,
      "outputs": [
        {
          "output_type": "stream",
          "text": [
            "{'i', 'l', 's', 'h', 'e', 'f', 'u', 'n'}\n"
          ],
          "name": "stdout"
        }
      ]
    },
    {
      "cell_type": "code",
      "metadata": {
        "colab": {
          "base_uri": "https://localhost:8080/"
        },
        "id": "DrBM_ZliYZrB",
        "outputId": "88bad2e8-0dea-43a4-a0e9-0e5ed2d68316"
      },
      "source": [
        "a = set('abracadabra')\n",
        "print(a)"
      ],
      "execution_count": null,
      "outputs": [
        {
          "output_type": "stream",
          "text": [
            "{'d', 'c', 'a', 'r', 'b'}\n"
          ],
          "name": "stdout"
        }
      ]
    },
    {
      "cell_type": "code",
      "metadata": {
        "colab": {
          "base_uri": "https://localhost:8080/"
        },
        "id": "ckFAzJpteIcU",
        "outputId": "3f27e786-b65d-4bca-bbdb-477c62a21b63"
      },
      "source": [
        "b = set('alacazam')\n",
        "print(a - b)\n",
        "print(a.difference(b))"
      ],
      "execution_count": null,
      "outputs": [
        {
          "output_type": "stream",
          "text": [
            "{'r', 'b', 'd'}\n",
            "{'r', 'b', 'd'}\n"
          ],
          "name": "stdout"
        }
      ]
    },
    {
      "cell_type": "code",
      "metadata": {
        "colab": {
          "base_uri": "https://localhost:8080/"
        },
        "id": "8fRqNLx3egsx",
        "outputId": "b0ee6630-a05e-4f47-8ff1-80b1277f04fa"
      },
      "source": [
        "print(a | b)\n",
        "print(a.union(b))"
      ],
      "execution_count": null,
      "outputs": [
        {
          "output_type": "stream",
          "text": [
            "{'l', 'd', 'c', 'z', 'a', 'r', 'm', 'b'}\n",
            "{'l', 'd', 'c', 'z', 'a', 'r', 'm', 'b'}\n"
          ],
          "name": "stdout"
        }
      ]
    },
    {
      "cell_type": "code",
      "metadata": {
        "colab": {
          "base_uri": "https://localhost:8080/"
        },
        "id": "Ck5yXe9VeuAN",
        "outputId": "c37d29bb-353f-4f5e-e142-ff6942079ff4"
      },
      "source": [
        "print(a & b)\n",
        "print(a.intersection(b))"
      ],
      "execution_count": null,
      "outputs": [
        {
          "output_type": "stream",
          "text": [
            "{'a', 'c'}\n",
            "{'a', 'c'}\n"
          ],
          "name": "stdout"
        }
      ]
    },
    {
      "cell_type": "code",
      "metadata": {
        "colab": {
          "base_uri": "https://localhost:8080/",
          "height": 163
        },
        "id": "yuVNv7IAfIJo",
        "outputId": "3058acdd-ddf3-48fc-e5b5-0d0f0bc3a530"
      },
      "source": [
        "print(a.remove('c'))"
      ],
      "execution_count": null,
      "outputs": [
        {
          "output_type": "error",
          "ename": "KeyError",
          "evalue": "ignored",
          "traceback": [
            "\u001b[0;31m---------------------------------------------------------------------------\u001b[0m",
            "\u001b[0;31mKeyError\u001b[0m                                  Traceback (most recent call last)",
            "\u001b[0;32m<ipython-input-16-509eebefa7f7>\u001b[0m in \u001b[0;36m<module>\u001b[0;34m()\u001b[0m\n\u001b[0;32m----> 1\u001b[0;31m \u001b[0mprint\u001b[0m\u001b[0;34m(\u001b[0m\u001b[0ma\u001b[0m\u001b[0;34m.\u001b[0m\u001b[0mremove\u001b[0m\u001b[0;34m(\u001b[0m\u001b[0;34m'c'\u001b[0m\u001b[0;34m)\u001b[0m\u001b[0;34m)\u001b[0m\u001b[0;34m\u001b[0m\u001b[0;34m\u001b[0m\u001b[0m\n\u001b[0m",
            "\u001b[0;31mKeyError\u001b[0m: 'c'"
          ]
        }
      ]
    },
    {
      "cell_type": "code",
      "metadata": {
        "id": "PqAd4VGNfeaX"
      },
      "source": [
        "a.remove('a')"
      ],
      "execution_count": null,
      "outputs": []
    },
    {
      "cell_type": "code",
      "metadata": {
        "colab": {
          "base_uri": "https://localhost:8080/"
        },
        "id": "_gCtETP3fhrA",
        "outputId": "7aaec9f9-d2ba-472f-8f7a-05a6d2e59483"
      },
      "source": [
        "print(a)"
      ],
      "execution_count": null,
      "outputs": [
        {
          "output_type": "stream",
          "text": [
            "{'d', 'r', 'b'}\n"
          ],
          "name": "stdout"
        }
      ]
    },
    {
      "cell_type": "code",
      "metadata": {
        "colab": {
          "base_uri": "https://localhost:8080/"
        },
        "id": "K7m29KjTfoTv",
        "outputId": "7105f3f5-ad51-4165-ee7c-baffc5e63a39"
      },
      "source": [
        "a.add('c')\n",
        "print(a)"
      ],
      "execution_count": null,
      "outputs": [
        {
          "output_type": "stream",
          "text": [
            "{'d', 'c', 'r', 'b'}\n"
          ],
          "name": "stdout"
        }
      ]
    },
    {
      "cell_type": "code",
      "metadata": {
        "colab": {
          "base_uri": "https://localhost:8080/"
        },
        "id": "RsRjr0CugK52",
        "outputId": "d87df48a-aa48-464c-afdb-65813d75a7e2"
      },
      "source": [
        "score = int(input(\"Enter your score :\"))\n",
        "if score >= 90:\n",
        "  if score >= 95:\n",
        "    Score_letter = \"A+\"\n",
        "  else:\n",
        "    Score_letter = \"A\"\n",
        "elif score >= 80:\n",
        "  if score >= 85:\n",
        "    Score_letter = \"B+\"\n",
        "  else:\n",
        "    Score_letter = \"B\"\n",
        "else:\n",
        "  Score_letter = \"below B\"\n",
        "print(\"Your degree: %s\" % Score_letter)\n",
        "print(\"Your degree:\", Score_letter\n",
        "      )"
      ],
      "execution_count": null,
      "outputs": [
        {
          "output_type": "stream",
          "text": [
            "Enter your score :90\n",
            "Your degree: A\n",
            "Your degree: A\n"
          ],
          "name": "stdout"
        }
      ]
    },
    {
      "cell_type": "code",
      "metadata": {
        "id": "wGVgyDhQld44",
        "colab": {
          "base_uri": "https://localhost:8080/",
          "height": 35
        },
        "outputId": "240c298b-235e-4b9c-e283-5f2458147f4b"
      },
      "source": [
        "pwd"
      ],
      "execution_count": null,
      "outputs": [
        {
          "output_type": "execute_result",
          "data": {
            "application/vnd.google.colaboratory.intrinsic+json": {
              "type": "string"
            },
            "text/plain": [
              "'/content'"
            ]
          },
          "metadata": {
            "tags": []
          },
          "execution_count": 1
        }
      ]
    },
    {
      "cell_type": "code",
      "metadata": {
        "id": "zZUYjaktm1Sq"
      },
      "source": [
        "from upper_package import my_package1, my_package2"
      ],
      "execution_count": null,
      "outputs": []
    },
    {
      "cell_type": "code",
      "metadata": {
        "id": "ntFcJNp7rpPG"
      },
      "source": [
        "from upper_package.my_package1 import my_module_1, my_module_2"
      ],
      "execution_count": null,
      "outputs": []
    },
    {
      "cell_type": "code",
      "metadata": {
        "colab": {
          "base_uri": "https://localhost:8080/"
        },
        "id": "jUY6jxJpr7K1",
        "outputId": "803b7d67-2707-440b-f138-8405f56c79ce"
      },
      "source": [
        "dir(my_package1)"
      ],
      "execution_count": null,
      "outputs": [
        {
          "output_type": "execute_result",
          "data": {
            "text/plain": [
              "['__doc__',\n",
              " '__file__',\n",
              " '__loader__',\n",
              " '__name__',\n",
              " '__package__',\n",
              " '__path__',\n",
              " '__spec__',\n",
              " 'my_module_1',\n",
              " 'my_module_2']"
            ]
          },
          "metadata": {
            "tags": []
          },
          "execution_count": 7
        }
      ]
    },
    {
      "cell_type": "code",
      "metadata": {
        "id": "l7XMEn7jsImF"
      },
      "source": [
        "from upper_package.my_package2 import my_module_3, my_module_4"
      ],
      "execution_count": null,
      "outputs": []
    },
    {
      "cell_type": "code",
      "metadata": {
        "colab": {
          "base_uri": "https://localhost:8080/"
        },
        "id": "mVxBTucRssm6",
        "outputId": "72d73101-d1a7-45e8-be0d-8d1947184b17"
      },
      "source": [
        "dir(my_package2)"
      ],
      "execution_count": null,
      "outputs": [
        {
          "output_type": "execute_result",
          "data": {
            "text/plain": [
              "['__doc__',\n",
              " '__file__',\n",
              " '__loader__',\n",
              " '__name__',\n",
              " '__package__',\n",
              " '__path__',\n",
              " '__spec__',\n",
              " 'my_module_3',\n",
              " 'my_module_4']"
            ]
          },
          "metadata": {
            "tags": []
          },
          "execution_count": 9
        }
      ]
    },
    {
      "cell_type": "code",
      "metadata": {
        "colab": {
          "base_uri": "https://localhost:8080/"
        },
        "id": "iTBeYXpQs9yb",
        "outputId": "a5086ce7-0f72-400f-ffc2-41ed2356f5d1"
      },
      "source": [
        "my_module_2.divide(10, 5)"
      ],
      "execution_count": null,
      "outputs": [
        {
          "output_type": "execute_result",
          "data": {
            "text/plain": [
              "2.0"
            ]
          },
          "metadata": {
            "tags": []
          },
          "execution_count": 10
        }
      ]
    },
    {
      "cell_type": "code",
      "metadata": {
        "colab": {
          "base_uri": "https://localhost:8080/"
        },
        "id": "rutkB4RttJLF",
        "outputId": "efea9436-8160-472f-bf15-ba8eb6f30e28"
      },
      "source": [
        "my_module_1.addition(4,5)"
      ],
      "execution_count": null,
      "outputs": [
        {
          "output_type": "execute_result",
          "data": {
            "text/plain": [
              "9"
            ]
          },
          "metadata": {
            "tags": []
          },
          "execution_count": 11
        }
      ]
    },
    {
      "cell_type": "code",
      "metadata": {
        "colab": {
          "base_uri": "https://localhost:8080/",
          "height": 35
        },
        "id": "8AxAKBVqtX5x",
        "outputId": "08a8ef91-2f0e-466a-c9f3-199e49894e5c"
      },
      "source": [
        "my_module_3.repeater(\"clarusway\", 3)"
      ],
      "execution_count": null,
      "outputs": [
        {
          "output_type": "execute_result",
          "data": {
            "application/vnd.google.colaboratory.intrinsic+json": {
              "type": "string"
            },
            "text/plain": [
              "'claruswayclaruswayclarusway'"
            ]
          },
          "metadata": {
            "tags": []
          },
          "execution_count": 12
        }
      ]
    },
    {
      "cell_type": "code",
      "metadata": {
        "colab": {
          "base_uri": "https://localhost:8080/"
        },
        "id": "t0PBUjxNtwHm",
        "outputId": "80eeb3cc-1664-464c-c984-87f597b7101d"
      },
      "source": [
        "my_module_4.sqroot(25)"
      ],
      "execution_count": null,
      "outputs": [
        {
          "output_type": "execute_result",
          "data": {
            "text/plain": [
              "5.0"
            ]
          },
          "metadata": {
            "tags": []
          },
          "execution_count": 13
        }
      ]
    },
    {
      "cell_type": "code",
      "metadata": {
        "colab": {
          "base_uri": "https://localhost:8080/"
        },
        "id": "LumuaWrXt4Zw",
        "outputId": "ef69016b-1bd2-4ed0-f9c9-e7e51b2d45a2"
      },
      "source": [
        "my_package1.__spec__"
      ],
      "execution_count": null,
      "outputs": [
        {
          "output_type": "execute_result",
          "data": {
            "text/plain": [
              "ModuleSpec(name='upper_package.my_package1', loader=<_frozen_importlib_external._NamespaceLoader object at 0x7f4ad1ba57d0>, submodule_search_locations=_NamespacePath(['/content/upper_package/my_package1', '/content/upper_package/my_package1']))"
            ]
          },
          "metadata": {
            "tags": []
          },
          "execution_count": 14
        }
      ]
    },
    {
      "cell_type": "code",
      "metadata": {
        "id": "r46G45EMuEu7"
      },
      "source": [
        "import upper_package"
      ],
      "execution_count": null,
      "outputs": []
    },
    {
      "cell_type": "code",
      "metadata": {
        "colab": {
          "base_uri": "https://localhost:8080/"
        },
        "id": "iG5iRWhuuh2T",
        "outputId": "4929f5ff-dfd1-4fea-fbef-b86da700e462"
      },
      "source": [
        "dir(upper_package)"
      ],
      "execution_count": null,
      "outputs": [
        {
          "output_type": "execute_result",
          "data": {
            "text/plain": [
              "['__doc__',\n",
              " '__file__',\n",
              " '__loader__',\n",
              " '__name__',\n",
              " '__package__',\n",
              " '__path__',\n",
              " '__spec__',\n",
              " 'my_package1',\n",
              " 'my_package2']"
            ]
          },
          "metadata": {
            "tags": []
          },
          "execution_count": 16
        }
      ]
    },
    {
      "cell_type": "code",
      "metadata": {
        "id": "pmNTuXjAulPj"
      },
      "source": [
        "from upper_package.my_package1.my_module_2 import divide, hello"
      ],
      "execution_count": null,
      "outputs": []
    },
    {
      "cell_type": "code",
      "metadata": {
        "colab": {
          "base_uri": "https://localhost:8080/"
        },
        "id": "BBkq5urbu2RQ",
        "outputId": "94860481-4d55-4efa-ee1b-79ce8e31df54"
      },
      "source": [
        "hello()"
      ],
      "execution_count": null,
      "outputs": [
        {
          "output_type": "stream",
          "text": [
            "hello\n"
          ],
          "name": "stdout"
        }
      ]
    },
    {
      "cell_type": "code",
      "metadata": {
        "colab": {
          "base_uri": "https://localhost:8080/"
        },
        "id": "z_wxXg9evI0t",
        "outputId": "f48d4de5-45d3-4706-8384-c5f210b491c8"
      },
      "source": [
        "divide(22, 11)"
      ],
      "execution_count": null,
      "outputs": [
        {
          "output_type": "execute_result",
          "data": {
            "text/plain": [
              "2.0"
            ]
          },
          "metadata": {
            "tags": []
          },
          "execution_count": 19
        }
      ]
    },
    {
      "cell_type": "code",
      "metadata": {
        "id": "yj11hZv1vLBf"
      },
      "source": [
        "import math"
      ],
      "execution_count": null,
      "outputs": []
    },
    {
      "cell_type": "code",
      "metadata": {
        "id": "upiYiHYovNJc"
      },
      "source": [
        "from math import log10"
      ],
      "execution_count": null,
      "outputs": []
    },
    {
      "cell_type": "code",
      "metadata": {
        "colab": {
          "base_uri": "https://localhost:8080/"
        },
        "id": "TzBj7LqzvTgO",
        "outputId": "69c4e694-ba12-49ec-e1b7-98f5461b0ced"
      },
      "source": [
        "log10(1000)"
      ],
      "execution_count": null,
      "outputs": [
        {
          "output_type": "execute_result",
          "data": {
            "text/plain": [
              "3.0"
            ]
          },
          "metadata": {
            "tags": []
          },
          "execution_count": 22
        }
      ]
    },
    {
      "cell_type": "code",
      "metadata": {
        "colab": {
          "base_uri": "https://localhost:8080/"
        },
        "id": "V14EK-FCvVbo",
        "outputId": "494193ff-c766-4d98-e09d-0ec821f88ee2"
      },
      "source": [
        "print(math.__doc__)"
      ],
      "execution_count": null,
      "outputs": [
        {
          "output_type": "stream",
          "text": [
            "This module provides access to the mathematical functions\n",
            "defined by the C standard.\n"
          ],
          "name": "stdout"
        }
      ]
    },
    {
      "cell_type": "code",
      "metadata": {
        "colab": {
          "base_uri": "https://localhost:8080/"
        },
        "id": "suuVB3buvvvb",
        "outputId": "7b783686-bf98-429e-a676-59027222fecf"
      },
      "source": [
        "print(my_module_2.__doc__)"
      ],
      "execution_count": null,
      "outputs": [
        {
          "output_type": "stream",
          "text": [
            "\n",
            "This is module 2. Welcome!\n",
            "\n"
          ],
          "name": "stdout"
        }
      ]
    },
    {
      "cell_type": "code",
      "metadata": {
        "colab": {
          "base_uri": "https://localhost:8080/"
        },
        "id": "f0mCPq46zwq_",
        "outputId": "a48e7ff3-c151-4eda-efe1-dc51236f4b8a"
      },
      "source": [
        "pip list"
      ],
      "execution_count": null,
      "outputs": [
        {
          "output_type": "stream",
          "text": [
            "Package                       Version       \n",
            "----------------------------- --------------\n",
            "absl-py                       0.12.0        \n",
            "alabaster                     0.7.12        \n",
            "albumentations                0.1.12        \n",
            "altair                        4.1.0         \n",
            "appdirs                       1.4.4         \n",
            "argon2-cffi                   20.1.0        \n",
            "arviz                         0.11.2        \n",
            "astor                         0.8.1         \n",
            "astropy                       4.2.1         \n",
            "astunparse                    1.6.3         \n",
            "async-generator               1.10          \n",
            "atari-py                      0.2.6         \n",
            "atomicwrites                  1.4.0         \n",
            "attrs                         21.2.0        \n",
            "audioread                     2.1.9         \n",
            "autograd                      1.3           \n",
            "Babel                         2.9.1         \n",
            "backcall                      0.2.0         \n",
            "beautifulsoup4                4.6.3         \n",
            "bleach                        3.3.0         \n",
            "blis                          0.4.1         \n",
            "bokeh                         2.3.2         \n",
            "Bottleneck                    1.3.2         \n",
            "branca                        0.4.2         \n",
            "bs4                           0.0.1         \n",
            "CacheControl                  0.12.6        \n",
            "cachetools                    4.2.2         \n",
            "catalogue                     1.0.0         \n",
            "certifi                       2020.12.5     \n",
            "cffi                          1.14.5        \n",
            "cftime                        1.4.1         \n",
            "chainer                       7.4.0         \n",
            "chardet                       3.0.4         \n",
            "click                         8.0.0         \n",
            "cloudpickle                   1.3.0         \n",
            "cmake                         3.12.0        \n",
            "cmdstanpy                     0.9.5         \n",
            "colorcet                      2.0.6         \n",
            "colorlover                    0.3.0         \n",
            "community                     1.0.0b1       \n",
            "contextlib2                   0.5.5         \n",
            "convertdate                   2.3.2         \n",
            "coverage                      3.7.1         \n",
            "coveralls                     0.5           \n",
            "crcmod                        1.7           \n",
            "cufflinks                     0.17.3        \n",
            "cvxopt                        1.2.6         \n",
            "cvxpy                         1.0.31        \n",
            "cycler                        0.10.0        \n",
            "cymem                         2.0.5         \n",
            "Cython                        0.29.23       \n",
            "daft                          0.0.4         \n",
            "dask                          2.12.0        \n",
            "datascience                   0.10.6        \n",
            "debugpy                       1.0.0         \n",
            "decorator                     4.4.2         \n",
            "defusedxml                    0.7.1         \n",
            "descartes                     1.1.0         \n",
            "dill                          0.3.3         \n",
            "distributed                   1.25.3        \n",
            "dlib                          19.18.0       \n",
            "dm-tree                       0.1.6         \n",
            "docopt                        0.6.2         \n",
            "docutils                      0.17.1        \n",
            "dopamine-rl                   1.0.5         \n",
            "earthengine-api               0.1.264       \n",
            "easydict                      1.9           \n",
            "ecos                          2.0.7.post1   \n",
            "editdistance                  0.5.3         \n",
            "en-core-web-sm                2.2.5         \n",
            "entrypoints                   0.3           \n",
            "ephem                         3.7.7.1       \n",
            "et-xmlfile                    1.1.0         \n",
            "fa2                           0.3.5         \n",
            "fancyimpute                   0.4.3         \n",
            "fastai                        1.0.61        \n",
            "fastdtw                       0.3.4         \n",
            "fastprogress                  1.0.0         \n",
            "fastrlock                     0.6           \n",
            "fbprophet                     0.7.1         \n",
            "feather-format                0.4.1         \n",
            "filelock                      3.0.12        \n",
            "firebase-admin                4.4.0         \n",
            "fix-yahoo-finance             0.0.22        \n",
            "Flask                         1.1.2         \n",
            "flatbuffers                   1.12          \n",
            "folium                        0.8.3         \n",
            "future                        0.16.0        \n",
            "gast                          0.3.3         \n",
            "GDAL                          2.2.2         \n",
            "gdown                         3.6.4         \n",
            "gensim                        3.6.0         \n",
            "geographiclib                 1.50          \n",
            "geopy                         1.17.0        \n",
            "gin-config                    0.4.0         \n",
            "glob2                         0.7           \n",
            "google                        2.0.3         \n",
            "google-api-core               1.26.3        \n",
            "google-api-python-client      1.12.8        \n",
            "google-auth                   1.30.0        \n",
            "google-auth-httplib2          0.0.4         \n",
            "google-auth-oauthlib          0.4.4         \n",
            "google-cloud-bigquery         1.21.0        \n",
            "google-cloud-bigquery-storage 1.1.0         \n",
            "google-cloud-core             1.0.3         \n",
            "google-cloud-datastore        1.8.0         \n",
            "google-cloud-firestore        1.7.0         \n",
            "google-cloud-language         1.2.0         \n",
            "google-cloud-storage          1.18.1        \n",
            "google-cloud-translate        1.5.0         \n",
            "google-colab                  1.0.0         \n",
            "google-pasta                  0.2.0         \n",
            "google-resumable-media        0.4.1         \n",
            "googleapis-common-protos      1.53.0        \n",
            "googledrivedownloader         0.4           \n",
            "graphviz                      0.10.1        \n",
            "greenlet                      1.1.0         \n",
            "grpcio                        1.32.0        \n",
            "gspread                       3.0.1         \n",
            "gspread-dataframe             3.0.8         \n",
            "gym                           0.17.3        \n",
            "h5py                          2.10.0        \n",
            "HeapDict                      1.0.1         \n",
            "hijri-converter               2.1.1         \n",
            "holidays                      0.10.5.2      \n",
            "holoviews                     1.14.3        \n",
            "html5lib                      1.0.1         \n",
            "httpimport                    0.5.18        \n",
            "httplib2                      0.17.4        \n",
            "httplib2shim                  0.0.3         \n",
            "humanize                      0.5.1         \n",
            "hyperopt                      0.1.2         \n",
            "ideep4py                      2.0.0.post3   \n",
            "idna                          2.10          \n",
            "imageio                       2.4.1         \n",
            "imagesize                     1.2.0         \n",
            "imbalanced-learn              0.4.3         \n",
            "imblearn                      0.0           \n",
            "imgaug                        0.2.9         \n",
            "importlib-metadata            4.0.1         \n",
            "importlib-resources           5.1.2         \n",
            "imutils                       0.5.4         \n",
            "inflect                       2.1.0         \n",
            "iniconfig                     1.1.1         \n",
            "intel-openmp                  2021.2.0      \n",
            "intervaltree                  2.1.0         \n",
            "ipykernel                     4.10.1        \n",
            "ipython                       5.5.0         \n",
            "ipython-genutils              0.2.0         \n",
            "ipython-sql                   0.3.9         \n",
            "ipywidgets                    7.6.3         \n",
            "itsdangerous                  2.0.0         \n",
            "jax                           0.2.13        \n",
            "jaxlib                        0.1.66+cuda110\n",
            "jdcal                         1.4.1         \n",
            "jedi                          0.18.0        \n",
            "jieba                         0.42.1        \n",
            "Jinja2                        2.11.3        \n",
            "joblib                        1.0.1         \n",
            "jpeg4py                       0.1.4         \n",
            "jsonschema                    2.6.0         \n",
            "jupyter                       1.0.0         \n",
            "jupyter-client                5.3.5         \n",
            "jupyter-console               5.2.0         \n",
            "jupyter-core                  4.7.1         \n",
            "jupyterlab-pygments           0.1.2         \n",
            "jupyterlab-widgets            1.0.0         \n",
            "kaggle                        1.5.12        \n",
            "kapre                         0.1.3.1       \n",
            "Keras                         2.4.3         \n",
            "Keras-Preprocessing           1.1.2         \n",
            "keras-vis                     0.4.1         \n",
            "kiwisolver                    1.3.1         \n",
            "knnimpute                     0.1.0         \n",
            "korean-lunar-calendar         0.2.1         \n",
            "librosa                       0.8.0         \n",
            "lightgbm                      2.2.3         \n",
            "llvmlite                      0.34.0        \n",
            "lmdb                          0.99          \n",
            "LunarCalendar                 0.0.9         \n",
            "lxml                          4.2.6         \n",
            "Markdown                      3.3.4         \n",
            "MarkupSafe                    2.0.0         \n",
            "matplotlib                    3.2.2         \n",
            "matplotlib-inline             0.1.2         \n",
            "matplotlib-venn               0.11.6        \n",
            "missingno                     0.4.2         \n",
            "mistune                       0.8.4         \n",
            "mizani                        0.6.0         \n",
            "mkl                           2019.0        \n",
            "mlxtend                       0.14.0        \n",
            "more-itertools                8.7.0         \n",
            "moviepy                       0.2.3.5       \n",
            "mpmath                        1.2.1         \n",
            "msgpack                       1.0.2         \n",
            "multiprocess                  0.70.11.1     \n",
            "multitasking                  0.0.9         \n",
            "murmurhash                    1.0.5         \n",
            "music21                       5.5.0         \n",
            "natsort                       5.5.0         \n",
            "nbclient                      0.5.3         \n",
            "nbconvert                     5.6.1         \n",
            "nbformat                      5.1.3         \n",
            "nest-asyncio                  1.5.1         \n",
            "netCDF4                       1.5.6         \n",
            "networkx                      2.5.1         \n",
            "nibabel                       3.0.2         \n",
            "nltk                          3.2.5         \n",
            "notebook                      5.3.1         \n",
            "np-utils                      0.5.12.1      \n",
            "numba                         0.51.2        \n",
            "numexpr                       2.7.3         \n",
            "numpy                         1.19.5        \n",
            "nvidia-ml-py3                 7.352.0       \n",
            "oauth2client                  4.1.3         \n",
            "oauthlib                      3.1.0         \n",
            "okgrade                       0.4.3         \n",
            "opencv-contrib-python         4.1.2.30      \n",
            "opencv-python                 4.1.2.30      \n",
            "openpyxl                      2.5.9         \n",
            "opt-einsum                    3.3.0         \n",
            "osqp                          0.6.2.post0   \n",
            "packaging                     20.9          \n",
            "palettable                    3.3.0         \n",
            "pandas                        1.1.5         \n",
            "pandas-datareader             0.9.0         \n",
            "pandas-gbq                    0.13.3        \n",
            "pandas-profiling              1.4.1         \n",
            "pandocfilters                 1.4.3         \n",
            "panel                         0.11.3        \n",
            "param                         1.10.1        \n",
            "parso                         0.8.2         \n",
            "pathlib                       1.0.1         \n",
            "patsy                         0.5.1         \n",
            "pexpect                       4.8.0         \n",
            "pickleshare                   0.7.5         \n",
            "Pillow                        7.1.2         \n",
            "pip                           19.3.1        \n",
            "pip-tools                     4.5.1         \n",
            "plac                          1.1.3         \n",
            "plotly                        4.4.1         \n",
            "plotnine                      0.6.0         \n",
            "pluggy                        0.7.1         \n",
            "pooch                         1.3.0         \n",
            "portpicker                    1.3.9         \n",
            "prefetch-generator            1.0.1         \n",
            "preshed                       3.0.5         \n",
            "prettytable                   2.1.0         \n",
            "progressbar2                  3.38.0        \n",
            "prometheus-client             0.10.1        \n",
            "promise                       2.3           \n",
            "prompt-toolkit                1.0.18        \n",
            "protobuf                      3.12.4        \n",
            "psutil                        5.4.8         \n",
            "psycopg2                      2.7.6.1       \n",
            "ptyprocess                    0.7.0         \n",
            "py                            1.10.0        \n",
            "pyarrow                       3.0.0         \n",
            "pyasn1                        0.4.8         \n",
            "pyasn1-modules                0.2.8         \n",
            "pycocotools                   2.0.2         \n",
            "pycparser                     2.20          \n",
            "pyct                          0.4.8         \n",
            "pydata-google-auth            1.2.0         \n",
            "pydot                         1.3.0         \n",
            "pydot-ng                      2.0.0         \n",
            "pydotplus                     2.0.2         \n",
            "PyDrive                       1.3.1         \n",
            "pyemd                         0.5.1         \n",
            "pyerfa                        1.7.3         \n",
            "pyglet                        1.5.0         \n",
            "Pygments                      2.6.1         \n",
            "pygobject                     3.26.1        \n",
            "pymc3                         3.11.2        \n",
            "PyMeeus                       0.5.11        \n",
            "pymongo                       3.11.4        \n",
            "pymystem3                     0.2.0         \n",
            "PyOpenGL                      3.1.5         \n",
            "pyparsing                     2.4.7         \n",
            "pyrsistent                    0.17.3        \n",
            "pysndfile                     1.3.8         \n",
            "PySocks                       1.7.1         \n",
            "pystan                        2.19.1.1      \n",
            "pytest                        3.6.4         \n",
            "python-apt                    0.0.0         \n",
            "python-chess                  0.23.11       \n",
            "python-dateutil               2.8.1         \n",
            "python-louvain                0.15          \n",
            "python-slugify                5.0.2         \n",
            "python-utils                  2.5.6         \n",
            "pytz                          2018.9        \n",
            "pyviz-comms                   2.0.1         \n",
            "PyWavelets                    1.1.1         \n",
            "PyYAML                        3.13          \n",
            "pyzmq                         22.0.3        \n",
            "qdldl                         0.1.5.post0   \n",
            "qtconsole                     5.1.0         \n",
            "QtPy                          1.9.0         \n",
            "regex                         2019.12.20    \n",
            "requests                      2.23.0        \n",
            "requests-oauthlib             1.3.0         \n",
            "resampy                       0.2.2         \n",
            "retrying                      1.3.3         \n",
            "rpy2                          3.4.4         \n",
            "rsa                           4.7.2         \n",
            "scikit-image                  0.16.2        \n",
            "scikit-learn                  0.22.2.post1  \n",
            "scipy                         1.4.1         \n",
            "screen-resolution-extra       0.0.0         \n",
            "scs                           2.1.3         \n",
            "seaborn                       0.11.1        \n",
            "semver                        2.13.0        \n",
            "Send2Trash                    1.5.0         \n",
            "setuptools                    56.1.0        \n",
            "setuptools-git                1.2           \n",
            "Shapely                       1.7.1         \n",
            "simplegeneric                 0.8.1         \n",
            "six                           1.15.0        \n",
            "sklearn                       0.0           \n",
            "sklearn-pandas                1.8.0         \n",
            "smart-open                    5.0.0         \n",
            "snowballstemmer               2.1.0         \n",
            "sortedcontainers              2.3.0         \n",
            "SoundFile                     0.10.3.post1  \n",
            "spacy                         2.2.4         \n",
            "Sphinx                        1.8.5         \n",
            "sphinxcontrib-serializinghtml 1.1.4         \n",
            "sphinxcontrib-websupport      1.2.4         \n",
            "SQLAlchemy                    1.4.15        \n",
            "sqlparse                      0.4.1         \n",
            "srsly                         1.0.5         \n",
            "statsmodels                   0.10.2        \n",
            "sympy                         1.7.1         \n",
            "tables                        3.4.4         \n",
            "tabulate                      0.8.9         \n",
            "tblib                         1.7.0         \n",
            "tensorboard                   2.4.1         \n",
            "tensorboard-plugin-wit        1.8.0         \n",
            "tensorflow                    2.4.1         \n",
            "tensorflow-datasets           4.0.1         \n",
            "tensorflow-estimator          2.4.0         \n",
            "tensorflow-gcs-config         2.4.0         \n",
            "tensorflow-hub                0.12.0        \n",
            "tensorflow-metadata           0.30.0        \n",
            "tensorflow-probability        0.12.1        \n",
            "termcolor                     1.1.0         \n",
            "terminado                     0.9.5         \n",
            "testpath                      0.4.4         \n",
            "text-unidecode                1.3           \n",
            "textblob                      0.15.3        \n",
            "textgenrnn                    1.4.1         \n",
            "Theano-PyMC                   1.1.2         \n",
            "thinc                         7.4.0         \n",
            "tifffile                      2021.4.8      \n",
            "toml                          0.10.2        \n",
            "toolz                         0.11.1        \n",
            "torch                         1.8.1+cu101   \n",
            "torchsummary                  1.5.1         \n",
            "torchtext                     0.9.1         \n",
            "torchvision                   0.9.1+cu101   \n",
            "tornado                       5.1.1         \n",
            "tqdm                          4.41.1        \n",
            "traitlets                     5.0.5         \n",
            "tweepy                        3.10.0        \n",
            "typeguard                     2.7.1         \n",
            "typing-extensions             3.7.4.3       \n",
            "tzlocal                       1.5.1         \n",
            "uritemplate                   3.0.1         \n",
            "urllib3                       1.24.3        \n",
            "vega-datasets                 0.9.0         \n",
            "wasabi                        0.8.2         \n",
            "wcwidth                       0.2.5         \n",
            "webencodings                  0.5.1         \n",
            "Werkzeug                      2.0.0         \n",
            "wheel                         0.36.2        \n",
            "widgetsnbextension            3.5.1         \n",
            "wordcloud                     1.5.0         \n",
            "wrapt                         1.12.1        \n",
            "xarray                        0.18.0        \n",
            "xgboost                       0.90          \n",
            "xkit                          0.0.0         \n",
            "xlrd                          1.1.0         \n",
            "xlwt                          1.3.0         \n",
            "yellowbrick                   0.9.1         \n",
            "zict                          2.0.0         \n",
            "zipp                          3.4.1         \n"
          ],
          "name": "stdout"
        }
      ]
    },
    {
      "cell_type": "code",
      "metadata": {
        "colab": {
          "base_uri": "https://localhost:8080/"
        },
        "id": "qr0qWW_Mz0Fl",
        "outputId": "83ccc342-205e-4a57-e6be-c9fb0a2c0bc1"
      },
      "source": [
        "pip --version"
      ],
      "execution_count": null,
      "outputs": [
        {
          "output_type": "stream",
          "text": [
            "pip 19.3.1 from /usr/local/lib/python3.7/dist-packages/pip (python 3.7)\n"
          ],
          "name": "stdout"
        }
      ]
    },
    {
      "cell_type": "code",
      "metadata": {
        "colab": {
          "base_uri": "https://localhost:8080/"
        },
        "id": "hwCEllbe0chz",
        "outputId": "d24aee38-8aa9-42f7-ffaa-6972d6c3a7f1"
      },
      "source": [
        "pip install kaggle"
      ],
      "execution_count": null,
      "outputs": [
        {
          "output_type": "stream",
          "text": [
            "Requirement already satisfied: kaggle in /usr/local/lib/python3.7/dist-packages (1.5.12)\n",
            "Requirement already satisfied: certifi in /usr/local/lib/python3.7/dist-packages (from kaggle) (2020.12.5)\n",
            "Requirement already satisfied: requests in /usr/local/lib/python3.7/dist-packages (from kaggle) (2.23.0)\n",
            "Requirement already satisfied: six>=1.10 in /usr/local/lib/python3.7/dist-packages (from kaggle) (1.15.0)\n",
            "Requirement already satisfied: urllib3 in /usr/local/lib/python3.7/dist-packages (from kaggle) (1.24.3)\n",
            "Requirement already satisfied: tqdm in /usr/local/lib/python3.7/dist-packages (from kaggle) (4.41.1)\n",
            "Requirement already satisfied: python-dateutil in /usr/local/lib/python3.7/dist-packages (from kaggle) (2.8.1)\n",
            "Requirement already satisfied: python-slugify in /usr/local/lib/python3.7/dist-packages (from kaggle) (5.0.2)\n",
            "Requirement already satisfied: chardet<4,>=3.0.2 in /usr/local/lib/python3.7/dist-packages (from requests->kaggle) (3.0.4)\n",
            "Requirement already satisfied: idna<3,>=2.5 in /usr/local/lib/python3.7/dist-packages (from requests->kaggle) (2.10)\n",
            "Requirement already satisfied: text-unidecode>=1.3 in /usr/local/lib/python3.7/dist-packages (from python-slugify->kaggle) (1.3)\n"
          ],
          "name": "stdout"
        }
      ]
    },
    {
      "cell_type": "code",
      "metadata": {
        "colab": {
          "base_uri": "https://localhost:8080/"
        },
        "id": "xELzuTEO02gR",
        "outputId": "80a103a3-3e1a-4d81-ce66-dd58db2a96ed"
      },
      "source": [
        "pip show pip_tools"
      ],
      "execution_count": null,
      "outputs": [
        {
          "output_type": "stream",
          "text": [
            "Name: pip-tools\n",
            "Version: 4.5.1\n",
            "Summary: pip-tools keeps your pinned dependencies fresh.\n",
            "Home-page: https://github.com/jazzband/pip-tools/\n",
            "Author: Vincent Driessen\n",
            "Author-email: me@nvie.com\n",
            "License: BSD\n",
            "Location: /usr/local/lib/python3.7/dist-packages\n",
            "Requires: click, six\n",
            "Required-by: \n"
          ],
          "name": "stdout"
        }
      ]
    },
    {
      "cell_type": "code",
      "metadata": {
        "colab": {
          "base_uri": "https://localhost:8080/"
        },
        "id": "kNOlePKY1gia",
        "outputId": "d9e4168d-0785-4469-80b9-43ccd6626e3b"
      },
      "source": [
        "pip install pep8"
      ],
      "execution_count": null,
      "outputs": [
        {
          "output_type": "stream",
          "text": [
            "Collecting pep8\n",
            "\u001b[?25l  Downloading https://files.pythonhosted.org/packages/42/3f/669429ce58de2c22d8d2c542752e137ec4b9885fff398d3eceb1a7f5acb4/pep8-1.7.1-py2.py3-none-any.whl (41kB)\n",
            "\r\u001b[K     |████████                        | 10kB 15.2MB/s eta 0:00:01\r\u001b[K     |███████████████▉                | 20kB 12.8MB/s eta 0:00:01\r\u001b[K     |███████████████████████▊        | 30kB 9.0MB/s eta 0:00:01\r\u001b[K     |███████████████████████████████▋| 40kB 7.8MB/s eta 0:00:01\r\u001b[K     |████████████████████████████████| 51kB 4.0MB/s \n",
            "\u001b[?25hInstalling collected packages: pep8\n",
            "Successfully installed pep8-1.7.1\n"
          ],
          "name": "stdout"
        }
      ]
    },
    {
      "cell_type": "code",
      "metadata": {
        "colab": {
          "base_uri": "https://localhost:8080/"
        },
        "id": "7_zRLCBd1vHi",
        "outputId": "6e17f731-7840-480e-fb41-8681c10bd648"
      },
      "source": [
        "pip show pep8"
      ],
      "execution_count": null,
      "outputs": [
        {
          "output_type": "stream",
          "text": [
            "Name: pep8\n",
            "Version: 1.7.1\n",
            "Summary: Python style guide checker\n",
            "Home-page: http://pep8.readthedocs.org/\n",
            "Author: Ian Lee\n",
            "Author-email: IanLee1521@gmail.com\n",
            "License: Expat license\n",
            "Location: /usr/local/lib/python3.7/dist-packages\n",
            "Requires: \n",
            "Required-by: \n"
          ],
          "name": "stdout"
        }
      ]
    },
    {
      "cell_type": "code",
      "metadata": {
        "colab": {
          "base_uri": "https://localhost:8080/"
        },
        "id": "H0mgTaVp1yxh",
        "outputId": "5ffbb4e4-e35e-4613-d644-9082b4578074"
      },
      "source": [
        "pip uninstall kaggle"
      ],
      "execution_count": null,
      "outputs": [
        {
          "output_type": "stream",
          "text": [
            "Uninstalling kaggle-1.5.12:\n",
            "  Would remove:\n",
            "    /usr/local/bin/kaggle\n",
            "    /usr/local/lib/python3.7/dist-packages/kaggle-1.5.12.dist-info/*\n",
            "    /usr/local/lib/python3.7/dist-packages/kaggle/*\n",
            "Proceed (y/n)? y\n",
            "  Successfully uninstalled kaggle-1.5.12\n"
          ],
          "name": "stdout"
        }
      ]
    },
    {
      "cell_type": "code",
      "metadata": {
        "colab": {
          "base_uri": "https://localhost:8080/",
          "height": 163
        },
        "id": "UkcG_SKCB5Vt",
        "outputId": "5275b5d5-a60a-478b-d7de-9489057fe16a"
      },
      "source": [
        "log10(-1000)"
      ],
      "execution_count": null,
      "outputs": [
        {
          "output_type": "error",
          "ename": "ValueError",
          "evalue": "ignored",
          "traceback": [
            "\u001b[0;31m---------------------------------------------------------------------------\u001b[0m",
            "\u001b[0;31mValueError\u001b[0m                                Traceback (most recent call last)",
            "\u001b[0;32m<ipython-input-44-9865c7b64225>\u001b[0m in \u001b[0;36m<module>\u001b[0;34m()\u001b[0m\n\u001b[0;32m----> 1\u001b[0;31m \u001b[0mlog10\u001b[0m\u001b[0;34m(\u001b[0m\u001b[0;34m-\u001b[0m\u001b[0;36m1000\u001b[0m\u001b[0;34m)\u001b[0m\u001b[0;34m\u001b[0m\u001b[0;34m\u001b[0m\u001b[0m\n\u001b[0m",
            "\u001b[0;31mValueError\u001b[0m: math domain error"
          ]
        }
      ]
    },
    {
      "cell_type": "code",
      "metadata": {
        "colab": {
          "base_uri": "https://localhost:8080/",
          "height": 163
        },
        "id": "Bflr_TDkDHAl",
        "outputId": "402b6eba-2aaa-4723-b3c0-7b87964c18b6"
      },
      "source": [
        "printt()"
      ],
      "execution_count": null,
      "outputs": [
        {
          "output_type": "error",
          "ename": "NameError",
          "evalue": "ignored",
          "traceback": [
            "\u001b[0;31m---------------------------------------------------------------------------\u001b[0m",
            "\u001b[0;31mNameError\u001b[0m                                 Traceback (most recent call last)",
            "\u001b[0;32m<ipython-input-46-170c3a814236>\u001b[0m in \u001b[0;36m<module>\u001b[0;34m()\u001b[0m\n\u001b[0;32m----> 1\u001b[0;31m \u001b[0mprintt\u001b[0m\u001b[0;34m(\u001b[0m\u001b[0;34m)\u001b[0m\u001b[0;34m\u001b[0m\u001b[0;34m\u001b[0m\u001b[0m\n\u001b[0m",
            "\u001b[0;31mNameError\u001b[0m: name 'printt' is not defined"
          ]
        }
      ]
    },
    {
      "cell_type": "code",
      "metadata": {
        "colab": {
          "base_uri": "https://localhost:8080/",
          "height": 163
        },
        "id": "ykffB0ApDNq7",
        "outputId": "949ac4a1-2235-401e-9f86-6876ca702393"
      },
      "source": [
        "log10('1000')"
      ],
      "execution_count": null,
      "outputs": [
        {
          "output_type": "error",
          "ename": "TypeError",
          "evalue": "ignored",
          "traceback": [
            "\u001b[0;31m---------------------------------------------------------------------------\u001b[0m",
            "\u001b[0;31mTypeError\u001b[0m                                 Traceback (most recent call last)",
            "\u001b[0;32m<ipython-input-47-123c9e3a2f5d>\u001b[0m in \u001b[0;36m<module>\u001b[0;34m()\u001b[0m\n\u001b[0;32m----> 1\u001b[0;31m \u001b[0mlog10\u001b[0m\u001b[0;34m(\u001b[0m\u001b[0;34m'1000'\u001b[0m\u001b[0;34m)\u001b[0m\u001b[0;34m\u001b[0m\u001b[0;34m\u001b[0m\u001b[0m\n\u001b[0m",
            "\u001b[0;31mTypeError\u001b[0m: must be real number, not str"
          ]
        }
      ]
    },
    {
      "cell_type": "code",
      "metadata": {
        "colab": {
          "base_uri": "https://localhost:8080/",
          "height": 197
        },
        "id": "jkA2VYtoFc6y",
        "outputId": "dc3cc726-854b-483d-9da6-aee5f7a6f662"
      },
      "source": [
        "print(\"hello\")\n",
        "print(4/0)"
      ],
      "execution_count": null,
      "outputs": [
        {
          "output_type": "stream",
          "text": [
            "hello\n"
          ],
          "name": "stdout"
        },
        {
          "output_type": "error",
          "ename": "ZeroDivisionError",
          "evalue": "ignored",
          "traceback": [
            "\u001b[0;31m---------------------------------------------------------------------------\u001b[0m",
            "\u001b[0;31mZeroDivisionError\u001b[0m                         Traceback (most recent call last)",
            "\u001b[0;32m<ipython-input-48-15256f0d2731>\u001b[0m in \u001b[0;36m<module>\u001b[0;34m()\u001b[0m\n\u001b[1;32m      1\u001b[0m \u001b[0mprint\u001b[0m\u001b[0;34m(\u001b[0m\u001b[0;34m\"hello\"\u001b[0m\u001b[0;34m)\u001b[0m\u001b[0;34m\u001b[0m\u001b[0;34m\u001b[0m\u001b[0m\n\u001b[0;32m----> 2\u001b[0;31m \u001b[0mprint\u001b[0m\u001b[0;34m(\u001b[0m\u001b[0;36m4\u001b[0m\u001b[0;34m/\u001b[0m\u001b[0;36m0\u001b[0m\u001b[0;34m)\u001b[0m\u001b[0;34m\u001b[0m\u001b[0;34m\u001b[0m\u001b[0m\n\u001b[0m",
            "\u001b[0;31mZeroDivisionError\u001b[0m: division by zero"
          ]
        }
      ]
    },
    {
      "cell_type": "code",
      "metadata": {
        "colab": {
          "base_uri": "https://localhost:8080/",
          "height": 265
        },
        "id": "UQmRsOK9Fldm",
        "outputId": "05fe4f61-ebae-49df-ef17-62654ff5a2f5"
      },
      "source": [
        "while True :\n",
        "  a = int(input(\"ilk sayı :\"))\n",
        "  b = int(input(\"ikinci sayı :\"))\n",
        "  c = a / b\n",
        "  print(c)\n",
        "  break"
      ],
      "execution_count": null,
      "outputs": [
        {
          "output_type": "stream",
          "text": [
            "ilk sayı :5\n",
            "ikinci sayı :0\n"
          ],
          "name": "stdout"
        },
        {
          "output_type": "error",
          "ename": "ZeroDivisionError",
          "evalue": "ignored",
          "traceback": [
            "\u001b[0;31m---------------------------------------------------------------------------\u001b[0m",
            "\u001b[0;31mZeroDivisionError\u001b[0m                         Traceback (most recent call last)",
            "\u001b[0;32m<ipython-input-49-758b844a976d>\u001b[0m in \u001b[0;36m<module>\u001b[0;34m()\u001b[0m\n\u001b[1;32m      2\u001b[0m   \u001b[0ma\u001b[0m \u001b[0;34m=\u001b[0m \u001b[0mint\u001b[0m\u001b[0;34m(\u001b[0m\u001b[0minput\u001b[0m\u001b[0;34m(\u001b[0m\u001b[0;34m\"ilk sayı :\"\u001b[0m\u001b[0;34m)\u001b[0m\u001b[0;34m)\u001b[0m\u001b[0;34m\u001b[0m\u001b[0;34m\u001b[0m\u001b[0m\n\u001b[1;32m      3\u001b[0m   \u001b[0mb\u001b[0m \u001b[0;34m=\u001b[0m \u001b[0mint\u001b[0m\u001b[0;34m(\u001b[0m\u001b[0minput\u001b[0m\u001b[0;34m(\u001b[0m\u001b[0;34m\"ikinci sayı :\"\u001b[0m\u001b[0;34m)\u001b[0m\u001b[0;34m)\u001b[0m\u001b[0;34m\u001b[0m\u001b[0;34m\u001b[0m\u001b[0m\n\u001b[0;32m----> 4\u001b[0;31m   \u001b[0mc\u001b[0m \u001b[0;34m=\u001b[0m \u001b[0ma\u001b[0m \u001b[0;34m/\u001b[0m \u001b[0mb\u001b[0m\u001b[0;34m\u001b[0m\u001b[0;34m\u001b[0m\u001b[0m\n\u001b[0m\u001b[1;32m      5\u001b[0m   \u001b[0mprint\u001b[0m\u001b[0;34m(\u001b[0m\u001b[0mc\u001b[0m\u001b[0;34m)\u001b[0m\u001b[0;34m\u001b[0m\u001b[0;34m\u001b[0m\u001b[0m\n\u001b[1;32m      6\u001b[0m   \u001b[0;32mbreak\u001b[0m\u001b[0;34m\u001b[0m\u001b[0;34m\u001b[0m\u001b[0m\n",
            "\u001b[0;31mZeroDivisionError\u001b[0m: division by zero"
          ]
        }
      ]
    },
    {
      "cell_type": "code",
      "metadata": {
        "colab": {
          "base_uri": "https://localhost:8080/"
        },
        "id": "mM6ZMAAmF75r",
        "outputId": "3fadcb3b-9207-4008-9951-7bf583f31129"
      },
      "source": [
        "while True :\n",
        "  a = int(input(\"ilk sayı :\"))\n",
        "  b = int(input(\"ikinci sayı :\"))\n",
        "  try:\n",
        "    c = a / b\n",
        "    print(c)\n",
        "    break\n",
        "  except :\n",
        "    print(\"bir şeyler ters gitti.\")\n"
      ],
      "execution_count": null,
      "outputs": [
        {
          "output_type": "stream",
          "text": [
            "ilk sayı :7\n",
            "ikinci sayı :0\n",
            "bir şeyler ters gitti.\n",
            "ilk sayı :5\n",
            "ikinci sayı :2\n",
            "2.5\n"
          ],
          "name": "stdout"
        }
      ]
    },
    {
      "cell_type": "code",
      "metadata": {
        "colab": {
          "base_uri": "https://localhost:8080/"
        },
        "id": "LahHUtMLGURV",
        "outputId": "4c634d3c-7618-4419-cfd4-63be443e21e8"
      },
      "source": [
        "try : \n",
        "  print(\"4\" + 4)\n",
        "except :\n",
        "  print(\"muhtemelen yanlış birşeyler yaptın.\")"
      ],
      "execution_count": null,
      "outputs": [
        {
          "output_type": "stream",
          "text": [
            "muhtemelen yanlış birşeyler yaptın.\n"
          ],
          "name": "stdout"
        }
      ]
    },
    {
      "cell_type": "code",
      "metadata": {
        "colab": {
          "base_uri": "https://localhost:8080/"
        },
        "id": "41ePgklSHD7D",
        "outputId": "29bacb95-c347-4f1b-da0f-f7c61c5c17e2"
      },
      "source": [
        "try : \n",
        "  print(\"4\" + \"4\")\n",
        "except :\n",
        "  print(\"muhtemelen yanlış birşeyler yaptın.\")"
      ],
      "execution_count": null,
      "outputs": [
        {
          "output_type": "stream",
          "text": [
            "44\n"
          ],
          "name": "stdout"
        }
      ]
    },
    {
      "cell_type": "code",
      "metadata": {
        "colab": {
          "base_uri": "https://localhost:8080/"
        },
        "id": "9qUUnnYUHRkP",
        "outputId": "7878f809-b855-47a0-c6bc-d63e813468b1"
      },
      "source": [
        "while True :\n",
        "  a = int(input(\"ilk sayı :\"))\n",
        "  b = int(input(\"ikinci sayı :\"))\n",
        "  try:\n",
        "    c = a / b\n",
        "    print(c)\n",
        "    break\n",
        "  except ZeroDivisionError:\n",
        "    print(\"sıfıra bölünememe kuralını hatırla. ikinci sayıyı sıfır girme lütfen\")"
      ],
      "execution_count": null,
      "outputs": [
        {
          "output_type": "stream",
          "text": [
            "ilk sayı :6\n",
            "ikinci sayı :0\n",
            "sıfıra bölünememe kuralını hatırla. ikinci sayıyı sıfır girme lütfen\n",
            "ilk sayı :7\n",
            "ikinci sayı :2\n",
            "3.5\n"
          ],
          "name": "stdout"
        }
      ]
    },
    {
      "cell_type": "code",
      "metadata": {
        "colab": {
          "base_uri": "https://localhost:8080/"
        },
        "id": "FU6SIdbSH_Ir",
        "outputId": "4c7a6b06-03c3-4d27-ce71-b950067cd0f1"
      },
      "source": [
        "try : \n",
        "  print(\"4\" + \"4\")\n",
        "except TypeError:\n",
        "  print(\"type hatası var. tipi kontrol etsen iyi olur.\")\n",
        "else:\n",
        "  print(\"aaa demek ki exception yükselmemiş. mmmm. super.\")\n",
        "finally:\n",
        "  print(\"eh nihayet bana sıra geldi. ben çalıştım.\")"
      ],
      "execution_count": null,
      "outputs": [
        {
          "output_type": "stream",
          "text": [
            "44\n",
            "aaa demek ki exception yükselmemiş. mmmm. super.\n",
            "eh nihayet bana sıra geldi. ben çalıştım.\n"
          ],
          "name": "stdout"
        }
      ]
    },
    {
      "cell_type": "code",
      "metadata": {
        "colab": {
          "base_uri": "https://localhost:8080/"
        },
        "id": "qFsVaco6J0gs",
        "outputId": "f9b5d9b1-1526-465b-c144-ee0e0d145f31"
      },
      "source": [
        "try : \n",
        "  print(\"4\" + 4)\n",
        "except TypeError:\n",
        "  print(\"type hatası var. tipi kontrol etsen iyi olur.\")\n",
        "else:\n",
        "  print(\"aaa demek ki exception yükselmemiş. mmmm. super.\")\n",
        "finally:\n",
        "  print(\"eh nihayet bana sıra geldi. ben çalıştım.\")"
      ],
      "execution_count": null,
      "outputs": [
        {
          "output_type": "stream",
          "text": [
            "type hatası var. tipi kontrol etsen iyi olur.\n",
            "eh nihayet bana sıra geldi. ben çalıştım.\n"
          ],
          "name": "stdout"
        }
      ]
    },
    {
      "cell_type": "code",
      "metadata": {
        "colab": {
          "base_uri": "https://localhost:8080/",
          "height": 248
        },
        "id": "nDHwgHzqKKyK",
        "outputId": "7643e0a9-8297-4b76-f037-ca1ef9b41fe3"
      },
      "source": [
        "try : \n",
        "  print(\"4\" + 4)\n",
        "except ValueError:\n",
        "  print(\"type hatası var. tipi kontrol etsen iyi olur.\")\n",
        "else:\n",
        "  print(\"aaa demek ki exception yükselmemiş. mmmm. super.\")\n",
        "finally:\n",
        "  print(\"eh nihayet bana sıra geldi. ben çalıştım.\")"
      ],
      "execution_count": null,
      "outputs": [
        {
          "output_type": "stream",
          "text": [
            "eh nihayet bana sıra geldi. ben çalıştım.\n"
          ],
          "name": "stdout"
        },
        {
          "output_type": "error",
          "ename": "TypeError",
          "evalue": "ignored",
          "traceback": [
            "\u001b[0;31m---------------------------------------------------------------------------\u001b[0m",
            "\u001b[0;31mTypeError\u001b[0m                                 Traceback (most recent call last)",
            "\u001b[0;32m<ipython-input-61-811be812c594>\u001b[0m in \u001b[0;36m<module>\u001b[0;34m()\u001b[0m\n\u001b[1;32m      1\u001b[0m \u001b[0;32mtry\u001b[0m \u001b[0;34m:\u001b[0m\u001b[0;34m\u001b[0m\u001b[0;34m\u001b[0m\u001b[0m\n\u001b[0;32m----> 2\u001b[0;31m   \u001b[0mprint\u001b[0m\u001b[0;34m(\u001b[0m\u001b[0;34m\"4\"\u001b[0m \u001b[0;34m+\u001b[0m \u001b[0;36m4\u001b[0m\u001b[0;34m)\u001b[0m\u001b[0;34m\u001b[0m\u001b[0;34m\u001b[0m\u001b[0m\n\u001b[0m\u001b[1;32m      3\u001b[0m \u001b[0;32mexcept\u001b[0m \u001b[0mValueError\u001b[0m\u001b[0;34m:\u001b[0m\u001b[0;34m\u001b[0m\u001b[0;34m\u001b[0m\u001b[0m\n\u001b[1;32m      4\u001b[0m   \u001b[0mprint\u001b[0m\u001b[0;34m(\u001b[0m\u001b[0;34m\"type hatası var. tipi kontrol etsen iyi olur.\"\u001b[0m\u001b[0;34m)\u001b[0m\u001b[0;34m\u001b[0m\u001b[0;34m\u001b[0m\u001b[0m\n\u001b[1;32m      5\u001b[0m \u001b[0;32melse\u001b[0m\u001b[0;34m:\u001b[0m\u001b[0;34m\u001b[0m\u001b[0;34m\u001b[0m\u001b[0m\n",
            "\u001b[0;31mTypeError\u001b[0m: can only concatenate str (not \"int\") to str"
          ]
        }
      ]
    },
    {
      "cell_type": "code",
      "metadata": {
        "colab": {
          "base_uri": "https://localhost:8080/"
        },
        "id": "oOIEW04EMEgv",
        "outputId": "47b00304-f759-4c64-b103-afaa2ea5c3f8"
      },
      "source": [
        "try :\n",
        "  isim = input(\"isminiz :\")\n",
        "  print(v)\n",
        "except Exception as hatam :\n",
        "  print(hatam)\n",
        "  print(type(hatam))"
      ],
      "execution_count": null,
      "outputs": [
        {
          "output_type": "stream",
          "text": [
            "isminiz :mm\n",
            "name 'v' is not defined\n",
            "<class 'NameError'>\n"
          ],
          "name": "stdout"
        }
      ]
    },
    {
      "cell_type": "code",
      "metadata": {
        "id": "BMh7QBtoMSb3",
        "colab": {
          "base_uri": "https://localhost:8080/",
          "height": 129
        },
        "outputId": "edeaf581-dd75-4fa1-d8c0-c5b3c8f01479"
      },
      "source": [
        "def my_sum(*x):\n",
        "  for i in x:\n",
        "    x += x\n",
        "    return x\n",
        "print(my_sum(9, 1, 3, 0, -1))\n",
        "\n"
      ],
      "execution_count": null,
      "outputs": [
        {
          "output_type": "error",
          "ename": "IndentationError",
          "evalue": "ignored",
          "traceback": [
            "\u001b[0;36m  File \u001b[0;32m\"<ipython-input-5-2dfc32315fd0>\"\u001b[0;36m, line \u001b[0;32m2\u001b[0m\n\u001b[0;31m    x = int(x)\u001b[0m\n\u001b[0m    ^\u001b[0m\n\u001b[0;31mIndentationError\u001b[0m\u001b[0;31m:\u001b[0m expected an indented block\n"
          ]
        }
      ]
    },
    {
      "cell_type": "code",
      "metadata": {
        "id": "XvrhOD0pMPnl"
      },
      "source": [
        "fruits = [\"banana\", \"mango\", \"pear\", \"apple\", \"kiwi\", \"grape\"]"
      ],
      "execution_count": null,
      "outputs": []
    },
    {
      "cell_type": "code",
      "metadata": {
        "colab": {
          "base_uri": "https://localhost:8080/"
        },
        "id": "YSVocqDfMRLr",
        "outputId": "aa8930da-2071-42d7-aa3c-082cfc0bee38"
      },
      "source": [
        "count = 3\n",
        "while count > 0 :\n",
        "  try :\n",
        "    index = int(input(\"favori meyve indexini girer misin?:\"))\n",
        "    print(\"Benim favori meyvem {}'dir.\".format(fruits[index]))\n",
        "  except IndexError :\n",
        "    count -= 1\n",
        "    print(f\"Böyle bir index bulunmamaktadır. {count} adet giriş hakknız kaldı. Doğru giriş yapınız.\") \n",
        "  except ValueError :\n",
        "    count -= 1\n",
        "    print(f\"Integer yani numeric bir değer giriniz. {count} adet giriş hakknız kaldı. Tekrar giriş yapınız.\")\n",
        "  else :\n",
        "    print(\"Tebrikler. Doğru giriş yaptınız.\")\n",
        "    break\n",
        "  finally :\n",
        "    print(\"Meyvelerim tazedir. Afiyet olsun\")"
      ],
      "execution_count": null,
      "outputs": [
        {
          "output_type": "stream",
          "text": [
            "favori meyve indexini girer misin?:2\n",
            "Benim favori meyvem pear'dir.\n",
            "Tebrikler. Doğru giriş yaptınız.\n",
            "Meyvelerim tazedir. Afiyet olsun\n"
          ],
          "name": "stdout"
        }
      ]
    },
    {
      "cell_type": "code",
      "metadata": {
        "colab": {
          "base_uri": "https://localhost:8080/",
          "height": 35
        },
        "id": "Cx_BBRIANi_1",
        "outputId": "25995c43-94f3-4785-acee-dcc551f4eb2b"
      },
      "source": [
        "pwd"
      ],
      "execution_count": null,
      "outputs": [
        {
          "output_type": "execute_result",
          "data": {
            "application/vnd.google.colaboratory.intrinsic+json": {
              "type": "string"
            },
            "text/plain": [
              "'/content'"
            ]
          },
          "metadata": {
            "tags": []
          },
          "execution_count": 14
        }
      ]
    },
    {
      "cell_type": "code",
      "metadata": {
        "colab": {
          "base_uri": "https://localhost:8080/"
        },
        "id": "8NqEbXuoV0SI",
        "outputId": "cff57297-3a26-4d2d-8c84-7966b8389543"
      },
      "source": [
        "sea = open(\"fishes.txt\", \"r\")\n",
        "\n",
        "print(sea.read())\n",
        "sea.close()"
      ],
      "execution_count": null,
      "outputs": [
        {
          "output_type": "stream",
          "text": [
            "Orca is a kind of Dolphin.\n",
            "Blue Whale is the largest animal known on earth.\n",
            "Sharks are the sister group to the Rays (batoids).\n",
            "The Tuna Fish can weigh up to 260 kg.\n",
            "Squid and Octopus are in the same class.\n"
          ],
          "name": "stdout"
        }
      ]
    },
    {
      "cell_type": "code",
      "metadata": {
        "colab": {
          "base_uri": "https://localhost:8080/"
        },
        "id": "DDKZuVSeYVzh",
        "outputId": "803e571a-263b-4a00-e7c2-c1c49de04e08"
      },
      "source": [
        "sea = open(\"fishes.txt\", \"r\")\n",
        "\n",
        "print(sea.read(33))\n",
        "sea.close()"
      ],
      "execution_count": null,
      "outputs": [
        {
          "output_type": "stream",
          "text": [
            "Orca is a kind of Dolphin.\n",
            "Blue W\n"
          ],
          "name": "stdout"
        }
      ]
    },
    {
      "cell_type": "code",
      "metadata": {
        "colab": {
          "base_uri": "https://localhost:8080/"
        },
        "id": "AGvIg5vRZ4VA",
        "outputId": "591d1a54-1cb2-4fde-8ab0-87aa1225b1f0"
      },
      "source": [
        "sea = open(\"fishes.txt\", \"r\")\n",
        "\n",
        "print(sea.read(33))\n",
        "print(sea.read(33))  # kaldığı yerden devam ediyor\n",
        "sea.close()"
      ],
      "execution_count": null,
      "outputs": [
        {
          "output_type": "stream",
          "text": [
            "Orca is a kind of Dolphin.\n",
            "Blue W\n",
            "hale is the largest animal known \n"
          ],
          "name": "stdout"
        }
      ]
    },
    {
      "cell_type": "code",
      "metadata": {
        "colab": {
          "base_uri": "https://localhost:8080/"
        },
        "id": "ALkgliCpaPLf",
        "outputId": "94502daa-b309-48a8-e131-68d2f9fc5458"
      },
      "source": [
        "sea = open(\"fishes.txt\", \"r\")\n",
        "\n",
        "print(sea.read(33))\n",
        "print(sea.read(33))\n",
        "sea.seek(0)\n",
        "print(sea.read(33)) #curser ı istediğin yere çekmeni sağlıyor\n",
        "sea.close()"
      ],
      "execution_count": null,
      "outputs": [
        {
          "output_type": "stream",
          "text": [
            "Orca is a kind of Dolphin.\n",
            "Blue W\n",
            "hale is the largest animal known \n",
            "Orca is a kind of Dolphin.\n",
            "Blue W\n"
          ],
          "name": "stdout"
        }
      ]
    },
    {
      "cell_type": "code",
      "metadata": {
        "colab": {
          "base_uri": "https://localhost:8080/"
        },
        "id": "zOxwNG-7aek0",
        "outputId": "3a3a88df-509c-4966-e2cf-0ce37d93ea1d"
      },
      "source": [
        "sea = open(\"fishes.txt\", \"r\")\n",
        "\n",
        "print(sea.read(33))\n",
        "print(sea.read(33))\n",
        "sea.seek(0)\n",
        "print(sea.read(33)) \n",
        "print(sea.tell()) # curser ın nerede kaldığını söylüyor\n",
        "sea.close()"
      ],
      "execution_count": null,
      "outputs": [
        {
          "output_type": "stream",
          "text": [
            "Orca is a kind of Dolphin.\n",
            "Blue W\n",
            "hale is the largest animal known \n",
            "Orca is a kind of Dolphin.\n",
            "Blue W\n",
            "34\n"
          ],
          "name": "stdout"
        }
      ]
    },
    {
      "cell_type": "code",
      "metadata": {
        "colab": {
          "base_uri": "https://localhost:8080/"
        },
        "id": "w4VVOZ1CboX9",
        "outputId": "16fbee8c-6a46-42c7-ba72-476f69759d6f"
      },
      "source": [
        "rumi = open(\"rumi.txt\", \"r\")\n",
        "\n",
        "print(rumi.read(35))\n",
        "print(rumi.read(13))\n",
        "print(rumi.tell())\n",
        "rumi.seek(15)\n",
        "print(rumi.read(20))\n",
        "rumi.close()"
      ],
      "execution_count": null,
      "outputs": [
        {
          "output_type": "stream",
          "text": [
            "I want to sign\n",
            "Like the birds sing,\n",
            "\n",
            "Not worrying\n",
            "50\n",
            "\n",
            "Like the birds sing\n"
          ],
          "name": "stdout"
        }
      ]
    },
    {
      "cell_type": "code",
      "metadata": {
        "colab": {
          "base_uri": "https://localhost:8080/"
        },
        "id": "YUp6NwaQd2u1",
        "outputId": "f55370ab-9f5a-4a83-f517-b8a68ac14951"
      },
      "source": [
        "sea = open(\"fishes.txt\", \"r\")\n",
        "\n",
        "print(sea.readline())\n",
        "sea.close()"
      ],
      "execution_count": null,
      "outputs": [
        {
          "output_type": "stream",
          "text": [
            "Orca is a kind of Dolphin.\n",
            "\n"
          ],
          "name": "stdout"
        }
      ]
    },
    {
      "cell_type": "code",
      "metadata": {
        "colab": {
          "base_uri": "https://localhost:8080/"
        },
        "id": "2qg0X-ObeBqU",
        "outputId": "e5325562-4dcb-4121-8289-efe543e12ce7"
      },
      "source": [
        "sea = open(\"fishes.txt\", \"r\")\n",
        "\n",
        "print(sea.readline())\n",
        "print(sea.readline())\n",
        "print(sea.readline())\n",
        "print(sea.readline())\n",
        "sea.close()"
      ],
      "execution_count": null,
      "outputs": [
        {
          "output_type": "stream",
          "text": [
            "Orca is a kind of Dolphin.\n",
            "\n",
            "Blue Whale is the largest animal known on earth.\n",
            "\n",
            "Sharks are the sister group to the Rays (batoids).\n",
            "\n",
            "The Tuna Fish can weigh up to 260 kg.\n",
            "\n"
          ],
          "name": "stdout"
        }
      ]
    },
    {
      "cell_type": "code",
      "metadata": {
        "colab": {
          "base_uri": "https://localhost:8080/"
        },
        "id": "tmlC8gLkfbGH",
        "outputId": "841dcb7b-0de4-4805-e186-1adce30a9a2f"
      },
      "source": [
        "sea = open(\"fishes.txt\", \"r\")\n",
        "\n",
        "print(sea.readline(13))\n",
        "print(sea.readline(13))\n",
        "print(sea.readline(13))\n",
        "print(sea.readline(13))\n",
        "sea.close()"
      ],
      "execution_count": null,
      "outputs": [
        {
          "output_type": "stream",
          "text": [
            "Orca is a kin\n",
            "d of Dolphin.\n",
            "\n",
            "\n",
            "Blue Whale is\n"
          ],
          "name": "stdout"
        }
      ]
    },
    {
      "cell_type": "code",
      "metadata": {
        "colab": {
          "base_uri": "https://localhost:8080/"
        },
        "id": "hGsC7_RHgEL7",
        "outputId": "212bf776-490a-46e4-f9a6-a87985156e27"
      },
      "source": [
        "sea = open(\"fishes.txt\", \"r\")\n",
        "\n",
        "print(sea.readline(13))\n",
        "print(sea.readline(13))\n",
        "print(sea.readline())\n",
        "print(sea.readline(13))\n",
        "sea.close()"
      ],
      "execution_count": null,
      "outputs": [
        {
          "output_type": "stream",
          "text": [
            "Orca is a kin\n",
            "d of Dolphin.\n",
            "\n",
            "\n",
            "Blue Whale is\n"
          ],
          "name": "stdout"
        }
      ]
    },
    {
      "cell_type": "code",
      "metadata": {
        "colab": {
          "base_uri": "https://localhost:8080/"
        },
        "id": "v6tDUUgzgrJ8",
        "outputId": "1495f89b-0dd4-4f30-c328-16688ed969e1"
      },
      "source": [
        "rumi = open(\"rumi.txt\", \"r\")\n",
        "\n",
        "print(rumi.readline())\n",
        "print(rumi.readline())\n",
        "print(rumi.readline(19))\n",
        "\n",
        "rumi.close()"
      ],
      "execution_count": null,
      "outputs": [
        {
          "output_type": "stream",
          "text": [
            "I want to sign\n",
            "\n",
            "Like the birds sing,\n",
            "\n",
            "Not worrying about\n",
            "\n"
          ],
          "name": "stdout"
        }
      ]
    },
    {
      "cell_type": "code",
      "metadata": {
        "colab": {
          "base_uri": "https://localhost:8080/"
        },
        "id": "xd1NpIF7m2T1",
        "outputId": "39fb8481-6710-48e2-830c-a1748bb86360"
      },
      "source": [
        "sea = open(\"fishes.txt\", \"r\")\n",
        "\n",
        "print(sea.readlines())\n",
        "sea.close()"
      ],
      "execution_count": null,
      "outputs": [
        {
          "output_type": "stream",
          "text": [
            "['Orca is a kind of Dolphin.\\n', 'Blue Whale is the largest animal known on earth.\\n', 'Sharks are the sister group to the Rays (batoids).\\n', 'The Tuna Fish can weigh up to 260 kg.\\n', 'Squid and Octopus are in the same class.']\n"
          ],
          "name": "stdout"
        }
      ]
    },
    {
      "cell_type": "code",
      "metadata": {
        "colab": {
          "base_uri": "https://localhost:8080/"
        },
        "id": "0FLNmzc2nJHS",
        "outputId": "4ddaa93c-6dbf-48d0-e3f3-5f855603962d"
      },
      "source": [
        "sea = open(\"fishes.txt\", \"r\")\n",
        "print(sea.readline())\n",
        "print(sea.readlines())\n",
        "sea.close()"
      ],
      "execution_count": null,
      "outputs": [
        {
          "output_type": "stream",
          "text": [
            "Orca is a kind of Dolphin.\n",
            "\n",
            "['Blue Whale is the largest animal known on earth.\\n', 'Sharks are the sister group to the Rays (batoids).\\n', 'The Tuna Fish can weigh up to 260 kg.\\n', 'Squid and Octopus are in the same class.']\n"
          ],
          "name": "stdout"
        }
      ]
    },
    {
      "cell_type": "code",
      "metadata": {
        "colab": {
          "base_uri": "https://localhost:8080/"
        },
        "id": "mV8ONj1Rm-Kq",
        "outputId": "d8876c56-0682-4567-fb87-615ceb058dac"
      },
      "source": [
        "rumi = open(\"rumi.txt\", \"r\")\n",
        "\n",
        "print(rumi.readlines())\n",
        "\n",
        "\n",
        "rumi.close()"
      ],
      "execution_count": null,
      "outputs": [
        {
          "output_type": "stream",
          "text": [
            "['I want to sign\\n', 'Like the birds sing,\\n', 'Not worrying about\\n', 'Who hears or\\n', 'What they think.']\n"
          ],
          "name": "stdout"
        }
      ]
    },
    {
      "cell_type": "code",
      "metadata": {
        "colab": {
          "base_uri": "https://localhost:8080/"
        },
        "id": "H8dOPwUtnzwW",
        "outputId": "a0034618-06c6-4936-e861-1fd412442d41"
      },
      "source": [
        "rumi = open(\"rumi.txt\", \"r\")\n",
        "\n",
        "for line in rumi:\n",
        "  print(line)\n",
        "\n",
        "\n",
        "rumi.close()"
      ],
      "execution_count": null,
      "outputs": [
        {
          "output_type": "stream",
          "text": [
            "I want to sign\n",
            "\n",
            "Like the birds sing,\n",
            "\n",
            "Not worrying about\n",
            "\n",
            "Who hears or\n",
            "\n",
            "What they think.\n"
          ],
          "name": "stdout"
        }
      ]
    },
    {
      "cell_type": "code",
      "metadata": {
        "colab": {
          "base_uri": "https://localhost:8080/"
        },
        "id": "N0skJYs6oCEJ",
        "outputId": "3c33213f-404d-4c4e-f997-a07e42f02b0c"
      },
      "source": [
        "rumi = open(\"rumi.txt\", \"r\")\n",
        "\n",
        "for line in rumi.readlines():\n",
        "  print(line)\n",
        "\n",
        "\n",
        "rumi.close()"
      ],
      "execution_count": null,
      "outputs": [
        {
          "output_type": "stream",
          "text": [
            "I want to sign\n",
            "\n",
            "Like the birds sing,\n",
            "\n",
            "Not worrying about\n",
            "\n",
            "Who hears or\n",
            "\n",
            "What they think.\n"
          ],
          "name": "stdout"
        }
      ]
    },
    {
      "cell_type": "code",
      "metadata": {
        "colab": {
          "base_uri": "https://localhost:8080/"
        },
        "id": "md07xLRQoSKO",
        "outputId": "e3ae5d60-4796-4889-caa8-66656bbfad2b"
      },
      "source": [
        "with open(\"fishes.txt\", \"r\") as sea :\n",
        "  print(sea.read())"
      ],
      "execution_count": null,
      "outputs": [
        {
          "output_type": "stream",
          "text": [
            "Orca is a kind of Dolphin.\n",
            "Blue Whale is the largest animal known on earth.\n",
            "Sharks are the sister group to the Rays (batoids).\n",
            "The Tuna Fish can weigh up to 260 kg.\n",
            "Squid and Octopus are in the same class.\n"
          ],
          "name": "stdout"
        }
      ]
    },
    {
      "cell_type": "code",
      "metadata": {
        "colab": {
          "base_uri": "https://localhost:8080/"
        },
        "id": "-6U9_I5aqEhH",
        "outputId": "628e32b7-9b45-4c02-aa65-b9c9aca4b080"
      },
      "source": [
        "with open(\"fishes.txt\", \"r\") as sea :\n",
        "  print(sea.read(33))\n",
        "  print(sea.read(33))\n",
        "  sea.seek(0)\n",
        "  print(sea.read(33)) \n",
        "  print(sea.tell())"
      ],
      "execution_count": null,
      "outputs": [
        {
          "output_type": "stream",
          "text": [
            "Orca is a kind of Dolphin.\n",
            "Blue W\n",
            "hale is the largest animal known \n",
            "Orca is a kind of Dolphin.\n",
            "Blue W\n",
            "34\n"
          ],
          "name": "stdout"
        }
      ]
    },
    {
      "cell_type": "code",
      "metadata": {
        "id": "SZuokai-tyUr"
      },
      "source": [
        "with open (\"at.txt\", \"w\", encoding = \"utf-8\") as dosyam :\n",
        "    dosyam.write(\"bu benim ilk satırım.\")"
      ],
      "execution_count": null,
      "outputs": []
    },
    {
      "cell_type": "code",
      "metadata": {
        "id": "0GrxStIcuSTn"
      },
      "source": [
        "with open(\"fruits.txt\", \"w\", encoding = \"utf-8\") as file :\n",
        "  for meyve in fruits :\n",
        "    file.write(meyve + \"\\n\")"
      ],
      "execution_count": null,
      "outputs": []
    },
    {
      "cell_type": "code",
      "metadata": {
        "id": "1JaebgQHu6i3",
        "colab": {
          "base_uri": "https://localhost:8080/"
        },
        "outputId": "fb4f6de5-d078-4af0-de63-2f80a195f39e"
      },
      "source": [
        "def my_sum(*x):\n",
        "  #numbers = []\n",
        "  for i in x:\n",
        "    #numbers.append(x)\n",
        "\n",
        "\n",
        "    return x\n",
        "print(my_sum(9, 1, 3, 0, -1))"
      ],
      "execution_count": null,
      "outputs": [
        {
          "output_type": "stream",
          "text": [
            "(9, 1, 3, 0, -1)\n"
          ],
          "name": "stdout"
        }
      ]
    },
    {
      "cell_type": "code",
      "metadata": {
        "colab": {
          "base_uri": "https://localhost:8080/"
        },
        "id": "gNs6aubzU6zS",
        "outputId": "3d907336-ed9e-4660-a750-4e86e9325386"
      },
      "source": [
        "def my_sum(*x) :\n",
        "    numbers = []\n",
        "    for i in x :\n",
        "        \n",
        "        numbers.append(i)\n",
        "        Sum = sum(numbers)\n",
        "    return Sum\n",
        "        \n",
        "print(my_sum(9, 1, 3, 0, -1))"
      ],
      "execution_count": null,
      "outputs": [
        {
          "output_type": "stream",
          "text": [
            "12\n"
          ],
          "name": "stdout"
        }
      ]
    },
    {
      "cell_type": "code",
      "metadata": {
        "colab": {
          "base_uri": "https://localhost:8080/"
        },
        "id": "7UtoDNatoElk",
        "outputId": "2e604e12-12d0-4f38-81eb-18477984cb94"
      },
      "source": [
        "def my_fact(n):\n",
        "  if n == 0 :\n",
        "    print(\"The factorial of 0 is 1\")\n",
        "  elif n < 0 :\n",
        "    print(\"Sorry, factorial does not exist for negative numbers\")\n",
        "\n",
        "  else :\n",
        "    fac = 1\n",
        "    for i in range(1, n + 1) :\n",
        "      \n",
        "      fac = fac*i\n",
        "    return fac\n",
        "print(my_fact(5))\n",
        "\n"
      ],
      "execution_count": null,
      "outputs": [
        {
          "output_type": "stream",
          "text": [
            "120\n"
          ],
          "name": "stdout"
        }
      ]
    },
    {
      "cell_type": "code",
      "metadata": {
        "id": "YjdoqW6tVrdN"
      },
      "source": [
        "fruits = ['Banana', 'Orange', 'Apple', 'Strawberry', 'Cherry']"
      ],
      "execution_count": null,
      "outputs": []
    },
    {
      "cell_type": "code",
      "metadata": {
        "colab": {
          "base_uri": "https://localhost:8080/"
        },
        "id": "rv0X0zOjW5YX",
        "outputId": "ec0393ea-84d6-41c2-95b5-d0d4f86803da"
      },
      "source": [
        "with open(\"fruits_24.txt\", \"w\", encoding=\"utf8\") as ff :\n",
        "  for meyve in fruits :\n",
        "    ff.write(meyve + \"\\n\")\n",
        "\n",
        "with open(\"fruits_24.txt\", \"r\", encoding=\"utf8\") as ff :\n",
        "  print(ff.read())"
      ],
      "execution_count": null,
      "outputs": [
        {
          "output_type": "stream",
          "text": [
            "Banana\n",
            "Orange\n",
            "Apple\n",
            "Strawberry\n",
            "Cherry\n",
            "\n"
          ],
          "name": "stdout"
        }
      ]
    },
    {
      "cell_type": "code",
      "metadata": {
        "id": "OnE2OHPkXkKS"
      },
      "source": [
        "flowers = ['Jasmine', 'Rose', 'Lily', 'Daisy', 'Tulip']"
      ],
      "execution_count": null,
      "outputs": []
    },
    {
      "cell_type": "code",
      "metadata": {
        "colab": {
          "base_uri": "https://localhost:8080/"
        },
        "id": "lO-_h_mIYNIb",
        "outputId": "e2cf8a36-93c9-4c4f-d942-0e7adcd677c9"
      },
      "source": [
        "with open(\"flowers_24.txt\", \"w\", encoding=\"utf8\") as ff :\n",
        "  for meyve in flowers :\n",
        "    ff.write(meyve + \"\\n\\n\")\n",
        "\n",
        "with open(\"flowers_24.txt\", \"r\", encoding=\"utf8\") as ff :\n",
        "  print(ff.read())"
      ],
      "execution_count": null,
      "outputs": [
        {
          "output_type": "stream",
          "text": [
            "Jasmine\n",
            "\n",
            "Rose\n",
            "\n",
            "Lily\n",
            "\n",
            "Daisy\n",
            "\n",
            "Tulip\n",
            "\n",
            "\n"
          ],
          "name": "stdout"
        }
      ]
    },
    {
      "cell_type": "code",
      "metadata": {
        "id": "aOrp9uBdaI9C"
      },
      "source": [
        "flowers = ['Jasmine\\n', 'Rose\\n', 'Lily\\n', 'Daisy\\n', 'Tulip\\n']"
      ],
      "execution_count": null,
      "outputs": []
    },
    {
      "cell_type": "code",
      "metadata": {
        "colab": {
          "base_uri": "https://localhost:8080/"
        },
        "id": "RTJe8TBHaSsj",
        "outputId": "06c09752-bdbc-4dad-feae-538050916e6f"
      },
      "source": [
        "with open(\"flowers_24.txt\", \"w\", encoding=\"utf8\") as ff :\n",
        "    ff.writelines(flowers)\n",
        "\n",
        "with open(\"flowers_24.txt\", \"r\", encoding=\"utf8\") as ff :\n",
        "  print(ff.read())"
      ],
      "execution_count": null,
      "outputs": [
        {
          "output_type": "stream",
          "text": [
            "Jasmine\n",
            "Rose\n",
            "Lily\n",
            "Daisy\n",
            "Tulip\n",
            "\n"
          ],
          "name": "stdout"
        }
      ]
    },
    {
      "cell_type": "code",
      "metadata": {
        "colab": {
          "base_uri": "https://localhost:8080/"
        },
        "id": "UR36h-c-a318",
        "outputId": "5280b405-c10e-4eb5-d757-59eb2d1ab61c"
      },
      "source": [
        "with open(\"fruits_24.txt\", \"a\", encoding=\"utf8\") as ff :\n",
        "    ff.write(\"melon\")\n",
        "\n",
        "with open(\"fruits_24.txt\", \"r\", encoding=\"utf8\") as ff :\n",
        "  print(ff.read())"
      ],
      "execution_count": null,
      "outputs": [
        {
          "output_type": "stream",
          "text": [
            "Banana\n",
            "Orange\n",
            "Apple\n",
            "Strawberry\n",
            "Cherry\n",
            "melon\n"
          ],
          "name": "stdout"
        }
      ]
    },
    {
      "cell_type": "code",
      "metadata": {
        "colab": {
          "base_uri": "https://localhost:8080/",
          "height": 35
        },
        "id": "PVRDQA-1cD7G",
        "outputId": "955f336f-0d30-45b6-de2e-a621e3ade0b5"
      },
      "source": [
        "pwd"
      ],
      "execution_count": null,
      "outputs": [
        {
          "output_type": "execute_result",
          "data": {
            "application/vnd.google.colaboratory.intrinsic+json": {
              "type": "string"
            },
            "text/plain": [
              "'/content'"
            ]
          },
          "metadata": {
            "tags": []
          },
          "execution_count": 15
        }
      ]
    },
    {
      "cell_type": "code",
      "metadata": {
        "colab": {
          "base_uri": "https://localhost:8080/"
        },
        "id": "47YxyaFdc6jn",
        "outputId": "47fdd260-50aa-430e-9a1e-c79f64f45d4f"
      },
      "source": [
        "with open(\"istiklal.txt\", \"r\", encoding=\"utf8\") as ff :\n",
        "    print(ff.read())\n"
      ],
      "execution_count": null,
      "outputs": [
        {
          "output_type": "stream",
          "text": [
            "Korkma, sönmez bu şafaklarda yüzen al sancak;\n",
            "Sönmeden yurdumun üstünde tüten en son ocak.\n",
            "O benim milletimin yıldızıdır, parlayacak;\n",
            "O benimdir, o benim milletimindir ancak.\n",
            "Çatma, kurban olayım, çehreni ey nazlı hilal!\n",
            "Kahraman ırkıma bir gül! Ne bu şiddet, bu celal?\n",
            "Sana olmaz dökülen kanlarımız sonra helal...\n",
            "Hakkıdır, hakk'a tapan, milletimin istiklal!\n",
            "Ben ezelden beridir hür yaşadım, hür yaşarım.\n",
            "Hangi çılgın bana zincir vuracakmış? Şaşarım!\n",
            "Kükremiş sel gibiyim, bendimi çiğner, aşarım.\n",
            "Yırtarım dağları, enginlere sığmam, taşarım.\n",
            "Garbın afakını sarmışsa çelik zırhlı duvar,\n",
            "Benim iman dolu göğsüm gibi serhaddim var.\n",
            "Ulusun, korkma! Nasıl böyle bir imanı boğar,\n",
            "'Medeniyet!' dediğin tek dişi kalmış canavar?\n",
            "Arkadaş! Yurduma alçakları uğratma, sakın.\n",
            "Siper et gövdeni, dursun bu hayasızca akın.\n",
            "Doğacaktır sana va'dettigi günler hakk'ın...\n",
            "Kim bilir, belki yarın, belki yarından da yakın.\n",
            "Bastığın yerleri 'toprak!' diyerek geçme, tanı:\n",
            "Düşün altında binlerce kefensiz yatanı.\n",
            "Sen şehit oğlusun, incitme, yazıktır, atanı:\n",
            "Verme, dünyaları alsan da, bu cennet vatanı.\n",
            "Kim bu cennet vatanın uğruna olmaz ki feda?\n",
            "Şuheda fışkıracak toprağı sıksan, şuheda!\n",
            "Canı, cananı, bütün varımı alsın da hüda,\n",
            "Etmesin tek vatanımdan beni dünyada cüda.\n",
            "Ruhumun senden, ilahi, şudur ancak emeli:\n",
            "Değmesin mabedimin göğsüne namahrem eli.\n",
            "Bu ezanlar-ki şahadetleri dinin temeli,\n",
            "Ebedi yurdumun üstünde benim inlemeli.\n"
          ],
          "name": "stdout"
        }
      ]
    },
    {
      "cell_type": "code",
      "metadata": {
        "id": "34RqQA3Jj_pB"
      },
      "source": [
        "with open(\"istiklal.txt\", \"r\", encoding=\"utf8\") as ff :\n",
        "    lines = ff.readlines()"
      ],
      "execution_count": null,
      "outputs": []
    },
    {
      "cell_type": "code",
      "metadata": {
        "colab": {
          "base_uri": "https://localhost:8080/"
        },
        "id": "VtC9JHwhkgYX",
        "outputId": "cfaf71e4-99b0-454f-def4-3f90e7c832e3"
      },
      "source": [
        "lines"
      ],
      "execution_count": null,
      "outputs": [
        {
          "output_type": "execute_result",
          "data": {
            "text/plain": [
              "['Korkma, sönmez bu şafaklarda yüzen al sancak;\\n',\n",
              " 'Sönmeden yurdumun üstünde tüten en son ocak.\\n',\n",
              " 'O benim milletimin yıldızıdır, parlayacak;\\n',\n",
              " 'O benimdir, o benim milletimindir ancak.\\n',\n",
              " 'Çatma, kurban olayım, çehreni ey nazlı hilal!\\n',\n",
              " 'Kahraman ırkıma bir gül! Ne bu şiddet, bu celal?\\n',\n",
              " 'Sana olmaz dökülen kanlarımız sonra helal...\\n',\n",
              " \"Hakkıdır, hakk'a tapan, milletimin istiklal!\\n\",\n",
              " 'Ben ezelden beridir hür yaşadım, hür yaşarım.\\n',\n",
              " 'Hangi çılgın bana zincir vuracakmış? Şaşarım!\\n',\n",
              " 'Kükremiş sel gibiyim, bendimi çiğner, aşarım.\\n',\n",
              " 'Yırtarım dağları, enginlere sığmam, taşarım.\\n',\n",
              " 'Garbın afakını sarmışsa çelik zırhlı duvar,\\n',\n",
              " 'Benim iman dolu göğsüm gibi serhaddim var.\\n',\n",
              " 'Ulusun, korkma! Nasıl böyle bir imanı boğar,\\n',\n",
              " \"'Medeniyet!' dediğin tek dişi kalmış canavar?\\n\",\n",
              " 'Arkadaş! Yurduma alçakları uğratma, sakın.\\n',\n",
              " 'Siper et gövdeni, dursun bu hayasızca akın.\\n',\n",
              " \"Doğacaktır sana va'dettigi günler hakk'ın...\\n\",\n",
              " 'Kim bilir, belki yarın, belki yarından da yakın.\\n',\n",
              " \"Bastığın yerleri 'toprak!' diyerek geçme, tanı:\\n\",\n",
              " 'Düşün altında binlerce kefensiz yatanı.\\n',\n",
              " 'Sen şehit oğlusun, incitme, yazıktır, atanı:\\n',\n",
              " 'Verme, dünyaları alsan da, bu cennet vatanı.\\n',\n",
              " 'Kim bu cennet vatanın uğruna olmaz ki feda?\\n',\n",
              " 'Şuheda fışkıracak toprağı sıksan, şuheda!\\n',\n",
              " 'Canı, cananı, bütün varımı alsın da hüda,\\n',\n",
              " 'Etmesin tek vatanımdan beni dünyada cüda.\\n',\n",
              " 'Ruhumun senden, ilahi, şudur ancak emeli:\\n',\n",
              " 'Değmesin mabedimin göğsüne namahrem eli.\\n',\n",
              " 'Bu ezanlar-ki şahadetleri dinin temeli,\\n',\n",
              " 'Ebedi yurdumun üstünde benim inlemeli.']"
            ]
          },
          "metadata": {
            "tags": []
          },
          "execution_count": 20
        }
      ]
    },
    {
      "cell_type": "code",
      "metadata": {
        "colab": {
          "base_uri": "https://localhost:8080/"
        },
        "id": "824ThiKBkhyg",
        "outputId": "ebe5e967-e5b9-453d-a71b-333f22d26db4"
      },
      "source": [
        "counter = 0\n",
        "with open(\"istiklal.txt\", \"w\", encoding = \"utf8\") as f:\n",
        "\n",
        "  for i in lines:\n",
        "    counter +=1\n",
        "    if counter %4 == 0 :\n",
        "      f.write(i + \"\\n\")\n",
        "    else :\n",
        "      f.write(i)\n",
        "with open(\"istiklal.txt\", \"r\", encoding=\"utf8\") as f :\n",
        "    print(f.read())"
      ],
      "execution_count": null,
      "outputs": [
        {
          "output_type": "stream",
          "text": [
            "Korkma, sönmez bu şafaklarda yüzen al sancak;\n",
            "Sönmeden yurdumun üstünde tüten en son ocak.\n",
            "O benim milletimin yıldızıdır, parlayacak;\n",
            "O benimdir, o benim milletimindir ancak.\n",
            "\n",
            "Çatma, kurban olayım, çehreni ey nazlı hilal!\n",
            "Kahraman ırkıma bir gül! Ne bu şiddet, bu celal?\n",
            "Sana olmaz dökülen kanlarımız sonra helal...\n",
            "Hakkıdır, hakk'a tapan, milletimin istiklal!\n",
            "\n",
            "Ben ezelden beridir hür yaşadım, hür yaşarım.\n",
            "Hangi çılgın bana zincir vuracakmış? Şaşarım!\n",
            "Kükremiş sel gibiyim, bendimi çiğner, aşarım.\n",
            "Yırtarım dağları, enginlere sığmam, taşarım.\n",
            "\n",
            "Garbın afakını sarmışsa çelik zırhlı duvar,\n",
            "Benim iman dolu göğsüm gibi serhaddim var.\n",
            "Ulusun, korkma! Nasıl böyle bir imanı boğar,\n",
            "'Medeniyet!' dediğin tek dişi kalmış canavar?\n",
            "\n",
            "Arkadaş! Yurduma alçakları uğratma, sakın.\n",
            "Siper et gövdeni, dursun bu hayasızca akın.\n",
            "Doğacaktır sana va'dettigi günler hakk'ın...\n",
            "Kim bilir, belki yarın, belki yarından da yakın.\n",
            "\n",
            "Bastığın yerleri 'toprak!' diyerek geçme, tanı:\n",
            "Düşün altında binlerce kefensiz yatanı.\n",
            "Sen şehit oğlusun, incitme, yazıktır, atanı:\n",
            "Verme, dünyaları alsan da, bu cennet vatanı.\n",
            "\n",
            "Kim bu cennet vatanın uğruna olmaz ki feda?\n",
            "Şuheda fışkıracak toprağı sıksan, şuheda!\n",
            "Canı, cananı, bütün varımı alsın da hüda,\n",
            "Etmesin tek vatanımdan beni dünyada cüda.\n",
            "\n",
            "Ruhumun senden, ilahi, şudur ancak emeli:\n",
            "Değmesin mabedimin göğsüne namahrem eli.\n",
            "Bu ezanlar-ki şahadetleri dinin temeli,\n",
            "Ebedi yurdumun üstünde benim inlemeli.\n",
            "\n"
          ],
          "name": "stdout"
        }
      ]
    },
    {
      "cell_type": "code",
      "metadata": {
        "colab": {
          "base_uri": "https://localhost:8080/"
        },
        "id": "PqiYz5Fvmxzf",
        "outputId": "cb944500-32b2-49e3-8776-f6f3106863ba"
      },
      "source": [
        "with open(\"istiklal.txt\", \"r\", encoding=\"utf8\") as ff :\n",
        "    new_lines = ff.readlines()\n",
        "new_lines"
      ],
      "execution_count": null,
      "outputs": [
        {
          "output_type": "execute_result",
          "data": {
            "text/plain": [
              "['Korkma, sönmez bu şafaklarda yüzen al sancak;\\n',\n",
              " 'Sönmeden yurdumun üstünde tüten en son ocak.\\n',\n",
              " 'O benim milletimin yıldızıdır, parlayacak;\\n',\n",
              " 'O benimdir, o benim milletimindir ancak.\\n',\n",
              " '\\n',\n",
              " 'Çatma, kurban olayım, çehreni ey nazlı hilal!\\n',\n",
              " 'Kahraman ırkıma bir gül! Ne bu şiddet, bu celal?\\n',\n",
              " 'Sana olmaz dökülen kanlarımız sonra helal...\\n',\n",
              " \"Hakkıdır, hakk'a tapan, milletimin istiklal!\\n\",\n",
              " '\\n',\n",
              " 'Ben ezelden beridir hür yaşadım, hür yaşarım.\\n',\n",
              " 'Hangi çılgın bana zincir vuracakmış? Şaşarım!\\n',\n",
              " 'Kükremiş sel gibiyim, bendimi çiğner, aşarım.\\n',\n",
              " 'Yırtarım dağları, enginlere sığmam, taşarım.\\n',\n",
              " '\\n',\n",
              " 'Garbın afakını sarmışsa çelik zırhlı duvar,\\n',\n",
              " 'Benim iman dolu göğsüm gibi serhaddim var.\\n',\n",
              " 'Ulusun, korkma! Nasıl böyle bir imanı boğar,\\n',\n",
              " \"'Medeniyet!' dediğin tek dişi kalmış canavar?\\n\",\n",
              " '\\n',\n",
              " 'Arkadaş! Yurduma alçakları uğratma, sakın.\\n',\n",
              " 'Siper et gövdeni, dursun bu hayasızca akın.\\n',\n",
              " \"Doğacaktır sana va'dettigi günler hakk'ın...\\n\",\n",
              " 'Kim bilir, belki yarın, belki yarından da yakın.\\n',\n",
              " '\\n',\n",
              " \"Bastığın yerleri 'toprak!' diyerek geçme, tanı:\\n\",\n",
              " 'Düşün altında binlerce kefensiz yatanı.\\n',\n",
              " 'Sen şehit oğlusun, incitme, yazıktır, atanı:\\n',\n",
              " 'Verme, dünyaları alsan da, bu cennet vatanı.\\n',\n",
              " '\\n',\n",
              " 'Kim bu cennet vatanın uğruna olmaz ki feda?\\n',\n",
              " 'Şuheda fışkıracak toprağı sıksan, şuheda!\\n',\n",
              " 'Canı, cananı, bütün varımı alsın da hüda,\\n',\n",
              " 'Etmesin tek vatanımdan beni dünyada cüda.\\n',\n",
              " '\\n',\n",
              " 'Ruhumun senden, ilahi, şudur ancak emeli:\\n',\n",
              " 'Değmesin mabedimin göğsüne namahrem eli.\\n',\n",
              " 'Bu ezanlar-ki şahadetleri dinin temeli,\\n',\n",
              " 'Ebedi yurdumun üstünde benim inlemeli.\\n']"
            ]
          },
          "metadata": {
            "tags": []
          },
          "execution_count": 26
        }
      ]
    },
    {
      "cell_type": "code",
      "metadata": {
        "colab": {
          "base_uri": "https://localhost:8080/"
        },
        "id": "x09ALGhyowWL",
        "outputId": "12604608-0941-4102-8a55-44e5082c0874"
      },
      "source": [
        "with open(\"istiklal.txt\", \"a\", encoding = \"utf8\") as f:\n",
        "  f.write(\"\\n\")\n",
        "\n",
        "  for i in new_lines :\n",
        "    if i == \"\\n\" :\n",
        "      i.replace(\"\\n\", \"\")\n",
        "    else:\n",
        "      f.write(i)\n",
        "with open(\"istiklal.txt\", \"r\", encoding=\"utf8\") as f :\n",
        "    print(f.read())\n"
      ],
      "execution_count": null,
      "outputs": [
        {
          "output_type": "stream",
          "text": [
            "Korkma, sönmez bu şafaklarda yüzen al sancak;\n",
            "Sönmeden yurdumun üstünde tüten en son ocak.\n",
            "O benim milletimin yıldızıdır, parlayacak;\n",
            "O benimdir, o benim milletimindir ancak.\n",
            "\n",
            "Çatma, kurban olayım, çehreni ey nazlı hilal!\n",
            "Kahraman ırkıma bir gül! Ne bu şiddet, bu celal?\n",
            "Sana olmaz dökülen kanlarımız sonra helal...\n",
            "Hakkıdır, hakk'a tapan, milletimin istiklal!\n",
            "\n",
            "Ben ezelden beridir hür yaşadım, hür yaşarım.\n",
            "Hangi çılgın bana zincir vuracakmış? Şaşarım!\n",
            "Kükremiş sel gibiyim, bendimi çiğner, aşarım.\n",
            "Yırtarım dağları, enginlere sığmam, taşarım.\n",
            "\n",
            "Garbın afakını sarmışsa çelik zırhlı duvar,\n",
            "Benim iman dolu göğsüm gibi serhaddim var.\n",
            "Ulusun, korkma! Nasıl böyle bir imanı boğar,\n",
            "'Medeniyet!' dediğin tek dişi kalmış canavar?\n",
            "\n",
            "Arkadaş! Yurduma alçakları uğratma, sakın.\n",
            "Siper et gövdeni, dursun bu hayasızca akın.\n",
            "Doğacaktır sana va'dettigi günler hakk'ın...\n",
            "Kim bilir, belki yarın, belki yarından da yakın.\n",
            "\n",
            "Bastığın yerleri 'toprak!' diyerek geçme, tanı:\n",
            "Düşün altında binlerce kefensiz yatanı.\n",
            "Sen şehit oğlusun, incitme, yazıktır, atanı:\n",
            "Verme, dünyaları alsan da, bu cennet vatanı.\n",
            "\n",
            "Kim bu cennet vatanın uğruna olmaz ki feda?\n",
            "Şuheda fışkıracak toprağı sıksan, şuheda!\n",
            "Canı, cananı, bütün varımı alsın da hüda,\n",
            "Etmesin tek vatanımdan beni dünyada cüda.\n",
            "\n",
            "Ruhumun senden, ilahi, şudur ancak emeli:\n",
            "Değmesin mabedimin göğsüne namahrem eli.\n",
            "Bu ezanlar-ki şahadetleri dinin temeli,\n",
            "Ebedi yurdumun üstünde benim inlemeli.\n",
            "Korkma, sönmez bu şafaklarda yüzen al sancak;\n",
            "Sönmeden yurdumun üstünde tüten en son ocak.\n",
            "O benim milletimin yıldızıdır, parlayacak;\n",
            "O benimdir, o benim milletimindir ancak.\n",
            "Çatma, kurban olayım, çehreni ey nazlı hilal!\n",
            "Kahraman ırkıma bir gül! Ne bu şiddet, bu celal?\n",
            "Sana olmaz dökülen kanlarımız sonra helal...\n",
            "Hakkıdır, hakk'a tapan, milletimin istiklal!\n",
            "Ben ezelden beridir hür yaşadım, hür yaşarım.\n",
            "Hangi çılgın bana zincir vuracakmış? Şaşarım!\n",
            "Kükremiş sel gibiyim, bendimi çiğner, aşarım.\n",
            "Yırtarım dağları, enginlere sığmam, taşarım.\n",
            "Garbın afakını sarmışsa çelik zırhlı duvar,\n",
            "Benim iman dolu göğsüm gibi serhaddim var.\n",
            "Ulusun, korkma! Nasıl böyle bir imanı boğar,\n",
            "'Medeniyet!' dediğin tek dişi kalmış canavar?\n",
            "Arkadaş! Yurduma alçakları uğratma, sakın.\n",
            "Siper et gövdeni, dursun bu hayasızca akın.\n",
            "Doğacaktır sana va'dettigi günler hakk'ın...\n",
            "Kim bilir, belki yarın, belki yarından da yakın.\n",
            "Bastığın yerleri 'toprak!' diyerek geçme, tanı:\n",
            "Düşün altında binlerce kefensiz yatanı.\n",
            "Sen şehit oğlusun, incitme, yazıktır, atanı:\n",
            "Verme, dünyaları alsan da, bu cennet vatanı.\n",
            "Kim bu cennet vatanın uğruna olmaz ki feda?\n",
            "Şuheda fışkıracak toprağı sıksan, şuheda!\n",
            "Canı, cananı, bütün varımı alsın da hüda,\n",
            "Etmesin tek vatanımdan beni dünyada cüda.\n",
            "Ruhumun senden, ilahi, şudur ancak emeli:\n",
            "Değmesin mabedimin göğsüne namahrem eli.\n",
            "Bu ezanlar-ki şahadetleri dinin temeli,\n",
            "Ebedi yurdumun üstünde benim inlemeli.Korkma, sönmez bu şafaklarda yüzen al sancak;\n",
            "Sönmeden yurdumun üstünde tüten en son ocak.\n",
            "O benim milletimin yıldızıdır, parlayacak;\n",
            "O benimdir, o benim milletimindir ancak.\n",
            "Çatma, kurban olayım, çehreni ey nazlı hilal!\n",
            "Kahraman ırkıma bir gül! Ne bu şiddet, bu celal?\n",
            "Sana olmaz dökülen kanlarımız sonra helal...\n",
            "Hakkıdır, hakk'a tapan, milletimin istiklal!\n",
            "Ben ezelden beridir hür yaşadım, hür yaşarım.\n",
            "Hangi çılgın bana zincir vuracakmış? Şaşarım!\n",
            "Kükremiş sel gibiyim, bendimi çiğner, aşarım.\n",
            "Yırtarım dağları, enginlere sığmam, taşarım.\n",
            "Garbın afakını sarmışsa çelik zırhlı duvar,\n",
            "Benim iman dolu göğsüm gibi serhaddim var.\n",
            "Ulusun, korkma! Nasıl böyle bir imanı boğar,\n",
            "'Medeniyet!' dediğin tek dişi kalmış canavar?\n",
            "Arkadaş! Yurduma alçakları uğratma, sakın.\n",
            "Siper et gövdeni, dursun bu hayasızca akın.\n",
            "Doğacaktır sana va'dettigi günler hakk'ın...\n",
            "Kim bilir, belki yarın, belki yarından da yakın.\n",
            "Bastığın yerleri 'toprak!' diyerek geçme, tanı:\n",
            "Düşün altında binlerce kefensiz yatanı.\n",
            "Sen şehit oğlusun, incitme, yazıktır, atanı:\n",
            "Verme, dünyaları alsan da, bu cennet vatanı.\n",
            "Kim bu cennet vatanın uğruna olmaz ki feda?\n",
            "Şuheda fışkıracak toprağı sıksan, şuheda!\n",
            "Canı, cananı, bütün varımı alsın da hüda,\n",
            "Etmesin tek vatanımdan beni dünyada cüda.\n",
            "Ruhumun senden, ilahi, şudur ancak emeli:\n",
            "Değmesin mabedimin göğsüne namahrem eli.\n",
            "Bu ezanlar-ki şahadetleri dinin temeli,\n",
            "Ebedi yurdumun üstünde benim inlemeli.Korkma, sönmez bu şafaklarda yüzen al sancak;\n",
            "Sönmeden yurdumun üstünde tüten en son ocak.\n",
            "O benim milletimin yıldızıdır, parlayacak;\n",
            "O benimdir, o benim milletimindir ancak.\n",
            "Çatma, kurban olayım, çehreni ey nazlı hilal!\n",
            "Kahraman ırkıma bir gül! Ne bu şiddet, bu celal?\n",
            "Sana olmaz dökülen kanlarımız sonra helal...\n",
            "Hakkıdır, hakk'a tapan, milletimin istiklal!\n",
            "Ben ezelden beridir hür yaşadım, hür yaşarım.\n",
            "Hangi çılgın bana zincir vuracakmış? Şaşarım!\n",
            "Kükremiş sel gibiyim, bendimi çiğner, aşarım.\n",
            "Yırtarım dağları, enginlere sığmam, taşarım.\n",
            "Garbın afakını sarmışsa çelik zırhlı duvar,\n",
            "Benim iman dolu göğsüm gibi serhaddim var.\n",
            "Ulusun, korkma! Nasıl böyle bir imanı boğar,\n",
            "'Medeniyet!' dediğin tek dişi kalmış canavar?\n",
            "Arkadaş! Yurduma alçakları uğratma, sakın.\n",
            "Siper et gövdeni, dursun bu hayasızca akın.\n",
            "Doğacaktır sana va'dettigi günler hakk'ın...\n",
            "Kim bilir, belki yarın, belki yarından da yakın.\n",
            "Bastığın yerleri 'toprak!' diyerek geçme, tanı:\n",
            "Düşün altında binlerce kefensiz yatanı.\n",
            "Sen şehit oğlusun, incitme, yazıktır, atanı:\n",
            "Verme, dünyaları alsan da, bu cennet vatanı.\n",
            "Kim bu cennet vatanın uğruna olmaz ki feda?\n",
            "Şuheda fışkıracak toprağı sıksan, şuheda!\n",
            "Canı, cananı, bütün varımı alsın da hüda,\n",
            "Etmesin tek vatanımdan beni dünyada cüda.\n",
            "Ruhumun senden, ilahi, şudur ancak emeli:\n",
            "Değmesin mabedimin göğsüne namahrem eli.\n",
            "Bu ezanlar-ki şahadetleri dinin temeli,\n",
            "Ebedi yurdumun üstünde benim inlemeli.\n",
            "\n",
            "Korkma, sönmez bu şafaklarda yüzen al sancak;\n",
            "Sönmeden yurdumun üstünde tüten en son ocak.\n",
            "O benim milletimin yıldızıdır, parlayacak;\n",
            "O benimdir, o benim milletimindir ancak.\n",
            "Çatma, kurban olayım, çehreni ey nazlı hilal!\n",
            "Kahraman ırkıma bir gül! Ne bu şiddet, bu celal?\n",
            "Sana olmaz dökülen kanlarımız sonra helal...\n",
            "Hakkıdır, hakk'a tapan, milletimin istiklal!\n",
            "Ben ezelden beridir hür yaşadım, hür yaşarım.\n",
            "Hangi çılgın bana zincir vuracakmış? Şaşarım!\n",
            "Kükremiş sel gibiyim, bendimi çiğner, aşarım.\n",
            "Yırtarım dağları, enginlere sığmam, taşarım.\n",
            "Garbın afakını sarmışsa çelik zırhlı duvar,\n",
            "Benim iman dolu göğsüm gibi serhaddim var.\n",
            "Ulusun, korkma! Nasıl böyle bir imanı boğar,\n",
            "'Medeniyet!' dediğin tek dişi kalmış canavar?\n",
            "Arkadaş! Yurduma alçakları uğratma, sakın.\n",
            "Siper et gövdeni, dursun bu hayasızca akın.\n",
            "Doğacaktır sana va'dettigi günler hakk'ın...\n",
            "Kim bilir, belki yarın, belki yarından da yakın.\n",
            "Bastığın yerleri 'toprak!' diyerek geçme, tanı:\n",
            "Düşün altında binlerce kefensiz yatanı.\n",
            "Sen şehit oğlusun, incitme, yazıktır, atanı:\n",
            "Verme, dünyaları alsan da, bu cennet vatanı.\n",
            "Kim bu cennet vatanın uğruna olmaz ki feda?\n",
            "Şuheda fışkıracak toprağı sıksan, şuheda!\n",
            "Canı, cananı, bütün varımı alsın da hüda,\n",
            "Etmesin tek vatanımdan beni dünyada cüda.\n",
            "Ruhumun senden, ilahi, şudur ancak emeli:\n",
            "Değmesin mabedimin göğsüne namahrem eli.\n",
            "Bu ezanlar-ki şahadetleri dinin temeli,\n",
            "Ebedi yurdumun üstünde benim inlemeli.\n",
            "\n",
            "Korkma, sönmez bu şafaklarda yüzen al sancak;\n",
            "Sönmeden yurdumun üstünde tüten en son ocak.\n",
            "O benim milletimin yıldızıdır, parlayacak;\n",
            "O benimdir, o benim milletimindir ancak.\n",
            "Çatma, kurban olayım, çehreni ey nazlı hilal!\n",
            "Kahraman ırkıma bir gül! Ne bu şiddet, bu celal?\n",
            "Sana olmaz dökülen kanlarımız sonra helal...\n",
            "Hakkıdır, hakk'a tapan, milletimin istiklal!\n",
            "Ben ezelden beridir hür yaşadım, hür yaşarım.\n",
            "Hangi çılgın bana zincir vuracakmış? Şaşarım!\n",
            "Kükremiş sel gibiyim, bendimi çiğner, aşarım.\n",
            "Yırtarım dağları, enginlere sığmam, taşarım.\n",
            "Garbın afakını sarmışsa çelik zırhlı duvar,\n",
            "Benim iman dolu göğsüm gibi serhaddim var.\n",
            "Ulusun, korkma! Nasıl böyle bir imanı boğar,\n",
            "'Medeniyet!' dediğin tek dişi kalmış canavar?\n",
            "Arkadaş! Yurduma alçakları uğratma, sakın.\n",
            "Siper et gövdeni, dursun bu hayasızca akın.\n",
            "Doğacaktır sana va'dettigi günler hakk'ın...\n",
            "Kim bilir, belki yarın, belki yarından da yakın.\n",
            "Bastığın yerleri 'toprak!' diyerek geçme, tanı:\n",
            "Düşün altında binlerce kefensiz yatanı.\n",
            "Sen şehit oğlusun, incitme, yazıktır, atanı:\n",
            "Verme, dünyaları alsan da, bu cennet vatanı.\n",
            "Kim bu cennet vatanın uğruna olmaz ki feda?\n",
            "Şuheda fışkıracak toprağı sıksan, şuheda!\n",
            "Canı, cananı, bütün varımı alsın da hüda,\n",
            "Etmesin tek vatanımdan beni dünyada cüda.\n",
            "Ruhumun senden, ilahi, şudur ancak emeli:\n",
            "Değmesin mabedimin göğsüne namahrem eli.\n",
            "Bu ezanlar-ki şahadetleri dinin temeli,\n",
            "Ebedi yurdumun üstünde benim inlemeli.\n",
            "\n"
          ],
          "name": "stdout"
        }
      ]
    },
    {
      "cell_type": "code",
      "metadata": {
        "colab": {
          "base_uri": "https://localhost:8080/"
        },
        "id": "rZBOlaqnrBAU",
        "outputId": "827785e4-f457-4ea3-c25e-bea1ba06b8f9"
      },
      "source": [
        "!pip install -q streamlit"
      ],
      "execution_count": null,
      "outputs": [
        {
          "output_type": "stream",
          "text": [
            "\u001b[K     |████████████████████████████████| 8.2MB 5.4MB/s \n",
            "\u001b[K     |████████████████████████████████| 112kB 42.3MB/s \n",
            "\u001b[K     |████████████████████████████████| 92kB 8.5MB/s \n",
            "\u001b[K     |████████████████████████████████| 4.2MB 38.1MB/s \n",
            "\u001b[K     |████████████████████████████████| 174kB 36.4MB/s \n",
            "\u001b[K     |████████████████████████████████| 81kB 7.9MB/s \n",
            "\u001b[K     |████████████████████████████████| 122kB 43.0MB/s \n",
            "\u001b[K     |████████████████████████████████| 71kB 7.4MB/s \n",
            "\u001b[?25h  Building wheel for blinker (setup.py) ... \u001b[?25l\u001b[?25hdone\n",
            "\u001b[31mERROR: google-colab 1.0.0 has requirement ipykernel~=4.10, but you'll have ipykernel 5.5.5 which is incompatible.\u001b[0m\n"
          ],
          "name": "stdout"
        }
      ]
    },
    {
      "cell_type": "code",
      "metadata": {
        "id": "NspieXY5rnX3"
      },
      "source": [
        "%%writefile app.py\n",
        "\n",
        "import streamlit as st\n",
        "\n",
        "st.title(\"Şiir Formatını Kıta'ya Dönüştürücü Uygulama.\")\n",
        "\n",
        "path = st.file_uploader(\"Upload your txt file :\", type = [\"txt\"])\n",
        "\n",
        "path = None\n",
        "path = st.file_uploader(\"Upload your txt file :\", type [\"txt\"])\n",
        "\n",
        "if path:\n",
        "  with open(\"istiklal.txt\", \"r\", encoding=\"utf8\") as ff :\n",
        "    new_lines = ff.readlines()\n",
        "\n",
        "counter = 0\n",
        "with open(\"istiklal.txt\", \"w\", encoding = \"utf8\") as f:\n",
        "\n",
        "  for i in lines:\n",
        "    counter +=1\n",
        "    if counter %4 == 0 :\n",
        "      f.write(i + \"\\n\")\n",
        "    else :\n",
        "      f.write(i)"
      ],
      "execution_count": null,
      "outputs": []
    },
    {
      "cell_type": "code",
      "metadata": {
        "colab": {
          "base_uri": "https://localhost:8080/"
        },
        "id": "Df_YyUjuxEK8",
        "outputId": "0b039528-365e-44a6-81c4-91a01cd5a503"
      },
      "source": [
        "word = {1 : \"1\", 2 : \"2\"}\n",
        "\n",
        "keys = word.keys()\n",
        "keys"
      ],
      "execution_count": null,
      "outputs": [
        {
          "output_type": "execute_result",
          "data": {
            "text/plain": [
              "dict_keys([1, 2])"
            ]
          },
          "metadata": {
            "tags": []
          },
          "execution_count": 37
        }
      ]
    },
    {
      "cell_type": "code",
      "metadata": {
        "id": "oxSa_whZyLsc"
      },
      "source": [
        "word_1 = {}"
      ],
      "execution_count": null,
      "outputs": []
    },
    {
      "cell_type": "code",
      "metadata": {
        "colab": {
          "base_uri": "https://localhost:8080/"
        },
        "id": "tvP1yAh0ySqh",
        "outputId": "fa0a0dff-663f-41d7-bf4f-afaa17b412ea"
      },
      "source": [
        "word_1[3] = 1\n",
        "word_1"
      ],
      "execution_count": null,
      "outputs": [
        {
          "output_type": "execute_result",
          "data": {
            "text/plain": [
              "{3: 1}"
            ]
          },
          "metadata": {
            "tags": []
          },
          "execution_count": 39
        }
      ]
    },
    {
      "cell_type": "code",
      "metadata": {
        "colab": {
          "base_uri": "https://localhost:8080/"
        },
        "id": "yVHrdHm-yWmt",
        "outputId": "77760261-3093-4042-f103-80af043e23ff"
      },
      "source": [
        "word_1[1] = 1\n",
        "word_1"
      ],
      "execution_count": null,
      "outputs": [
        {
          "output_type": "execute_result",
          "data": {
            "text/plain": [
              "{1: 1, 3: 1}"
            ]
          },
          "metadata": {
            "tags": []
          },
          "execution_count": 40
        }
      ]
    },
    {
      "cell_type": "code",
      "metadata": {
        "colab": {
          "base_uri": "https://localhost:8080/"
        },
        "id": "5-IP4Be0yoc1",
        "outputId": "1cae8f43-b0d5-491a-a9bb-c79239c1e0de"
      },
      "source": [
        "word_1[3] += 1 #word_1[3] = word_1[3] + 1\n",
        "word_1[3]"
      ],
      "execution_count": null,
      "outputs": [
        {
          "output_type": "execute_result",
          "data": {
            "text/plain": [
              "2"
            ]
          },
          "metadata": {
            "tags": []
          },
          "execution_count": 41
        }
      ]
    },
    {
      "cell_type": "code",
      "metadata": {
        "colab": {
          "base_uri": "https://localhost:8080/"
        },
        "id": "Axh185CQzILR",
        "outputId": "38222efb-f21d-4576-9fe7-d94463ae64e6"
      },
      "source": [
        "word_1"
      ],
      "execution_count": null,
      "outputs": [
        {
          "output_type": "execute_result",
          "data": {
            "text/plain": [
              "{1: 1, 3: 2}"
            ]
          },
          "metadata": {
            "tags": []
          },
          "execution_count": 42
        }
      ]
    },
    {
      "cell_type": "code",
      "metadata": {
        "colab": {
          "base_uri": "https://localhost:8080/"
        },
        "id": "T-0k4aaVzK8o",
        "outputId": "ae9f0312-5974-4076-9801-bbd1de414390"
      },
      "source": [
        "word_1[3] += 1 #word_1[3] = word_1[3] + 1\n",
        "word_1"
      ],
      "execution_count": null,
      "outputs": [
        {
          "output_type": "execute_result",
          "data": {
            "text/plain": [
              "{1: 1, 3: 3}"
            ]
          },
          "metadata": {
            "tags": []
          },
          "execution_count": 43
        }
      ]
    },
    {
      "cell_type": "code",
      "metadata": {
        "colab": {
          "base_uri": "https://localhost:8080/"
        },
        "id": "19hS_uWVzSFa",
        "outputId": "b531d1a9-6d7d-4ced-d65a-0a86cf82f50e"
      },
      "source": [
        "string = \"bir berber, bir'e berber.\"\n",
        "\n",
        "word_dict = {}\n",
        "\n",
        "for n in string :\n",
        "  keys = word_dict.keys()\n",
        "  if n in keys :\n",
        "    word_dict[n] += 1\n",
        "  else :\n",
        "    word_dict[n] = 1\n",
        "\n",
        "print(word_dict)"
      ],
      "execution_count": null,
      "outputs": [
        {
          "output_type": "stream",
          "text": [
            "{'b': 6, 'i': 2, 'r': 6, ' ': 3, 'e': 5, ',': 1, \"'\": 1, '.': 1}\n"
          ],
          "name": "stdout"
        }
      ]
    },
    {
      "cell_type": "code",
      "metadata": {
        "id": "5CdJ5fAV1QW4"
      },
      "source": [
        "veri = [\"a\", \"b\", True, (False, 1), {\"1\" : 2},[1, 2], {\"2\" : \"two\"}, {2, \"3\"}, \"c\", 23, 0]"
      ],
      "execution_count": null,
      "outputs": []
    },
    {
      "cell_type": "code",
      "metadata": {
        "id": "nJaCLkw430VN"
      },
      "source": [
        "tipler = [\"int\", \"str\", \"bool\", \"list\", \"tuple\", \"dict\", \"set\"]"
      ],
      "execution_count": null,
      "outputs": []
    },
    {
      "cell_type": "code",
      "metadata": {
        "colab": {
          "base_uri": "https://localhost:8080/"
        },
        "id": "gEFkNwEX1u7L",
        "outputId": "da42ab67-1bbd-4339-ada9-158f40f4efb5"
      },
      "source": [
        "{}.fromkeys(tipler, 0)"
      ],
      "execution_count": null,
      "outputs": [
        {
          "output_type": "execute_result",
          "data": {
            "text/plain": [
              "{'bool': 0, 'dict': 0, 'int': 0, 'list': 0, 'set': 0, 'str': 0, 'tuple': 0}"
            ]
          },
          "metadata": {
            "tags": []
          },
          "execution_count": 47
        }
      ]
    },
    {
      "cell_type": "code",
      "metadata": {
        "id": "ATvK1tHn4Kit"
      },
      "source": [
        "toplam = {}.fromkeys(tipler, 0)"
      ],
      "execution_count": null,
      "outputs": []
    },
    {
      "cell_type": "code",
      "metadata": {
        "id": "a-J8pdUW4QDG"
      },
      "source": [
        "for i in range(len(veri)) :\n",
        "  if type(veri[i]) == int: toplam[\"int\"] += 1\n",
        "  elif type(veri[i]) == str: toplam[\"str\"] += 1\n",
        "  elif type(veri[i]) == bool: toplam[\"bool\"] += 1\n",
        "  elif type(veri[i]) == list: toplam[\"list\"] += 1\n",
        "  elif type(veri[i]) == tuple: toplam[\"tuple\"] += 1\n",
        "  elif type(veri[i]) == dict: toplam[\"dict\"] += 1\n",
        "  elif type(veri[i]) == set: toplam[\"set\"] += 1"
      ],
      "execution_count": null,
      "outputs": []
    },
    {
      "cell_type": "code",
      "metadata": {
        "colab": {
          "base_uri": "https://localhost:8080/"
        },
        "id": "-Gjn8Ovv5ERb",
        "outputId": "20fc3011-a0ef-4688-bee4-333cbdc3d0b2"
      },
      "source": [
        "toplam"
      ],
      "execution_count": null,
      "outputs": [
        {
          "output_type": "execute_result",
          "data": {
            "text/plain": [
              "{'bool': 1, 'dict': 2, 'int': 2, 'list': 1, 'set': 1, 'str': 3, 'tuple': 1}"
            ]
          },
          "metadata": {
            "tags": []
          },
          "execution_count": 50
        }
      ]
    },
    {
      "cell_type": "code",
      "metadata": {
        "id": "799vNXw_5Fkh"
      },
      "source": [
        "import os"
      ],
      "execution_count": null,
      "outputs": []
    },
    {
      "cell_type": "code",
      "metadata": {
        "colab": {
          "base_uri": "https://localhost:8080/"
        },
        "id": "912zKvQu5MA2",
        "outputId": "6e39d29f-85e2-4659-e2b2-3da127c1c7ed"
      },
      "source": [
        "os.listdir()"
      ],
      "execution_count": null,
      "outputs": [
        {
          "output_type": "execute_result",
          "data": {
            "text/plain": [
              "['.config', 'flowers_24.txt', 'fruits_24.txt', 'istiklal.txt', 'sample_data']"
            ]
          },
          "metadata": {
            "tags": []
          },
          "execution_count": 52
        }
      ]
    },
    {
      "cell_type": "code",
      "metadata": {
        "id": "sOCMTF7V5PnL"
      },
      "source": [
        "import glob"
      ],
      "execution_count": null,
      "outputs": []
    },
    {
      "cell_type": "code",
      "metadata": {
        "colab": {
          "base_uri": "https://localhost:8080/"
        },
        "id": "q958bDqI5wD2",
        "outputId": "9a40c641-2a74-450d-e8e1-cdf5000594a9"
      },
      "source": [
        "for file in glob.glob(\"*.txt\"):\n",
        "  print(file)"
      ],
      "execution_count": null,
      "outputs": [
        {
          "output_type": "stream",
          "text": [
            "flowers_24.txt\n",
            "fruits_24.txt\n",
            "istiklal.txt\n"
          ],
          "name": "stdout"
        }
      ]
    },
    {
      "cell_type": "code",
      "metadata": {
        "id": "hGPb_NfO6GRU"
      },
      "source": [
        "import shutil"
      ],
      "execution_count": null,
      "outputs": []
    },
    {
      "cell_type": "code",
      "metadata": {
        "colab": {
          "base_uri": "https://localhost:8080/",
          "height": 35
        },
        "id": "Lwks2eHB6XCq",
        "outputId": "d0cd280d-e5eb-4321-a371-86aa9b426a29"
      },
      "source": [
        "shutil.copy(\"fruits_24.txt\", \"../fruits_24_copy.txt\")"
      ],
      "execution_count": null,
      "outputs": [
        {
          "output_type": "execute_result",
          "data": {
            "application/vnd.google.colaboratory.intrinsic+json": {
              "type": "string"
            },
            "text/plain": [
              "'../fruits_24_copy.txt'"
            ]
          },
          "metadata": {
            "tags": []
          },
          "execution_count": 59
        }
      ]
    },
    {
      "cell_type": "code",
      "metadata": {
        "id": "iWgISCJY7V8h"
      },
      "source": [
        "def my_factorial(n) :\n",
        "  if n == 0 : return 1\n",
        "\n",
        "  else :\n",
        "    return n * my_factorial(n-1)"
      ],
      "execution_count": null,
      "outputs": []
    },
    {
      "cell_type": "code",
      "metadata": {
        "colab": {
          "base_uri": "https://localhost:8080/"
        },
        "id": "9z02Ua0e8zu5",
        "outputId": "96ef941c-03b6-4b5c-8843-b5acb23135bf"
      },
      "source": [
        "my_factorial(3)"
      ],
      "execution_count": null,
      "outputs": [
        {
          "output_type": "execute_result",
          "data": {
            "text/plain": [
              "6"
            ]
          },
          "metadata": {
            "tags": []
          },
          "execution_count": 61
        }
      ]
    },
    {
      "cell_type": "code",
      "metadata": {
        "id": "ZWNZhiPo9xc9"
      },
      "source": [
        "x = [([1], [2,3], (4,5,6))]"
      ],
      "execution_count": null,
      "outputs": []
    },
    {
      "cell_type": "code",
      "metadata": {
        "colab": {
          "base_uri": "https://localhost:8080/"
        },
        "id": "Ol8V6DKjweh_",
        "outputId": "a70a6808-07f1-4c0e-d7d1-152e7f7f1d21"
      },
      "source": [
        "len(x)"
      ],
      "execution_count": null,
      "outputs": [
        {
          "output_type": "execute_result",
          "data": {
            "text/plain": [
              "1"
            ]
          },
          "metadata": {
            "tags": []
          },
          "execution_count": 2
        }
      ]
    },
    {
      "cell_type": "code",
      "metadata": {
        "colab": {
          "base_uri": "https://localhost:8080/"
        },
        "id": "y35g_ZUpwfci",
        "outputId": "86af910b-384f-41e0-e514-5e5676c0b5ee"
      },
      "source": [
        "a = []\n",
        "for i in x:\n",
        "  for j in i:\n",
        "    for z in j:\n",
        "      a.append(z) \n",
        "print(a)\n",
        "  \n"
      ],
      "execution_count": null,
      "outputs": [
        {
          "output_type": "stream",
          "text": [
            "[1, 2, 3, 4, 5, 6]\n"
          ],
          "name": "stdout"
        }
      ]
    },
    {
      "cell_type": "code",
      "metadata": {
        "colab": {
          "base_uri": "https://localhost:8080/"
        },
        "id": "KA5fdiMA2Vqv",
        "outputId": "234681f4-27c0-49de-c747-80774de9a7b9"
      },
      "source": [
        "[i for i in range(5)]"
      ],
      "execution_count": null,
      "outputs": [
        {
          "output_type": "execute_result",
          "data": {
            "text/plain": [
              "[0, 1, 2, 3, 4]"
            ]
          },
          "metadata": {
            "tags": []
          },
          "execution_count": 19
        }
      ]
    },
    {
      "cell_type": "code",
      "metadata": {
        "colab": {
          "base_uri": "https://localhost:8080/"
        },
        "id": "2XAgs93rw-U3",
        "outputId": "6387f6a3-6fc7-4efa-d78e-8ed7c3965116"
      },
      "source": [
        "{z for i in x for j in i for z in j}"
      ],
      "execution_count": null,
      "outputs": [
        {
          "output_type": "execute_result",
          "data": {
            "text/plain": [
              "{1, 2, 3, 4, 5, 6}"
            ]
          },
          "metadata": {
            "tags": []
          },
          "execution_count": 18
        }
      ]
    },
    {
      "cell_type": "code",
      "metadata": {
        "colab": {
          "base_uri": "https://localhost:8080/"
        },
        "id": "i7ZlGIW12vPW",
        "outputId": "aed3f793-6e8c-40d4-c17d-3a68b25025f8"
      },
      "source": [
        "xList = \"elma armut muz\".split()\n",
        "xList"
      ],
      "execution_count": null,
      "outputs": [
        {
          "output_type": "execute_result",
          "data": {
            "text/plain": [
              "['elma', 'armut', 'muz']"
            ]
          },
          "metadata": {
            "tags": []
          },
          "execution_count": 21
        }
      ]
    },
    {
      "cell_type": "code",
      "metadata": {
        "colab": {
          "base_uri": "https://localhost:8080/"
        },
        "id": "crxM3lu22rPl",
        "outputId": "40e1c8ce-8c87-4c1b-9f2d-d39bd51d3bcb"
      },
      "source": [
        "yList = \"selvi vahit ayşe\".split()\n",
        "yList"
      ],
      "execution_count": null,
      "outputs": [
        {
          "output_type": "execute_result",
          "data": {
            "text/plain": [
              "['selvi', 'vahit', 'ayşe']"
            ]
          },
          "metadata": {
            "tags": []
          },
          "execution_count": 20
        }
      ]
    },
    {
      "cell_type": "code",
      "metadata": {
        "colab": {
          "base_uri": "https://localhost:8080/"
        },
        "id": "GRJoxwM62zSw",
        "outputId": "7b9ad912-8687-49ae-d17f-78af647d3b62"
      },
      "source": [
        "result = []\n",
        "for i in xList:\n",
        "  for j in yList:\n",
        "    result.append(i + j)\n",
        "result"
      ],
      "execution_count": null,
      "outputs": [
        {
          "output_type": "execute_result",
          "data": {
            "text/plain": [
              "['elmaselvi',\n",
              " 'elmavahit',\n",
              " 'elmaayşe',\n",
              " 'armutselvi',\n",
              " 'armutvahit',\n",
              " 'armutayşe',\n",
              " 'muzselvi',\n",
              " 'muzvahit',\n",
              " 'muzayşe']"
            ]
          },
          "metadata": {
            "tags": []
          },
          "execution_count": 22
        }
      ]
    },
    {
      "cell_type": "code",
      "metadata": {
        "colab": {
          "base_uri": "https://localhost:8080/"
        },
        "id": "xtzXGYbM3IJm",
        "outputId": "e60da517-0341-42b8-c1c0-aa4566e2719f"
      },
      "source": [
        "[i + j for i in xList for j in yList]"
      ],
      "execution_count": null,
      "outputs": [
        {
          "output_type": "execute_result",
          "data": {
            "text/plain": [
              "['elmaselvi',\n",
              " 'elmavahit',\n",
              " 'elmaayşe',\n",
              " 'armutselvi',\n",
              " 'armutvahit',\n",
              " 'armutayşe',\n",
              " 'muzselvi',\n",
              " 'muzvahit',\n",
              " 'muzayşe']"
            ]
          },
          "metadata": {
            "tags": []
          },
          "execution_count": 23
        }
      ]
    },
    {
      "cell_type": "code",
      "metadata": {
        "colab": {
          "base_uri": "https://localhost:8080/"
        },
        "id": "bav9fsQi3eww",
        "outputId": "11acb626-662a-40a5-f935-89c0bef6c177"
      },
      "source": [
        "[[i + j] for i in xList for j in yList]"
      ],
      "execution_count": null,
      "outputs": [
        {
          "output_type": "execute_result",
          "data": {
            "text/plain": [
              "[['elmaselvi'],\n",
              " ['elmavahit'],\n",
              " ['elmaayşe'],\n",
              " ['armutselvi'],\n",
              " ['armutvahit'],\n",
              " ['armutayşe'],\n",
              " ['muzselvi'],\n",
              " ['muzvahit'],\n",
              " ['muzayşe']]"
            ]
          },
          "metadata": {
            "tags": []
          },
          "execution_count": 24
        }
      ]
    },
    {
      "cell_type": "code",
      "metadata": {
        "colab": {
          "base_uri": "https://localhost:8080/"
        },
        "id": "zB2ISovJ3uAQ",
        "outputId": "c74e3585-8a3b-4a2a-c7df-91824cc6712e"
      },
      "source": [
        "result = []\n",
        "sayılar = [\"bir\", \"iki\", \"üç\"]\n",
        "for i in range(5):\n",
        "  if i % 2 == 0 :\n",
        "    for j in sayılar:\n",
        "      result.append(str(i) + \" --> \" + j)\n",
        "result"
      ],
      "execution_count": null,
      "outputs": [
        {
          "output_type": "execute_result",
          "data": {
            "text/plain": [
              "['0 --> bir',\n",
              " '0 --> iki',\n",
              " '0 --> üç',\n",
              " '2 --> bir',\n",
              " '2 --> iki',\n",
              " '2 --> üç',\n",
              " '4 --> bir',\n",
              " '4 --> iki',\n",
              " '4 --> üç']"
            ]
          },
          "metadata": {
            "tags": []
          },
          "execution_count": 28
        }
      ]
    },
    {
      "cell_type": "code",
      "metadata": {
        "colab": {
          "base_uri": "https://localhost:8080/"
        },
        "id": "fFH-7xEf4Kt_",
        "outputId": "5e2c12b2-bf64-4df4-f619-8773fbff509a"
      },
      "source": [
        "[str(i) + \" --> \" + j for i in range(5) for j in sayılar if i % 2 == 0]"
      ],
      "execution_count": null,
      "outputs": [
        {
          "output_type": "execute_result",
          "data": {
            "text/plain": [
              "['0 --> bir',\n",
              " '0 --> iki',\n",
              " '0 --> üç',\n",
              " '2 --> bir',\n",
              " '2 --> iki',\n",
              " '2 --> üç',\n",
              " '4 --> bir',\n",
              " '4 --> iki',\n",
              " '4 --> üç']"
            ]
          },
          "metadata": {
            "tags": []
          },
          "execution_count": 29
        }
      ]
    },
    {
      "cell_type": "code",
      "metadata": {
        "id": "j_AKOymN7H99"
      },
      "source": [
        "### Girilen üç sayıdan kaç tanesi tekrarlıyor. Bunu gösteren bir fonksiyon yazalım"
      ],
      "execution_count": null,
      "outputs": []
    },
    {
      "cell_type": "code",
      "metadata": {
        "id": "gthVIu2H60zu"
      },
      "source": [
        "equal(4,4,4) # ==> 3\n",
        "equal(3,4,4) # ==> 2\n",
        "equal(1,2,3) # ==> 0"
      ],
      "execution_count": null,
      "outputs": []
    },
    {
      "cell_type": "code",
      "metadata": {
        "id": "lAF1zNTO66Es"
      },
      "source": [
        "num = [5,1,1]"
      ],
      "execution_count": null,
      "outputs": []
    },
    {
      "cell_type": "code",
      "metadata": {
        "colab": {
          "base_uri": "https://localhost:8080/"
        },
        "id": "cWg9uquM7XJi",
        "outputId": "ee28473b-193c-4d2d-ff4b-77bb6ca73151"
      },
      "source": [
        "max(num)"
      ],
      "execution_count": null,
      "outputs": [
        {
          "output_type": "execute_result",
          "data": {
            "text/plain": [
              "5"
            ]
          },
          "metadata": {
            "tags": []
          },
          "execution_count": 39
        }
      ]
    },
    {
      "cell_type": "code",
      "metadata": {
        "colab": {
          "base_uri": "https://localhost:8080/"
        },
        "id": "FZ90KdPl7oZk",
        "outputId": "1642af6a-feb2-4cb2-a8db-6910372441b2"
      },
      "source": [
        "max(num, key = num.count)"
      ],
      "execution_count": null,
      "outputs": [
        {
          "output_type": "execute_result",
          "data": {
            "text/plain": [
              "1"
            ]
          },
          "metadata": {
            "tags": []
          },
          "execution_count": 40
        }
      ]
    },
    {
      "cell_type": "code",
      "metadata": {
        "colab": {
          "base_uri": "https://localhost:8080/"
        },
        "id": "LncTzZro7uxU",
        "outputId": "67375b92-4722-4c02-df32-91490e665d59"
      },
      "source": [
        "num.count(5)"
      ],
      "execution_count": null,
      "outputs": [
        {
          "output_type": "execute_result",
          "data": {
            "text/plain": [
              "1"
            ]
          },
          "metadata": {
            "tags": []
          },
          "execution_count": 43
        }
      ]
    },
    {
      "cell_type": "code",
      "metadata": {
        "colab": {
          "base_uri": "https://localhost:8080/"
        },
        "id": "OKANhUaS7w45",
        "outputId": "27d1668a-b6c9-4701-ec8d-17ec87bc4d3f"
      },
      "source": [
        "num.count(1)"
      ],
      "execution_count": null,
      "outputs": [
        {
          "output_type": "execute_result",
          "data": {
            "text/plain": [
              "2"
            ]
          },
          "metadata": {
            "tags": []
          },
          "execution_count": 45
        }
      ]
    },
    {
      "cell_type": "code",
      "metadata": {
        "colab": {
          "base_uri": "https://localhost:8080/"
        },
        "id": "rH9mefCL7zgz",
        "outputId": "913c1aff-0766-4e2d-aab1-c16f4bd199be"
      },
      "source": [
        "num.count(1)"
      ],
      "execution_count": null,
      "outputs": [
        {
          "output_type": "execute_result",
          "data": {
            "text/plain": [
              "2"
            ]
          },
          "metadata": {
            "tags": []
          },
          "execution_count": 44
        }
      ]
    },
    {
      "cell_type": "code",
      "metadata": {
        "id": "Op4XaXUk73t3"
      },
      "source": [
        "def equal(a, b, c) :\n",
        "  numbers = [a, b, c]\n",
        "  result = numbers.count(max(numbers, key = numbers.count))\n",
        "  if result > 1 :\n",
        "    return result\n",
        "  else :\n",
        "    return 0"
      ],
      "execution_count": null,
      "outputs": []
    },
    {
      "cell_type": "code",
      "metadata": {
        "colab": {
          "base_uri": "https://localhost:8080/"
        },
        "id": "HuLTgDBU9WcH",
        "outputId": "e4e2ce04-95fa-4951-a542-c4628d8fa162"
      },
      "source": [
        "equal(1,1,5)"
      ],
      "execution_count": null,
      "outputs": [
        {
          "output_type": "execute_result",
          "data": {
            "text/plain": [
              "2"
            ]
          },
          "metadata": {
            "tags": []
          },
          "execution_count": 47
        }
      ]
    },
    {
      "cell_type": "code",
      "metadata": {
        "colab": {
          "base_uri": "https://localhost:8080/"
        },
        "id": "QVz72nAf9Y2h",
        "outputId": "67c42f63-46ca-402d-880c-c7139daa6812"
      },
      "source": [
        "equal(5,5,5)"
      ],
      "execution_count": null,
      "outputs": [
        {
          "output_type": "execute_result",
          "data": {
            "text/plain": [
              "3"
            ]
          },
          "metadata": {
            "tags": []
          },
          "execution_count": 48
        }
      ]
    },
    {
      "cell_type": "code",
      "metadata": {
        "id": "wPvQqgkk9bCW"
      },
      "source": [
        "def equal(*a) :\n",
        "  numbers = list(a)\n",
        "  result = numbers.count(max(numbers, key = numbers.count))\n",
        "  if result > 1 :\n",
        "    return result\n",
        "  else :\n",
        "    return 0"
      ],
      "execution_count": null,
      "outputs": []
    },
    {
      "cell_type": "code",
      "metadata": {
        "colab": {
          "base_uri": "https://localhost:8080/"
        },
        "id": "5nXLdIQl-IWK",
        "outputId": "0703c205-8dcd-48df-f5a2-d4ae4d21e9d1"
      },
      "source": [
        "equal(1,2,3,4,5,5,5,6,7,7)"
      ],
      "execution_count": null,
      "outputs": [
        {
          "output_type": "execute_result",
          "data": {
            "text/plain": [
              "3"
            ]
          },
          "metadata": {
            "tags": []
          },
          "execution_count": 50
        }
      ]
    },
    {
      "cell_type": "code",
      "metadata": {
        "colab": {
          "base_uri": "https://localhost:8080/"
        },
        "id": "GHczPzlI-MLS",
        "outputId": "3b172160-5ec9-47de-8369-6afc86403ca0"
      },
      "source": [
        "with open('fruits.csv', 'w', encoding = 'utf-8') as file:\n",
        "    file.write('no,fruit,amount,\\n1,Banana,4 lb,\\n2,Orange,5 lb,\\n3,Apple,2 lb,\\n4,Strawberry,6 lb,\\n5,Cherry,3 lb)\\n')\n",
        "with open('fruits.csv', 'r', encoding = 'utf-8') as file:\n",
        "    print(file.read())"
      ],
      "execution_count": null,
      "outputs": [
        {
          "output_type": "stream",
          "text": [
            "no,fruit,amount,\n",
            "1,Banana,4 lb,\n",
            "2,Orange,5 lb,\n",
            "3,Apple,2 lb,\n",
            "4,Strawberry,6 lb,\n",
            "5,Cherry,3 lb)\n",
            "\n"
          ],
          "name": "stdout"
        }
      ]
    },
    {
      "cell_type": "code",
      "metadata": {
        "id": "D-_bQnjLHB6s"
      },
      "source": [
        "import csv  # loads csv module"
      ],
      "execution_count": null,
      "outputs": []
    },
    {
      "cell_type": "code",
      "metadata": {
        "colab": {
          "base_uri": "https://localhost:8080/"
        },
        "id": "YN1YJfI_G-7O",
        "outputId": "286bc0ea-e7bb-45d4-e1ff-0c96a5e5b3e5"
      },
      "source": [
        "\n",
        "with open(\"fruits.csv\", 'r', newline = '', encoding = 'utf-8') as file:\n",
        "    csv_rows = csv.reader(file)  # reader() function takes each\n",
        "                                 # row (lines) into a list\n",
        "    for row in csv_rows:\n",
        "        print(row)"
      ],
      "execution_count": null,
      "outputs": [
        {
          "output_type": "stream",
          "text": [
            "['no', 'fruit', 'amount', '']\n",
            "['1', 'Banana', '4 lb', '']\n",
            "['2', 'Orange', '5 lb', '']\n",
            "['3', 'Apple', '2 lb', '']\n",
            "['4', 'Strawberry', '6 lb', '']\n",
            "['5', 'Cherry', '3 lb)']\n"
          ],
          "name": "stdout"
        }
      ]
    },
    {
      "cell_type": "code",
      "metadata": {
        "id": "WOyKZo08HRJN"
      },
      "source": [
        "import pandas as pd"
      ],
      "execution_count": null,
      "outputs": []
    },
    {
      "cell_type": "code",
      "metadata": {
        "id": "cvBzjXhCHV0V"
      },
      "source": [
        "titanic = pd.read_csv(\"titanic.csv\")\n"
      ],
      "execution_count": null,
      "outputs": []
    },
    {
      "cell_type": "code",
      "metadata": {
        "colab": {
          "base_uri": "https://localhost:8080/",
          "height": 487
        },
        "id": "EpcxHp6tIWd1",
        "outputId": "57061642-b594-45ef-b90a-2292225e5110"
      },
      "source": [
        "titanic"
      ],
      "execution_count": null,
      "outputs": [
        {
          "output_type": "execute_result",
          "data": {
            "text/html": [
              "<div>\n",
              "<style scoped>\n",
              "    .dataframe tbody tr th:only-of-type {\n",
              "        vertical-align: middle;\n",
              "    }\n",
              "\n",
              "    .dataframe tbody tr th {\n",
              "        vertical-align: top;\n",
              "    }\n",
              "\n",
              "    .dataframe thead th {\n",
              "        text-align: right;\n",
              "    }\n",
              "</style>\n",
              "<table border=\"1\" class=\"dataframe\">\n",
              "  <thead>\n",
              "    <tr style=\"text-align: right;\">\n",
              "      <th></th>\n",
              "      <th>PassengerId</th>\n",
              "      <th>Survived</th>\n",
              "      <th>Pclass</th>\n",
              "      <th>Name</th>\n",
              "      <th>Sex</th>\n",
              "      <th>Age</th>\n",
              "      <th>SibSp</th>\n",
              "      <th>Parch</th>\n",
              "      <th>Ticket</th>\n",
              "      <th>Fare</th>\n",
              "      <th>Cabin</th>\n",
              "      <th>Embarked</th>\n",
              "    </tr>\n",
              "  </thead>\n",
              "  <tbody>\n",
              "    <tr>\n",
              "      <th>0</th>\n",
              "      <td>1</td>\n",
              "      <td>0</td>\n",
              "      <td>3</td>\n",
              "      <td>Braund, Mr. Owen Harris</td>\n",
              "      <td>male</td>\n",
              "      <td>22.0</td>\n",
              "      <td>1</td>\n",
              "      <td>0</td>\n",
              "      <td>A/5 21171</td>\n",
              "      <td>7.2500</td>\n",
              "      <td>NaN</td>\n",
              "      <td>S</td>\n",
              "    </tr>\n",
              "    <tr>\n",
              "      <th>1</th>\n",
              "      <td>2</td>\n",
              "      <td>1</td>\n",
              "      <td>1</td>\n",
              "      <td>Cumings, Mrs. John Bradley (Florence Briggs Th...</td>\n",
              "      <td>female</td>\n",
              "      <td>38.0</td>\n",
              "      <td>1</td>\n",
              "      <td>0</td>\n",
              "      <td>PC 17599</td>\n",
              "      <td>71.2833</td>\n",
              "      <td>C85</td>\n",
              "      <td>C</td>\n",
              "    </tr>\n",
              "    <tr>\n",
              "      <th>2</th>\n",
              "      <td>3</td>\n",
              "      <td>1</td>\n",
              "      <td>3</td>\n",
              "      <td>Heikkinen, Miss. Laina</td>\n",
              "      <td>female</td>\n",
              "      <td>26.0</td>\n",
              "      <td>0</td>\n",
              "      <td>0</td>\n",
              "      <td>STON/O2. 3101282</td>\n",
              "      <td>7.9250</td>\n",
              "      <td>NaN</td>\n",
              "      <td>S</td>\n",
              "    </tr>\n",
              "    <tr>\n",
              "      <th>3</th>\n",
              "      <td>4</td>\n",
              "      <td>1</td>\n",
              "      <td>1</td>\n",
              "      <td>Futrelle, Mrs. Jacques Heath (Lily May Peel)</td>\n",
              "      <td>female</td>\n",
              "      <td>35.0</td>\n",
              "      <td>1</td>\n",
              "      <td>0</td>\n",
              "      <td>113803</td>\n",
              "      <td>53.1000</td>\n",
              "      <td>C123</td>\n",
              "      <td>S</td>\n",
              "    </tr>\n",
              "    <tr>\n",
              "      <th>4</th>\n",
              "      <td>5</td>\n",
              "      <td>0</td>\n",
              "      <td>3</td>\n",
              "      <td>Allen, Mr. William Henry</td>\n",
              "      <td>male</td>\n",
              "      <td>35.0</td>\n",
              "      <td>0</td>\n",
              "      <td>0</td>\n",
              "      <td>373450</td>\n",
              "      <td>8.0500</td>\n",
              "      <td>NaN</td>\n",
              "      <td>S</td>\n",
              "    </tr>\n",
              "    <tr>\n",
              "      <th>...</th>\n",
              "      <td>...</td>\n",
              "      <td>...</td>\n",
              "      <td>...</td>\n",
              "      <td>...</td>\n",
              "      <td>...</td>\n",
              "      <td>...</td>\n",
              "      <td>...</td>\n",
              "      <td>...</td>\n",
              "      <td>...</td>\n",
              "      <td>...</td>\n",
              "      <td>...</td>\n",
              "      <td>...</td>\n",
              "    </tr>\n",
              "    <tr>\n",
              "      <th>886</th>\n",
              "      <td>887</td>\n",
              "      <td>0</td>\n",
              "      <td>2</td>\n",
              "      <td>Montvila, Rev. Juozas</td>\n",
              "      <td>male</td>\n",
              "      <td>27.0</td>\n",
              "      <td>0</td>\n",
              "      <td>0</td>\n",
              "      <td>211536</td>\n",
              "      <td>13.0000</td>\n",
              "      <td>NaN</td>\n",
              "      <td>S</td>\n",
              "    </tr>\n",
              "    <tr>\n",
              "      <th>887</th>\n",
              "      <td>888</td>\n",
              "      <td>1</td>\n",
              "      <td>1</td>\n",
              "      <td>Graham, Miss. Margaret Edith</td>\n",
              "      <td>female</td>\n",
              "      <td>19.0</td>\n",
              "      <td>0</td>\n",
              "      <td>0</td>\n",
              "      <td>112053</td>\n",
              "      <td>30.0000</td>\n",
              "      <td>B42</td>\n",
              "      <td>S</td>\n",
              "    </tr>\n",
              "    <tr>\n",
              "      <th>888</th>\n",
              "      <td>889</td>\n",
              "      <td>0</td>\n",
              "      <td>3</td>\n",
              "      <td>Johnston, Miss. Catherine Helen \"Carrie\"</td>\n",
              "      <td>female</td>\n",
              "      <td>NaN</td>\n",
              "      <td>1</td>\n",
              "      <td>2</td>\n",
              "      <td>W./C. 6607</td>\n",
              "      <td>23.4500</td>\n",
              "      <td>NaN</td>\n",
              "      <td>S</td>\n",
              "    </tr>\n",
              "    <tr>\n",
              "      <th>889</th>\n",
              "      <td>890</td>\n",
              "      <td>1</td>\n",
              "      <td>1</td>\n",
              "      <td>Behr, Mr. Karl Howell</td>\n",
              "      <td>male</td>\n",
              "      <td>26.0</td>\n",
              "      <td>0</td>\n",
              "      <td>0</td>\n",
              "      <td>111369</td>\n",
              "      <td>30.0000</td>\n",
              "      <td>C148</td>\n",
              "      <td>C</td>\n",
              "    </tr>\n",
              "    <tr>\n",
              "      <th>890</th>\n",
              "      <td>891</td>\n",
              "      <td>0</td>\n",
              "      <td>3</td>\n",
              "      <td>Dooley, Mr. Patrick</td>\n",
              "      <td>male</td>\n",
              "      <td>32.0</td>\n",
              "      <td>0</td>\n",
              "      <td>0</td>\n",
              "      <td>370376</td>\n",
              "      <td>7.7500</td>\n",
              "      <td>NaN</td>\n",
              "      <td>Q</td>\n",
              "    </tr>\n",
              "  </tbody>\n",
              "</table>\n",
              "<p>891 rows × 12 columns</p>\n",
              "</div>"
            ],
            "text/plain": [
              "     PassengerId  Survived  Pclass  ...     Fare Cabin  Embarked\n",
              "0              1         0       3  ...   7.2500   NaN         S\n",
              "1              2         1       1  ...  71.2833   C85         C\n",
              "2              3         1       3  ...   7.9250   NaN         S\n",
              "3              4         1       1  ...  53.1000  C123         S\n",
              "4              5         0       3  ...   8.0500   NaN         S\n",
              "..           ...       ...     ...  ...      ...   ...       ...\n",
              "886          887         0       2  ...  13.0000   NaN         S\n",
              "887          888         1       1  ...  30.0000   B42         S\n",
              "888          889         0       3  ...  23.4500   NaN         S\n",
              "889          890         1       1  ...  30.0000  C148         C\n",
              "890          891         0       3  ...   7.7500   NaN         Q\n",
              "\n",
              "[891 rows x 12 columns]"
            ]
          },
          "metadata": {
            "tags": []
          },
          "execution_count": 63
        }
      ]
    },
    {
      "cell_type": "code",
      "metadata": {
        "id": "iloaenfbHzX3"
      },
      "source": [
        "!pip install pandas"
      ],
      "execution_count": null,
      "outputs": []
    },
    {
      "cell_type": "code",
      "metadata": {
        "colab": {
          "base_uri": "https://localhost:8080/",
          "height": 538
        },
        "id": "BuTYapcPIbp0",
        "outputId": "a5ed7955-0d7b-4b58-f144-601f0bbdb2bc"
      },
      "source": [
        "titanic[titanic[\"Sex\"] == \"female\"]"
      ],
      "execution_count": null,
      "outputs": [
        {
          "output_type": "execute_result",
          "data": {
            "text/html": [
              "<div>\n",
              "<style scoped>\n",
              "    .dataframe tbody tr th:only-of-type {\n",
              "        vertical-align: middle;\n",
              "    }\n",
              "\n",
              "    .dataframe tbody tr th {\n",
              "        vertical-align: top;\n",
              "    }\n",
              "\n",
              "    .dataframe thead th {\n",
              "        text-align: right;\n",
              "    }\n",
              "</style>\n",
              "<table border=\"1\" class=\"dataframe\">\n",
              "  <thead>\n",
              "    <tr style=\"text-align: right;\">\n",
              "      <th></th>\n",
              "      <th>PassengerId</th>\n",
              "      <th>Survived</th>\n",
              "      <th>Pclass</th>\n",
              "      <th>Name</th>\n",
              "      <th>Sex</th>\n",
              "      <th>Age</th>\n",
              "      <th>SibSp</th>\n",
              "      <th>Parch</th>\n",
              "      <th>Ticket</th>\n",
              "      <th>Fare</th>\n",
              "      <th>Cabin</th>\n",
              "      <th>Embarked</th>\n",
              "    </tr>\n",
              "  </thead>\n",
              "  <tbody>\n",
              "    <tr>\n",
              "      <th>1</th>\n",
              "      <td>2</td>\n",
              "      <td>1</td>\n",
              "      <td>1</td>\n",
              "      <td>Cumings, Mrs. John Bradley (Florence Briggs Th...</td>\n",
              "      <td>female</td>\n",
              "      <td>38.0</td>\n",
              "      <td>1</td>\n",
              "      <td>0</td>\n",
              "      <td>PC 17599</td>\n",
              "      <td>71.2833</td>\n",
              "      <td>C85</td>\n",
              "      <td>C</td>\n",
              "    </tr>\n",
              "    <tr>\n",
              "      <th>2</th>\n",
              "      <td>3</td>\n",
              "      <td>1</td>\n",
              "      <td>3</td>\n",
              "      <td>Heikkinen, Miss. Laina</td>\n",
              "      <td>female</td>\n",
              "      <td>26.0</td>\n",
              "      <td>0</td>\n",
              "      <td>0</td>\n",
              "      <td>STON/O2. 3101282</td>\n",
              "      <td>7.9250</td>\n",
              "      <td>NaN</td>\n",
              "      <td>S</td>\n",
              "    </tr>\n",
              "    <tr>\n",
              "      <th>3</th>\n",
              "      <td>4</td>\n",
              "      <td>1</td>\n",
              "      <td>1</td>\n",
              "      <td>Futrelle, Mrs. Jacques Heath (Lily May Peel)</td>\n",
              "      <td>female</td>\n",
              "      <td>35.0</td>\n",
              "      <td>1</td>\n",
              "      <td>0</td>\n",
              "      <td>113803</td>\n",
              "      <td>53.1000</td>\n",
              "      <td>C123</td>\n",
              "      <td>S</td>\n",
              "    </tr>\n",
              "    <tr>\n",
              "      <th>8</th>\n",
              "      <td>9</td>\n",
              "      <td>1</td>\n",
              "      <td>3</td>\n",
              "      <td>Johnson, Mrs. Oscar W (Elisabeth Vilhelmina Berg)</td>\n",
              "      <td>female</td>\n",
              "      <td>27.0</td>\n",
              "      <td>0</td>\n",
              "      <td>2</td>\n",
              "      <td>347742</td>\n",
              "      <td>11.1333</td>\n",
              "      <td>NaN</td>\n",
              "      <td>S</td>\n",
              "    </tr>\n",
              "    <tr>\n",
              "      <th>9</th>\n",
              "      <td>10</td>\n",
              "      <td>1</td>\n",
              "      <td>2</td>\n",
              "      <td>Nasser, Mrs. Nicholas (Adele Achem)</td>\n",
              "      <td>female</td>\n",
              "      <td>14.0</td>\n",
              "      <td>1</td>\n",
              "      <td>0</td>\n",
              "      <td>237736</td>\n",
              "      <td>30.0708</td>\n",
              "      <td>NaN</td>\n",
              "      <td>C</td>\n",
              "    </tr>\n",
              "    <tr>\n",
              "      <th>...</th>\n",
              "      <td>...</td>\n",
              "      <td>...</td>\n",
              "      <td>...</td>\n",
              "      <td>...</td>\n",
              "      <td>...</td>\n",
              "      <td>...</td>\n",
              "      <td>...</td>\n",
              "      <td>...</td>\n",
              "      <td>...</td>\n",
              "      <td>...</td>\n",
              "      <td>...</td>\n",
              "      <td>...</td>\n",
              "    </tr>\n",
              "    <tr>\n",
              "      <th>880</th>\n",
              "      <td>881</td>\n",
              "      <td>1</td>\n",
              "      <td>2</td>\n",
              "      <td>Shelley, Mrs. William (Imanita Parrish Hall)</td>\n",
              "      <td>female</td>\n",
              "      <td>25.0</td>\n",
              "      <td>0</td>\n",
              "      <td>1</td>\n",
              "      <td>230433</td>\n",
              "      <td>26.0000</td>\n",
              "      <td>NaN</td>\n",
              "      <td>S</td>\n",
              "    </tr>\n",
              "    <tr>\n",
              "      <th>882</th>\n",
              "      <td>883</td>\n",
              "      <td>0</td>\n",
              "      <td>3</td>\n",
              "      <td>Dahlberg, Miss. Gerda Ulrika</td>\n",
              "      <td>female</td>\n",
              "      <td>22.0</td>\n",
              "      <td>0</td>\n",
              "      <td>0</td>\n",
              "      <td>7552</td>\n",
              "      <td>10.5167</td>\n",
              "      <td>NaN</td>\n",
              "      <td>S</td>\n",
              "    </tr>\n",
              "    <tr>\n",
              "      <th>885</th>\n",
              "      <td>886</td>\n",
              "      <td>0</td>\n",
              "      <td>3</td>\n",
              "      <td>Rice, Mrs. William (Margaret Norton)</td>\n",
              "      <td>female</td>\n",
              "      <td>39.0</td>\n",
              "      <td>0</td>\n",
              "      <td>5</td>\n",
              "      <td>382652</td>\n",
              "      <td>29.1250</td>\n",
              "      <td>NaN</td>\n",
              "      <td>Q</td>\n",
              "    </tr>\n",
              "    <tr>\n",
              "      <th>887</th>\n",
              "      <td>888</td>\n",
              "      <td>1</td>\n",
              "      <td>1</td>\n",
              "      <td>Graham, Miss. Margaret Edith</td>\n",
              "      <td>female</td>\n",
              "      <td>19.0</td>\n",
              "      <td>0</td>\n",
              "      <td>0</td>\n",
              "      <td>112053</td>\n",
              "      <td>30.0000</td>\n",
              "      <td>B42</td>\n",
              "      <td>S</td>\n",
              "    </tr>\n",
              "    <tr>\n",
              "      <th>888</th>\n",
              "      <td>889</td>\n",
              "      <td>0</td>\n",
              "      <td>3</td>\n",
              "      <td>Johnston, Miss. Catherine Helen \"Carrie\"</td>\n",
              "      <td>female</td>\n",
              "      <td>NaN</td>\n",
              "      <td>1</td>\n",
              "      <td>2</td>\n",
              "      <td>W./C. 6607</td>\n",
              "      <td>23.4500</td>\n",
              "      <td>NaN</td>\n",
              "      <td>S</td>\n",
              "    </tr>\n",
              "  </tbody>\n",
              "</table>\n",
              "<p>314 rows × 12 columns</p>\n",
              "</div>"
            ],
            "text/plain": [
              "     PassengerId  Survived  Pclass  ...     Fare Cabin  Embarked\n",
              "1              2         1       1  ...  71.2833   C85         C\n",
              "2              3         1       3  ...   7.9250   NaN         S\n",
              "3              4         1       1  ...  53.1000  C123         S\n",
              "8              9         1       3  ...  11.1333   NaN         S\n",
              "9             10         1       2  ...  30.0708   NaN         C\n",
              "..           ...       ...     ...  ...      ...   ...       ...\n",
              "880          881         1       2  ...  26.0000   NaN         S\n",
              "882          883         0       3  ...  10.5167   NaN         S\n",
              "885          886         0       3  ...  29.1250   NaN         Q\n",
              "887          888         1       1  ...  30.0000   B42         S\n",
              "888          889         0       3  ...  23.4500   NaN         S\n",
              "\n",
              "[314 rows x 12 columns]"
            ]
          },
          "metadata": {
            "tags": []
          },
          "execution_count": 65
        }
      ]
    },
    {
      "cell_type": "code",
      "metadata": {
        "id": "hKWF7I0-Iysk"
      },
      "source": [
        "bayanlar = titanic[titanic[\"Sex\"] == \"female\"]"
      ],
      "execution_count": null,
      "outputs": []
    },
    {
      "cell_type": "code",
      "metadata": {
        "id": "BdHDtYVNIswZ"
      },
      "source": [
        "bayanlar.to_csv(\"titanic_bayanlar.csv\")"
      ],
      "execution_count": null,
      "outputs": []
    },
    {
      "cell_type": "code",
      "metadata": {
        "colab": {
          "base_uri": "https://localhost:8080/"
        },
        "id": "NLvOV6-JJLA_",
        "outputId": "205b9494-079d-49bf-b15c-272ac04c5974"
      },
      "source": [
        "titanic.groupby(\"Sex\")[\"Survived\"].mean()"
      ],
      "execution_count": null,
      "outputs": [
        {
          "output_type": "execute_result",
          "data": {
            "text/plain": [
              "Sex\n",
              "female    0.742038\n",
              "male      0.188908\n",
              "Name: Survived, dtype: float64"
            ]
          },
          "metadata": {
            "tags": []
          },
          "execution_count": 70
        }
      ]
    },
    {
      "cell_type": "code",
      "metadata": {
        "id": "x8WHgDsdL8hH"
      },
      "source": [
        "L = [\"right 20\", \"right 30\", \"left 50\", \"up 10\", \"down 20\"]"
      ],
      "execution_count": null,
      "outputs": []
    },
    {
      "cell_type": "code",
      "metadata": {
        "id": "O41qrIQMMPOE"
      },
      "source": [
        "x = y = 0"
      ],
      "execution_count": null,
      "outputs": []
    },
    {
      "cell_type": "code",
      "metadata": {
        "colab": {
          "base_uri": "https://localhost:8080/"
        },
        "id": "teGa7VlwMv5Y",
        "outputId": "367e636a-6bd4-4cd1-c8a6-10b54ce4d340"
      },
      "source": [
        "for i in range(len(L)) :\n",
        "  if L[i].startswith(\"r\") : x = x + int(L[i].split()[1])\n",
        "  elif L[i].startswith(\"l\") : x = x - int(L[i].split()[1])\n",
        "  elif L[i].startswith(\"u\") : y = y + int(L[i].split()[1])\n",
        "  elif L[i].startswith(\"d\") : y = y - int(L[i].split()[1])\n",
        "[x, y]"
      ],
      "execution_count": null,
      "outputs": [
        {
          "output_type": "execute_result",
          "data": {
            "text/plain": [
              "[0, -10]"
            ]
          },
          "metadata": {
            "tags": []
          },
          "execution_count": 73
        }
      ]
    },
    {
      "cell_type": "code",
      "metadata": {
        "colab": {
          "base_uri": "https://localhost:8080/",
          "height": 35
        },
        "id": "0hOe1ULtN4xW",
        "outputId": "6b22f2f9-148a-4798-9f6b-2e3ae0c1ac3e"
      },
      "source": [
        "\"right 20\".split()[1]"
      ],
      "execution_count": null,
      "outputs": [
        {
          "output_type": "execute_result",
          "data": {
            "application/vnd.google.colaboratory.intrinsic+json": {
              "type": "string"
            },
            "text/plain": [
              "'20'"
            ]
          },
          "metadata": {
            "tags": []
          },
          "execution_count": 74
        }
      ]
    },
    {
      "cell_type": "code",
      "metadata": {
        "colab": {
          "base_uri": "https://localhost:8080/"
        },
        "id": "tqOhlgUrOF51",
        "outputId": "f787d450-02df-4d1a-f1a7-34094eadac47"
      },
      "source": [
        "print(\"ahttps://www.google.com\".startswith((\"http://\", \"https://\", \"ahttp\")))"
      ],
      "execution_count": null,
      "outputs": [
        {
          "output_type": "stream",
          "text": [
            "True\n"
          ],
          "name": "stdout"
        }
      ]
    },
    {
      "cell_type": "code",
      "metadata": {
        "colab": {
          "base_uri": "https://localhost:8080/"
        },
        "id": "vaAV6xAxOo7N",
        "outputId": "5e7346c4-ca6f-4124-b0e5-c747c4547a47"
      },
      "source": [
        "print(\"http://www.google.co.uk\".endswith((\".com\", \"co.uk\")))"
      ],
      "execution_count": null,
      "outputs": [
        {
          "output_type": "stream",
          "text": [
            "True\n"
          ],
          "name": "stdout"
        }
      ]
    },
    {
      "cell_type": "code",
      "metadata": {
        "id": "RF7ws8Y2PAy4"
      },
      "source": [
        "ops = {\"+\" : (lambda x, y : x+y), \"-\" : (lambda x, y : x-y), \"/\" : (lambda x, y : x/y)}"
      ],
      "execution_count": null,
      "outputs": []
    },
    {
      "cell_type": "code",
      "metadata": {
        "colab": {
          "base_uri": "https://localhost:8080/"
        },
        "id": "UB178TXWPjXe",
        "outputId": "0606708f-b7e9-4643-9f98-b913a01797c7"
      },
      "source": [
        "ops"
      ],
      "execution_count": null,
      "outputs": [
        {
          "output_type": "execute_result",
          "data": {
            "text/plain": [
              "{'+': <function __main__.<lambda>>,\n",
              " '-': <function __main__.<lambda>>,\n",
              " '/': <function __main__.<lambda>>}"
            ]
          },
          "metadata": {
            "tags": []
          },
          "execution_count": 83
        }
      ]
    },
    {
      "cell_type": "code",
      "metadata": {
        "colab": {
          "base_uri": "https://localhost:8080/"
        },
        "id": "y-ZHxYO6Pu9m",
        "outputId": "90568068-0b61-4cc8-fef7-ef3a15bf2fc2"
      },
      "source": [
        "ops[\"+\"] # value sini gösterecek"
      ],
      "execution_count": null,
      "outputs": [
        {
          "output_type": "execute_result",
          "data": {
            "text/plain": [
              "<function __main__.<lambda>>"
            ]
          },
          "metadata": {
            "tags": []
          },
          "execution_count": 84
        }
      ]
    },
    {
      "cell_type": "code",
      "metadata": {
        "colab": {
          "base_uri": "https://localhost:8080/"
        },
        "id": "2Cqoye0SP06Z",
        "outputId": "c49de902-5046-4e8c-b379-524dd01dfcea"
      },
      "source": [
        "ops[\"+\"](3, 5)"
      ],
      "execution_count": null,
      "outputs": [
        {
          "output_type": "execute_result",
          "data": {
            "text/plain": [
              "8"
            ]
          },
          "metadata": {
            "tags": []
          },
          "execution_count": 85
        }
      ]
    },
    {
      "cell_type": "code",
      "metadata": {
        "id": "NwYsYhboP8_z"
      },
      "source": [
        "normal = {\"bir\" : 11, \"iki\" : 22}"
      ],
      "execution_count": null,
      "outputs": []
    },
    {
      "cell_type": "code",
      "metadata": {
        "colab": {
          "base_uri": "https://localhost:8080/"
        },
        "id": "27kzAIUKQEdI",
        "outputId": "b8fd37da-1ade-4f94-84c0-9c8c158959ee"
      },
      "source": [
        "normal[\"bir\"]"
      ],
      "execution_count": null,
      "outputs": [
        {
          "output_type": "execute_result",
          "data": {
            "text/plain": [
              "11"
            ]
          },
          "metadata": {
            "tags": []
          },
          "execution_count": 87
        }
      ]
    },
    {
      "cell_type": "code",
      "metadata": {
        "colab": {
          "base_uri": "https://localhost:8080/"
        },
        "id": "NY_ZzVhKQGOK",
        "outputId": "12f46c48-1e21-4b29-8cee-ce5cf502e1f8"
      },
      "source": [
        "type(normal[\"bir\"])"
      ],
      "execution_count": null,
      "outputs": [
        {
          "output_type": "execute_result",
          "data": {
            "text/plain": [
              "int"
            ]
          },
          "metadata": {
            "tags": []
          },
          "execution_count": 88
        }
      ]
    },
    {
      "cell_type": "code",
      "metadata": {
        "id": "F0cPyRNyQNKV",
        "colab": {
          "base_uri": "https://localhost:8080/"
        },
        "outputId": "7fad14a0-ceac-4713-c17d-9facb75330b9"
      },
      "source": [
        "answer = 44\n",
        "questions = 'What number am I thinking of? '\n",
        "print(\"Let's play the guessing game!\")\n",
        "while True :\n",
        "  guess = int(input(questions))\n",
        "  if guess < answer:\n",
        "    print('Little higher')\n",
        "  elif guess > answer:\n",
        "    print('Little lower')\n",
        "  else: # guess == answer\n",
        "    print('Are you a MINDREADER!!!')\n",
        "    break"
      ],
      "execution_count": 2,
      "outputs": [
        {
          "output_type": "stream",
          "text": [
            "Let's play the guessing game!\n",
            "What number am I thinking of? 30\n",
            "Little higher\n",
            "What number am I thinking of? 46\n",
            "Little lower\n",
            "What number am I thinking of? 44\n",
            "Are you a MINDREADER!!!\n"
          ],
          "name": "stdout"
        }
      ]
    },
    {
      "cell_type": "code",
      "metadata": {
        "colab": {
          "base_uri": "https://localhost:8080/"
        },
        "id": "saINnYGGtDMK",
        "outputId": "52c53b8a-f3c8-4d60-f92c-78f3cfb195e6"
      },
      "source": [
        "for i in {'n1' : 'one', 'n2' : 'two'} : print(i)"
      ],
      "execution_count": 3,
      "outputs": [
        {
          "output_type": "stream",
          "text": [
            "n1\n",
            "n2\n"
          ],
          "name": "stdout"
        }
      ]
    },
    {
      "cell_type": "code",
      "metadata": {
        "colab": {
          "base_uri": "https://localhost:8080/"
        },
        "id": "k4b_rma5Ctf3",
        "outputId": "8c7f3a2d-f89f-4397-f15e-c98966f71700"
      },
      "source": [
        "n = int(input(\"enter a number between 1-10:\"))\n",
        "for i in range(11):\n",
        "  print(\"{}x{} = \".format(n, i),n*i)"
      ],
      "execution_count": 2,
      "outputs": [
        {
          "output_type": "stream",
          "text": [
            "enter a number between 1-10:6\n",
            "6x0 =  0\n",
            "6x1 =  6\n",
            "6x2 =  12\n",
            "6x3 =  18\n",
            "6x4 =  24\n",
            "6x5 =  30\n",
            "6x6 =  36\n",
            "6x7 =  42\n",
            "6x8 =  48\n",
            "6x9 =  54\n",
            "6x10 =  60\n"
          ],
          "name": "stdout"
        }
      ]
    },
    {
      "cell_type": "code",
      "metadata": {
        "colab": {
          "base_uri": "https://localhost:8080/"
        },
        "id": "l0bHABjcDLW6",
        "outputId": "908090bc-435b-45d2-eaee-c73fc1cabe33"
      },
      "source": [
        "print(*('separate'))"
      ],
      "execution_count": 3,
      "outputs": [
        {
          "output_type": "stream",
          "text": [
            "s e p a r a t e\n"
          ],
          "name": "stdout"
        }
      ]
    }
  ]
}