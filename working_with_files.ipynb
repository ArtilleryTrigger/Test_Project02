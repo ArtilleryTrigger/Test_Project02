{
 "metadata": {
  "language_info": {
   "codemirror_mode": {
    "name": "ipython",
    "version": 3
   },
   "file_extension": ".py",
   "mimetype": "text/x-python",
   "name": "python",
   "nbconvert_exporter": "python",
   "pygments_lexer": "ipython3",
   "version": "3.9.5"
  },
  "orig_nbformat": 2,
  "kernelspec": {
   "name": "python395jvsc74a57bd0791989f3e080945a270f726dd32799c7785b9a80e65b137a68b491361aad4586",
   "display_name": "Python 3.9.5 64-bit"
  },
  "metadata": {
   "interpreter": {
    "hash": "791989f3e080945a270f726dd32799c7785b9a80e65b137a68b491361aad4586"
   }
  }
 },
 "nbformat": 4,
 "nbformat_minor": 2,
 "cells": [
  {
   "cell_type": "code",
   "execution_count": null,
   "metadata": {},
   "outputs": [],
   "source": [
    "my_file = open(\"first_file.txt\")  # this syntax opens a 'txt' file \n",
    "print(type(my_file))\n",
    "\n",
    "# output\n",
    "# <class '_io.TextIOWrapper'>"
   ]
  },
  {
   "cell_type": "code",
   "execution_count": null,
   "metadata": {},
   "outputs": [],
   "source": [
    "my_file = open(\"first_file.txt\", encoding=\"utf-8\")\n",
    "# we've used 'utf8' encoding format just the same as the previous one"
   ]
  },
  {
   "cell_type": "code",
   "execution_count": 3,
   "metadata": {},
   "outputs": [
    {
     "output_type": "stream",
     "name": "stdout",
     "text": [
      "Orca is a kind of Dolphin.\nBlue Whale is the largest animal known on earth.\nSharks are the sister group to the Rays (batoids).\nThe Tuna Fish can weigh up to 260 kg.\nSquid and Octopus are in the same class.\n"
     ]
    }
   ],
   "source": [
    "sea = open(\"fishes.txt\", \"r\")\n",
    "print(sea.read())  # displays the entire text content\n",
    "sea.close()  # be sure to close the file"
   ]
  },
  {
   "cell_type": "code",
   "execution_count": 2,
   "metadata": {},
   "outputs": [
    {
     "output_type": "execute_result",
     "data": {
      "text/plain": [
       "'e:\\\\Yavuz\\\\Kişisel Gelişim\\\\Yazılım\\\\Python\\\\Artillery\\\\Test_Project02'"
      ]
     },
     "metadata": {},
     "execution_count": 2
    }
   ],
   "source": [
    "pwd"
   ]
  },
  {
   "cell_type": "code",
   "execution_count": 7,
   "metadata": {},
   "outputs": [
    {
     "output_type": "stream",
     "name": "stdout",
     "text": [
      "Orca is a kind of Dolphin.\nBlue W\n\nhale is the largest anima\n\nOrca is a kind of Dolphin.\nBlue W\n\n34\n"
     ]
    }
   ],
   "source": [
    "sea = open(\"fishes.txt\", \"r\")\n",
    "print(sea.read(33))  # displays the first 33 chars of the text\n",
    "print()\n",
    "print(sea.read(25))  # displays the next 25 chars of the text\n",
    "print()\n",
    "sea.seek(0)  # changes the stream (cursor) position to zero\n",
    "print(sea.read(33))  # displays the first 33 chars again\n",
    "print()\n",
    "print(sea.tell())  # returns the current stream (cursor) position\n",
    "\n",
    "sea.close()"
   ]
  },
  {
   "cell_type": "code",
   "execution_count": 9,
   "metadata": {},
   "outputs": [
    {
     "output_type": "stream",
     "name": "stdout",
     "text": [
      "Orca is a kind of Dolphin.\n\nBlue Whale is the largest animal known on earth.\n\nSharks are the sister group to the Rays (batoids).\n\n"
     ]
    }
   ],
   "source": [
    "sea = open(\"fishes.txt\", \"r\")\n",
    "print(sea.readline())  # displays the first line of the text\n",
    "print(sea.readline())  # displays the second line\n",
    "print(sea.readline())  # each time it goes to the new line\n"
   ]
  },
  {
   "cell_type": "code",
   "execution_count": 13,
   "metadata": {},
   "outputs": [
    {
     "output_type": "stream",
     "name": "stdout",
     "text": [
      "Orca is a kin\nd of Dolphin.\n\n\nBlue Whale is\n"
     ]
    }
   ],
   "source": [
    "sea = open(\"fishes.txt\", \"r\")\n",
    "print(sea.readline(13))\n",
    "print(sea.readline(13))\n",
    "print(sea.readline(13))\n",
    "print(sea.readline(13))\n",
    "sea.close()"
   ]
  },
  {
   "cell_type": "code",
   "execution_count": 14,
   "metadata": {},
   "outputs": [
    {
     "output_type": "stream",
     "name": "stdout",
     "text": [
      "['Orca is a kind of Dolphin.\\n', 'Blue Whale is the largest animal known on earth.\\n', 'Sharks are the sister group to the Rays (batoids).\\n', 'The Tuna Fish can weigh up to 260 kg.\\n', 'Squid and Octopus are in the same class.']\n"
     ]
    }
   ],
   "source": [
    "sea = open(\"fishes.txt\", \"r\")\n",
    "print(sea.readlines())\n",
    "sea.close()"
   ]
  },
  {
   "cell_type": "code",
   "execution_count": 15,
   "metadata": {},
   "outputs": [
    {
     "output_type": "stream",
     "name": "stdout",
     "text": [
      "Orca is a kind of Dolphin.\n\n['Blue Whale is the largest animal known on earth.\\n', 'Sharks are the sister group to the Rays (batoids).\\n', 'The Tuna Fish can weigh up to 260 kg.\\n', 'Squid and Octopus are in the same class.']\n"
     ]
    }
   ],
   "source": [
    "sea = open(\"fishes.txt\", \"r\")\n",
    "print(sea.readline())  # first line\n",
    "print(sea.readlines())  # the rest of the lines\n",
    "sea.close()"
   ]
  },
  {
   "cell_type": "code",
   "execution_count": 16,
   "metadata": {},
   "outputs": [
    {
     "output_type": "stream",
     "name": "stdout",
     "text": [
      "<class 'list'>\n"
     ]
    }
   ],
   "source": [
    "sea = open(\"fishes.txt\", \"r\")\n",
    "print(type(sea.readlines()))\n",
    "sea.close()"
   ]
  },
  {
   "cell_type": "code",
   "execution_count": 17,
   "metadata": {},
   "outputs": [
    {
     "output_type": "stream",
     "name": "stdout",
     "text": [
      "Orca is a kind of Dolphin.\n\nBlue Whale is the largest animal known on earth.\n\nSharks are the sister group to the Rays (batoids).\n\nThe Tuna Fish can weigh up to 260 kg.\n\nSquid and Octopus are in the same class.\n"
     ]
    }
   ],
   "source": [
    "sea = open(\"fishes.txt\", \"r\")\n",
    "for line in sea:\n",
    "    print(line)\n",
    "sea.close()"
   ]
  },
  {
   "cell_type": "code",
   "execution_count": 18,
   "metadata": {},
   "outputs": [
    {
     "output_type": "stream",
     "name": "stdout",
     "text": [
      "Orca is a kind of Dolphin.\n\nBlue Whale is the largest animal known on earth.\n\nSharks are the sister group to the Rays (batoids).\n\nThe Tuna Fish can weigh up to 260 kg.\n\nSquid and Octopus are in the same class.\n"
     ]
    }
   ],
   "source": [
    "sea = open(\"fishes.txt\", \"r\")\n",
    "for line in sea.readlines():\n",
    "    print(line)\n",
    "sea.close()"
   ]
  },
  {
   "cell_type": "code",
   "execution_count": 19,
   "metadata": {},
   "outputs": [
    {
     "output_type": "stream",
     "name": "stdout",
     "text": [
      "Orca is a kind of Dolphin.\nBlue Whale is the largest animal known on earth.\nSharks are the sister group to the Rays (batoids).\nThe Tuna Fish can weigh up to 260 kg.\nSquid and Octopus are in the same class.\n"
     ]
    }
   ],
   "source": [
    "with open(\"fishes.txt\", \"r\") as sea:\n",
    "    print(sea.read())  # needs indented code block"
   ]
  },
  {
   "cell_type": "code",
   "execution_count": 20,
   "metadata": {},
   "outputs": [
    {
     "output_type": "stream",
     "name": "stdout",
     "text": [
      "This is the first line of my text file\n"
     ]
    }
   ],
   "source": [
    "with open(\"dummy_file.txt\", \"w\", encoding=\"utf-8\") as file:\n",
    "# we create and open the file\n",
    "    file.write('This is the first line of my text file')\n",
    "    # writes str data into file\n",
    "with open(\"dummy_file.txt\", \"r\", encoding=\"utf-8\") as file:\n",
    "    print(file.read())  # reads the content of the 'dummy_file'"
   ]
  },
  {
   "cell_type": "code",
   "execution_count": 21,
   "metadata": {},
   "outputs": [
    {
     "output_type": "stream",
     "name": "stdout",
     "text": [
      "This is the new line for my dummy_file\n"
     ]
    }
   ],
   "source": [
    "with open(\"dummy_file.txt\", \"w\", encoding=\"utf-8\") as file:\n",
    "    file.write('This is the new line for my dummy_file')\n",
    "    # we write new str data into it\n",
    "with open(\"dummy_file.txt\", \"r\", encoding=\"utf-8\") as file:\n",
    "    print(file.read())  # reads the content of the 'dummy_file'"
   ]
  },
  {
   "cell_type": "code",
   "execution_count": null,
   "metadata": {},
   "outputs": [],
   "source": []
  }
 ]
}